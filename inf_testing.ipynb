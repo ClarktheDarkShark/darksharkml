{
 "cells": [
  {
   "cell_type": "code",
   "execution_count": 6,
   "metadata": {},
   "outputs": [
    {
     "name": "stdout",
     "output_type": "stream",
     "text": [
      "['day_of_week', 'start_time_hour', 'is_weekend', 'days_since_previous_stream', 'game_category', 'stream_duration', 'avg_total_subscriptions_last_1', 'avg_total_subscriptions_last_3', 'avg_total_subscriptions_last_7', 'avg_total_subscriptions_last_14', 'avg_net_follower_change_last_1', 'avg_net_follower_change_last_3', 'avg_net_follower_change_last_7', 'avg_net_follower_change_last_14', 'avg_unique_viewers_last_1', 'avg_unique_viewers_last_3', 'avg_unique_viewers_last_7', 'avg_unique_viewers_last_14', 'avg_peak_concurrent_viewers_last_1', 'avg_peak_concurrent_viewers_last_3', 'avg_peak_concurrent_viewers_last_7', 'avg_peak_concurrent_viewers_last_14', 'avg_stream_duration_last_1', 'avg_stream_duration_last_3', 'avg_stream_duration_last_7', 'avg_stream_duration_last_14', 'avg_total_num_chats_last_1', 'avg_total_num_chats_last_3', 'avg_total_num_chats_last_7', 'avg_total_num_chats_last_14', 'avg_total_emotes_used_last_1', 'avg_total_emotes_used_last_3', 'avg_total_emotes_used_last_7', 'avg_total_emotes_used_last_14', 'avg_bits_donated_last_1', 'avg_bits_donated_last_3', 'avg_bits_donated_last_7', 'avg_bits_donated_last_14', 'avg_raids_received_last_1', 'avg_raids_received_last_3', 'avg_raids_received_last_7', 'avg_raids_received_last_14', 'avg_avg_sentiment_score_last_1', 'avg_avg_sentiment_score_last_3', 'avg_avg_sentiment_score_last_7', 'avg_avg_sentiment_score_last_14', 'avg_min_sentiment_score_last_1', 'avg_min_sentiment_score_last_3', 'avg_min_sentiment_score_last_7', 'avg_min_sentiment_score_last_14', 'avg_max_sentiment_score_last_1', 'avg_max_sentiment_score_last_3', 'avg_max_sentiment_score_last_7', 'avg_max_sentiment_score_last_14', 'avg_category_changes_last_1', 'avg_category_changes_last_3', 'avg_category_changes_last_7', 'avg_category_changes_last_14', 'avg_start_time_hour_last_1', 'avg_start_time_hour_last_3', 'avg_start_time_hour_last_7', 'avg_start_time_hour_last_14', 'avg_subs_per_100_avg_viewers_last_1', 'avg_subs_per_100_avg_viewers_last_3', 'avg_subs_per_100_avg_viewers_last_7', 'avg_subs_per_100_avg_viewers_last_14', 'avg_chats_per_viewer_last_1', 'avg_chats_per_viewer_last_3', 'avg_chats_per_viewer_last_7', 'avg_chats_per_viewer_last_14', 'avg_bits_per_viewer_last_1', 'avg_bits_per_viewer_last_3', 'avg_bits_per_viewer_last_7', 'avg_bits_per_viewer_last_14', 'avg_donations_per_100_viewers_last_1', 'avg_donations_per_100_viewers_last_3', 'avg_donations_per_100_viewers_last_7', 'avg_donations_per_100_viewers_last_14', 'avg_raid_viewers_per_viewer_last_1', 'avg_raid_viewers_per_viewer_last_3', 'avg_raid_viewers_per_viewer_last_7', 'avg_raid_viewers_per_viewer_last_14', 'avg_subs_per_hour_last_1', 'avg_subs_per_hour_last_3', 'avg_subs_per_hour_last_7', 'avg_subs_per_hour_last_14', 'avg_chats_per_hour_last_1', 'avg_chats_per_hour_last_3', 'avg_chats_per_hour_last_7', 'avg_chats_per_hour_last_14', 'avg_bits_per_hour_last_1', 'avg_bits_per_hour_last_3', 'avg_bits_per_hour_last_7', 'avg_bits_per_hour_last_14', 'avg_raids_per_hour_last_1', 'avg_raids_per_hour_last_3', 'avg_raids_per_hour_last_7', 'avg_raids_per_hour_last_14', 'avg_raid_viewers_per_hr_last_1', 'avg_raid_viewers_per_hr_last_3', 'avg_raid_viewers_per_hr_last_7', 'avg_raid_viewers_per_hr_last_14', 'avg_follows_per_hour_last_1', 'avg_follows_per_hour_last_3', 'avg_follows_per_hour_last_7', 'avg_follows_per_hour_last_14', 'avg_donations_per_hour_last_1', 'avg_donations_per_hour_last_3', 'avg_donations_per_hour_last_7', 'avg_donations_per_hour_last_14', 'avg_donation_amt_per_hr_last_1', 'avg_donation_amt_per_hr_last_3', 'avg_donation_amt_per_hr_last_7', 'avg_donation_amt_per_hr_last_14', 'avg_emotes_per_chat_last_1', 'avg_emotes_per_chat_last_3', 'avg_emotes_per_chat_last_7', 'avg_emotes_per_chat_last_14', 'avg_chats_per_minute_last_1', 'avg_chats_per_minute_last_3', 'avg_chats_per_minute_last_7', 'avg_chats_per_minute_last_14', 'raw_tags']\n",
      "day_of_week\n",
      "start_time_hour\n",
      "is_weekend\n",
      "days_since_previous_stream\n",
      "game_category\n",
      "stream_duration\n",
      "avg_total_subscriptions_last_1\n",
      "avg_total_subscriptions_last_3\n",
      "avg_total_subscriptions_last_7\n",
      "avg_total_subscriptions_last_14\n",
      "avg_net_follower_change_last_1\n",
      "avg_net_follower_change_last_3\n",
      "avg_net_follower_change_last_7\n",
      "avg_net_follower_change_last_14\n",
      "avg_unique_viewers_last_1\n",
      "avg_unique_viewers_last_3\n",
      "avg_unique_viewers_last_7\n",
      "avg_unique_viewers_last_14\n",
      "avg_peak_concurrent_viewers_last_1\n",
      "avg_peak_concurrent_viewers_last_3\n",
      "avg_peak_concurrent_viewers_last_7\n",
      "avg_peak_concurrent_viewers_last_14\n",
      "avg_stream_duration_last_1\n",
      "avg_stream_duration_last_3\n",
      "avg_stream_duration_last_7\n",
      "avg_stream_duration_last_14\n",
      "avg_total_num_chats_last_1\n",
      "avg_total_num_chats_last_3\n",
      "avg_total_num_chats_last_7\n",
      "avg_total_num_chats_last_14\n",
      "avg_total_emotes_used_last_1\n",
      "avg_total_emotes_used_last_3\n",
      "avg_total_emotes_used_last_7\n",
      "avg_total_emotes_used_last_14\n",
      "avg_bits_donated_last_1\n",
      "avg_bits_donated_last_3\n",
      "avg_bits_donated_last_7\n",
      "avg_bits_donated_last_14\n",
      "avg_raids_received_last_1\n",
      "avg_raids_received_last_3\n",
      "avg_raids_received_last_7\n",
      "avg_raids_received_last_14\n",
      "avg_avg_sentiment_score_last_1\n",
      "avg_avg_sentiment_score_last_3\n",
      "avg_avg_sentiment_score_last_7\n",
      "avg_avg_sentiment_score_last_14\n",
      "avg_min_sentiment_score_last_1\n",
      "avg_min_sentiment_score_last_3\n",
      "avg_min_sentiment_score_last_7\n",
      "avg_min_sentiment_score_last_14\n",
      "avg_max_sentiment_score_last_1\n",
      "avg_max_sentiment_score_last_3\n",
      "avg_max_sentiment_score_last_7\n",
      "avg_max_sentiment_score_last_14\n",
      "avg_category_changes_last_1\n",
      "avg_category_changes_last_3\n",
      "avg_category_changes_last_7\n",
      "avg_category_changes_last_14\n",
      "avg_start_time_hour_last_1\n",
      "avg_start_time_hour_last_3\n",
      "avg_start_time_hour_last_7\n",
      "avg_start_time_hour_last_14\n",
      "avg_subs_per_100_avg_viewers_last_1\n",
      "avg_subs_per_100_avg_viewers_last_3\n",
      "avg_subs_per_100_avg_viewers_last_7\n",
      "avg_subs_per_100_avg_viewers_last_14\n",
      "avg_chats_per_viewer_last_1\n",
      "avg_chats_per_viewer_last_3\n",
      "avg_chats_per_viewer_last_7\n",
      "avg_chats_per_viewer_last_14\n",
      "avg_bits_per_viewer_last_1\n",
      "avg_bits_per_viewer_last_3\n",
      "avg_bits_per_viewer_last_7\n",
      "avg_bits_per_viewer_last_14\n",
      "avg_donations_per_100_viewers_last_1\n",
      "avg_donations_per_100_viewers_last_3\n",
      "avg_donations_per_100_viewers_last_7\n",
      "avg_donations_per_100_viewers_last_14\n",
      "avg_raid_viewers_per_viewer_last_1\n",
      "avg_raid_viewers_per_viewer_last_3\n",
      "avg_raid_viewers_per_viewer_last_7\n",
      "avg_raid_viewers_per_viewer_last_14\n",
      "avg_subs_per_hour_last_1\n",
      "avg_subs_per_hour_last_3\n",
      "avg_subs_per_hour_last_7\n",
      "avg_subs_per_hour_last_14\n",
      "avg_chats_per_hour_last_1\n",
      "avg_chats_per_hour_last_3\n",
      "avg_chats_per_hour_last_7\n",
      "avg_chats_per_hour_last_14\n",
      "avg_bits_per_hour_last_1\n",
      "avg_bits_per_hour_last_3\n",
      "avg_bits_per_hour_last_7\n",
      "avg_bits_per_hour_last_14\n",
      "avg_raids_per_hour_last_1\n",
      "avg_raids_per_hour_last_3\n",
      "avg_raids_per_hour_last_7\n",
      "avg_raids_per_hour_last_14\n",
      "avg_raid_viewers_per_hr_last_1\n",
      "avg_raid_viewers_per_hr_last_3\n",
      "avg_raid_viewers_per_hr_last_7\n",
      "avg_raid_viewers_per_hr_last_14\n",
      "avg_follows_per_hour_last_1\n",
      "avg_follows_per_hour_last_3\n",
      "avg_follows_per_hour_last_7\n",
      "avg_follows_per_hour_last_14\n",
      "avg_donations_per_hour_last_1\n",
      "avg_donations_per_hour_last_3\n",
      "avg_donations_per_hour_last_7\n",
      "avg_donations_per_hour_last_14\n",
      "avg_donation_amt_per_hr_last_1\n",
      "avg_donation_amt_per_hr_last_3\n",
      "avg_donation_amt_per_hr_last_7\n",
      "avg_donation_amt_per_hr_last_14\n",
      "avg_emotes_per_chat_last_1\n",
      "avg_emotes_per_chat_last_3\n",
      "avg_emotes_per_chat_last_7\n",
      "avg_emotes_per_chat_last_14\n",
      "avg_chats_per_minute_last_1\n",
      "avg_chats_per_minute_last_3\n",
      "avg_chats_per_minute_last_7\n",
      "avg_chats_per_minute_last_14\n",
      "raw_tags\n"
     ]
    }
   ],
   "source": [
    "# 1) Imports & load your artifacts\n",
    "import pytz\n",
    "from datetime import datetime\n",
    "import pandas as pd\n",
    "import numpy as np\n",
    "import os\n",
    "import logging\n",
    "import joblib\n",
    "import re\n",
    "import plotly.express as px\n",
    "import plotly.graph_objects as go\n",
    "import shap\n",
    "from sklearn.pipeline import Pipeline\n",
    "from sklearn.compose import ColumnTransformer\n",
    "from sklearn.base import BaseEstimator\n",
    "from sklearn.preprocessing import OneHotEncoder\n",
    "\n",
    "\n",
    "\n",
    "from predictor import (\n",
    "    get_predictor_artifacts,\n",
    "    _infer_grid_for_game,\n",
    "    _get_last_row_for_stream,\n",
    ")\n",
    "_ARTIFACT_PATH = os.path.join(os.getcwd(), \"predictor_artifacts.joblib\")\n",
    "DEFAULT_START_TIMES   = list(range(24))     # 0..23 hours\n",
    "DEFAULT_DURATIONS_HRS = list(range(2, 8))  # 2..12 hours\n",
    "DEFAULT_DURATIONS_HRS  = [h * 60 for h in DEFAULT_DURATIONS_HRS]\n",
    "DEFAULT_DURATIONS_HRS = [4]\n",
    "\n",
    "if os.path.exists(_ARTIFACT_PATH):\n",
    "    try:\n",
    "        data = joblib.load(_ARTIFACT_PATH)\n",
    "        df_inf = data.get(\"df_for_inf\")\n",
    "        df_inf['game_category'] = df_inf['game_category'].str.lower()\n",
    "        if isinstance(df_inf, pd.DataFrame):\n",
    "            df_inf.columns = df_inf.columns.map(str)\n",
    "        pipes = data.get(\"pipelines\", [])\n",
    "        df = data.get(\"df_for_inf\")\n",
    "        features = data.get(\"features\")\n",
    "        cat_opts = data.get(\"stream_category_options_inf\")\n",
    "        start_opts = data.get(\"optional_start_times\", DEFAULT_START_TIMES)\n",
    "        dur_opts = data.get(\"stream_duration_opts\", DEFAULT_DURATIONS_HRS)\n",
    "        metrics_list = data.get(\"metrics_list\", [])\n",
    "        logging.info(\"Loaded predictor artifacts from %s\", _ARTIFACT_PATH)\n",
    "    except Exception as e:\n",
    "        logging.exception(\"Failed to load artifacts; will train on‐dyno when invoked: %s\", e)\n",
    "else:\n",
    "    logging.info(\"No predictor_artifacts.joblib found; on‐dyno training available when called.\")\n",
    "\n",
    "# load pipelines list + data & metadata\n",
    "# now returns: (List[Pipeline], df_for_inf, features, cat_opts, start_opts, dur_opts, metrics_list)\n",
    "\n",
    "\n",
    "ready = all(p is not None for p in pipes) and df is not None\n",
    "\n",
    "print(features)\n",
    "for f in features:\n",
    "    print(f)\n",
    "\n",
    "# extract the full tag vocabulary from the first pipeline\n",
    "pre = pipes[0].named_steps[\"pre\"]\n",
    "vectorizer = pre.named_transformers_[\"tags\"].named_steps[\"vectorize\"]\n",
    "all_tags = vectorizer.get_feature_names_out().tolist()\n",
    "\n",
    "\n",
    "# 2) User‐adjustable parameters\n",
    "stream_name         = \"thelegendyagami\"\n",
    "# stream_name         = \"barbarousking\"\n",
    "selected_game       = \"ELDEN RING\"  # e.g. \"Fortnite\"\n",
    "selected_start_time = 19                  # hour in 0–23\n",
    "selected_tags       = [\"Veteran\", \"AIArt\", \"English\", \"HardestDifficulty\"]  # list of tags you want to test\n",
    "\n",
    "\n",
    "# 3) Helper: build a feature‐row for a given stream/game/start/tags\n",
    "def make_feature_row(baseline, game, hour, tags, features):\n",
    "    r = baseline.copy()\n",
    "    # 1) set categorical & time features\n",
    "    r[\"game_category\"]   = game\n",
    "    r[\"start_time_hour\"] = hour\n",
    "\n",
    "    now_est  = datetime.now(pytz.timezone(\"US/Eastern\"))\n",
    "    dow      = now_est.strftime(\"%A\")\n",
    "    r[\"day_of_week\"]     = dow\n",
    "    r[\"start_hour_sin\"]  = np.sin(2 * np.pi * hour / 24)\n",
    "    r[\"start_hour_cos\"]  = np.cos(2 * np.pi * hour / 24)\n",
    "    # <-- FIXED here:\n",
    "    r[\"is_weekend\"]      = dow in (\"Saturday\", \"Sunday\")\n",
    "\n",
    "    # 2) set tags one-hot\n",
    "    for t in all_tags:\n",
    "        r[f\"tag_{t}\"] = int(t in tags)\n",
    "\n",
    "    # 3) build a single-row DataFrame and select only the model’s features\n",
    "    return pd.DataFrame([r])[features]\n",
    "\n",
    "\n",
    "# grab the “last row” for your stream as baseline\n",
    "baseline = _get_last_row_for_stream(df, stream_name)\n",
    "\n",
    "times = [0, 1, 2, 3, 4, 5, 6, 7, 8, 9, 10, 11, 12, 13, 14, 15, 16, 17, 18, 19, 20, 21, 22, 23]\n",
    "# game_cats = (\n",
    "#     df.loc[df[\"stream_name\"] == stream_name, \"game_category\"]\n",
    "#       .dropna()\n",
    "#       .unique()\n",
    "#       .tolist()\n",
    "# )\n",
    "game_cats = (\n",
    "    df[\"game_category\"]\n",
    "      .dropna()\n",
    "      .unique()\n",
    "      .tolist()\n",
    ")\n",
    "\n",
    "\n"
   ]
  },
  {
   "cell_type": "code",
   "execution_count": 2,
   "metadata": {},
   "outputs": [
    {
     "name": "stdout",
     "output_type": "stream",
     "text": [
      "Max Prediction: 1.0195401797757997\n",
      "Game Category: streamer games\n",
      "Min Prediction: 0.5242553426377153\n",
      "Game Category: super mario world\n",
      "Max Prediction: 1.1375001118377308\n",
      "Time for Max Pred: 1\n",
      "Min Prediction: 0.8555774988377397\n",
      "Time for Min Pred: 23\n"
     ]
    }
   ],
   "source": [
    "# 4) Make predictions for each model in `pipes`\n",
    "p = 0\n",
    "\n",
    "max_pred = 0\n",
    "min_pred = 100\n",
    "max_game_cat = None\n",
    "min_game_cat = None\n",
    "total_results = []\n",
    "for game in game_cats:\n",
    "    results = []\n",
    "    i = 0\n",
    "    for idx, pipe in enumerate(pipes, start=1):\n",
    "        X = make_feature_row(baseline, game, selected_start_time, selected_tags, features)\n",
    "        y = pipe.predict(X)[0]\n",
    "        if y > max_pred and i == p:\n",
    "            max_pred = y\n",
    "            max_game_cat = game\n",
    "        if y < min_pred and i == p:\n",
    "            min_game_cat = game\n",
    "            min_pred = y\n",
    "        results.append({\n",
    "            \"model\":   f\"pipe{idx}\",\n",
    "            \"y_pred\":  round(y, 2),\n",
    "            \"metrics\": metrics_list[idx-1]      # in case you want to inspect its training metrics\n",
    "        })\n",
    "        total_results.append({\n",
    "            \"model\":   f\"pipe{idx}\",\n",
    "            \"y_pred\":  round(y, 2),\n",
    "            \"metrics\": metrics_list[idx-1]      # in case you want to inspect its training metrics\n",
    "        })\n",
    "        i+=1\n",
    "\n",
    "print('Max Prediction:', max_pred)\n",
    "print(\"Game Category:\", max_game_cat)\n",
    "print('Min Prediction:', min_pred)\n",
    "print(\"Game Category:\", min_game_cat)\n",
    "# for r in total_results:\n",
    "#     print(r)\n",
    "    \n",
    "game = max_game_cat\n",
    "max_pred = 0\n",
    "min_pred = 100\n",
    "max_time = None\n",
    "min_time = None\n",
    "for t in times:\n",
    "    results = []\n",
    "    i = 0\n",
    "    for idx, pipe in enumerate(pipes, start=1):\n",
    "        X = make_feature_row(baseline, game, t, selected_tags, features)\n",
    "        y = pipe.predict(X)[0]\n",
    "        if y > max_pred and i == p:\n",
    "            max_pred = y\n",
    "            max_time = t\n",
    "        if y < min_pred and i == p:\n",
    "            min_time = t\n",
    "            min_pred = y\n",
    "        results.append({\n",
    "            \"model\":   f\"pipe{idx}\",\n",
    "            \"y_pred\":  round(y, 2),\n",
    "            \"metrics\": metrics_list[idx-1]      # in case you want to inspect its training metrics\n",
    "        })\n",
    "        i+=1\n",
    "\n",
    "print('Max Prediction:', max_pred)\n",
    "print(\"Time for Max Pred:\", max_time)\n",
    "print('Min Prediction:', min_pred)\n",
    "print(\"Time for Min Pred:\", min_time)\n",
    "\n",
    "# game = max_game_cat\n",
    "# time = max_time\n",
    "# max_pred = 0\n",
    "# min_pred = 100\n",
    "# max_tag = None\n",
    "# min_tag = None\n",
    "# for t in selected_tags:\n",
    "#     results = []\n",
    "#     i = 0\n",
    "#     for idx, pipe in enumerate(pipes, start=1):\n",
    "#         X = make_feature_row(baseline, game, time, t, features)\n",
    "#         y = pipe.predict(X)[0]\n",
    "#         if y > max_pred and i == p:\n",
    "#             max_pred = y\n",
    "#             max_tag = t\n",
    "#         if y < min_pred and i == p:\n",
    "#             min_tag = t\n",
    "#             min_pred = y\n",
    "#         results.append({\n",
    "#             \"model\":   f\"pipe{idx}\",\n",
    "#             \"y_pred\":  round(y, 2),\n",
    "#             \"metrics\": metrics_list[idx-1]      # in case you want to inspect its training metrics\n",
    "#         })\n",
    "#         i+=1\n",
    "\n",
    "# print('Max Prediction:', max_pred)\n",
    "# print(\"Tag for Max Pred:\", max_tag)\n",
    "# print('Min Prediction:', min_pred)\n",
    "# print(\"Tag for Min Pred:\", min_tag)"
   ]
  },
  {
   "cell_type": "code",
   "execution_count": 7,
   "metadata": {},
   "outputs": [],
   "source": [
    "def _robust_feature_names(pre: ColumnTransformer, X_in: pd.DataFrame) -> np.ndarray:\n",
    "    \"\"\"\n",
    "    Build output names per transformer block, with a special case for the 'tags'\n",
    "    pipeline that uses CountVectorizer's vocabulary. Falls back to block-scoped\n",
    "    numbered names instead of f###.\n",
    "    \"\"\"\n",
    "    if pre is None:\n",
    "        return np.asarray(list(map(str, X_in.columns)))\n",
    "\n",
    "    names = []\n",
    "    used_input = set()\n",
    "\n",
    "    def _cols_to_list(cols):\n",
    "        if isinstance(cols, slice):\n",
    "            return list(X_in.columns[cols])\n",
    "        if isinstance(cols, (list, tuple, np.ndarray, pd.Index)):\n",
    "            if len(cols) and isinstance(cols[0], (int, np.integer)):\n",
    "                return [X_in.columns[i] for i in cols]\n",
    "            if len(cols) and isinstance(cols[0], (bool, np.bool_)):\n",
    "                return list(X_in.columns[np.array(cols)])\n",
    "            return list(map(str, cols))\n",
    "        return [str(cols)]\n",
    "\n",
    "    for block_name, trans, cols in pre.transformers_:\n",
    "        if block_name == \"remainder\":\n",
    "            continue\n",
    "        in_cols = _cols_to_list(cols)\n",
    "        used_input.update(in_cols)\n",
    "\n",
    "        if trans == \"drop\":\n",
    "            continue\n",
    "\n",
    "        # Unwrap pipeline if present\n",
    "        last = trans.steps[-1][1] if isinstance(trans, Pipeline) else trans\n",
    "\n",
    "        # --- Special case: tags pipeline -> use CountVectorizer tokens ---\n",
    "        if block_name == \"tags\":\n",
    "            try:\n",
    "                vec = trans.named_steps.get(\"vectorize\") if isinstance(trans, Pipeline) else None\n",
    "                if vec is not None and hasattr(vec, \"get_feature_names_out\"):\n",
    "                    toks = vec.get_feature_names_out()\n",
    "                    out = [f\"tag::{t}\" for t in toks]           # nice readable prefix\n",
    "                    names.extend(out)\n",
    "                    continue\n",
    "            except Exception:\n",
    "                pass  # fall through to generic handling\n",
    "\n",
    "        # Prefer transformer-provided names if available\n",
    "        out = None\n",
    "        try:\n",
    "            if hasattr(last, \"get_feature_names_out\"):\n",
    "                try:\n",
    "                    out = last.get_feature_names_out(in_cols)\n",
    "                except Exception:\n",
    "                    out = last.get_feature_names_out()\n",
    "        except Exception:\n",
    "            out = None\n",
    "\n",
    "        if out is None:\n",
    "            # Fallback: infer width on a single-row transform\n",
    "            try:\n",
    "                one = X_in[in_cols].iloc[[0]]\n",
    "                W = trans.transform(one)\n",
    "                width = W.shape[1]\n",
    "            except Exception:\n",
    "                width = len(in_cols)\n",
    "            if width == len(in_cols):\n",
    "                out = [f\"{block_name}__{c}\" for c in in_cols]\n",
    "            else:\n",
    "                out = [f\"{block_name}__{i}\" for i in range(width)]\n",
    "\n",
    "        names.extend(map(str, out))\n",
    "\n",
    "    # Remainder passthrough\n",
    "    if getattr(pre, \"remainder\", \"drop\") == \"passthrough\":\n",
    "        rem = [c for c in X_in.columns if c not in used_input]\n",
    "        names.extend([f\"remainder__{c}\" for c in rem])\n",
    "\n",
    "    return np.asarray(names)\n"
   ]
  },
  {
   "cell_type": "code",
   "execution_count": 8,
   "metadata": {},
   "outputs": [],
   "source": [
    "def _fix_tag_names(pre: ColumnTransformer, X_in: pd.DataFrame, feat_names: np.ndarray) -> np.ndarray:\n",
    "    \"\"\"\n",
    "    Replace the generic names for the 'tags' block with CountVectorizer tokens.\n",
    "    Works for your pipeline: ('tags', Pipeline([('join', ...), ('vectorize', CountVectorizer), ...]), ['raw_tags'])\n",
    "    If you later add SVD, it will label as tag_svd_<i>.\n",
    "    \"\"\"\n",
    "    if pre is None:\n",
    "        return feat_names\n",
    "\n",
    "    # Build a 1-row frame for width probing\n",
    "    one = X_in.iloc[[0]]\n",
    "\n",
    "    out = list(feat_names)\n",
    "    cursor = 0\n",
    "    for block_name, trans, cols in pre.transformers_:\n",
    "        if block_name == \"remainder\" or trans == \"drop\":\n",
    "            continue\n",
    "\n",
    "        # figure out the width this block contributes\n",
    "        # handle column selection types\n",
    "        if isinstance(cols, slice):\n",
    "            sub = one.iloc[:, cols]\n",
    "        elif isinstance(cols, (list, tuple, np.ndarray, pd.Index)):\n",
    "            if len(cols) and isinstance(cols[0], (int, np.integer)):\n",
    "                sub = one.iloc[:, cols]\n",
    "            elif len(cols) and isinstance(cols[0], (bool, np.bool_)):\n",
    "                sub = one.loc[:, np.array(cols)]\n",
    "            else:\n",
    "                sub = one.loc[:, list(cols)]\n",
    "        else:\n",
    "            sub = one[[str(cols)]]\n",
    "\n",
    "        try:\n",
    "            W = trans.transform(sub)\n",
    "            width = W.shape[1]\n",
    "        except Exception:\n",
    "            # fall back if transform fails on single row\n",
    "            width = 0\n",
    "\n",
    "        start, end = cursor, cursor + width\n",
    "\n",
    "        if block_name == \"tags\":\n",
    "            try:\n",
    "                pipe = trans if isinstance(trans, Pipeline) else None\n",
    "                vec  = pipe.named_steps.get(\"vectorize\") if pipe else None\n",
    "                if vec is not None and hasattr(vec, \"get_feature_names_out\"):\n",
    "                    toks = vec.get_feature_names_out()\n",
    "                    if \"svd\" in pipe.named_steps:\n",
    "                        # Dimensionality reduction present: we no longer have per-token columns\n",
    "                        out[start:end] = [f\"tag_svd_{i}\" for i in range(width)]\n",
    "                    else:\n",
    "                        # No SVD: one column per token\n",
    "                        if len(toks) == width:\n",
    "                            out[start:end] = [f\"tag::{t}\" for t in toks]\n",
    "                        else:\n",
    "                            # mismatch fallback\n",
    "                            out[start:end] = [f\"tag::{i}\" for i in range(width)]\n",
    "                else:\n",
    "                    out[start:end] = [f\"tag::{i}\" for i in range(width)]\n",
    "            except Exception:\n",
    "                out[start:end] = [f\"tag::{i}\" for i in range(width)]\n",
    "\n",
    "        cursor = end\n",
    "\n",
    "    return np.asarray(out)\n"
   ]
  },
  {
   "cell_type": "code",
   "execution_count": 9,
   "metadata": {},
   "outputs": [],
   "source": [
    "\n",
    "\n",
    "def shap_effect_plots(\n",
    "    pipe: Pipeline,\n",
    "    X_df: pd.DataFrame,\n",
    "    nsample_background: int = 512,\n",
    "    nsample_explain: int = 2000,\n",
    "    random_state: int = 42,\n",
    "    model_name: str = None,\n",
    "    top_categories: int = 25,\n",
    "):\n",
    "    \"\"\"\n",
    "    Dependence-style SHAP charts focused on:\n",
    "      1) start_time_hour   (scatter: value vs SHAP)\n",
    "      2) stream_duration   (scatter: value vs SHAP)\n",
    "      3) game_category     (bar: mean SHAP of the active OHE category)\n",
    "    Shows figures immediately; returns a dict of Plotly figs.\n",
    "    \"\"\"\n",
    "    rng = np.random.default_rng(random_state)\n",
    "    ttr, tree_est = _get_ttr_and_tree_estimator(pipe)\n",
    "    pre = _get_preprocessor(pipe)\n",
    "\n",
    "    # Make sure columns align with training\n",
    "    X_in = X_df.copy()\n",
    "    if hasattr(pipe, \"feature_names_in_\"):\n",
    "        X_in = X_in[pipe.feature_names_in_]\n",
    "\n",
    "    # Transform like training\n",
    "    if pre is not None:\n",
    "        X_trans = pre.transform(X_in)\n",
    "        # feat_names = _safe_feature_names(pre, X_in.columns)\n",
    "        # feat_names = _fix_tag_names(pre, X_in, feat_names)\n",
    "        feat_names = _robust_feature_names(pre, X_in)\n",
    "    else:\n",
    "        X_trans = X_in.values\n",
    "        feat_names = np.array(list(map(str, X_in.columns)))\n",
    "\n",
    "    # Dense float for SHAP\n",
    "    if hasattr(X_trans, \"toarray\"):\n",
    "        X_trans = X_trans.toarray()\n",
    "    X_trans = np.asarray(X_trans, dtype=np.float32)\n",
    "\n",
    "    # Subsample to keep plots snappy\n",
    "    n = X_trans.shape[0]\n",
    "    bg_idx = rng.choice(n, size=min(nsample_background, n), replace=False)\n",
    "    ex_idx = rng.choice(n, size=min(nsample_explain, n), replace=False)\n",
    "    X_bg, X_ex = X_trans[bg_idx], X_trans[ex_idx]\n",
    "    X_ex_df = X_in.iloc[ex_idx].copy()  # original feature values for x-axes\n",
    "\n",
    "    # SHAP explain (disable additivity check to avoid HGB quirks)\n",
    "    masker = shap.maskers.Independent(X_bg)\n",
    "    explainer = shap.Explainer(tree_est, masker, feature_names=feat_names, algorithm=\"tree\")\n",
    "    explanation = explainer(X_ex, check_additivity=False)\n",
    "    vals = np.asarray(explanation.values)  # [n_samples, n_features]\n",
    "\n",
    "    # --- helper to find the transformed-column index for a raw feature name\n",
    "    def find_idx(name=None):\n",
    "        # match exact, or any suffix after a prefix like \"pre__num__\"\n",
    "        candidates = [i for i, fn in enumerate(feat_names)\n",
    "                      if fn == name or fn.endswith(f\"__{name}\") or fn.endswith(f\"_{name}\") or fn == f\"{name}\"]\n",
    "        return candidates[0] if candidates else None\n",
    "\n",
    "    figs = {}\n",
    "\n",
    "    # 1) start_time_hour dependence (scatter + per-hour mean line)\n",
    "    start_idx = find_idx(\"start_time_hour\")\n",
    "    if start_idx is not None and \"start_time_hour\" in X_ex_df:\n",
    "        x = X_ex_df[\"start_time_hour\"].astype(float)\n",
    "        y = vals[:, start_idx]\n",
    "\n",
    "        dep_df = pd.DataFrame({\"start_time_hour\": x, \"shap\": y})\n",
    "        # per-hour mean (0..23) line\n",
    "        per_hour = dep_df.groupby(dep_df[\"start_time_hour\"].round().clip(0, 23))[\"shap\"].mean().reset_index()\n",
    "        per_hour = per_hour.rename(columns={\"shap\": \"shap_mean\", \"start_time_hour\": \"hour\"})\n",
    "\n",
    "        fig = go.Figure()\n",
    "        fig.add_trace(go.Scatter(\n",
    "            x=dep_df[\"start_time_hour\"], y=dep_df[\"shap\"], mode=\"markers\", opacity=0.35,\n",
    "            name=\"samples\"\n",
    "        ))\n",
    "        fig.add_trace(go.Scatter(\n",
    "            x=per_hour[\"hour\"], y=per_hour[\"shap_mean\"], mode=\"lines+markers\",\n",
    "            name=\"mean by hour\"\n",
    "        ))\n",
    "        fig.update_layout(\n",
    "            title=(f\"{model_name} — \" if model_name else \"\") + \"SHAP Dependence: start_time_hour\",\n",
    "            xaxis_title=\"Start hour (0–23)\",\n",
    "            yaxis_title=\"SHAP value (impact on prediction)\",\n",
    "            template=\"simple_white\"\n",
    "        )\n",
    "        fig.show()\n",
    "        figs[\"start_time_hour\"] = fig\n",
    "\n",
    "    # 2) stream_duration dependence (minutes → hours for readability)\n",
    "    dur_idx = find_idx(\"stream_duration\")\n",
    "    if dur_idx is not None and \"stream_duration\" in X_ex_df:\n",
    "        x_min = X_ex_df[\"stream_duration\"].astype(float)\n",
    "        x_hr = x_min / 60.0\n",
    "        y = vals[:, dur_idx]\n",
    "\n",
    "        dep_df = pd.DataFrame({\"duration_hr\": x_hr, \"shap\": y})\n",
    "        # bin means (e.g., 0.5h bins)\n",
    "        bins = np.linspace(dep_df[\"duration_hr\"].min(), dep_df[\"duration_hr\"].max(), 16)\n",
    "        dep_df[\"bin\"] = np.digitize(dep_df[\"duration_hr\"], bins)\n",
    "        per_bin = dep_df.groupby(\"bin\").agg(x=(\"duration_hr\", \"mean\"), shap_mean=(\"shap\", \"mean\")).reset_index(drop=True)\n",
    "\n",
    "        fig = go.Figure()\n",
    "        fig.add_trace(go.Scatter(\n",
    "            x=dep_df[\"duration_hr\"], y=dep_df[\"shap\"], mode=\"markers\", opacity=0.35,\n",
    "            name=\"samples\"\n",
    "        ))\n",
    "        fig.add_trace(go.Scatter(\n",
    "            x=per_bin[\"x\"], y=per_bin[\"shap_mean\"], mode=\"lines+markers\",\n",
    "            name=\"mean by duration bin\"\n",
    "        ))\n",
    "        fig.update_layout(\n",
    "            title=(f\"{model_name} — \" if model_name else \"\") + \"SHAP Dependence: stream_duration\",\n",
    "            xaxis_title=\"Duration (hours)\",\n",
    "            yaxis_title=\"SHAP value (impact on prediction)\",\n",
    "            template=\"simple_white\"\n",
    "        )\n",
    "        fig.show()\n",
    "        figs[\"stream_duration\"] = fig\n",
    "\n",
    "    # 3) game_category effect bar:\n",
    "    #    For each sample, take the SHAP value of the ACTIVE one-hot column, then average by category.\n",
    "    #    Identify OHE columns for game_category\n",
    "    # 3) game_category effect bar (handles OHE and OrdinalEncoder)\n",
    "    name = \"game_category\"\n",
    "\n",
    "    # Detect one-hot encoded columns for game_category\n",
    "    game_ohe_cols = [\n",
    "        i for i, fn in enumerate(feat_names)\n",
    "        if re.search(rf\"(?:^|__){re.escape(name)}(?:[_=:.])\", str(fn))  # e.g., 'game_category_DOTA 2', 'cat__game_category_Apex'\n",
    "        or str(fn).startswith(f\"{name}_\")\n",
    "    ]\n",
    "\n",
    "    if game_ohe_cols:\n",
    "        # --- OHE path: take SHAP of the ACTIVE column per row, then average by category ---\n",
    "        X_game = X_ex[:, game_ohe_cols]\n",
    "        vals_game = vals[:, game_ohe_cols]\n",
    "        active_idx = X_game.argmax(axis=1)\n",
    "        all_zero = (X_game.max(axis=1) == 0)\n",
    "        active_idx[all_zero] = -1  # unknown/dropped\n",
    "\n",
    "        cats, cat_shaps = [], []\n",
    "        for r in range(X_game.shape[0]):\n",
    "            j = active_idx[r]\n",
    "            if j >= 0:\n",
    "                global_j = game_ohe_cols[j]\n",
    "                cats.append(str(feat_names[global_j]))\n",
    "                cat_shaps.append(vals[r, global_j])\n",
    "\n",
    "        if cats:\n",
    "            cat_df = pd.DataFrame({\"feature\": cats, \"shap\": cat_shaps})\n",
    "            cat_df[\"category\"] = (\n",
    "                cat_df[\"feature\"]\n",
    "                .str.replace(r\".*game_category[_=:]*\", \"\", regex=True)\n",
    "                .replace(\"\", \"game_category\")\n",
    "            )\n",
    "            agg = cat_df.groupby(\"category\")[\"shap\"].mean().sort_values(ascending=False)\n",
    "            top = agg.head(top_categories).sort_values(ascending=True)\n",
    "\n",
    "            fig = px.bar(\n",
    "                top.reset_index(),\n",
    "                x=\"shap\", y=\"category\", orientation=\"h\",\n",
    "                title=(f\"{model_name} — \" if model_name else \"\") + \"Game Category Effect (mean SHAP of active OHE category)\"\n",
    "            )\n",
    "            fig.update_yaxes(categoryorder=\"total descending\")\n",
    "            fig.update_layout(xaxis_title=\"Mean SHAP (category effect on prediction)\", template=\"simple_white\")\n",
    "            fig.show()\n",
    "            figs[\"game_category\"] = fig\n",
    "\n",
    "    else:\n",
    "        # --- Ordinal path: single encoded column; aggregate its SHAP by original category label ---\n",
    "        # Find the encoded feature column in the transformed matrix\n",
    "        game_idx = next(\n",
    "            (i for i, fn in enumerate(feat_names)\n",
    "            if str(fn) == name or str(fn).endswith(f\"__{name}\")),\n",
    "            None\n",
    "        )\n",
    "        if game_idx is not None and name in X_ex_df.columns:\n",
    "            labels = X_ex_df[name].astype(str).replace({\"-1\": \"unknown\", \"-1.0\": \"unknown\"})  # handle unknown_value=-1\n",
    "            shap_vals = vals[:, game_idx]\n",
    "            agg = (\n",
    "                pd.DataFrame({\"category\": labels, \"shap\": shap_vals})\n",
    "                .groupby(\"category\")[\"shap\"].mean()\n",
    "                .sort_values(ascending=True)\n",
    "            )\n",
    "            top = agg.tail(top_categories)  # keep top K by magnitude (positive end)\n",
    "            fig = px.bar(\n",
    "                top.reset_index(),\n",
    "                x=\"shap\", y=\"category\", orientation=\"h\",\n",
    "                title=(f\"{model_name} — \" if model_name else \"\") + \"Game Category Effect (mean SHAP by category)\"\n",
    "            )\n",
    "            fig.update_yaxes(categoryorder=\"total descending\")\n",
    "            fig.update_layout(xaxis_title=\"Mean SHAP (category effect on prediction)\", template=\"simple_white\")\n",
    "            fig.show()\n",
    "            figs[\"game_category\"] = fig\n",
    "        else:\n",
    "            print(\"No game_category feature found (neither OHE nor ordinal).\")\n",
    "\n",
    "\n",
    "    return figs\n"
   ]
  },
  {
   "cell_type": "code",
   "execution_count": 10,
   "metadata": {},
   "outputs": [
    {
     "data": {
      "application/vnd.plotly.v1+json": {
       "config": {
        "plotlyServerURL": "https://plot.ly"
       },
       "data": [
        {
         "hovertemplate": "mean_abs=%{x}<br>feature=%{y}<extra></extra>",
         "legendgroup": "",
         "marker": {
          "color": "#636efa",
          "pattern": {
           "shape": ""
          }
         },
         "name": "",
         "orientation": "h",
         "showlegend": false,
         "textposition": "auto",
         "type": "bar",
         "x": {
          "bdata": "Z2CQTaOokD+XbzD27deQP187g7K225A/DblLxPR+kT9lD4gRYNeRP58pLHSW65I//BUPzw9GlD+XQfGQ//mUP2BRjxA8D5U/rGcRY9RQlT8it65QMraXPz0gsYgRbJs/PKWLk6xNnD8i+3kgRCOeP5Ad92+UUJ4/lp8AdXabnz9jii9+ahKhPxl7Xyr8i6I/KNHr7JgkpD8SiJEuUJOkPw1mj94t2KQ/Zitny15Vpj9yBlOudvamP1BiU2f0Gq0/6QvexO0asD/MMyYpp6qyP3m5JPH1yLU/q/FvBU0jxD9pl/rc0FHPP71R0lDhp98/",
          "dtype": "f8"
         },
         "xaxis": "x",
         "y": [
          "avg_avg_sentiment_score_last_3",
          "game_category",
          "avg_total_num_chats_last_1",
          "avg_max_sentiment_score_last_14",
          "avg_subs_per_hour_last_3",
          "avg_emotes_per_chat_last_1",
          "avg_chats_per_viewer_last_7",
          "avg_bits_donated_last_1",
          "avg_net_follower_change_last_1",
          "avg_subs_per_hour_last_7",
          "avg_unique_viewers_last_1",
          "avg_peak_concurrent_viewers_last_7",
          "avg_emotes_per_chat_last_7",
          "avg_total_subscriptions_last_7",
          "avg_donations_per_hour_last_14",
          "start_time_hour",
          "avg_peak_concurrent_viewers_last_1",
          "avg_donations_per_hour_last_3",
          "avg_peak_concurrent_viewers_last_14",
          "avg_donations_per_hour_last_7",
          "avg_total_num_chats_last_7",
          "avg_chats_per_hour_last_14",
          "avg_chats_per_hour_last_3",
          "avg_peak_concurrent_viewers_last_3",
          "avg_total_subscriptions_last_3",
          "avg_chats_per_hour_last_1",
          "avg_unique_viewers_last_7",
          "avg_subs_per_hour_last_14",
          "avg_total_subscriptions_last_14",
          "stream_duration"
         ],
         "yaxis": "y"
        }
       ],
       "layout": {
        "barmode": "relative",
        "legend": {
         "tracegroupgap": 0
        },
        "template": {
         "data": {
          "bar": [
           {
            "error_x": {
             "color": "#2a3f5f"
            },
            "error_y": {
             "color": "#2a3f5f"
            },
            "marker": {
             "line": {
              "color": "#E5ECF6",
              "width": 0.5
             },
             "pattern": {
              "fillmode": "overlay",
              "size": 10,
              "solidity": 0.2
             }
            },
            "type": "bar"
           }
          ],
          "barpolar": [
           {
            "marker": {
             "line": {
              "color": "#E5ECF6",
              "width": 0.5
             },
             "pattern": {
              "fillmode": "overlay",
              "size": 10,
              "solidity": 0.2
             }
            },
            "type": "barpolar"
           }
          ],
          "carpet": [
           {
            "aaxis": {
             "endlinecolor": "#2a3f5f",
             "gridcolor": "white",
             "linecolor": "white",
             "minorgridcolor": "white",
             "startlinecolor": "#2a3f5f"
            },
            "baxis": {
             "endlinecolor": "#2a3f5f",
             "gridcolor": "white",
             "linecolor": "white",
             "minorgridcolor": "white",
             "startlinecolor": "#2a3f5f"
            },
            "type": "carpet"
           }
          ],
          "choropleth": [
           {
            "colorbar": {
             "outlinewidth": 0,
             "ticks": ""
            },
            "type": "choropleth"
           }
          ],
          "contour": [
           {
            "colorbar": {
             "outlinewidth": 0,
             "ticks": ""
            },
            "colorscale": [
             [
              0,
              "#0d0887"
             ],
             [
              0.1111111111111111,
              "#46039f"
             ],
             [
              0.2222222222222222,
              "#7201a8"
             ],
             [
              0.3333333333333333,
              "#9c179e"
             ],
             [
              0.4444444444444444,
              "#bd3786"
             ],
             [
              0.5555555555555556,
              "#d8576b"
             ],
             [
              0.6666666666666666,
              "#ed7953"
             ],
             [
              0.7777777777777778,
              "#fb9f3a"
             ],
             [
              0.8888888888888888,
              "#fdca26"
             ],
             [
              1,
              "#f0f921"
             ]
            ],
            "type": "contour"
           }
          ],
          "contourcarpet": [
           {
            "colorbar": {
             "outlinewidth": 0,
             "ticks": ""
            },
            "type": "contourcarpet"
           }
          ],
          "heatmap": [
           {
            "colorbar": {
             "outlinewidth": 0,
             "ticks": ""
            },
            "colorscale": [
             [
              0,
              "#0d0887"
             ],
             [
              0.1111111111111111,
              "#46039f"
             ],
             [
              0.2222222222222222,
              "#7201a8"
             ],
             [
              0.3333333333333333,
              "#9c179e"
             ],
             [
              0.4444444444444444,
              "#bd3786"
             ],
             [
              0.5555555555555556,
              "#d8576b"
             ],
             [
              0.6666666666666666,
              "#ed7953"
             ],
             [
              0.7777777777777778,
              "#fb9f3a"
             ],
             [
              0.8888888888888888,
              "#fdca26"
             ],
             [
              1,
              "#f0f921"
             ]
            ],
            "type": "heatmap"
           }
          ],
          "histogram": [
           {
            "marker": {
             "pattern": {
              "fillmode": "overlay",
              "size": 10,
              "solidity": 0.2
             }
            },
            "type": "histogram"
           }
          ],
          "histogram2d": [
           {
            "colorbar": {
             "outlinewidth": 0,
             "ticks": ""
            },
            "colorscale": [
             [
              0,
              "#0d0887"
             ],
             [
              0.1111111111111111,
              "#46039f"
             ],
             [
              0.2222222222222222,
              "#7201a8"
             ],
             [
              0.3333333333333333,
              "#9c179e"
             ],
             [
              0.4444444444444444,
              "#bd3786"
             ],
             [
              0.5555555555555556,
              "#d8576b"
             ],
             [
              0.6666666666666666,
              "#ed7953"
             ],
             [
              0.7777777777777778,
              "#fb9f3a"
             ],
             [
              0.8888888888888888,
              "#fdca26"
             ],
             [
              1,
              "#f0f921"
             ]
            ],
            "type": "histogram2d"
           }
          ],
          "histogram2dcontour": [
           {
            "colorbar": {
             "outlinewidth": 0,
             "ticks": ""
            },
            "colorscale": [
             [
              0,
              "#0d0887"
             ],
             [
              0.1111111111111111,
              "#46039f"
             ],
             [
              0.2222222222222222,
              "#7201a8"
             ],
             [
              0.3333333333333333,
              "#9c179e"
             ],
             [
              0.4444444444444444,
              "#bd3786"
             ],
             [
              0.5555555555555556,
              "#d8576b"
             ],
             [
              0.6666666666666666,
              "#ed7953"
             ],
             [
              0.7777777777777778,
              "#fb9f3a"
             ],
             [
              0.8888888888888888,
              "#fdca26"
             ],
             [
              1,
              "#f0f921"
             ]
            ],
            "type": "histogram2dcontour"
           }
          ],
          "mesh3d": [
           {
            "colorbar": {
             "outlinewidth": 0,
             "ticks": ""
            },
            "type": "mesh3d"
           }
          ],
          "parcoords": [
           {
            "line": {
             "colorbar": {
              "outlinewidth": 0,
              "ticks": ""
             }
            },
            "type": "parcoords"
           }
          ],
          "pie": [
           {
            "automargin": true,
            "type": "pie"
           }
          ],
          "scatter": [
           {
            "fillpattern": {
             "fillmode": "overlay",
             "size": 10,
             "solidity": 0.2
            },
            "type": "scatter"
           }
          ],
          "scatter3d": [
           {
            "line": {
             "colorbar": {
              "outlinewidth": 0,
              "ticks": ""
             }
            },
            "marker": {
             "colorbar": {
              "outlinewidth": 0,
              "ticks": ""
             }
            },
            "type": "scatter3d"
           }
          ],
          "scattercarpet": [
           {
            "marker": {
             "colorbar": {
              "outlinewidth": 0,
              "ticks": ""
             }
            },
            "type": "scattercarpet"
           }
          ],
          "scattergeo": [
           {
            "marker": {
             "colorbar": {
              "outlinewidth": 0,
              "ticks": ""
             }
            },
            "type": "scattergeo"
           }
          ],
          "scattergl": [
           {
            "marker": {
             "colorbar": {
              "outlinewidth": 0,
              "ticks": ""
             }
            },
            "type": "scattergl"
           }
          ],
          "scattermap": [
           {
            "marker": {
             "colorbar": {
              "outlinewidth": 0,
              "ticks": ""
             }
            },
            "type": "scattermap"
           }
          ],
          "scattermapbox": [
           {
            "marker": {
             "colorbar": {
              "outlinewidth": 0,
              "ticks": ""
             }
            },
            "type": "scattermapbox"
           }
          ],
          "scatterpolar": [
           {
            "marker": {
             "colorbar": {
              "outlinewidth": 0,
              "ticks": ""
             }
            },
            "type": "scatterpolar"
           }
          ],
          "scatterpolargl": [
           {
            "marker": {
             "colorbar": {
              "outlinewidth": 0,
              "ticks": ""
             }
            },
            "type": "scatterpolargl"
           }
          ],
          "scatterternary": [
           {
            "marker": {
             "colorbar": {
              "outlinewidth": 0,
              "ticks": ""
             }
            },
            "type": "scatterternary"
           }
          ],
          "surface": [
           {
            "colorbar": {
             "outlinewidth": 0,
             "ticks": ""
            },
            "colorscale": [
             [
              0,
              "#0d0887"
             ],
             [
              0.1111111111111111,
              "#46039f"
             ],
             [
              0.2222222222222222,
              "#7201a8"
             ],
             [
              0.3333333333333333,
              "#9c179e"
             ],
             [
              0.4444444444444444,
              "#bd3786"
             ],
             [
              0.5555555555555556,
              "#d8576b"
             ],
             [
              0.6666666666666666,
              "#ed7953"
             ],
             [
              0.7777777777777778,
              "#fb9f3a"
             ],
             [
              0.8888888888888888,
              "#fdca26"
             ],
             [
              1,
              "#f0f921"
             ]
            ],
            "type": "surface"
           }
          ],
          "table": [
           {
            "cells": {
             "fill": {
              "color": "#EBF0F8"
             },
             "line": {
              "color": "white"
             }
            },
            "header": {
             "fill": {
              "color": "#C8D4E3"
             },
             "line": {
              "color": "white"
             }
            },
            "type": "table"
           }
          ]
         },
         "layout": {
          "annotationdefaults": {
           "arrowcolor": "#2a3f5f",
           "arrowhead": 0,
           "arrowwidth": 1
          },
          "autotypenumbers": "strict",
          "coloraxis": {
           "colorbar": {
            "outlinewidth": 0,
            "ticks": ""
           }
          },
          "colorscale": {
           "diverging": [
            [
             0,
             "#8e0152"
            ],
            [
             0.1,
             "#c51b7d"
            ],
            [
             0.2,
             "#de77ae"
            ],
            [
             0.3,
             "#f1b6da"
            ],
            [
             0.4,
             "#fde0ef"
            ],
            [
             0.5,
             "#f7f7f7"
            ],
            [
             0.6,
             "#e6f5d0"
            ],
            [
             0.7,
             "#b8e186"
            ],
            [
             0.8,
             "#7fbc41"
            ],
            [
             0.9,
             "#4d9221"
            ],
            [
             1,
             "#276419"
            ]
           ],
           "sequential": [
            [
             0,
             "#0d0887"
            ],
            [
             0.1111111111111111,
             "#46039f"
            ],
            [
             0.2222222222222222,
             "#7201a8"
            ],
            [
             0.3333333333333333,
             "#9c179e"
            ],
            [
             0.4444444444444444,
             "#bd3786"
            ],
            [
             0.5555555555555556,
             "#d8576b"
            ],
            [
             0.6666666666666666,
             "#ed7953"
            ],
            [
             0.7777777777777778,
             "#fb9f3a"
            ],
            [
             0.8888888888888888,
             "#fdca26"
            ],
            [
             1,
             "#f0f921"
            ]
           ],
           "sequentialminus": [
            [
             0,
             "#0d0887"
            ],
            [
             0.1111111111111111,
             "#46039f"
            ],
            [
             0.2222222222222222,
             "#7201a8"
            ],
            [
             0.3333333333333333,
             "#9c179e"
            ],
            [
             0.4444444444444444,
             "#bd3786"
            ],
            [
             0.5555555555555556,
             "#d8576b"
            ],
            [
             0.6666666666666666,
             "#ed7953"
            ],
            [
             0.7777777777777778,
             "#fb9f3a"
            ],
            [
             0.8888888888888888,
             "#fdca26"
            ],
            [
             1,
             "#f0f921"
            ]
           ]
          },
          "colorway": [
           "#636efa",
           "#EF553B",
           "#00cc96",
           "#ab63fa",
           "#FFA15A",
           "#19d3f3",
           "#FF6692",
           "#B6E880",
           "#FF97FF",
           "#FECB52"
          ],
          "font": {
           "color": "#2a3f5f"
          },
          "geo": {
           "bgcolor": "white",
           "lakecolor": "white",
           "landcolor": "#E5ECF6",
           "showlakes": true,
           "showland": true,
           "subunitcolor": "white"
          },
          "hoverlabel": {
           "align": "left"
          },
          "hovermode": "closest",
          "mapbox": {
           "style": "light"
          },
          "paper_bgcolor": "white",
          "plot_bgcolor": "#E5ECF6",
          "polar": {
           "angularaxis": {
            "gridcolor": "white",
            "linecolor": "white",
            "ticks": ""
           },
           "bgcolor": "#E5ECF6",
           "radialaxis": {
            "gridcolor": "white",
            "linecolor": "white",
            "ticks": ""
           }
          },
          "scene": {
           "xaxis": {
            "backgroundcolor": "#E5ECF6",
            "gridcolor": "white",
            "gridwidth": 2,
            "linecolor": "white",
            "showbackground": true,
            "ticks": "",
            "zerolinecolor": "white"
           },
           "yaxis": {
            "backgroundcolor": "#E5ECF6",
            "gridcolor": "white",
            "gridwidth": 2,
            "linecolor": "white",
            "showbackground": true,
            "ticks": "",
            "zerolinecolor": "white"
           },
           "zaxis": {
            "backgroundcolor": "#E5ECF6",
            "gridcolor": "white",
            "gridwidth": 2,
            "linecolor": "white",
            "showbackground": true,
            "ticks": "",
            "zerolinecolor": "white"
           }
          },
          "shapedefaults": {
           "line": {
            "color": "#2a3f5f"
           }
          },
          "ternary": {
           "aaxis": {
            "gridcolor": "white",
            "linecolor": "white",
            "ticks": ""
           },
           "baxis": {
            "gridcolor": "white",
            "linecolor": "white",
            "ticks": ""
           },
           "bgcolor": "#E5ECF6",
           "caxis": {
            "gridcolor": "white",
            "linecolor": "white",
            "ticks": ""
           }
          },
          "title": {
           "x": 0.05
          },
          "xaxis": {
           "automargin": true,
           "gridcolor": "white",
           "linecolor": "white",
           "ticks": "",
           "title": {
            "standoff": 15
           },
           "zerolinecolor": "white",
           "zerolinewidth": 2
          },
          "yaxis": {
           "automargin": true,
           "gridcolor": "white",
           "linecolor": "white",
           "ticks": "",
           "title": {
            "standoff": 15
           },
           "zerolinecolor": "white",
           "zerolinewidth": 2
          }
         }
        },
        "title": {
         "text": "Global SHAP Importance — model_0"
        },
        "xaxis": {
         "anchor": "y",
         "domain": [
          0,
          1
         ],
         "title": {
          "text": "mean_abs"
         }
        },
        "yaxis": {
         "anchor": "x",
         "categoryorder": "total descending",
         "domain": [
          0,
          1
         ],
         "title": {
          "text": "feature"
         }
        }
       }
      }
     },
     "metadata": {},
     "output_type": "display_data"
    },
    {
     "data": {
      "application/vnd.plotly.v1+json": {
       "config": {
        "plotlyServerURL": "https://plot.ly"
       },
       "data": [
        {
         "mode": "markers",
         "name": "samples",
         "opacity": 0.35,
         "type": "scatter",
         "x": {
          "bdata": "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",
          "dtype": "f8"
         },
         "y": {
          "bdata": "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",
          "dtype": "f8"
         }
        },
        {
         "mode": "lines+markers",
         "name": "mean by hour",
         "type": "scatter",
         "x": {
          "bdata": "AAAAAAAAAAAAAAAAAADwPwAAAAAAAABAAAAAAAAACEAAAAAAAAAQQAAAAAAAABRAAAAAAAAAGEAAAAAAAAAcQAAAAAAAACBAAAAAAAAAIkAAAAAAAAAkQAAAAAAAACZAAAAAAAAAKEAAAAAAAAAqQAAAAAAAACxAAAAAAAAALkAAAAAAAAAwQAAAAAAAADFAAAAAAAAAMkAAAAAAAAAzQAAAAAAAADRAAAAAAAAANUAAAAAAAAA2QAAAAAAAADdA",
          "dtype": "f8"
         },
         "y": {
          "bdata": "pQN4bvwkor8r4jXY5GiavyTNoIIgCby/9qpoo80Yq78pjDzebAGMP3dBsZI5GIA/IpenKTUQfT+DI88e+cyePwNTSYXvnKg/kIrz2UyDrD9N6JubCsKqP8YU6PhFYrA/stK2NXPMlD+Q988IDNijP5MmfTGWnZg/CPhDyslZlz//9JkCUuKOPz0/HxqZTnw/H2cPAFi2gj/Fv5y3O8uKP21On1MMYGc/bm6wcK5fl784ENilNnyWv+3l7UzZxqq/",
          "dtype": "f8"
         }
        }
       ],
       "layout": {
        "template": {
         "data": {
          "bar": [
           {
            "error_x": {
             "color": "rgb(36,36,36)"
            },
            "error_y": {
             "color": "rgb(36,36,36)"
            },
            "marker": {
             "line": {
              "color": "white",
              "width": 0.5
             },
             "pattern": {
              "fillmode": "overlay",
              "size": 10,
              "solidity": 0.2
             }
            },
            "type": "bar"
           }
          ],
          "barpolar": [
           {
            "marker": {
             "line": {
              "color": "white",
              "width": 0.5
             },
             "pattern": {
              "fillmode": "overlay",
              "size": 10,
              "solidity": 0.2
             }
            },
            "type": "barpolar"
           }
          ],
          "carpet": [
           {
            "aaxis": {
             "endlinecolor": "rgb(36,36,36)",
             "gridcolor": "white",
             "linecolor": "white",
             "minorgridcolor": "white",
             "startlinecolor": "rgb(36,36,36)"
            },
            "baxis": {
             "endlinecolor": "rgb(36,36,36)",
             "gridcolor": "white",
             "linecolor": "white",
             "minorgridcolor": "white",
             "startlinecolor": "rgb(36,36,36)"
            },
            "type": "carpet"
           }
          ],
          "choropleth": [
           {
            "colorbar": {
             "outlinewidth": 1,
             "tickcolor": "rgb(36,36,36)",
             "ticks": "outside"
            },
            "type": "choropleth"
           }
          ],
          "contour": [
           {
            "colorbar": {
             "outlinewidth": 1,
             "tickcolor": "rgb(36,36,36)",
             "ticks": "outside"
            },
            "colorscale": [
             [
              0,
              "#440154"
             ],
             [
              0.1111111111111111,
              "#482878"
             ],
             [
              0.2222222222222222,
              "#3e4989"
             ],
             [
              0.3333333333333333,
              "#31688e"
             ],
             [
              0.4444444444444444,
              "#26828e"
             ],
             [
              0.5555555555555556,
              "#1f9e89"
             ],
             [
              0.6666666666666666,
              "#35b779"
             ],
             [
              0.7777777777777778,
              "#6ece58"
             ],
             [
              0.8888888888888888,
              "#b5de2b"
             ],
             [
              1,
              "#fde725"
             ]
            ],
            "type": "contour"
           }
          ],
          "contourcarpet": [
           {
            "colorbar": {
             "outlinewidth": 1,
             "tickcolor": "rgb(36,36,36)",
             "ticks": "outside"
            },
            "type": "contourcarpet"
           }
          ],
          "heatmap": [
           {
            "colorbar": {
             "outlinewidth": 1,
             "tickcolor": "rgb(36,36,36)",
             "ticks": "outside"
            },
            "colorscale": [
             [
              0,
              "#440154"
             ],
             [
              0.1111111111111111,
              "#482878"
             ],
             [
              0.2222222222222222,
              "#3e4989"
             ],
             [
              0.3333333333333333,
              "#31688e"
             ],
             [
              0.4444444444444444,
              "#26828e"
             ],
             [
              0.5555555555555556,
              "#1f9e89"
             ],
             [
              0.6666666666666666,
              "#35b779"
             ],
             [
              0.7777777777777778,
              "#6ece58"
             ],
             [
              0.8888888888888888,
              "#b5de2b"
             ],
             [
              1,
              "#fde725"
             ]
            ],
            "type": "heatmap"
           }
          ],
          "histogram": [
           {
            "marker": {
             "line": {
              "color": "white",
              "width": 0.6
             }
            },
            "type": "histogram"
           }
          ],
          "histogram2d": [
           {
            "colorbar": {
             "outlinewidth": 1,
             "tickcolor": "rgb(36,36,36)",
             "ticks": "outside"
            },
            "colorscale": [
             [
              0,
              "#440154"
             ],
             [
              0.1111111111111111,
              "#482878"
             ],
             [
              0.2222222222222222,
              "#3e4989"
             ],
             [
              0.3333333333333333,
              "#31688e"
             ],
             [
              0.4444444444444444,
              "#26828e"
             ],
             [
              0.5555555555555556,
              "#1f9e89"
             ],
             [
              0.6666666666666666,
              "#35b779"
             ],
             [
              0.7777777777777778,
              "#6ece58"
             ],
             [
              0.8888888888888888,
              "#b5de2b"
             ],
             [
              1,
              "#fde725"
             ]
            ],
            "type": "histogram2d"
           }
          ],
          "histogram2dcontour": [
           {
            "colorbar": {
             "outlinewidth": 1,
             "tickcolor": "rgb(36,36,36)",
             "ticks": "outside"
            },
            "colorscale": [
             [
              0,
              "#440154"
             ],
             [
              0.1111111111111111,
              "#482878"
             ],
             [
              0.2222222222222222,
              "#3e4989"
             ],
             [
              0.3333333333333333,
              "#31688e"
             ],
             [
              0.4444444444444444,
              "#26828e"
             ],
             [
              0.5555555555555556,
              "#1f9e89"
             ],
             [
              0.6666666666666666,
              "#35b779"
             ],
             [
              0.7777777777777778,
              "#6ece58"
             ],
             [
              0.8888888888888888,
              "#b5de2b"
             ],
             [
              1,
              "#fde725"
             ]
            ],
            "type": "histogram2dcontour"
           }
          ],
          "mesh3d": [
           {
            "colorbar": {
             "outlinewidth": 1,
             "tickcolor": "rgb(36,36,36)",
             "ticks": "outside"
            },
            "type": "mesh3d"
           }
          ],
          "parcoords": [
           {
            "line": {
             "colorbar": {
              "outlinewidth": 1,
              "tickcolor": "rgb(36,36,36)",
              "ticks": "outside"
             }
            },
            "type": "parcoords"
           }
          ],
          "pie": [
           {
            "automargin": true,
            "type": "pie"
           }
          ],
          "scatter": [
           {
            "fillpattern": {
             "fillmode": "overlay",
             "size": 10,
             "solidity": 0.2
            },
            "type": "scatter"
           }
          ],
          "scatter3d": [
           {
            "line": {
             "colorbar": {
              "outlinewidth": 1,
              "tickcolor": "rgb(36,36,36)",
              "ticks": "outside"
             }
            },
            "marker": {
             "colorbar": {
              "outlinewidth": 1,
              "tickcolor": "rgb(36,36,36)",
              "ticks": "outside"
             }
            },
            "type": "scatter3d"
           }
          ],
          "scattercarpet": [
           {
            "marker": {
             "colorbar": {
              "outlinewidth": 1,
              "tickcolor": "rgb(36,36,36)",
              "ticks": "outside"
             }
            },
            "type": "scattercarpet"
           }
          ],
          "scattergeo": [
           {
            "marker": {
             "colorbar": {
              "outlinewidth": 1,
              "tickcolor": "rgb(36,36,36)",
              "ticks": "outside"
             }
            },
            "type": "scattergeo"
           }
          ],
          "scattergl": [
           {
            "marker": {
             "colorbar": {
              "outlinewidth": 1,
              "tickcolor": "rgb(36,36,36)",
              "ticks": "outside"
             }
            },
            "type": "scattergl"
           }
          ],
          "scattermap": [
           {
            "marker": {
             "colorbar": {
              "outlinewidth": 1,
              "tickcolor": "rgb(36,36,36)",
              "ticks": "outside"
             }
            },
            "type": "scattermap"
           }
          ],
          "scattermapbox": [
           {
            "marker": {
             "colorbar": {
              "outlinewidth": 1,
              "tickcolor": "rgb(36,36,36)",
              "ticks": "outside"
             }
            },
            "type": "scattermapbox"
           }
          ],
          "scatterpolar": [
           {
            "marker": {
             "colorbar": {
              "outlinewidth": 1,
              "tickcolor": "rgb(36,36,36)",
              "ticks": "outside"
             }
            },
            "type": "scatterpolar"
           }
          ],
          "scatterpolargl": [
           {
            "marker": {
             "colorbar": {
              "outlinewidth": 1,
              "tickcolor": "rgb(36,36,36)",
              "ticks": "outside"
             }
            },
            "type": "scatterpolargl"
           }
          ],
          "scatterternary": [
           {
            "marker": {
             "colorbar": {
              "outlinewidth": 1,
              "tickcolor": "rgb(36,36,36)",
              "ticks": "outside"
             }
            },
            "type": "scatterternary"
           }
          ],
          "surface": [
           {
            "colorbar": {
             "outlinewidth": 1,
             "tickcolor": "rgb(36,36,36)",
             "ticks": "outside"
            },
            "colorscale": [
             [
              0,
              "#440154"
             ],
             [
              0.1111111111111111,
              "#482878"
             ],
             [
              0.2222222222222222,
              "#3e4989"
             ],
             [
              0.3333333333333333,
              "#31688e"
             ],
             [
              0.4444444444444444,
              "#26828e"
             ],
             [
              0.5555555555555556,
              "#1f9e89"
             ],
             [
              0.6666666666666666,
              "#35b779"
             ],
             [
              0.7777777777777778,
              "#6ece58"
             ],
             [
              0.8888888888888888,
              "#b5de2b"
             ],
             [
              1,
              "#fde725"
             ]
            ],
            "type": "surface"
           }
          ],
          "table": [
           {
            "cells": {
             "fill": {
              "color": "rgb(237,237,237)"
             },
             "line": {
              "color": "white"
             }
            },
            "header": {
             "fill": {
              "color": "rgb(217,217,217)"
             },
             "line": {
              "color": "white"
             }
            },
            "type": "table"
           }
          ]
         },
         "layout": {
          "annotationdefaults": {
           "arrowhead": 0,
           "arrowwidth": 1
          },
          "autotypenumbers": "strict",
          "coloraxis": {
           "colorbar": {
            "outlinewidth": 1,
            "tickcolor": "rgb(36,36,36)",
            "ticks": "outside"
           }
          },
          "colorscale": {
           "diverging": [
            [
             0,
             "rgb(103,0,31)"
            ],
            [
             0.1,
             "rgb(178,24,43)"
            ],
            [
             0.2,
             "rgb(214,96,77)"
            ],
            [
             0.3,
             "rgb(244,165,130)"
            ],
            [
             0.4,
             "rgb(253,219,199)"
            ],
            [
             0.5,
             "rgb(247,247,247)"
            ],
            [
             0.6,
             "rgb(209,229,240)"
            ],
            [
             0.7,
             "rgb(146,197,222)"
            ],
            [
             0.8,
             "rgb(67,147,195)"
            ],
            [
             0.9,
             "rgb(33,102,172)"
            ],
            [
             1,
             "rgb(5,48,97)"
            ]
           ],
           "sequential": [
            [
             0,
             "#440154"
            ],
            [
             0.1111111111111111,
             "#482878"
            ],
            [
             0.2222222222222222,
             "#3e4989"
            ],
            [
             0.3333333333333333,
             "#31688e"
            ],
            [
             0.4444444444444444,
             "#26828e"
            ],
            [
             0.5555555555555556,
             "#1f9e89"
            ],
            [
             0.6666666666666666,
             "#35b779"
            ],
            [
             0.7777777777777778,
             "#6ece58"
            ],
            [
             0.8888888888888888,
             "#b5de2b"
            ],
            [
             1,
             "#fde725"
            ]
           ],
           "sequentialminus": [
            [
             0,
             "#440154"
            ],
            [
             0.1111111111111111,
             "#482878"
            ],
            [
             0.2222222222222222,
             "#3e4989"
            ],
            [
             0.3333333333333333,
             "#31688e"
            ],
            [
             0.4444444444444444,
             "#26828e"
            ],
            [
             0.5555555555555556,
             "#1f9e89"
            ],
            [
             0.6666666666666666,
             "#35b779"
            ],
            [
             0.7777777777777778,
             "#6ece58"
            ],
            [
             0.8888888888888888,
             "#b5de2b"
            ],
            [
             1,
             "#fde725"
            ]
           ]
          },
          "colorway": [
           "#1F77B4",
           "#FF7F0E",
           "#2CA02C",
           "#D62728",
           "#9467BD",
           "#8C564B",
           "#E377C2",
           "#7F7F7F",
           "#BCBD22",
           "#17BECF"
          ],
          "font": {
           "color": "rgb(36,36,36)"
          },
          "geo": {
           "bgcolor": "white",
           "lakecolor": "white",
           "landcolor": "white",
           "showlakes": true,
           "showland": true,
           "subunitcolor": "white"
          },
          "hoverlabel": {
           "align": "left"
          },
          "hovermode": "closest",
          "mapbox": {
           "style": "light"
          },
          "paper_bgcolor": "white",
          "plot_bgcolor": "white",
          "polar": {
           "angularaxis": {
            "gridcolor": "rgb(232,232,232)",
            "linecolor": "rgb(36,36,36)",
            "showgrid": false,
            "showline": true,
            "ticks": "outside"
           },
           "bgcolor": "white",
           "radialaxis": {
            "gridcolor": "rgb(232,232,232)",
            "linecolor": "rgb(36,36,36)",
            "showgrid": false,
            "showline": true,
            "ticks": "outside"
           }
          },
          "scene": {
           "xaxis": {
            "backgroundcolor": "white",
            "gridcolor": "rgb(232,232,232)",
            "gridwidth": 2,
            "linecolor": "rgb(36,36,36)",
            "showbackground": true,
            "showgrid": false,
            "showline": true,
            "ticks": "outside",
            "zeroline": false,
            "zerolinecolor": "rgb(36,36,36)"
           },
           "yaxis": {
            "backgroundcolor": "white",
            "gridcolor": "rgb(232,232,232)",
            "gridwidth": 2,
            "linecolor": "rgb(36,36,36)",
            "showbackground": true,
            "showgrid": false,
            "showline": true,
            "ticks": "outside",
            "zeroline": false,
            "zerolinecolor": "rgb(36,36,36)"
           },
           "zaxis": {
            "backgroundcolor": "white",
            "gridcolor": "rgb(232,232,232)",
            "gridwidth": 2,
            "linecolor": "rgb(36,36,36)",
            "showbackground": true,
            "showgrid": false,
            "showline": true,
            "ticks": "outside",
            "zeroline": false,
            "zerolinecolor": "rgb(36,36,36)"
           }
          },
          "shapedefaults": {
           "fillcolor": "black",
           "line": {
            "width": 0
           },
           "opacity": 0.3
          },
          "ternary": {
           "aaxis": {
            "gridcolor": "rgb(232,232,232)",
            "linecolor": "rgb(36,36,36)",
            "showgrid": false,
            "showline": true,
            "ticks": "outside"
           },
           "baxis": {
            "gridcolor": "rgb(232,232,232)",
            "linecolor": "rgb(36,36,36)",
            "showgrid": false,
            "showline": true,
            "ticks": "outside"
           },
           "bgcolor": "white",
           "caxis": {
            "gridcolor": "rgb(232,232,232)",
            "linecolor": "rgb(36,36,36)",
            "showgrid": false,
            "showline": true,
            "ticks": "outside"
           }
          },
          "title": {
           "x": 0.05
          },
          "xaxis": {
           "automargin": true,
           "gridcolor": "rgb(232,232,232)",
           "linecolor": "rgb(36,36,36)",
           "showgrid": false,
           "showline": true,
           "ticks": "outside",
           "title": {
            "standoff": 15
           },
           "zeroline": false,
           "zerolinecolor": "rgb(36,36,36)"
          },
          "yaxis": {
           "automargin": true,
           "gridcolor": "rgb(232,232,232)",
           "linecolor": "rgb(36,36,36)",
           "showgrid": false,
           "showline": true,
           "ticks": "outside",
           "title": {
            "standoff": 15
           },
           "zeroline": false,
           "zerolinecolor": "rgb(36,36,36)"
          }
         }
        },
        "title": {
         "text": "model_0 — SHAP Dependence: start_time_hour"
        },
        "xaxis": {
         "title": {
          "text": "Start hour (0–23)"
         }
        },
        "yaxis": {
         "title": {
          "text": "SHAP value (impact on prediction)"
         }
        }
       }
      }
     },
     "metadata": {},
     "output_type": "display_data"
    },
    {
     "data": {
      "application/vnd.plotly.v1+json": {
       "config": {
        "plotlyServerURL": "https://plot.ly"
       },
       "data": [
        {
         "mode": "markers",
         "name": "samples",
         "opacity": 0.35,
         "type": "scatter",
         "x": {
          "bdata": "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",
          "dtype": "f8"
         },
         "y": {
          "bdata": "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",
          "dtype": "f8"
         }
        },
        {
         "mode": "lines+markers",
         "name": "mean by duration bin",
         "type": "scatter",
         "x": {
          "bdata": "yzZfDrBs5z8TsEpSC/cCQOGJ3gie6A9ApM37FJcMFkCHcziHc7gcQG5I3obkbSFAwPqrv/orJEBjyS+W/GInQBzHcRzHcSpAx3Ecx3GcLUDNzMzMzEwwQAAAAAAAADJAvLu7u7s7M0BERERERMQ2QO/u7u7urjdA",
          "dtype": "f8"
         },
         "y": {
          "bdata": "hGMZHyjb6b8LpMdYDBSivxVgK4PZ79I/1ohjBtMH3T8x0HTEiXnlP/4t/ELWQ+Y/tKC/exbi6D8KaDTegt7lP81P+Bw1nuk/8XCApQoL6D/ElN7rYYzmP1vDzKwA6uI/DvrFxJ4g6j/B8cERRAnnP7ieaATir+U/",
          "dtype": "f8"
         }
        }
       ],
       "layout": {
        "template": {
         "data": {
          "bar": [
           {
            "error_x": {
             "color": "rgb(36,36,36)"
            },
            "error_y": {
             "color": "rgb(36,36,36)"
            },
            "marker": {
             "line": {
              "color": "white",
              "width": 0.5
             },
             "pattern": {
              "fillmode": "overlay",
              "size": 10,
              "solidity": 0.2
             }
            },
            "type": "bar"
           }
          ],
          "barpolar": [
           {
            "marker": {
             "line": {
              "color": "white",
              "width": 0.5
             },
             "pattern": {
              "fillmode": "overlay",
              "size": 10,
              "solidity": 0.2
             }
            },
            "type": "barpolar"
           }
          ],
          "carpet": [
           {
            "aaxis": {
             "endlinecolor": "rgb(36,36,36)",
             "gridcolor": "white",
             "linecolor": "white",
             "minorgridcolor": "white",
             "startlinecolor": "rgb(36,36,36)"
            },
            "baxis": {
             "endlinecolor": "rgb(36,36,36)",
             "gridcolor": "white",
             "linecolor": "white",
             "minorgridcolor": "white",
             "startlinecolor": "rgb(36,36,36)"
            },
            "type": "carpet"
           }
          ],
          "choropleth": [
           {
            "colorbar": {
             "outlinewidth": 1,
             "tickcolor": "rgb(36,36,36)",
             "ticks": "outside"
            },
            "type": "choropleth"
           }
          ],
          "contour": [
           {
            "colorbar": {
             "outlinewidth": 1,
             "tickcolor": "rgb(36,36,36)",
             "ticks": "outside"
            },
            "colorscale": [
             [
              0,
              "#440154"
             ],
             [
              0.1111111111111111,
              "#482878"
             ],
             [
              0.2222222222222222,
              "#3e4989"
             ],
             [
              0.3333333333333333,
              "#31688e"
             ],
             [
              0.4444444444444444,
              "#26828e"
             ],
             [
              0.5555555555555556,
              "#1f9e89"
             ],
             [
              0.6666666666666666,
              "#35b779"
             ],
             [
              0.7777777777777778,
              "#6ece58"
             ],
             [
              0.8888888888888888,
              "#b5de2b"
             ],
             [
              1,
              "#fde725"
             ]
            ],
            "type": "contour"
           }
          ],
          "contourcarpet": [
           {
            "colorbar": {
             "outlinewidth": 1,
             "tickcolor": "rgb(36,36,36)",
             "ticks": "outside"
            },
            "type": "contourcarpet"
           }
          ],
          "heatmap": [
           {
            "colorbar": {
             "outlinewidth": 1,
             "tickcolor": "rgb(36,36,36)",
             "ticks": "outside"
            },
            "colorscale": [
             [
              0,
              "#440154"
             ],
             [
              0.1111111111111111,
              "#482878"
             ],
             [
              0.2222222222222222,
              "#3e4989"
             ],
             [
              0.3333333333333333,
              "#31688e"
             ],
             [
              0.4444444444444444,
              "#26828e"
             ],
             [
              0.5555555555555556,
              "#1f9e89"
             ],
             [
              0.6666666666666666,
              "#35b779"
             ],
             [
              0.7777777777777778,
              "#6ece58"
             ],
             [
              0.8888888888888888,
              "#b5de2b"
             ],
             [
              1,
              "#fde725"
             ]
            ],
            "type": "heatmap"
           }
          ],
          "histogram": [
           {
            "marker": {
             "line": {
              "color": "white",
              "width": 0.6
             }
            },
            "type": "histogram"
           }
          ],
          "histogram2d": [
           {
            "colorbar": {
             "outlinewidth": 1,
             "tickcolor": "rgb(36,36,36)",
             "ticks": "outside"
            },
            "colorscale": [
             [
              0,
              "#440154"
             ],
             [
              0.1111111111111111,
              "#482878"
             ],
             [
              0.2222222222222222,
              "#3e4989"
             ],
             [
              0.3333333333333333,
              "#31688e"
             ],
             [
              0.4444444444444444,
              "#26828e"
             ],
             [
              0.5555555555555556,
              "#1f9e89"
             ],
             [
              0.6666666666666666,
              "#35b779"
             ],
             [
              0.7777777777777778,
              "#6ece58"
             ],
             [
              0.8888888888888888,
              "#b5de2b"
             ],
             [
              1,
              "#fde725"
             ]
            ],
            "type": "histogram2d"
           }
          ],
          "histogram2dcontour": [
           {
            "colorbar": {
             "outlinewidth": 1,
             "tickcolor": "rgb(36,36,36)",
             "ticks": "outside"
            },
            "colorscale": [
             [
              0,
              "#440154"
             ],
             [
              0.1111111111111111,
              "#482878"
             ],
             [
              0.2222222222222222,
              "#3e4989"
             ],
             [
              0.3333333333333333,
              "#31688e"
             ],
             [
              0.4444444444444444,
              "#26828e"
             ],
             [
              0.5555555555555556,
              "#1f9e89"
             ],
             [
              0.6666666666666666,
              "#35b779"
             ],
             [
              0.7777777777777778,
              "#6ece58"
             ],
             [
              0.8888888888888888,
              "#b5de2b"
             ],
             [
              1,
              "#fde725"
             ]
            ],
            "type": "histogram2dcontour"
           }
          ],
          "mesh3d": [
           {
            "colorbar": {
             "outlinewidth": 1,
             "tickcolor": "rgb(36,36,36)",
             "ticks": "outside"
            },
            "type": "mesh3d"
           }
          ],
          "parcoords": [
           {
            "line": {
             "colorbar": {
              "outlinewidth": 1,
              "tickcolor": "rgb(36,36,36)",
              "ticks": "outside"
             }
            },
            "type": "parcoords"
           }
          ],
          "pie": [
           {
            "automargin": true,
            "type": "pie"
           }
          ],
          "scatter": [
           {
            "fillpattern": {
             "fillmode": "overlay",
             "size": 10,
             "solidity": 0.2
            },
            "type": "scatter"
           }
          ],
          "scatter3d": [
           {
            "line": {
             "colorbar": {
              "outlinewidth": 1,
              "tickcolor": "rgb(36,36,36)",
              "ticks": "outside"
             }
            },
            "marker": {
             "colorbar": {
              "outlinewidth": 1,
              "tickcolor": "rgb(36,36,36)",
              "ticks": "outside"
             }
            },
            "type": "scatter3d"
           }
          ],
          "scattercarpet": [
           {
            "marker": {
             "colorbar": {
              "outlinewidth": 1,
              "tickcolor": "rgb(36,36,36)",
              "ticks": "outside"
             }
            },
            "type": "scattercarpet"
           }
          ],
          "scattergeo": [
           {
            "marker": {
             "colorbar": {
              "outlinewidth": 1,
              "tickcolor": "rgb(36,36,36)",
              "ticks": "outside"
             }
            },
            "type": "scattergeo"
           }
          ],
          "scattergl": [
           {
            "marker": {
             "colorbar": {
              "outlinewidth": 1,
              "tickcolor": "rgb(36,36,36)",
              "ticks": "outside"
             }
            },
            "type": "scattergl"
           }
          ],
          "scattermap": [
           {
            "marker": {
             "colorbar": {
              "outlinewidth": 1,
              "tickcolor": "rgb(36,36,36)",
              "ticks": "outside"
             }
            },
            "type": "scattermap"
           }
          ],
          "scattermapbox": [
           {
            "marker": {
             "colorbar": {
              "outlinewidth": 1,
              "tickcolor": "rgb(36,36,36)",
              "ticks": "outside"
             }
            },
            "type": "scattermapbox"
           }
          ],
          "scatterpolar": [
           {
            "marker": {
             "colorbar": {
              "outlinewidth": 1,
              "tickcolor": "rgb(36,36,36)",
              "ticks": "outside"
             }
            },
            "type": "scatterpolar"
           }
          ],
          "scatterpolargl": [
           {
            "marker": {
             "colorbar": {
              "outlinewidth": 1,
              "tickcolor": "rgb(36,36,36)",
              "ticks": "outside"
             }
            },
            "type": "scatterpolargl"
           }
          ],
          "scatterternary": [
           {
            "marker": {
             "colorbar": {
              "outlinewidth": 1,
              "tickcolor": "rgb(36,36,36)",
              "ticks": "outside"
             }
            },
            "type": "scatterternary"
           }
          ],
          "surface": [
           {
            "colorbar": {
             "outlinewidth": 1,
             "tickcolor": "rgb(36,36,36)",
             "ticks": "outside"
            },
            "colorscale": [
             [
              0,
              "#440154"
             ],
             [
              0.1111111111111111,
              "#482878"
             ],
             [
              0.2222222222222222,
              "#3e4989"
             ],
             [
              0.3333333333333333,
              "#31688e"
             ],
             [
              0.4444444444444444,
              "#26828e"
             ],
             [
              0.5555555555555556,
              "#1f9e89"
             ],
             [
              0.6666666666666666,
              "#35b779"
             ],
             [
              0.7777777777777778,
              "#6ece58"
             ],
             [
              0.8888888888888888,
              "#b5de2b"
             ],
             [
              1,
              "#fde725"
             ]
            ],
            "type": "surface"
           }
          ],
          "table": [
           {
            "cells": {
             "fill": {
              "color": "rgb(237,237,237)"
             },
             "line": {
              "color": "white"
             }
            },
            "header": {
             "fill": {
              "color": "rgb(217,217,217)"
             },
             "line": {
              "color": "white"
             }
            },
            "type": "table"
           }
          ]
         },
         "layout": {
          "annotationdefaults": {
           "arrowhead": 0,
           "arrowwidth": 1
          },
          "autotypenumbers": "strict",
          "coloraxis": {
           "colorbar": {
            "outlinewidth": 1,
            "tickcolor": "rgb(36,36,36)",
            "ticks": "outside"
           }
          },
          "colorscale": {
           "diverging": [
            [
             0,
             "rgb(103,0,31)"
            ],
            [
             0.1,
             "rgb(178,24,43)"
            ],
            [
             0.2,
             "rgb(214,96,77)"
            ],
            [
             0.3,
             "rgb(244,165,130)"
            ],
            [
             0.4,
             "rgb(253,219,199)"
            ],
            [
             0.5,
             "rgb(247,247,247)"
            ],
            [
             0.6,
             "rgb(209,229,240)"
            ],
            [
             0.7,
             "rgb(146,197,222)"
            ],
            [
             0.8,
             "rgb(67,147,195)"
            ],
            [
             0.9,
             "rgb(33,102,172)"
            ],
            [
             1,
             "rgb(5,48,97)"
            ]
           ],
           "sequential": [
            [
             0,
             "#440154"
            ],
            [
             0.1111111111111111,
             "#482878"
            ],
            [
             0.2222222222222222,
             "#3e4989"
            ],
            [
             0.3333333333333333,
             "#31688e"
            ],
            [
             0.4444444444444444,
             "#26828e"
            ],
            [
             0.5555555555555556,
             "#1f9e89"
            ],
            [
             0.6666666666666666,
             "#35b779"
            ],
            [
             0.7777777777777778,
             "#6ece58"
            ],
            [
             0.8888888888888888,
             "#b5de2b"
            ],
            [
             1,
             "#fde725"
            ]
           ],
           "sequentialminus": [
            [
             0,
             "#440154"
            ],
            [
             0.1111111111111111,
             "#482878"
            ],
            [
             0.2222222222222222,
             "#3e4989"
            ],
            [
             0.3333333333333333,
             "#31688e"
            ],
            [
             0.4444444444444444,
             "#26828e"
            ],
            [
             0.5555555555555556,
             "#1f9e89"
            ],
            [
             0.6666666666666666,
             "#35b779"
            ],
            [
             0.7777777777777778,
             "#6ece58"
            ],
            [
             0.8888888888888888,
             "#b5de2b"
            ],
            [
             1,
             "#fde725"
            ]
           ]
          },
          "colorway": [
           "#1F77B4",
           "#FF7F0E",
           "#2CA02C",
           "#D62728",
           "#9467BD",
           "#8C564B",
           "#E377C2",
           "#7F7F7F",
           "#BCBD22",
           "#17BECF"
          ],
          "font": {
           "color": "rgb(36,36,36)"
          },
          "geo": {
           "bgcolor": "white",
           "lakecolor": "white",
           "landcolor": "white",
           "showlakes": true,
           "showland": true,
           "subunitcolor": "white"
          },
          "hoverlabel": {
           "align": "left"
          },
          "hovermode": "closest",
          "mapbox": {
           "style": "light"
          },
          "paper_bgcolor": "white",
          "plot_bgcolor": "white",
          "polar": {
           "angularaxis": {
            "gridcolor": "rgb(232,232,232)",
            "linecolor": "rgb(36,36,36)",
            "showgrid": false,
            "showline": true,
            "ticks": "outside"
           },
           "bgcolor": "white",
           "radialaxis": {
            "gridcolor": "rgb(232,232,232)",
            "linecolor": "rgb(36,36,36)",
            "showgrid": false,
            "showline": true,
            "ticks": "outside"
           }
          },
          "scene": {
           "xaxis": {
            "backgroundcolor": "white",
            "gridcolor": "rgb(232,232,232)",
            "gridwidth": 2,
            "linecolor": "rgb(36,36,36)",
            "showbackground": true,
            "showgrid": false,
            "showline": true,
            "ticks": "outside",
            "zeroline": false,
            "zerolinecolor": "rgb(36,36,36)"
           },
           "yaxis": {
            "backgroundcolor": "white",
            "gridcolor": "rgb(232,232,232)",
            "gridwidth": 2,
            "linecolor": "rgb(36,36,36)",
            "showbackground": true,
            "showgrid": false,
            "showline": true,
            "ticks": "outside",
            "zeroline": false,
            "zerolinecolor": "rgb(36,36,36)"
           },
           "zaxis": {
            "backgroundcolor": "white",
            "gridcolor": "rgb(232,232,232)",
            "gridwidth": 2,
            "linecolor": "rgb(36,36,36)",
            "showbackground": true,
            "showgrid": false,
            "showline": true,
            "ticks": "outside",
            "zeroline": false,
            "zerolinecolor": "rgb(36,36,36)"
           }
          },
          "shapedefaults": {
           "fillcolor": "black",
           "line": {
            "width": 0
           },
           "opacity": 0.3
          },
          "ternary": {
           "aaxis": {
            "gridcolor": "rgb(232,232,232)",
            "linecolor": "rgb(36,36,36)",
            "showgrid": false,
            "showline": true,
            "ticks": "outside"
           },
           "baxis": {
            "gridcolor": "rgb(232,232,232)",
            "linecolor": "rgb(36,36,36)",
            "showgrid": false,
            "showline": true,
            "ticks": "outside"
           },
           "bgcolor": "white",
           "caxis": {
            "gridcolor": "rgb(232,232,232)",
            "linecolor": "rgb(36,36,36)",
            "showgrid": false,
            "showline": true,
            "ticks": "outside"
           }
          },
          "title": {
           "x": 0.05
          },
          "xaxis": {
           "automargin": true,
           "gridcolor": "rgb(232,232,232)",
           "linecolor": "rgb(36,36,36)",
           "showgrid": false,
           "showline": true,
           "ticks": "outside",
           "title": {
            "standoff": 15
           },
           "zeroline": false,
           "zerolinecolor": "rgb(36,36,36)"
          },
          "yaxis": {
           "automargin": true,
           "gridcolor": "rgb(232,232,232)",
           "linecolor": "rgb(36,36,36)",
           "showgrid": false,
           "showline": true,
           "ticks": "outside",
           "title": {
            "standoff": 15
           },
           "zeroline": false,
           "zerolinecolor": "rgb(36,36,36)"
          }
         }
        },
        "title": {
         "text": "model_0 — SHAP Dependence: stream_duration"
        },
        "xaxis": {
         "title": {
          "text": "Duration (hours)"
         }
        },
        "yaxis": {
         "title": {
          "text": "SHAP value (impact on prediction)"
         }
        }
       }
      }
     },
     "metadata": {},
     "output_type": "display_data"
    },
    {
     "data": {
      "application/vnd.plotly.v1+json": {
       "config": {
        "plotlyServerURL": "https://plot.ly"
       },
       "data": [
        {
         "hovertemplate": "shap=%{x}<br>category=%{y}<extra></extra>",
         "legendgroup": "",
         "marker": {
          "color": "#636efa",
          "pattern": {
           "shape": ""
          }
         },
         "name": "",
         "orientation": "h",
         "showlegend": false,
         "textposition": "auto",
         "type": "bar",
         "x": {
          "bdata": "cT0bsTGghj8+2vRymBOJP5AyQ6LdDoo/WBL/XYStiz8KF+UIeRSOPzOzJ+K/JZA/WbJa/K6pkD+4/rb/eRGRP1KYRC4dZZE/ImJbZxqokT9xnXr6WReTP3sEJC9VkJM/ndMIcRoQlD/2DB2Njr+UP0R8YLiGfJU/O7n63ciBlz+PMnbDrgeZP4hAv3EfwJk/tpHHpjfJmj896seBjDWbP/aYXXO6hJs/hRkLTqmaoj/XQ7DoCr+jP4G2vkYjN6Q/+xx/Vs53sD8=",
          "dtype": "f8"
         },
         "xaxis": "x",
         "y": [
          "mario party 2",
          "music",
          "final fantasy viii",
          "hades ii",
          "metal gear solid 3 snake eater",
          "ninja gaiden: ragebound",
          "mafia: the old country",
          "r.e.p.o.",
          "oddsparks: an automation adventure",
          "pokémon",
          "asmr",
          "metroid prime 3: corruption",
          "marvel rivals",
          "grounded 2",
          "palworld",
          "peak",
          "party animals",
          "metal gear solid 4: guns of the patriots",
          "mario kart world",
          "metal gear solid: peace walker",
          "pokémon firered/leafgreen",
          "get to work",
          "left 4 dead 2",
          "fortnite",
          "grounded"
         ],
         "yaxis": "y"
        }
       ],
       "layout": {
        "barmode": "relative",
        "legend": {
         "tracegroupgap": 0
        },
        "template": {
         "data": {
          "bar": [
           {
            "error_x": {
             "color": "rgb(36,36,36)"
            },
            "error_y": {
             "color": "rgb(36,36,36)"
            },
            "marker": {
             "line": {
              "color": "white",
              "width": 0.5
             },
             "pattern": {
              "fillmode": "overlay",
              "size": 10,
              "solidity": 0.2
             }
            },
            "type": "bar"
           }
          ],
          "barpolar": [
           {
            "marker": {
             "line": {
              "color": "white",
              "width": 0.5
             },
             "pattern": {
              "fillmode": "overlay",
              "size": 10,
              "solidity": 0.2
             }
            },
            "type": "barpolar"
           }
          ],
          "carpet": [
           {
            "aaxis": {
             "endlinecolor": "rgb(36,36,36)",
             "gridcolor": "white",
             "linecolor": "white",
             "minorgridcolor": "white",
             "startlinecolor": "rgb(36,36,36)"
            },
            "baxis": {
             "endlinecolor": "rgb(36,36,36)",
             "gridcolor": "white",
             "linecolor": "white",
             "minorgridcolor": "white",
             "startlinecolor": "rgb(36,36,36)"
            },
            "type": "carpet"
           }
          ],
          "choropleth": [
           {
            "colorbar": {
             "outlinewidth": 1,
             "tickcolor": "rgb(36,36,36)",
             "ticks": "outside"
            },
            "type": "choropleth"
           }
          ],
          "contour": [
           {
            "colorbar": {
             "outlinewidth": 1,
             "tickcolor": "rgb(36,36,36)",
             "ticks": "outside"
            },
            "colorscale": [
             [
              0,
              "#440154"
             ],
             [
              0.1111111111111111,
              "#482878"
             ],
             [
              0.2222222222222222,
              "#3e4989"
             ],
             [
              0.3333333333333333,
              "#31688e"
             ],
             [
              0.4444444444444444,
              "#26828e"
             ],
             [
              0.5555555555555556,
              "#1f9e89"
             ],
             [
              0.6666666666666666,
              "#35b779"
             ],
             [
              0.7777777777777778,
              "#6ece58"
             ],
             [
              0.8888888888888888,
              "#b5de2b"
             ],
             [
              1,
              "#fde725"
             ]
            ],
            "type": "contour"
           }
          ],
          "contourcarpet": [
           {
            "colorbar": {
             "outlinewidth": 1,
             "tickcolor": "rgb(36,36,36)",
             "ticks": "outside"
            },
            "type": "contourcarpet"
           }
          ],
          "heatmap": [
           {
            "colorbar": {
             "outlinewidth": 1,
             "tickcolor": "rgb(36,36,36)",
             "ticks": "outside"
            },
            "colorscale": [
             [
              0,
              "#440154"
             ],
             [
              0.1111111111111111,
              "#482878"
             ],
             [
              0.2222222222222222,
              "#3e4989"
             ],
             [
              0.3333333333333333,
              "#31688e"
             ],
             [
              0.4444444444444444,
              "#26828e"
             ],
             [
              0.5555555555555556,
              "#1f9e89"
             ],
             [
              0.6666666666666666,
              "#35b779"
             ],
             [
              0.7777777777777778,
              "#6ece58"
             ],
             [
              0.8888888888888888,
              "#b5de2b"
             ],
             [
              1,
              "#fde725"
             ]
            ],
            "type": "heatmap"
           }
          ],
          "histogram": [
           {
            "marker": {
             "line": {
              "color": "white",
              "width": 0.6
             }
            },
            "type": "histogram"
           }
          ],
          "histogram2d": [
           {
            "colorbar": {
             "outlinewidth": 1,
             "tickcolor": "rgb(36,36,36)",
             "ticks": "outside"
            },
            "colorscale": [
             [
              0,
              "#440154"
             ],
             [
              0.1111111111111111,
              "#482878"
             ],
             [
              0.2222222222222222,
              "#3e4989"
             ],
             [
              0.3333333333333333,
              "#31688e"
             ],
             [
              0.4444444444444444,
              "#26828e"
             ],
             [
              0.5555555555555556,
              "#1f9e89"
             ],
             [
              0.6666666666666666,
              "#35b779"
             ],
             [
              0.7777777777777778,
              "#6ece58"
             ],
             [
              0.8888888888888888,
              "#b5de2b"
             ],
             [
              1,
              "#fde725"
             ]
            ],
            "type": "histogram2d"
           }
          ],
          "histogram2dcontour": [
           {
            "colorbar": {
             "outlinewidth": 1,
             "tickcolor": "rgb(36,36,36)",
             "ticks": "outside"
            },
            "colorscale": [
             [
              0,
              "#440154"
             ],
             [
              0.1111111111111111,
              "#482878"
             ],
             [
              0.2222222222222222,
              "#3e4989"
             ],
             [
              0.3333333333333333,
              "#31688e"
             ],
             [
              0.4444444444444444,
              "#26828e"
             ],
             [
              0.5555555555555556,
              "#1f9e89"
             ],
             [
              0.6666666666666666,
              "#35b779"
             ],
             [
              0.7777777777777778,
              "#6ece58"
             ],
             [
              0.8888888888888888,
              "#b5de2b"
             ],
             [
              1,
              "#fde725"
             ]
            ],
            "type": "histogram2dcontour"
           }
          ],
          "mesh3d": [
           {
            "colorbar": {
             "outlinewidth": 1,
             "tickcolor": "rgb(36,36,36)",
             "ticks": "outside"
            },
            "type": "mesh3d"
           }
          ],
          "parcoords": [
           {
            "line": {
             "colorbar": {
              "outlinewidth": 1,
              "tickcolor": "rgb(36,36,36)",
              "ticks": "outside"
             }
            },
            "type": "parcoords"
           }
          ],
          "pie": [
           {
            "automargin": true,
            "type": "pie"
           }
          ],
          "scatter": [
           {
            "fillpattern": {
             "fillmode": "overlay",
             "size": 10,
             "solidity": 0.2
            },
            "type": "scatter"
           }
          ],
          "scatter3d": [
           {
            "line": {
             "colorbar": {
              "outlinewidth": 1,
              "tickcolor": "rgb(36,36,36)",
              "ticks": "outside"
             }
            },
            "marker": {
             "colorbar": {
              "outlinewidth": 1,
              "tickcolor": "rgb(36,36,36)",
              "ticks": "outside"
             }
            },
            "type": "scatter3d"
           }
          ],
          "scattercarpet": [
           {
            "marker": {
             "colorbar": {
              "outlinewidth": 1,
              "tickcolor": "rgb(36,36,36)",
              "ticks": "outside"
             }
            },
            "type": "scattercarpet"
           }
          ],
          "scattergeo": [
           {
            "marker": {
             "colorbar": {
              "outlinewidth": 1,
              "tickcolor": "rgb(36,36,36)",
              "ticks": "outside"
             }
            },
            "type": "scattergeo"
           }
          ],
          "scattergl": [
           {
            "marker": {
             "colorbar": {
              "outlinewidth": 1,
              "tickcolor": "rgb(36,36,36)",
              "ticks": "outside"
             }
            },
            "type": "scattergl"
           }
          ],
          "scattermap": [
           {
            "marker": {
             "colorbar": {
              "outlinewidth": 1,
              "tickcolor": "rgb(36,36,36)",
              "ticks": "outside"
             }
            },
            "type": "scattermap"
           }
          ],
          "scattermapbox": [
           {
            "marker": {
             "colorbar": {
              "outlinewidth": 1,
              "tickcolor": "rgb(36,36,36)",
              "ticks": "outside"
             }
            },
            "type": "scattermapbox"
           }
          ],
          "scatterpolar": [
           {
            "marker": {
             "colorbar": {
              "outlinewidth": 1,
              "tickcolor": "rgb(36,36,36)",
              "ticks": "outside"
             }
            },
            "type": "scatterpolar"
           }
          ],
          "scatterpolargl": [
           {
            "marker": {
             "colorbar": {
              "outlinewidth": 1,
              "tickcolor": "rgb(36,36,36)",
              "ticks": "outside"
             }
            },
            "type": "scatterpolargl"
           }
          ],
          "scatterternary": [
           {
            "marker": {
             "colorbar": {
              "outlinewidth": 1,
              "tickcolor": "rgb(36,36,36)",
              "ticks": "outside"
             }
            },
            "type": "scatterternary"
           }
          ],
          "surface": [
           {
            "colorbar": {
             "outlinewidth": 1,
             "tickcolor": "rgb(36,36,36)",
             "ticks": "outside"
            },
            "colorscale": [
             [
              0,
              "#440154"
             ],
             [
              0.1111111111111111,
              "#482878"
             ],
             [
              0.2222222222222222,
              "#3e4989"
             ],
             [
              0.3333333333333333,
              "#31688e"
             ],
             [
              0.4444444444444444,
              "#26828e"
             ],
             [
              0.5555555555555556,
              "#1f9e89"
             ],
             [
              0.6666666666666666,
              "#35b779"
             ],
             [
              0.7777777777777778,
              "#6ece58"
             ],
             [
              0.8888888888888888,
              "#b5de2b"
             ],
             [
              1,
              "#fde725"
             ]
            ],
            "type": "surface"
           }
          ],
          "table": [
           {
            "cells": {
             "fill": {
              "color": "rgb(237,237,237)"
             },
             "line": {
              "color": "white"
             }
            },
            "header": {
             "fill": {
              "color": "rgb(217,217,217)"
             },
             "line": {
              "color": "white"
             }
            },
            "type": "table"
           }
          ]
         },
         "layout": {
          "annotationdefaults": {
           "arrowhead": 0,
           "arrowwidth": 1
          },
          "autotypenumbers": "strict",
          "coloraxis": {
           "colorbar": {
            "outlinewidth": 1,
            "tickcolor": "rgb(36,36,36)",
            "ticks": "outside"
           }
          },
          "colorscale": {
           "diverging": [
            [
             0,
             "rgb(103,0,31)"
            ],
            [
             0.1,
             "rgb(178,24,43)"
            ],
            [
             0.2,
             "rgb(214,96,77)"
            ],
            [
             0.3,
             "rgb(244,165,130)"
            ],
            [
             0.4,
             "rgb(253,219,199)"
            ],
            [
             0.5,
             "rgb(247,247,247)"
            ],
            [
             0.6,
             "rgb(209,229,240)"
            ],
            [
             0.7,
             "rgb(146,197,222)"
            ],
            [
             0.8,
             "rgb(67,147,195)"
            ],
            [
             0.9,
             "rgb(33,102,172)"
            ],
            [
             1,
             "rgb(5,48,97)"
            ]
           ],
           "sequential": [
            [
             0,
             "#440154"
            ],
            [
             0.1111111111111111,
             "#482878"
            ],
            [
             0.2222222222222222,
             "#3e4989"
            ],
            [
             0.3333333333333333,
             "#31688e"
            ],
            [
             0.4444444444444444,
             "#26828e"
            ],
            [
             0.5555555555555556,
             "#1f9e89"
            ],
            [
             0.6666666666666666,
             "#35b779"
            ],
            [
             0.7777777777777778,
             "#6ece58"
            ],
            [
             0.8888888888888888,
             "#b5de2b"
            ],
            [
             1,
             "#fde725"
            ]
           ],
           "sequentialminus": [
            [
             0,
             "#440154"
            ],
            [
             0.1111111111111111,
             "#482878"
            ],
            [
             0.2222222222222222,
             "#3e4989"
            ],
            [
             0.3333333333333333,
             "#31688e"
            ],
            [
             0.4444444444444444,
             "#26828e"
            ],
            [
             0.5555555555555556,
             "#1f9e89"
            ],
            [
             0.6666666666666666,
             "#35b779"
            ],
            [
             0.7777777777777778,
             "#6ece58"
            ],
            [
             0.8888888888888888,
             "#b5de2b"
            ],
            [
             1,
             "#fde725"
            ]
           ]
          },
          "colorway": [
           "#1F77B4",
           "#FF7F0E",
           "#2CA02C",
           "#D62728",
           "#9467BD",
           "#8C564B",
           "#E377C2",
           "#7F7F7F",
           "#BCBD22",
           "#17BECF"
          ],
          "font": {
           "color": "rgb(36,36,36)"
          },
          "geo": {
           "bgcolor": "white",
           "lakecolor": "white",
           "landcolor": "white",
           "showlakes": true,
           "showland": true,
           "subunitcolor": "white"
          },
          "hoverlabel": {
           "align": "left"
          },
          "hovermode": "closest",
          "mapbox": {
           "style": "light"
          },
          "paper_bgcolor": "white",
          "plot_bgcolor": "white",
          "polar": {
           "angularaxis": {
            "gridcolor": "rgb(232,232,232)",
            "linecolor": "rgb(36,36,36)",
            "showgrid": false,
            "showline": true,
            "ticks": "outside"
           },
           "bgcolor": "white",
           "radialaxis": {
            "gridcolor": "rgb(232,232,232)",
            "linecolor": "rgb(36,36,36)",
            "showgrid": false,
            "showline": true,
            "ticks": "outside"
           }
          },
          "scene": {
           "xaxis": {
            "backgroundcolor": "white",
            "gridcolor": "rgb(232,232,232)",
            "gridwidth": 2,
            "linecolor": "rgb(36,36,36)",
            "showbackground": true,
            "showgrid": false,
            "showline": true,
            "ticks": "outside",
            "zeroline": false,
            "zerolinecolor": "rgb(36,36,36)"
           },
           "yaxis": {
            "backgroundcolor": "white",
            "gridcolor": "rgb(232,232,232)",
            "gridwidth": 2,
            "linecolor": "rgb(36,36,36)",
            "showbackground": true,
            "showgrid": false,
            "showline": true,
            "ticks": "outside",
            "zeroline": false,
            "zerolinecolor": "rgb(36,36,36)"
           },
           "zaxis": {
            "backgroundcolor": "white",
            "gridcolor": "rgb(232,232,232)",
            "gridwidth": 2,
            "linecolor": "rgb(36,36,36)",
            "showbackground": true,
            "showgrid": false,
            "showline": true,
            "ticks": "outside",
            "zeroline": false,
            "zerolinecolor": "rgb(36,36,36)"
           }
          },
          "shapedefaults": {
           "fillcolor": "black",
           "line": {
            "width": 0
           },
           "opacity": 0.3
          },
          "ternary": {
           "aaxis": {
            "gridcolor": "rgb(232,232,232)",
            "linecolor": "rgb(36,36,36)",
            "showgrid": false,
            "showline": true,
            "ticks": "outside"
           },
           "baxis": {
            "gridcolor": "rgb(232,232,232)",
            "linecolor": "rgb(36,36,36)",
            "showgrid": false,
            "showline": true,
            "ticks": "outside"
           },
           "bgcolor": "white",
           "caxis": {
            "gridcolor": "rgb(232,232,232)",
            "linecolor": "rgb(36,36,36)",
            "showgrid": false,
            "showline": true,
            "ticks": "outside"
           }
          },
          "title": {
           "x": 0.05
          },
          "xaxis": {
           "automargin": true,
           "gridcolor": "rgb(232,232,232)",
           "linecolor": "rgb(36,36,36)",
           "showgrid": false,
           "showline": true,
           "ticks": "outside",
           "title": {
            "standoff": 15
           },
           "zeroline": false,
           "zerolinecolor": "rgb(36,36,36)"
          },
          "yaxis": {
           "automargin": true,
           "gridcolor": "rgb(232,232,232)",
           "linecolor": "rgb(36,36,36)",
           "showgrid": false,
           "showline": true,
           "ticks": "outside",
           "title": {
            "standoff": 15
           },
           "zeroline": false,
           "zerolinecolor": "rgb(36,36,36)"
          }
         }
        },
        "title": {
         "text": "model_0 — Game Category Effect (mean SHAP by category)"
        },
        "xaxis": {
         "anchor": "y",
         "domain": [
          0,
          1
         ],
         "title": {
          "text": "Mean SHAP (category effect on prediction)"
         }
        },
        "yaxis": {
         "anchor": "x",
         "categoryorder": "total descending",
         "domain": [
          0,
          1
         ],
         "title": {
          "text": "category"
         }
        }
       }
      }
     },
     "metadata": {},
     "output_type": "display_data"
    },
    {
     "data": {
      "application/vnd.plotly.v1+json": {
       "config": {
        "plotlyServerURL": "https://plot.ly"
       },
       "data": [
        {
         "hovertemplate": "mean_abs=%{x}<br>feature=%{y}<extra></extra>",
         "legendgroup": "",
         "marker": {
          "color": "#636efa",
          "pattern": {
           "shape": ""
          }
         },
         "name": "",
         "orientation": "h",
         "showlegend": false,
         "textposition": "auto",
         "type": "bar",
         "x": {
          "bdata": "n8pdzPNekz92l7m7dpmTP1L9ckEqaJQ/KlZjvtuulT+b3pWP8DmZP8xthGLeiZk/ygM+XgSzmj+s+KN3g2KdP6jIhOS8d54/ZgR/kNTInj8LwtxcazqfP6UrciZu2aA/Orb/c5uioj+qYVBPdPKjP1tNr47usKQ/VKnRBoHEpD9zu33XbL+lP6D8ul/ZEac/cuoqeheyqj+Jswgjd7mqPzVeCier76o/1MjyxTkCrD8zt6QVt/evP+9zAxxzFrA/azFhD/dwtD8dOxKKLoDFPwAR295FRck/X6bXaYyh0D/GoxfaK3XaP3iLphBRSek/",
          "dtype": "f8"
         },
         "xaxis": "x",
         "y": [
          "avg_raid_viewers_per_hr_last_14",
          "tag::chill",
          "avg_avg_sentiment_score_last_3",
          "avg_start_time_hour_last_7",
          "avg_bits_per_hour_last_14",
          "avg_unique_viewers_last_14",
          "game_category",
          "avg_chats_per_hour_last_14",
          "avg_raid_viewers_per_viewer_last_14",
          "avg_donations_per_100_viewers_last_3",
          "avg_follows_per_hour_last_3",
          "days_since_previous_stream",
          "avg_subs_per_hour_last_14",
          "avg_net_follower_change_last_14",
          "avg_chats_per_viewer_last_14",
          "avg_total_emotes_used_last_14",
          "avg_unique_viewers_last_3",
          "avg_follows_per_hour_last_7",
          "avg_chats_per_hour_last_3",
          "avg_chats_per_viewer_last_3",
          "avg_unique_viewers_last_7",
          "avg_subs_per_hour_last_3",
          "avg_start_time_hour_last_14",
          "stream_duration",
          "avg_chats_per_viewer_last_7",
          "avg_peak_concurrent_viewers_last_14",
          "avg_chats_per_hour_last_7",
          "avg_peak_concurrent_viewers_last_7",
          "avg_peak_concurrent_viewers_last_1",
          "avg_peak_concurrent_viewers_last_3"
         ],
         "yaxis": "y"
        }
       ],
       "layout": {
        "barmode": "relative",
        "legend": {
         "tracegroupgap": 0
        },
        "template": {
         "data": {
          "bar": [
           {
            "error_x": {
             "color": "#2a3f5f"
            },
            "error_y": {
             "color": "#2a3f5f"
            },
            "marker": {
             "line": {
              "color": "#E5ECF6",
              "width": 0.5
             },
             "pattern": {
              "fillmode": "overlay",
              "size": 10,
              "solidity": 0.2
             }
            },
            "type": "bar"
           }
          ],
          "barpolar": [
           {
            "marker": {
             "line": {
              "color": "#E5ECF6",
              "width": 0.5
             },
             "pattern": {
              "fillmode": "overlay",
              "size": 10,
              "solidity": 0.2
             }
            },
            "type": "barpolar"
           }
          ],
          "carpet": [
           {
            "aaxis": {
             "endlinecolor": "#2a3f5f",
             "gridcolor": "white",
             "linecolor": "white",
             "minorgridcolor": "white",
             "startlinecolor": "#2a3f5f"
            },
            "baxis": {
             "endlinecolor": "#2a3f5f",
             "gridcolor": "white",
             "linecolor": "white",
             "minorgridcolor": "white",
             "startlinecolor": "#2a3f5f"
            },
            "type": "carpet"
           }
          ],
          "choropleth": [
           {
            "colorbar": {
             "outlinewidth": 0,
             "ticks": ""
            },
            "type": "choropleth"
           }
          ],
          "contour": [
           {
            "colorbar": {
             "outlinewidth": 0,
             "ticks": ""
            },
            "colorscale": [
             [
              0,
              "#0d0887"
             ],
             [
              0.1111111111111111,
              "#46039f"
             ],
             [
              0.2222222222222222,
              "#7201a8"
             ],
             [
              0.3333333333333333,
              "#9c179e"
             ],
             [
              0.4444444444444444,
              "#bd3786"
             ],
             [
              0.5555555555555556,
              "#d8576b"
             ],
             [
              0.6666666666666666,
              "#ed7953"
             ],
             [
              0.7777777777777778,
              "#fb9f3a"
             ],
             [
              0.8888888888888888,
              "#fdca26"
             ],
             [
              1,
              "#f0f921"
             ]
            ],
            "type": "contour"
           }
          ],
          "contourcarpet": [
           {
            "colorbar": {
             "outlinewidth": 0,
             "ticks": ""
            },
            "type": "contourcarpet"
           }
          ],
          "heatmap": [
           {
            "colorbar": {
             "outlinewidth": 0,
             "ticks": ""
            },
            "colorscale": [
             [
              0,
              "#0d0887"
             ],
             [
              0.1111111111111111,
              "#46039f"
             ],
             [
              0.2222222222222222,
              "#7201a8"
             ],
             [
              0.3333333333333333,
              "#9c179e"
             ],
             [
              0.4444444444444444,
              "#bd3786"
             ],
             [
              0.5555555555555556,
              "#d8576b"
             ],
             [
              0.6666666666666666,
              "#ed7953"
             ],
             [
              0.7777777777777778,
              "#fb9f3a"
             ],
             [
              0.8888888888888888,
              "#fdca26"
             ],
             [
              1,
              "#f0f921"
             ]
            ],
            "type": "heatmap"
           }
          ],
          "histogram": [
           {
            "marker": {
             "pattern": {
              "fillmode": "overlay",
              "size": 10,
              "solidity": 0.2
             }
            },
            "type": "histogram"
           }
          ],
          "histogram2d": [
           {
            "colorbar": {
             "outlinewidth": 0,
             "ticks": ""
            },
            "colorscale": [
             [
              0,
              "#0d0887"
             ],
             [
              0.1111111111111111,
              "#46039f"
             ],
             [
              0.2222222222222222,
              "#7201a8"
             ],
             [
              0.3333333333333333,
              "#9c179e"
             ],
             [
              0.4444444444444444,
              "#bd3786"
             ],
             [
              0.5555555555555556,
              "#d8576b"
             ],
             [
              0.6666666666666666,
              "#ed7953"
             ],
             [
              0.7777777777777778,
              "#fb9f3a"
             ],
             [
              0.8888888888888888,
              "#fdca26"
             ],
             [
              1,
              "#f0f921"
             ]
            ],
            "type": "histogram2d"
           }
          ],
          "histogram2dcontour": [
           {
            "colorbar": {
             "outlinewidth": 0,
             "ticks": ""
            },
            "colorscale": [
             [
              0,
              "#0d0887"
             ],
             [
              0.1111111111111111,
              "#46039f"
             ],
             [
              0.2222222222222222,
              "#7201a8"
             ],
             [
              0.3333333333333333,
              "#9c179e"
             ],
             [
              0.4444444444444444,
              "#bd3786"
             ],
             [
              0.5555555555555556,
              "#d8576b"
             ],
             [
              0.6666666666666666,
              "#ed7953"
             ],
             [
              0.7777777777777778,
              "#fb9f3a"
             ],
             [
              0.8888888888888888,
              "#fdca26"
             ],
             [
              1,
              "#f0f921"
             ]
            ],
            "type": "histogram2dcontour"
           }
          ],
          "mesh3d": [
           {
            "colorbar": {
             "outlinewidth": 0,
             "ticks": ""
            },
            "type": "mesh3d"
           }
          ],
          "parcoords": [
           {
            "line": {
             "colorbar": {
              "outlinewidth": 0,
              "ticks": ""
             }
            },
            "type": "parcoords"
           }
          ],
          "pie": [
           {
            "automargin": true,
            "type": "pie"
           }
          ],
          "scatter": [
           {
            "fillpattern": {
             "fillmode": "overlay",
             "size": 10,
             "solidity": 0.2
            },
            "type": "scatter"
           }
          ],
          "scatter3d": [
           {
            "line": {
             "colorbar": {
              "outlinewidth": 0,
              "ticks": ""
             }
            },
            "marker": {
             "colorbar": {
              "outlinewidth": 0,
              "ticks": ""
             }
            },
            "type": "scatter3d"
           }
          ],
          "scattercarpet": [
           {
            "marker": {
             "colorbar": {
              "outlinewidth": 0,
              "ticks": ""
             }
            },
            "type": "scattercarpet"
           }
          ],
          "scattergeo": [
           {
            "marker": {
             "colorbar": {
              "outlinewidth": 0,
              "ticks": ""
             }
            },
            "type": "scattergeo"
           }
          ],
          "scattergl": [
           {
            "marker": {
             "colorbar": {
              "outlinewidth": 0,
              "ticks": ""
             }
            },
            "type": "scattergl"
           }
          ],
          "scattermap": [
           {
            "marker": {
             "colorbar": {
              "outlinewidth": 0,
              "ticks": ""
             }
            },
            "type": "scattermap"
           }
          ],
          "scattermapbox": [
           {
            "marker": {
             "colorbar": {
              "outlinewidth": 0,
              "ticks": ""
             }
            },
            "type": "scattermapbox"
           }
          ],
          "scatterpolar": [
           {
            "marker": {
             "colorbar": {
              "outlinewidth": 0,
              "ticks": ""
             }
            },
            "type": "scatterpolar"
           }
          ],
          "scatterpolargl": [
           {
            "marker": {
             "colorbar": {
              "outlinewidth": 0,
              "ticks": ""
             }
            },
            "type": "scatterpolargl"
           }
          ],
          "scatterternary": [
           {
            "marker": {
             "colorbar": {
              "outlinewidth": 0,
              "ticks": ""
             }
            },
            "type": "scatterternary"
           }
          ],
          "surface": [
           {
            "colorbar": {
             "outlinewidth": 0,
             "ticks": ""
            },
            "colorscale": [
             [
              0,
              "#0d0887"
             ],
             [
              0.1111111111111111,
              "#46039f"
             ],
             [
              0.2222222222222222,
              "#7201a8"
             ],
             [
              0.3333333333333333,
              "#9c179e"
             ],
             [
              0.4444444444444444,
              "#bd3786"
             ],
             [
              0.5555555555555556,
              "#d8576b"
             ],
             [
              0.6666666666666666,
              "#ed7953"
             ],
             [
              0.7777777777777778,
              "#fb9f3a"
             ],
             [
              0.8888888888888888,
              "#fdca26"
             ],
             [
              1,
              "#f0f921"
             ]
            ],
            "type": "surface"
           }
          ],
          "table": [
           {
            "cells": {
             "fill": {
              "color": "#EBF0F8"
             },
             "line": {
              "color": "white"
             }
            },
            "header": {
             "fill": {
              "color": "#C8D4E3"
             },
             "line": {
              "color": "white"
             }
            },
            "type": "table"
           }
          ]
         },
         "layout": {
          "annotationdefaults": {
           "arrowcolor": "#2a3f5f",
           "arrowhead": 0,
           "arrowwidth": 1
          },
          "autotypenumbers": "strict",
          "coloraxis": {
           "colorbar": {
            "outlinewidth": 0,
            "ticks": ""
           }
          },
          "colorscale": {
           "diverging": [
            [
             0,
             "#8e0152"
            ],
            [
             0.1,
             "#c51b7d"
            ],
            [
             0.2,
             "#de77ae"
            ],
            [
             0.3,
             "#f1b6da"
            ],
            [
             0.4,
             "#fde0ef"
            ],
            [
             0.5,
             "#f7f7f7"
            ],
            [
             0.6,
             "#e6f5d0"
            ],
            [
             0.7,
             "#b8e186"
            ],
            [
             0.8,
             "#7fbc41"
            ],
            [
             0.9,
             "#4d9221"
            ],
            [
             1,
             "#276419"
            ]
           ],
           "sequential": [
            [
             0,
             "#0d0887"
            ],
            [
             0.1111111111111111,
             "#46039f"
            ],
            [
             0.2222222222222222,
             "#7201a8"
            ],
            [
             0.3333333333333333,
             "#9c179e"
            ],
            [
             0.4444444444444444,
             "#bd3786"
            ],
            [
             0.5555555555555556,
             "#d8576b"
            ],
            [
             0.6666666666666666,
             "#ed7953"
            ],
            [
             0.7777777777777778,
             "#fb9f3a"
            ],
            [
             0.8888888888888888,
             "#fdca26"
            ],
            [
             1,
             "#f0f921"
            ]
           ],
           "sequentialminus": [
            [
             0,
             "#0d0887"
            ],
            [
             0.1111111111111111,
             "#46039f"
            ],
            [
             0.2222222222222222,
             "#7201a8"
            ],
            [
             0.3333333333333333,
             "#9c179e"
            ],
            [
             0.4444444444444444,
             "#bd3786"
            ],
            [
             0.5555555555555556,
             "#d8576b"
            ],
            [
             0.6666666666666666,
             "#ed7953"
            ],
            [
             0.7777777777777778,
             "#fb9f3a"
            ],
            [
             0.8888888888888888,
             "#fdca26"
            ],
            [
             1,
             "#f0f921"
            ]
           ]
          },
          "colorway": [
           "#636efa",
           "#EF553B",
           "#00cc96",
           "#ab63fa",
           "#FFA15A",
           "#19d3f3",
           "#FF6692",
           "#B6E880",
           "#FF97FF",
           "#FECB52"
          ],
          "font": {
           "color": "#2a3f5f"
          },
          "geo": {
           "bgcolor": "white",
           "lakecolor": "white",
           "landcolor": "#E5ECF6",
           "showlakes": true,
           "showland": true,
           "subunitcolor": "white"
          },
          "hoverlabel": {
           "align": "left"
          },
          "hovermode": "closest",
          "mapbox": {
           "style": "light"
          },
          "paper_bgcolor": "white",
          "plot_bgcolor": "#E5ECF6",
          "polar": {
           "angularaxis": {
            "gridcolor": "white",
            "linecolor": "white",
            "ticks": ""
           },
           "bgcolor": "#E5ECF6",
           "radialaxis": {
            "gridcolor": "white",
            "linecolor": "white",
            "ticks": ""
           }
          },
          "scene": {
           "xaxis": {
            "backgroundcolor": "#E5ECF6",
            "gridcolor": "white",
            "gridwidth": 2,
            "linecolor": "white",
            "showbackground": true,
            "ticks": "",
            "zerolinecolor": "white"
           },
           "yaxis": {
            "backgroundcolor": "#E5ECF6",
            "gridcolor": "white",
            "gridwidth": 2,
            "linecolor": "white",
            "showbackground": true,
            "ticks": "",
            "zerolinecolor": "white"
           },
           "zaxis": {
            "backgroundcolor": "#E5ECF6",
            "gridcolor": "white",
            "gridwidth": 2,
            "linecolor": "white",
            "showbackground": true,
            "ticks": "",
            "zerolinecolor": "white"
           }
          },
          "shapedefaults": {
           "line": {
            "color": "#2a3f5f"
           }
          },
          "ternary": {
           "aaxis": {
            "gridcolor": "white",
            "linecolor": "white",
            "ticks": ""
           },
           "baxis": {
            "gridcolor": "white",
            "linecolor": "white",
            "ticks": ""
           },
           "bgcolor": "#E5ECF6",
           "caxis": {
            "gridcolor": "white",
            "linecolor": "white",
            "ticks": ""
           }
          },
          "title": {
           "x": 0.05
          },
          "xaxis": {
           "automargin": true,
           "gridcolor": "white",
           "linecolor": "white",
           "ticks": "",
           "title": {
            "standoff": 15
           },
           "zerolinecolor": "white",
           "zerolinewidth": 2
          },
          "yaxis": {
           "automargin": true,
           "gridcolor": "white",
           "linecolor": "white",
           "ticks": "",
           "title": {
            "standoff": 15
           },
           "zerolinecolor": "white",
           "zerolinewidth": 2
          }
         }
        },
        "title": {
         "text": "Global SHAP Importance — model_1"
        },
        "xaxis": {
         "anchor": "y",
         "domain": [
          0,
          1
         ],
         "title": {
          "text": "mean_abs"
         }
        },
        "yaxis": {
         "anchor": "x",
         "categoryorder": "total descending",
         "domain": [
          0,
          1
         ],
         "title": {
          "text": "feature"
         }
        }
       }
      }
     },
     "metadata": {},
     "output_type": "display_data"
    },
    {
     "data": {
      "application/vnd.plotly.v1+json": {
       "config": {
        "plotlyServerURL": "https://plot.ly"
       },
       "data": [
        {
         "mode": "markers",
         "name": "samples",
         "opacity": 0.35,
         "type": "scatter",
         "x": {
          "bdata": "AAAAAAAANEAAAAAAAAA3QAAAAAAAABhAAAAAAAAALkAAAAAAAADwPwAAAAAAAAAAAAAAAAAAKkAAAAAAAAAzQAAAAAAAAAhAAAAAAAAAKkAAAAAAAAA2QAAAAAAAAC5AAAAAAAAAAEAAAAAAAAAzQAAAAAAAADdAAAAAAAAAMEAAAAAAAAA2QAAAAAAAADdAAAAAAAAAN0AAAAAAAAA1QAAAAAAAADVAAAAAAAAAKEAAAAAAAAA0QAAAAAAAADdAAAAAAAAAIkAAAAAAAAAuQAAAAAAAADZAAAAAAAAANUAAAAAAAAAkQAAAAAAAADdAAAAAAAAANkAAAAAAAAA0QAAAAAAAACpAAAAAAAAANEAAAAAAAAA1QAAAAAAAADNAAAAAAAAAAAAAAAAAAAAgQAAAAAAAACxAAAAAAAAANUAAAAAAAAAcQAAAAAAAACxAAAAAAAAAJEAAAAAAAAAuQAAAAAAAADBAAAAAAAAAM0AAAAAAAAAkQAAAAAAAACBAAAAAAAAAHEAAAAAAAADwPwAAAAAAADBAAAAAAAAANUAAAAAAAAAqQAAAAAAAADRAAAAAAAAANUAAAAAAAAA2QAAAAAAAADZAAAAAAAAA8D8AAAAAAAAiQAAAAAAAACZAAAAAAAAAJEAAAAAAAAAgQAAAAAAAACpAAAAAAAAAM0AAAAAAAAAuQAAAAAAAACBAAAAAAAAAMEAAAAAAAAA0QAAAAAAAADRAAAAAAAAAJEAAAAAAAAAoQAAAAAAAADNAAAAAAAAALEAAAAAAAAA0QAAAAAAAAChAAAAAAAAANEAAAAAAAAA1QAAAAAAAAChAAAAAAAAA8D8AAAAAAAAwQAAAAAAAAAAAAAAAAAAAMkAAAAAAAAAqQAAAAAAAADNAAAAAAAAAIkAAAAAAAAA3QAAAAAAAACpAAAAAAAAAM0AAAAAAAAA1QAAAAAAAABBAAAAAAAAAJEAAAAAAAAA3QAAAAAAAADdAAAAAAAAANUAAAAAAAAA3QAAAAAAAADNAAAAAAAAAIEAAAAAAAAAsQAAAAAAAAChAAAAAAAAAM0AAAAAAAAA0QAAAAAAAADVAAAAAAAAAN0AAAAAAAAA2QAAAAAAAACZAAAAAAAAANUAAAAAAAAAuQAAAAAAAADRAAAAAAAAAN0AAAAAAAAA3QAAAAAAAACBAAAAAAAAAJkAAAAAAAAA3QAAAAAAAAC5AAAAAAAAAN0AAAAAAAAA3QAAAAAAAADZAAAAAAAAAIEAAAAAAAAA2QAAAAAAAADVAAAAAAAAAMUAAAAAAAAA1QAAAAAAAACBAAAAAAAAANUAAAAAAAAAmQAAAAAAAACpAAAAAAAAAM0AAAAAAAAAyQAAAAAAAADZAAAAAAAAANUAAAAAAAAA2QAAAAAAAACpAAAAAAAAALkAAAAAAAAAuQAAAAAAAADJAAAAAAAAAAAAAAAAAAAAqQAAAAAAAACpAAAAAAAAANkAAAAAAAAAkQAAAAAAAAC5AAAAAAAAANkAAAAAAAAAoQAAAAAAAADdAAAAAAAAALkAAAAAAAAAQQAAAAAAAACBAAAAAAAAANEAAAAAAAAA0QAAAAAAAADVAAAAAAAAAIEAAAAAAAAAmQAAAAAAAADJAAAAAAAAAKkAAAAAAAAA2QAAAAAAAADNAAAAAAAAANUAAAAAAAAAqQAAAAAAAADdAAAAAAAAANkAAAAAAAAA3QAAAAAAAADRAAAAAAAAAAAAAAAAAAAA2QAAAAAAAADVAAAAAAAAAKkAAAAAAAAAoQAAAAAAAADdAAAAAAAAAKkAAAAAAAADwPwAAAAAAADZAAAAAAAAAMEAAAAAAAAA0QAAAAAAAACxAAAAAAAAAJEAAAAAAAAAcQAAAAAAAADdAAAAAAAAAKkAAAAAAAAAgQAAAAAAAADNAAAAAAAAANUAAAAAAAAAzQAAAAAAAAC5AAAAAAAAAKEAAAAAAAAAoQAAAAAAAACBAAAAAAAAAAAAAAAAAAAAqQAAAAAAAAChAAAAAAAAA8D8AAAAAAAA1QAAAAAAAAC5AAAAAAAAANUAAAAAAAAAuQAAAAAAAAPA/AAAAAAAAM0AAAAAAAAA1QAAAAAAAADRAAAAAAAAANkAAAAAAAAAIQAAAAAAAADJAAAAAAAAAKEAAAAAAAAAmQAAAAAAAACRAAAAAAAAANEAAAAAAAAAgQAAAAAAAADZAAAAAAAAAJEAAAAAAAAAoQAAAAAAAADVAAAAAAAAALEAAAAAAAAAyQAAAAAAAADNAAAAAAAAAIkAAAAAAAAAzQAAAAAAAACJAAAAAAAAALkAAAAAAAAAyQAAAAAAAADZAAAAAAAAAMEAAAAAAAAA1QAAAAAAAADBAAAAAAAAAN0AAAAAAAAAzQAAAAAAAADVAAAAAAAAANkAAAAAAAAAmQAAAAAAAACJAAAAAAAAANkAAAAAAAADwPwAAAAAAADRAAAAAAAAAN0AAAAAAAAAqQAAAAAAAAAAAAAAAAAAAM0AAAAAAAAAuQAAAAAAAACJAAAAAAAAAN0AAAAAAAAA1QAAAAAAAACZAAAAAAAAAIEAAAAAAAAA1QAAAAAAAAC5AAAAAAAAANkAAAAAAAAAzQAAAAAAAADVAAAAAAAAAAAAAAAAAAAAgQAAAAAAAADVAAAAAAAAAIEAAAAAAAAA1QAAAAAAAACRAAAAAAAAANUAAAAAAAAA0QAAAAAAAADBAAAAAAAAANEAAAAAAAAA2QAAAAAAAADRAAAAAAAAAN0AAAAAAAAAoQAAAAAAAACZAAAAAAAAAKkAAAAAAAADwPwAAAAAAABxAAAAAAAAAM0AAAAAAAAAgQAAAAAAAACBAAAAAAAAANUAAAAAAAAAkQAAAAAAAADVAAAAAAAAAMkAAAAAAAAAzQAAAAAAAADVAAAAAAAAANEAAAAAAAAA2QAAAAAAAACxAAAAAAAAAGEAAAAAAAAAiQAAAAAAAACJAAAAAAAAAMkAAAAAAAAAsQAAAAAAAACBAAAAAAAAAJkAAAAAAAAAqQAAAAAAAADVAAAAAAAAAIEAAAAAAAAAzQAAAAAAAADdAAAAAAAAANkAAAAAAAAAuQAAAAAAAAAAAAAAAAAAAIEAAAAAAAAAqQAAAAAAAADdAAAAAAAAANkAAAAAAAAA0QAAAAAAAADZAAAAAAAAANEAAAAAAAAAAAAAAAAAAADVAAAAAAAAAKkAAAAAAAAAmQAAAAAAAAChAAAAAAAAAN0AAAAAAAAAqQAAAAAAAADdAAAAAAAAALkAAAAAAAAAmQAAAAAAAADRAAAAAAAAANUAAAAAAAAA1QAAAAAAAADNAAAAAAAAAJEAAAAAAAAAqQAAAAAAAADRAAAAAAAAANkAAAAAAAAA1QAAAAAAAADVAAAAAAAAAMkAAAAAAAAAxQAAAAAAAADRAAAAAAAAANkAAAAAAAAA2QAAAAAAAACZAAAAAAAAANEAAAAAAAAAxQAAAAAAAADJAAAAAAAAAN0AAAAAAAAAqQAAAAAAAAPA/AAAAAAAANUAAAAAAAAA1QAAAAAAAABxAAAAAAAAAMkAAAAAAAAAqQAAAAAAAACRAAAAAAAAAKkAAAAAAAAAqQAAAAAAAAC5AAAAAAAAAIEAAAAAAAAA3QAAAAAAAACZAAAAAAAAALEAAAAAAAADwPwAAAAAAADJAAAAAAAAAFEAAAAAAAAAuQAAAAAAAADdAAAAAAAAAM0AAAAAAAAA1QAAAAAAAAAAAAAAAAAAAKkAAAAAAAAAkQAAAAAAAADBAAAAAAAAAAAAAAAAAAAAqQAAAAAAAADNAAAAAAAAAN0AAAAAAAAA1QAAAAAAAADZAAAAAAAAANkAAAAAAAAAuQAAAAAAAADdAAAAAAAAANUAAAAAAAAAcQAAAAAAAADVAAAAAAAAAN0AAAAAAAAAkQAAAAAAAADdAAAAAAAAANEAAAAAAAAAoQAAAAAAAACBAAAAAAAAAJEAAAAAAAAA1QAAAAAAAABxAAAAAAAAAIkAAAAAAAAAsQAAAAAAAAC5AAAAAAAAANEAAAAAAAAAgQAAAAAAAADZAAAAAAAAAIEAAAAAAAAAyQAAAAAAAADZAAAAAAAAANUAAAAAAAAA0QAAAAAAAACpAAAAAAAAANUAAAAAAAAA0QAAAAAAAACJAAAAAAAAALEAAAAAAAAAkQAAAAAAAADZAAAAAAAAANUAAAAAAAAAwQAAAAAAAACBAAAAAAAAAHEAAAAAAAAA0QAAAAAAAADVAAAAAAAAAN0AAAAAAAAAzQAAAAAAAADVAAAAAAAAAJkAAAAAAAAA1QAAAAAAAADVAAAAAAAAAJkAAAAAAAAA2QAAAAAAAACBAAAAAAAAAMUAAAAAAAAAYQAAAAAAAABRAAAAAAAAANUAAAAAAAAA1QAAAAAAAABhAAAAAAAAAKkAAAAAAAAA0QAAAAAAAADBAAAAAAAAAJkAAAAAAAAAuQAAAAAAAAC5AAAAAAAAAIEAAAAAAAAA1QAAAAAAAADZAAAAAAAAANUAAAAAAAAAgQAAAAAAAADVAAAAAAAAAM0AAAAAAAAAuQAAAAAAAAC5AAAAAAAAAM0AAAAAAAAAwQAAAAAAAADRAAAAAAAAAM0AAAAAAAAAiQAAAAAAAACxAAAAAAAAALkAAAAAAAAAuQAAAAAAAADJAAAAAAAAAN0AAAAAAAAAYQAAAAAAAACBAAAAAAAAAM0AAAAAAAAA2QAAAAAAAACBAAAAAAAAANkAAAAAAAAA2QAAAAAAAADVAAAAAAAAALkAAAAAAAAA3QAAAAAAAADNAAAAAAAAAHEAAAAAAAAA2QAAAAAAAADRAAAAAAAAAN0AAAAAAAAAwQAAAAAAAADNAAAAAAAAAIEAAAAAAAAA1QAAAAAAAADdAAAAAAAAAGEAAAAAAAAA3QAAAAAAAADNAAAAAAAAAKkAAAAAAAAA1QAAAAAAAAChAAAAAAAAAM0AAAAAAAAAgQAAAAAAAABhAAAAAAAAANUAAAAAAAAA1QAAAAAAAACZAAAAAAAAAJkAAAAAAAADwPwAAAAAAACpAAAAAAAAANUAAAAAAAAA1QAAAAAAAADVAAAAAAAAA8D8AAAAAAAA1QAAAAAAAACBAAAAAAAAAIkAAAAAAAAAAAAAAAAAAAChAAAAAAAAAHEAAAAAAAAAqQAAAAAAAACJAAAAAAAAAIEAAAAAAAAA2QAAAAAAAADdAAAAAAAAAN0AAAAAAAAAyQAAAAAAAADRAAAAAAAAAKkAAAAAAAAA3QAAAAAAAADdAAAAAAAAAHEAAAAAAAAAqQAAAAAAAADNAAAAAAAAAIEAAAAAAAAAgQAAAAAAAABRAAAAAAAAANkAAAAAAAAA1QAAAAAAAAAAAAAAAAAAAKkAAAAAAAAA1QAAAAAAAADBAAAAAAAAANkAAAAAAAAA2QAAAAAAAADBAAAAAAAAAAAAAAAAAAAA2QAAAAAAAABxAAAAAAAAALkAAAAAAAAA1QAAAAAAAADZAAAAAAAAANEAAAAAAAAAYQAAAAAAAACBAAAAAAAAALEAAAAAAAAAuQAAAAAAAADVAAAAAAAAANkAAAAAAAAAkQAAAAAAAAAAAAAAAAAAANkAAAAAAAAAsQAAAAAAAADdAAAAAAAAALkA=",
          "dtype": "f8"
         },
         "y": {
          "bdata": "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",
          "dtype": "f8"
         }
        },
        {
         "mode": "lines+markers",
         "name": "mean by hour",
         "type": "scatter",
         "x": {
          "bdata": "AAAAAAAAAAAAAAAAAADwPwAAAAAAAABAAAAAAAAACEAAAAAAAAAQQAAAAAAAABRAAAAAAAAAGEAAAAAAAAAcQAAAAAAAACBAAAAAAAAAIkAAAAAAAAAkQAAAAAAAACZAAAAAAAAAKEAAAAAAAAAqQAAAAAAAACxAAAAAAAAALkAAAAAAAAAwQAAAAAAAADFAAAAAAAAAMkAAAAAAAAAzQAAAAAAAADRAAAAAAAAANUAAAAAAAAA2QAAAAAAAADdA",
          "dtype": "f8"
         },
         "y": {
          "bdata": "j8L0X63PYD9edZvPFHFdvxSueYUMOGO/cD1uvyv8er/NTIOBA+JiPzMzE1oeMDG/JIXtnxaTJb8ULnV6RtFjvwtxDdgX14U/f+eBsK+0dz/held0gSt5P0BrKZ86zmg/0DYXJ/pkaz87qbwa225LvwYED9Xrg3u/AEl8FAnvcL89YkPSmANxv+K6W8SgF2K/Cmdzl9DGZL/mhuUebxt5v4N3oagpxWm/pQtNIb5TbL94i9bFyU1lPxIb/T7+7I4/",
          "dtype": "f8"
         }
        }
       ],
       "layout": {
        "template": {
         "data": {
          "bar": [
           {
            "error_x": {
             "color": "rgb(36,36,36)"
            },
            "error_y": {
             "color": "rgb(36,36,36)"
            },
            "marker": {
             "line": {
              "color": "white",
              "width": 0.5
             },
             "pattern": {
              "fillmode": "overlay",
              "size": 10,
              "solidity": 0.2
             }
            },
            "type": "bar"
           }
          ],
          "barpolar": [
           {
            "marker": {
             "line": {
              "color": "white",
              "width": 0.5
             },
             "pattern": {
              "fillmode": "overlay",
              "size": 10,
              "solidity": 0.2
             }
            },
            "type": "barpolar"
           }
          ],
          "carpet": [
           {
            "aaxis": {
             "endlinecolor": "rgb(36,36,36)",
             "gridcolor": "white",
             "linecolor": "white",
             "minorgridcolor": "white",
             "startlinecolor": "rgb(36,36,36)"
            },
            "baxis": {
             "endlinecolor": "rgb(36,36,36)",
             "gridcolor": "white",
             "linecolor": "white",
             "minorgridcolor": "white",
             "startlinecolor": "rgb(36,36,36)"
            },
            "type": "carpet"
           }
          ],
          "choropleth": [
           {
            "colorbar": {
             "outlinewidth": 1,
             "tickcolor": "rgb(36,36,36)",
             "ticks": "outside"
            },
            "type": "choropleth"
           }
          ],
          "contour": [
           {
            "colorbar": {
             "outlinewidth": 1,
             "tickcolor": "rgb(36,36,36)",
             "ticks": "outside"
            },
            "colorscale": [
             [
              0,
              "#440154"
             ],
             [
              0.1111111111111111,
              "#482878"
             ],
             [
              0.2222222222222222,
              "#3e4989"
             ],
             [
              0.3333333333333333,
              "#31688e"
             ],
             [
              0.4444444444444444,
              "#26828e"
             ],
             [
              0.5555555555555556,
              "#1f9e89"
             ],
             [
              0.6666666666666666,
              "#35b779"
             ],
             [
              0.7777777777777778,
              "#6ece58"
             ],
             [
              0.8888888888888888,
              "#b5de2b"
             ],
             [
              1,
              "#fde725"
             ]
            ],
            "type": "contour"
           }
          ],
          "contourcarpet": [
           {
            "colorbar": {
             "outlinewidth": 1,
             "tickcolor": "rgb(36,36,36)",
             "ticks": "outside"
            },
            "type": "contourcarpet"
           }
          ],
          "heatmap": [
           {
            "colorbar": {
             "outlinewidth": 1,
             "tickcolor": "rgb(36,36,36)",
             "ticks": "outside"
            },
            "colorscale": [
             [
              0,
              "#440154"
             ],
             [
              0.1111111111111111,
              "#482878"
             ],
             [
              0.2222222222222222,
              "#3e4989"
             ],
             [
              0.3333333333333333,
              "#31688e"
             ],
             [
              0.4444444444444444,
              "#26828e"
             ],
             [
              0.5555555555555556,
              "#1f9e89"
             ],
             [
              0.6666666666666666,
              "#35b779"
             ],
             [
              0.7777777777777778,
              "#6ece58"
             ],
             [
              0.8888888888888888,
              "#b5de2b"
             ],
             [
              1,
              "#fde725"
             ]
            ],
            "type": "heatmap"
           }
          ],
          "histogram": [
           {
            "marker": {
             "line": {
              "color": "white",
              "width": 0.6
             }
            },
            "type": "histogram"
           }
          ],
          "histogram2d": [
           {
            "colorbar": {
             "outlinewidth": 1,
             "tickcolor": "rgb(36,36,36)",
             "ticks": "outside"
            },
            "colorscale": [
             [
              0,
              "#440154"
             ],
             [
              0.1111111111111111,
              "#482878"
             ],
             [
              0.2222222222222222,
              "#3e4989"
             ],
             [
              0.3333333333333333,
              "#31688e"
             ],
             [
              0.4444444444444444,
              "#26828e"
             ],
             [
              0.5555555555555556,
              "#1f9e89"
             ],
             [
              0.6666666666666666,
              "#35b779"
             ],
             [
              0.7777777777777778,
              "#6ece58"
             ],
             [
              0.8888888888888888,
              "#b5de2b"
             ],
             [
              1,
              "#fde725"
             ]
            ],
            "type": "histogram2d"
           }
          ],
          "histogram2dcontour": [
           {
            "colorbar": {
             "outlinewidth": 1,
             "tickcolor": "rgb(36,36,36)",
             "ticks": "outside"
            },
            "colorscale": [
             [
              0,
              "#440154"
             ],
             [
              0.1111111111111111,
              "#482878"
             ],
             [
              0.2222222222222222,
              "#3e4989"
             ],
             [
              0.3333333333333333,
              "#31688e"
             ],
             [
              0.4444444444444444,
              "#26828e"
             ],
             [
              0.5555555555555556,
              "#1f9e89"
             ],
             [
              0.6666666666666666,
              "#35b779"
             ],
             [
              0.7777777777777778,
              "#6ece58"
             ],
             [
              0.8888888888888888,
              "#b5de2b"
             ],
             [
              1,
              "#fde725"
             ]
            ],
            "type": "histogram2dcontour"
           }
          ],
          "mesh3d": [
           {
            "colorbar": {
             "outlinewidth": 1,
             "tickcolor": "rgb(36,36,36)",
             "ticks": "outside"
            },
            "type": "mesh3d"
           }
          ],
          "parcoords": [
           {
            "line": {
             "colorbar": {
              "outlinewidth": 1,
              "tickcolor": "rgb(36,36,36)",
              "ticks": "outside"
             }
            },
            "type": "parcoords"
           }
          ],
          "pie": [
           {
            "automargin": true,
            "type": "pie"
           }
          ],
          "scatter": [
           {
            "fillpattern": {
             "fillmode": "overlay",
             "size": 10,
             "solidity": 0.2
            },
            "type": "scatter"
           }
          ],
          "scatter3d": [
           {
            "line": {
             "colorbar": {
              "outlinewidth": 1,
              "tickcolor": "rgb(36,36,36)",
              "ticks": "outside"
             }
            },
            "marker": {
             "colorbar": {
              "outlinewidth": 1,
              "tickcolor": "rgb(36,36,36)",
              "ticks": "outside"
             }
            },
            "type": "scatter3d"
           }
          ],
          "scattercarpet": [
           {
            "marker": {
             "colorbar": {
              "outlinewidth": 1,
              "tickcolor": "rgb(36,36,36)",
              "ticks": "outside"
             }
            },
            "type": "scattercarpet"
           }
          ],
          "scattergeo": [
           {
            "marker": {
             "colorbar": {
              "outlinewidth": 1,
              "tickcolor": "rgb(36,36,36)",
              "ticks": "outside"
             }
            },
            "type": "scattergeo"
           }
          ],
          "scattergl": [
           {
            "marker": {
             "colorbar": {
              "outlinewidth": 1,
              "tickcolor": "rgb(36,36,36)",
              "ticks": "outside"
             }
            },
            "type": "scattergl"
           }
          ],
          "scattermap": [
           {
            "marker": {
             "colorbar": {
              "outlinewidth": 1,
              "tickcolor": "rgb(36,36,36)",
              "ticks": "outside"
             }
            },
            "type": "scattermap"
           }
          ],
          "scattermapbox": [
           {
            "marker": {
             "colorbar": {
              "outlinewidth": 1,
              "tickcolor": "rgb(36,36,36)",
              "ticks": "outside"
             }
            },
            "type": "scattermapbox"
           }
          ],
          "scatterpolar": [
           {
            "marker": {
             "colorbar": {
              "outlinewidth": 1,
              "tickcolor": "rgb(36,36,36)",
              "ticks": "outside"
             }
            },
            "type": "scatterpolar"
           }
          ],
          "scatterpolargl": [
           {
            "marker": {
             "colorbar": {
              "outlinewidth": 1,
              "tickcolor": "rgb(36,36,36)",
              "ticks": "outside"
             }
            },
            "type": "scatterpolargl"
           }
          ],
          "scatterternary": [
           {
            "marker": {
             "colorbar": {
              "outlinewidth": 1,
              "tickcolor": "rgb(36,36,36)",
              "ticks": "outside"
             }
            },
            "type": "scatterternary"
           }
          ],
          "surface": [
           {
            "colorbar": {
             "outlinewidth": 1,
             "tickcolor": "rgb(36,36,36)",
             "ticks": "outside"
            },
            "colorscale": [
             [
              0,
              "#440154"
             ],
             [
              0.1111111111111111,
              "#482878"
             ],
             [
              0.2222222222222222,
              "#3e4989"
             ],
             [
              0.3333333333333333,
              "#31688e"
             ],
             [
              0.4444444444444444,
              "#26828e"
             ],
             [
              0.5555555555555556,
              "#1f9e89"
             ],
             [
              0.6666666666666666,
              "#35b779"
             ],
             [
              0.7777777777777778,
              "#6ece58"
             ],
             [
              0.8888888888888888,
              "#b5de2b"
             ],
             [
              1,
              "#fde725"
             ]
            ],
            "type": "surface"
           }
          ],
          "table": [
           {
            "cells": {
             "fill": {
              "color": "rgb(237,237,237)"
             },
             "line": {
              "color": "white"
             }
            },
            "header": {
             "fill": {
              "color": "rgb(217,217,217)"
             },
             "line": {
              "color": "white"
             }
            },
            "type": "table"
           }
          ]
         },
         "layout": {
          "annotationdefaults": {
           "arrowhead": 0,
           "arrowwidth": 1
          },
          "autotypenumbers": "strict",
          "coloraxis": {
           "colorbar": {
            "outlinewidth": 1,
            "tickcolor": "rgb(36,36,36)",
            "ticks": "outside"
           }
          },
          "colorscale": {
           "diverging": [
            [
             0,
             "rgb(103,0,31)"
            ],
            [
             0.1,
             "rgb(178,24,43)"
            ],
            [
             0.2,
             "rgb(214,96,77)"
            ],
            [
             0.3,
             "rgb(244,165,130)"
            ],
            [
             0.4,
             "rgb(253,219,199)"
            ],
            [
             0.5,
             "rgb(247,247,247)"
            ],
            [
             0.6,
             "rgb(209,229,240)"
            ],
            [
             0.7,
             "rgb(146,197,222)"
            ],
            [
             0.8,
             "rgb(67,147,195)"
            ],
            [
             0.9,
             "rgb(33,102,172)"
            ],
            [
             1,
             "rgb(5,48,97)"
            ]
           ],
           "sequential": [
            [
             0,
             "#440154"
            ],
            [
             0.1111111111111111,
             "#482878"
            ],
            [
             0.2222222222222222,
             "#3e4989"
            ],
            [
             0.3333333333333333,
             "#31688e"
            ],
            [
             0.4444444444444444,
             "#26828e"
            ],
            [
             0.5555555555555556,
             "#1f9e89"
            ],
            [
             0.6666666666666666,
             "#35b779"
            ],
            [
             0.7777777777777778,
             "#6ece58"
            ],
            [
             0.8888888888888888,
             "#b5de2b"
            ],
            [
             1,
             "#fde725"
            ]
           ],
           "sequentialminus": [
            [
             0,
             "#440154"
            ],
            [
             0.1111111111111111,
             "#482878"
            ],
            [
             0.2222222222222222,
             "#3e4989"
            ],
            [
             0.3333333333333333,
             "#31688e"
            ],
            [
             0.4444444444444444,
             "#26828e"
            ],
            [
             0.5555555555555556,
             "#1f9e89"
            ],
            [
             0.6666666666666666,
             "#35b779"
            ],
            [
             0.7777777777777778,
             "#6ece58"
            ],
            [
             0.8888888888888888,
             "#b5de2b"
            ],
            [
             1,
             "#fde725"
            ]
           ]
          },
          "colorway": [
           "#1F77B4",
           "#FF7F0E",
           "#2CA02C",
           "#D62728",
           "#9467BD",
           "#8C564B",
           "#E377C2",
           "#7F7F7F",
           "#BCBD22",
           "#17BECF"
          ],
          "font": {
           "color": "rgb(36,36,36)"
          },
          "geo": {
           "bgcolor": "white",
           "lakecolor": "white",
           "landcolor": "white",
           "showlakes": true,
           "showland": true,
           "subunitcolor": "white"
          },
          "hoverlabel": {
           "align": "left"
          },
          "hovermode": "closest",
          "mapbox": {
           "style": "light"
          },
          "paper_bgcolor": "white",
          "plot_bgcolor": "white",
          "polar": {
           "angularaxis": {
            "gridcolor": "rgb(232,232,232)",
            "linecolor": "rgb(36,36,36)",
            "showgrid": false,
            "showline": true,
            "ticks": "outside"
           },
           "bgcolor": "white",
           "radialaxis": {
            "gridcolor": "rgb(232,232,232)",
            "linecolor": "rgb(36,36,36)",
            "showgrid": false,
            "showline": true,
            "ticks": "outside"
           }
          },
          "scene": {
           "xaxis": {
            "backgroundcolor": "white",
            "gridcolor": "rgb(232,232,232)",
            "gridwidth": 2,
            "linecolor": "rgb(36,36,36)",
            "showbackground": true,
            "showgrid": false,
            "showline": true,
            "ticks": "outside",
            "zeroline": false,
            "zerolinecolor": "rgb(36,36,36)"
           },
           "yaxis": {
            "backgroundcolor": "white",
            "gridcolor": "rgb(232,232,232)",
            "gridwidth": 2,
            "linecolor": "rgb(36,36,36)",
            "showbackground": true,
            "showgrid": false,
            "showline": true,
            "ticks": "outside",
            "zeroline": false,
            "zerolinecolor": "rgb(36,36,36)"
           },
           "zaxis": {
            "backgroundcolor": "white",
            "gridcolor": "rgb(232,232,232)",
            "gridwidth": 2,
            "linecolor": "rgb(36,36,36)",
            "showbackground": true,
            "showgrid": false,
            "showline": true,
            "ticks": "outside",
            "zeroline": false,
            "zerolinecolor": "rgb(36,36,36)"
           }
          },
          "shapedefaults": {
           "fillcolor": "black",
           "line": {
            "width": 0
           },
           "opacity": 0.3
          },
          "ternary": {
           "aaxis": {
            "gridcolor": "rgb(232,232,232)",
            "linecolor": "rgb(36,36,36)",
            "showgrid": false,
            "showline": true,
            "ticks": "outside"
           },
           "baxis": {
            "gridcolor": "rgb(232,232,232)",
            "linecolor": "rgb(36,36,36)",
            "showgrid": false,
            "showline": true,
            "ticks": "outside"
           },
           "bgcolor": "white",
           "caxis": {
            "gridcolor": "rgb(232,232,232)",
            "linecolor": "rgb(36,36,36)",
            "showgrid": false,
            "showline": true,
            "ticks": "outside"
           }
          },
          "title": {
           "x": 0.05
          },
          "xaxis": {
           "automargin": true,
           "gridcolor": "rgb(232,232,232)",
           "linecolor": "rgb(36,36,36)",
           "showgrid": false,
           "showline": true,
           "ticks": "outside",
           "title": {
            "standoff": 15
           },
           "zeroline": false,
           "zerolinecolor": "rgb(36,36,36)"
          },
          "yaxis": {
           "automargin": true,
           "gridcolor": "rgb(232,232,232)",
           "linecolor": "rgb(36,36,36)",
           "showgrid": false,
           "showline": true,
           "ticks": "outside",
           "title": {
            "standoff": 15
           },
           "zeroline": false,
           "zerolinecolor": "rgb(36,36,36)"
          }
         }
        },
        "title": {
         "text": "model_1 — SHAP Dependence: start_time_hour"
        },
        "xaxis": {
         "title": {
          "text": "Start hour (0–23)"
         }
        },
        "yaxis": {
         "title": {
          "text": "SHAP value (impact on prediction)"
         }
        }
       }
      }
     },
     "metadata": {},
     "output_type": "display_data"
    },
    {
     "data": {
      "application/vnd.plotly.v1+json": {
       "config": {
        "plotlyServerURL": "https://plot.ly"
       },
       "data": [
        {
         "mode": "markers",
         "name": "samples",
         "opacity": 0.35,
         "type": "scatter",
         "x": {
          "bdata": "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",
          "dtype": "f8"
         },
         "y": {
          "bdata": "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",
          "dtype": "f8"
         }
        },
        {
         "mode": "lines+markers",
         "name": "mean by duration bin",
         "type": "scatter",
         "x": {
          "bdata": "yzZfDrBs5z8TsEpSC/cCQOGJ3gie6A9ApM37FJcMFkCHcziHc7gcQG5I3obkbSFAwPqrv/orJEBjyS+W/GInQBzHcRzHcSpAx3Ecx3GcLUDNzMzMzEwwQAAAAAAAADJAvLu7u7s7M0BERERERMQ2QO/u7u7urjdA",
          "dtype": "f8"
         },
         "y": {
          "bdata": "iTmovolLuL/GXi01YxKGP3nPAWRY/54/wCU84kNzpD//cN6flVi0P97/baqqb7k/NYtNc0ZiwD9gqUi4cMDSPzBaxebCOsY/gZ6k8Gvpxj+FfRHac+TAPxT4YllQzNY/4QKDTD/XvT/DTYOpas3GP+F6WOBUtsA/",
          "dtype": "f8"
         }
        }
       ],
       "layout": {
        "template": {
         "data": {
          "bar": [
           {
            "error_x": {
             "color": "rgb(36,36,36)"
            },
            "error_y": {
             "color": "rgb(36,36,36)"
            },
            "marker": {
             "line": {
              "color": "white",
              "width": 0.5
             },
             "pattern": {
              "fillmode": "overlay",
              "size": 10,
              "solidity": 0.2
             }
            },
            "type": "bar"
           }
          ],
          "barpolar": [
           {
            "marker": {
             "line": {
              "color": "white",
              "width": 0.5
             },
             "pattern": {
              "fillmode": "overlay",
              "size": 10,
              "solidity": 0.2
             }
            },
            "type": "barpolar"
           }
          ],
          "carpet": [
           {
            "aaxis": {
             "endlinecolor": "rgb(36,36,36)",
             "gridcolor": "white",
             "linecolor": "white",
             "minorgridcolor": "white",
             "startlinecolor": "rgb(36,36,36)"
            },
            "baxis": {
             "endlinecolor": "rgb(36,36,36)",
             "gridcolor": "white",
             "linecolor": "white",
             "minorgridcolor": "white",
             "startlinecolor": "rgb(36,36,36)"
            },
            "type": "carpet"
           }
          ],
          "choropleth": [
           {
            "colorbar": {
             "outlinewidth": 1,
             "tickcolor": "rgb(36,36,36)",
             "ticks": "outside"
            },
            "type": "choropleth"
           }
          ],
          "contour": [
           {
            "colorbar": {
             "outlinewidth": 1,
             "tickcolor": "rgb(36,36,36)",
             "ticks": "outside"
            },
            "colorscale": [
             [
              0,
              "#440154"
             ],
             [
              0.1111111111111111,
              "#482878"
             ],
             [
              0.2222222222222222,
              "#3e4989"
             ],
             [
              0.3333333333333333,
              "#31688e"
             ],
             [
              0.4444444444444444,
              "#26828e"
             ],
             [
              0.5555555555555556,
              "#1f9e89"
             ],
             [
              0.6666666666666666,
              "#35b779"
             ],
             [
              0.7777777777777778,
              "#6ece58"
             ],
             [
              0.8888888888888888,
              "#b5de2b"
             ],
             [
              1,
              "#fde725"
             ]
            ],
            "type": "contour"
           }
          ],
          "contourcarpet": [
           {
            "colorbar": {
             "outlinewidth": 1,
             "tickcolor": "rgb(36,36,36)",
             "ticks": "outside"
            },
            "type": "contourcarpet"
           }
          ],
          "heatmap": [
           {
            "colorbar": {
             "outlinewidth": 1,
             "tickcolor": "rgb(36,36,36)",
             "ticks": "outside"
            },
            "colorscale": [
             [
              0,
              "#440154"
             ],
             [
              0.1111111111111111,
              "#482878"
             ],
             [
              0.2222222222222222,
              "#3e4989"
             ],
             [
              0.3333333333333333,
              "#31688e"
             ],
             [
              0.4444444444444444,
              "#26828e"
             ],
             [
              0.5555555555555556,
              "#1f9e89"
             ],
             [
              0.6666666666666666,
              "#35b779"
             ],
             [
              0.7777777777777778,
              "#6ece58"
             ],
             [
              0.8888888888888888,
              "#b5de2b"
             ],
             [
              1,
              "#fde725"
             ]
            ],
            "type": "heatmap"
           }
          ],
          "histogram": [
           {
            "marker": {
             "line": {
              "color": "white",
              "width": 0.6
             }
            },
            "type": "histogram"
           }
          ],
          "histogram2d": [
           {
            "colorbar": {
             "outlinewidth": 1,
             "tickcolor": "rgb(36,36,36)",
             "ticks": "outside"
            },
            "colorscale": [
             [
              0,
              "#440154"
             ],
             [
              0.1111111111111111,
              "#482878"
             ],
             [
              0.2222222222222222,
              "#3e4989"
             ],
             [
              0.3333333333333333,
              "#31688e"
             ],
             [
              0.4444444444444444,
              "#26828e"
             ],
             [
              0.5555555555555556,
              "#1f9e89"
             ],
             [
              0.6666666666666666,
              "#35b779"
             ],
             [
              0.7777777777777778,
              "#6ece58"
             ],
             [
              0.8888888888888888,
              "#b5de2b"
             ],
             [
              1,
              "#fde725"
             ]
            ],
            "type": "histogram2d"
           }
          ],
          "histogram2dcontour": [
           {
            "colorbar": {
             "outlinewidth": 1,
             "tickcolor": "rgb(36,36,36)",
             "ticks": "outside"
            },
            "colorscale": [
             [
              0,
              "#440154"
             ],
             [
              0.1111111111111111,
              "#482878"
             ],
             [
              0.2222222222222222,
              "#3e4989"
             ],
             [
              0.3333333333333333,
              "#31688e"
             ],
             [
              0.4444444444444444,
              "#26828e"
             ],
             [
              0.5555555555555556,
              "#1f9e89"
             ],
             [
              0.6666666666666666,
              "#35b779"
             ],
             [
              0.7777777777777778,
              "#6ece58"
             ],
             [
              0.8888888888888888,
              "#b5de2b"
             ],
             [
              1,
              "#fde725"
             ]
            ],
            "type": "histogram2dcontour"
           }
          ],
          "mesh3d": [
           {
            "colorbar": {
             "outlinewidth": 1,
             "tickcolor": "rgb(36,36,36)",
             "ticks": "outside"
            },
            "type": "mesh3d"
           }
          ],
          "parcoords": [
           {
            "line": {
             "colorbar": {
              "outlinewidth": 1,
              "tickcolor": "rgb(36,36,36)",
              "ticks": "outside"
             }
            },
            "type": "parcoords"
           }
          ],
          "pie": [
           {
            "automargin": true,
            "type": "pie"
           }
          ],
          "scatter": [
           {
            "fillpattern": {
             "fillmode": "overlay",
             "size": 10,
             "solidity": 0.2
            },
            "type": "scatter"
           }
          ],
          "scatter3d": [
           {
            "line": {
             "colorbar": {
              "outlinewidth": 1,
              "tickcolor": "rgb(36,36,36)",
              "ticks": "outside"
             }
            },
            "marker": {
             "colorbar": {
              "outlinewidth": 1,
              "tickcolor": "rgb(36,36,36)",
              "ticks": "outside"
             }
            },
            "type": "scatter3d"
           }
          ],
          "scattercarpet": [
           {
            "marker": {
             "colorbar": {
              "outlinewidth": 1,
              "tickcolor": "rgb(36,36,36)",
              "ticks": "outside"
             }
            },
            "type": "scattercarpet"
           }
          ],
          "scattergeo": [
           {
            "marker": {
             "colorbar": {
              "outlinewidth": 1,
              "tickcolor": "rgb(36,36,36)",
              "ticks": "outside"
             }
            },
            "type": "scattergeo"
           }
          ],
          "scattergl": [
           {
            "marker": {
             "colorbar": {
              "outlinewidth": 1,
              "tickcolor": "rgb(36,36,36)",
              "ticks": "outside"
             }
            },
            "type": "scattergl"
           }
          ],
          "scattermap": [
           {
            "marker": {
             "colorbar": {
              "outlinewidth": 1,
              "tickcolor": "rgb(36,36,36)",
              "ticks": "outside"
             }
            },
            "type": "scattermap"
           }
          ],
          "scattermapbox": [
           {
            "marker": {
             "colorbar": {
              "outlinewidth": 1,
              "tickcolor": "rgb(36,36,36)",
              "ticks": "outside"
             }
            },
            "type": "scattermapbox"
           }
          ],
          "scatterpolar": [
           {
            "marker": {
             "colorbar": {
              "outlinewidth": 1,
              "tickcolor": "rgb(36,36,36)",
              "ticks": "outside"
             }
            },
            "type": "scatterpolar"
           }
          ],
          "scatterpolargl": [
           {
            "marker": {
             "colorbar": {
              "outlinewidth": 1,
              "tickcolor": "rgb(36,36,36)",
              "ticks": "outside"
             }
            },
            "type": "scatterpolargl"
           }
          ],
          "scatterternary": [
           {
            "marker": {
             "colorbar": {
              "outlinewidth": 1,
              "tickcolor": "rgb(36,36,36)",
              "ticks": "outside"
             }
            },
            "type": "scatterternary"
           }
          ],
          "surface": [
           {
            "colorbar": {
             "outlinewidth": 1,
             "tickcolor": "rgb(36,36,36)",
             "ticks": "outside"
            },
            "colorscale": [
             [
              0,
              "#440154"
             ],
             [
              0.1111111111111111,
              "#482878"
             ],
             [
              0.2222222222222222,
              "#3e4989"
             ],
             [
              0.3333333333333333,
              "#31688e"
             ],
             [
              0.4444444444444444,
              "#26828e"
             ],
             [
              0.5555555555555556,
              "#1f9e89"
             ],
             [
              0.6666666666666666,
              "#35b779"
             ],
             [
              0.7777777777777778,
              "#6ece58"
             ],
             [
              0.8888888888888888,
              "#b5de2b"
             ],
             [
              1,
              "#fde725"
             ]
            ],
            "type": "surface"
           }
          ],
          "table": [
           {
            "cells": {
             "fill": {
              "color": "rgb(237,237,237)"
             },
             "line": {
              "color": "white"
             }
            },
            "header": {
             "fill": {
              "color": "rgb(217,217,217)"
             },
             "line": {
              "color": "white"
             }
            },
            "type": "table"
           }
          ]
         },
         "layout": {
          "annotationdefaults": {
           "arrowhead": 0,
           "arrowwidth": 1
          },
          "autotypenumbers": "strict",
          "coloraxis": {
           "colorbar": {
            "outlinewidth": 1,
            "tickcolor": "rgb(36,36,36)",
            "ticks": "outside"
           }
          },
          "colorscale": {
           "diverging": [
            [
             0,
             "rgb(103,0,31)"
            ],
            [
             0.1,
             "rgb(178,24,43)"
            ],
            [
             0.2,
             "rgb(214,96,77)"
            ],
            [
             0.3,
             "rgb(244,165,130)"
            ],
            [
             0.4,
             "rgb(253,219,199)"
            ],
            [
             0.5,
             "rgb(247,247,247)"
            ],
            [
             0.6,
             "rgb(209,229,240)"
            ],
            [
             0.7,
             "rgb(146,197,222)"
            ],
            [
             0.8,
             "rgb(67,147,195)"
            ],
            [
             0.9,
             "rgb(33,102,172)"
            ],
            [
             1,
             "rgb(5,48,97)"
            ]
           ],
           "sequential": [
            [
             0,
             "#440154"
            ],
            [
             0.1111111111111111,
             "#482878"
            ],
            [
             0.2222222222222222,
             "#3e4989"
            ],
            [
             0.3333333333333333,
             "#31688e"
            ],
            [
             0.4444444444444444,
             "#26828e"
            ],
            [
             0.5555555555555556,
             "#1f9e89"
            ],
            [
             0.6666666666666666,
             "#35b779"
            ],
            [
             0.7777777777777778,
             "#6ece58"
            ],
            [
             0.8888888888888888,
             "#b5de2b"
            ],
            [
             1,
             "#fde725"
            ]
           ],
           "sequentialminus": [
            [
             0,
             "#440154"
            ],
            [
             0.1111111111111111,
             "#482878"
            ],
            [
             0.2222222222222222,
             "#3e4989"
            ],
            [
             0.3333333333333333,
             "#31688e"
            ],
            [
             0.4444444444444444,
             "#26828e"
            ],
            [
             0.5555555555555556,
             "#1f9e89"
            ],
            [
             0.6666666666666666,
             "#35b779"
            ],
            [
             0.7777777777777778,
             "#6ece58"
            ],
            [
             0.8888888888888888,
             "#b5de2b"
            ],
            [
             1,
             "#fde725"
            ]
           ]
          },
          "colorway": [
           "#1F77B4",
           "#FF7F0E",
           "#2CA02C",
           "#D62728",
           "#9467BD",
           "#8C564B",
           "#E377C2",
           "#7F7F7F",
           "#BCBD22",
           "#17BECF"
          ],
          "font": {
           "color": "rgb(36,36,36)"
          },
          "geo": {
           "bgcolor": "white",
           "lakecolor": "white",
           "landcolor": "white",
           "showlakes": true,
           "showland": true,
           "subunitcolor": "white"
          },
          "hoverlabel": {
           "align": "left"
          },
          "hovermode": "closest",
          "mapbox": {
           "style": "light"
          },
          "paper_bgcolor": "white",
          "plot_bgcolor": "white",
          "polar": {
           "angularaxis": {
            "gridcolor": "rgb(232,232,232)",
            "linecolor": "rgb(36,36,36)",
            "showgrid": false,
            "showline": true,
            "ticks": "outside"
           },
           "bgcolor": "white",
           "radialaxis": {
            "gridcolor": "rgb(232,232,232)",
            "linecolor": "rgb(36,36,36)",
            "showgrid": false,
            "showline": true,
            "ticks": "outside"
           }
          },
          "scene": {
           "xaxis": {
            "backgroundcolor": "white",
            "gridcolor": "rgb(232,232,232)",
            "gridwidth": 2,
            "linecolor": "rgb(36,36,36)",
            "showbackground": true,
            "showgrid": false,
            "showline": true,
            "ticks": "outside",
            "zeroline": false,
            "zerolinecolor": "rgb(36,36,36)"
           },
           "yaxis": {
            "backgroundcolor": "white",
            "gridcolor": "rgb(232,232,232)",
            "gridwidth": 2,
            "linecolor": "rgb(36,36,36)",
            "showbackground": true,
            "showgrid": false,
            "showline": true,
            "ticks": "outside",
            "zeroline": false,
            "zerolinecolor": "rgb(36,36,36)"
           },
           "zaxis": {
            "backgroundcolor": "white",
            "gridcolor": "rgb(232,232,232)",
            "gridwidth": 2,
            "linecolor": "rgb(36,36,36)",
            "showbackground": true,
            "showgrid": false,
            "showline": true,
            "ticks": "outside",
            "zeroline": false,
            "zerolinecolor": "rgb(36,36,36)"
           }
          },
          "shapedefaults": {
           "fillcolor": "black",
           "line": {
            "width": 0
           },
           "opacity": 0.3
          },
          "ternary": {
           "aaxis": {
            "gridcolor": "rgb(232,232,232)",
            "linecolor": "rgb(36,36,36)",
            "showgrid": false,
            "showline": true,
            "ticks": "outside"
           },
           "baxis": {
            "gridcolor": "rgb(232,232,232)",
            "linecolor": "rgb(36,36,36)",
            "showgrid": false,
            "showline": true,
            "ticks": "outside"
           },
           "bgcolor": "white",
           "caxis": {
            "gridcolor": "rgb(232,232,232)",
            "linecolor": "rgb(36,36,36)",
            "showgrid": false,
            "showline": true,
            "ticks": "outside"
           }
          },
          "title": {
           "x": 0.05
          },
          "xaxis": {
           "automargin": true,
           "gridcolor": "rgb(232,232,232)",
           "linecolor": "rgb(36,36,36)",
           "showgrid": false,
           "showline": true,
           "ticks": "outside",
           "title": {
            "standoff": 15
           },
           "zeroline": false,
           "zerolinecolor": "rgb(36,36,36)"
          },
          "yaxis": {
           "automargin": true,
           "gridcolor": "rgb(232,232,232)",
           "linecolor": "rgb(36,36,36)",
           "showgrid": false,
           "showline": true,
           "ticks": "outside",
           "title": {
            "standoff": 15
           },
           "zeroline": false,
           "zerolinecolor": "rgb(36,36,36)"
          }
         }
        },
        "title": {
         "text": "model_1 — SHAP Dependence: stream_duration"
        },
        "xaxis": {
         "title": {
          "text": "Duration (hours)"
         }
        },
        "yaxis": {
         "title": {
          "text": "SHAP value (impact on prediction)"
         }
        }
       }
      }
     },
     "metadata": {},
     "output_type": "display_data"
    },
    {
     "data": {
      "application/vnd.plotly.v1+json": {
       "config": {
        "plotlyServerURL": "https://plot.ly"
       },
       "data": [
        {
         "hovertemplate": "shap=%{x}<br>category=%{y}<extra></extra>",
         "legendgroup": "",
         "marker": {
          "color": "#636efa",
          "pattern": {
           "shape": ""
          }
         },
         "name": "",
         "orientation": "h",
         "showlegend": false,
         "textposition": "auto",
         "type": "bar",
         "x": {
          "bdata": "hftE5R4giT9ERJJJKaeJP3sUGpP7N4o/9ggq8LmYij+7u+EfPvaKP3skxmazfI4/vygvHuHFkj961Lf2xvOSPxTOOH6oCpU/SAH9SS0clj/foWYwabOXP+GaJ3QEhZg/Lcbxu8HEmD+VLPB1eSKaP+gLlvnpbaU/MX66OzCLpT+xBJY1UySnPylcFCZ/t6o/pBJIQECErj/sk6dVp9KwP1UB/8oOTbQ/wjf08OONvj9ctzvR85++P3HLh4rRNcw/7F9Iqg5LzT8=",
          "dtype": "f8"
         },
         "xaxis": "x",
         "y": [
          "i'm only sleeping",
          "half sword",
          "lockdown protocol",
          "rig riot",
          "grounded 2",
          "asmr",
          "hades ii",
          "just chatting",
          "deadlock",
          "juice galaxy",
          "clash royale",
          "amnesia: the dark descent",
          "final fantasy viii",
          "marvel rivals",
          "mario kart world",
          "elden ring",
          "fortnite",
          "mario party 2",
          "hollow knight: silksong",
          "get to work",
          "fate trigger",
          "grounded",
          "left 4 dead 2",
          "deltarune",
          "red dead redemption ii"
         ],
         "yaxis": "y"
        }
       ],
       "layout": {
        "barmode": "relative",
        "legend": {
         "tracegroupgap": 0
        },
        "template": {
         "data": {
          "bar": [
           {
            "error_x": {
             "color": "rgb(36,36,36)"
            },
            "error_y": {
             "color": "rgb(36,36,36)"
            },
            "marker": {
             "line": {
              "color": "white",
              "width": 0.5
             },
             "pattern": {
              "fillmode": "overlay",
              "size": 10,
              "solidity": 0.2
             }
            },
            "type": "bar"
           }
          ],
          "barpolar": [
           {
            "marker": {
             "line": {
              "color": "white",
              "width": 0.5
             },
             "pattern": {
              "fillmode": "overlay",
              "size": 10,
              "solidity": 0.2
             }
            },
            "type": "barpolar"
           }
          ],
          "carpet": [
           {
            "aaxis": {
             "endlinecolor": "rgb(36,36,36)",
             "gridcolor": "white",
             "linecolor": "white",
             "minorgridcolor": "white",
             "startlinecolor": "rgb(36,36,36)"
            },
            "baxis": {
             "endlinecolor": "rgb(36,36,36)",
             "gridcolor": "white",
             "linecolor": "white",
             "minorgridcolor": "white",
             "startlinecolor": "rgb(36,36,36)"
            },
            "type": "carpet"
           }
          ],
          "choropleth": [
           {
            "colorbar": {
             "outlinewidth": 1,
             "tickcolor": "rgb(36,36,36)",
             "ticks": "outside"
            },
            "type": "choropleth"
           }
          ],
          "contour": [
           {
            "colorbar": {
             "outlinewidth": 1,
             "tickcolor": "rgb(36,36,36)",
             "ticks": "outside"
            },
            "colorscale": [
             [
              0,
              "#440154"
             ],
             [
              0.1111111111111111,
              "#482878"
             ],
             [
              0.2222222222222222,
              "#3e4989"
             ],
             [
              0.3333333333333333,
              "#31688e"
             ],
             [
              0.4444444444444444,
              "#26828e"
             ],
             [
              0.5555555555555556,
              "#1f9e89"
             ],
             [
              0.6666666666666666,
              "#35b779"
             ],
             [
              0.7777777777777778,
              "#6ece58"
             ],
             [
              0.8888888888888888,
              "#b5de2b"
             ],
             [
              1,
              "#fde725"
             ]
            ],
            "type": "contour"
           }
          ],
          "contourcarpet": [
           {
            "colorbar": {
             "outlinewidth": 1,
             "tickcolor": "rgb(36,36,36)",
             "ticks": "outside"
            },
            "type": "contourcarpet"
           }
          ],
          "heatmap": [
           {
            "colorbar": {
             "outlinewidth": 1,
             "tickcolor": "rgb(36,36,36)",
             "ticks": "outside"
            },
            "colorscale": [
             [
              0,
              "#440154"
             ],
             [
              0.1111111111111111,
              "#482878"
             ],
             [
              0.2222222222222222,
              "#3e4989"
             ],
             [
              0.3333333333333333,
              "#31688e"
             ],
             [
              0.4444444444444444,
              "#26828e"
             ],
             [
              0.5555555555555556,
              "#1f9e89"
             ],
             [
              0.6666666666666666,
              "#35b779"
             ],
             [
              0.7777777777777778,
              "#6ece58"
             ],
             [
              0.8888888888888888,
              "#b5de2b"
             ],
             [
              1,
              "#fde725"
             ]
            ],
            "type": "heatmap"
           }
          ],
          "histogram": [
           {
            "marker": {
             "line": {
              "color": "white",
              "width": 0.6
             }
            },
            "type": "histogram"
           }
          ],
          "histogram2d": [
           {
            "colorbar": {
             "outlinewidth": 1,
             "tickcolor": "rgb(36,36,36)",
             "ticks": "outside"
            },
            "colorscale": [
             [
              0,
              "#440154"
             ],
             [
              0.1111111111111111,
              "#482878"
             ],
             [
              0.2222222222222222,
              "#3e4989"
             ],
             [
              0.3333333333333333,
              "#31688e"
             ],
             [
              0.4444444444444444,
              "#26828e"
             ],
             [
              0.5555555555555556,
              "#1f9e89"
             ],
             [
              0.6666666666666666,
              "#35b779"
             ],
             [
              0.7777777777777778,
              "#6ece58"
             ],
             [
              0.8888888888888888,
              "#b5de2b"
             ],
             [
              1,
              "#fde725"
             ]
            ],
            "type": "histogram2d"
           }
          ],
          "histogram2dcontour": [
           {
            "colorbar": {
             "outlinewidth": 1,
             "tickcolor": "rgb(36,36,36)",
             "ticks": "outside"
            },
            "colorscale": [
             [
              0,
              "#440154"
             ],
             [
              0.1111111111111111,
              "#482878"
             ],
             [
              0.2222222222222222,
              "#3e4989"
             ],
             [
              0.3333333333333333,
              "#31688e"
             ],
             [
              0.4444444444444444,
              "#26828e"
             ],
             [
              0.5555555555555556,
              "#1f9e89"
             ],
             [
              0.6666666666666666,
              "#35b779"
             ],
             [
              0.7777777777777778,
              "#6ece58"
             ],
             [
              0.8888888888888888,
              "#b5de2b"
             ],
             [
              1,
              "#fde725"
             ]
            ],
            "type": "histogram2dcontour"
           }
          ],
          "mesh3d": [
           {
            "colorbar": {
             "outlinewidth": 1,
             "tickcolor": "rgb(36,36,36)",
             "ticks": "outside"
            },
            "type": "mesh3d"
           }
          ],
          "parcoords": [
           {
            "line": {
             "colorbar": {
              "outlinewidth": 1,
              "tickcolor": "rgb(36,36,36)",
              "ticks": "outside"
             }
            },
            "type": "parcoords"
           }
          ],
          "pie": [
           {
            "automargin": true,
            "type": "pie"
           }
          ],
          "scatter": [
           {
            "fillpattern": {
             "fillmode": "overlay",
             "size": 10,
             "solidity": 0.2
            },
            "type": "scatter"
           }
          ],
          "scatter3d": [
           {
            "line": {
             "colorbar": {
              "outlinewidth": 1,
              "tickcolor": "rgb(36,36,36)",
              "ticks": "outside"
             }
            },
            "marker": {
             "colorbar": {
              "outlinewidth": 1,
              "tickcolor": "rgb(36,36,36)",
              "ticks": "outside"
             }
            },
            "type": "scatter3d"
           }
          ],
          "scattercarpet": [
           {
            "marker": {
             "colorbar": {
              "outlinewidth": 1,
              "tickcolor": "rgb(36,36,36)",
              "ticks": "outside"
             }
            },
            "type": "scattercarpet"
           }
          ],
          "scattergeo": [
           {
            "marker": {
             "colorbar": {
              "outlinewidth": 1,
              "tickcolor": "rgb(36,36,36)",
              "ticks": "outside"
             }
            },
            "type": "scattergeo"
           }
          ],
          "scattergl": [
           {
            "marker": {
             "colorbar": {
              "outlinewidth": 1,
              "tickcolor": "rgb(36,36,36)",
              "ticks": "outside"
             }
            },
            "type": "scattergl"
           }
          ],
          "scattermap": [
           {
            "marker": {
             "colorbar": {
              "outlinewidth": 1,
              "tickcolor": "rgb(36,36,36)",
              "ticks": "outside"
             }
            },
            "type": "scattermap"
           }
          ],
          "scattermapbox": [
           {
            "marker": {
             "colorbar": {
              "outlinewidth": 1,
              "tickcolor": "rgb(36,36,36)",
              "ticks": "outside"
             }
            },
            "type": "scattermapbox"
           }
          ],
          "scatterpolar": [
           {
            "marker": {
             "colorbar": {
              "outlinewidth": 1,
              "tickcolor": "rgb(36,36,36)",
              "ticks": "outside"
             }
            },
            "type": "scatterpolar"
           }
          ],
          "scatterpolargl": [
           {
            "marker": {
             "colorbar": {
              "outlinewidth": 1,
              "tickcolor": "rgb(36,36,36)",
              "ticks": "outside"
             }
            },
            "type": "scatterpolargl"
           }
          ],
          "scatterternary": [
           {
            "marker": {
             "colorbar": {
              "outlinewidth": 1,
              "tickcolor": "rgb(36,36,36)",
              "ticks": "outside"
             }
            },
            "type": "scatterternary"
           }
          ],
          "surface": [
           {
            "colorbar": {
             "outlinewidth": 1,
             "tickcolor": "rgb(36,36,36)",
             "ticks": "outside"
            },
            "colorscale": [
             [
              0,
              "#440154"
             ],
             [
              0.1111111111111111,
              "#482878"
             ],
             [
              0.2222222222222222,
              "#3e4989"
             ],
             [
              0.3333333333333333,
              "#31688e"
             ],
             [
              0.4444444444444444,
              "#26828e"
             ],
             [
              0.5555555555555556,
              "#1f9e89"
             ],
             [
              0.6666666666666666,
              "#35b779"
             ],
             [
              0.7777777777777778,
              "#6ece58"
             ],
             [
              0.8888888888888888,
              "#b5de2b"
             ],
             [
              1,
              "#fde725"
             ]
            ],
            "type": "surface"
           }
          ],
          "table": [
           {
            "cells": {
             "fill": {
              "color": "rgb(237,237,237)"
             },
             "line": {
              "color": "white"
             }
            },
            "header": {
             "fill": {
              "color": "rgb(217,217,217)"
             },
             "line": {
              "color": "white"
             }
            },
            "type": "table"
           }
          ]
         },
         "layout": {
          "annotationdefaults": {
           "arrowhead": 0,
           "arrowwidth": 1
          },
          "autotypenumbers": "strict",
          "coloraxis": {
           "colorbar": {
            "outlinewidth": 1,
            "tickcolor": "rgb(36,36,36)",
            "ticks": "outside"
           }
          },
          "colorscale": {
           "diverging": [
            [
             0,
             "rgb(103,0,31)"
            ],
            [
             0.1,
             "rgb(178,24,43)"
            ],
            [
             0.2,
             "rgb(214,96,77)"
            ],
            [
             0.3,
             "rgb(244,165,130)"
            ],
            [
             0.4,
             "rgb(253,219,199)"
            ],
            [
             0.5,
             "rgb(247,247,247)"
            ],
            [
             0.6,
             "rgb(209,229,240)"
            ],
            [
             0.7,
             "rgb(146,197,222)"
            ],
            [
             0.8,
             "rgb(67,147,195)"
            ],
            [
             0.9,
             "rgb(33,102,172)"
            ],
            [
             1,
             "rgb(5,48,97)"
            ]
           ],
           "sequential": [
            [
             0,
             "#440154"
            ],
            [
             0.1111111111111111,
             "#482878"
            ],
            [
             0.2222222222222222,
             "#3e4989"
            ],
            [
             0.3333333333333333,
             "#31688e"
            ],
            [
             0.4444444444444444,
             "#26828e"
            ],
            [
             0.5555555555555556,
             "#1f9e89"
            ],
            [
             0.6666666666666666,
             "#35b779"
            ],
            [
             0.7777777777777778,
             "#6ece58"
            ],
            [
             0.8888888888888888,
             "#b5de2b"
            ],
            [
             1,
             "#fde725"
            ]
           ],
           "sequentialminus": [
            [
             0,
             "#440154"
            ],
            [
             0.1111111111111111,
             "#482878"
            ],
            [
             0.2222222222222222,
             "#3e4989"
            ],
            [
             0.3333333333333333,
             "#31688e"
            ],
            [
             0.4444444444444444,
             "#26828e"
            ],
            [
             0.5555555555555556,
             "#1f9e89"
            ],
            [
             0.6666666666666666,
             "#35b779"
            ],
            [
             0.7777777777777778,
             "#6ece58"
            ],
            [
             0.8888888888888888,
             "#b5de2b"
            ],
            [
             1,
             "#fde725"
            ]
           ]
          },
          "colorway": [
           "#1F77B4",
           "#FF7F0E",
           "#2CA02C",
           "#D62728",
           "#9467BD",
           "#8C564B",
           "#E377C2",
           "#7F7F7F",
           "#BCBD22",
           "#17BECF"
          ],
          "font": {
           "color": "rgb(36,36,36)"
          },
          "geo": {
           "bgcolor": "white",
           "lakecolor": "white",
           "landcolor": "white",
           "showlakes": true,
           "showland": true,
           "subunitcolor": "white"
          },
          "hoverlabel": {
           "align": "left"
          },
          "hovermode": "closest",
          "mapbox": {
           "style": "light"
          },
          "paper_bgcolor": "white",
          "plot_bgcolor": "white",
          "polar": {
           "angularaxis": {
            "gridcolor": "rgb(232,232,232)",
            "linecolor": "rgb(36,36,36)",
            "showgrid": false,
            "showline": true,
            "ticks": "outside"
           },
           "bgcolor": "white",
           "radialaxis": {
            "gridcolor": "rgb(232,232,232)",
            "linecolor": "rgb(36,36,36)",
            "showgrid": false,
            "showline": true,
            "ticks": "outside"
           }
          },
          "scene": {
           "xaxis": {
            "backgroundcolor": "white",
            "gridcolor": "rgb(232,232,232)",
            "gridwidth": 2,
            "linecolor": "rgb(36,36,36)",
            "showbackground": true,
            "showgrid": false,
            "showline": true,
            "ticks": "outside",
            "zeroline": false,
            "zerolinecolor": "rgb(36,36,36)"
           },
           "yaxis": {
            "backgroundcolor": "white",
            "gridcolor": "rgb(232,232,232)",
            "gridwidth": 2,
            "linecolor": "rgb(36,36,36)",
            "showbackground": true,
            "showgrid": false,
            "showline": true,
            "ticks": "outside",
            "zeroline": false,
            "zerolinecolor": "rgb(36,36,36)"
           },
           "zaxis": {
            "backgroundcolor": "white",
            "gridcolor": "rgb(232,232,232)",
            "gridwidth": 2,
            "linecolor": "rgb(36,36,36)",
            "showbackground": true,
            "showgrid": false,
            "showline": true,
            "ticks": "outside",
            "zeroline": false,
            "zerolinecolor": "rgb(36,36,36)"
           }
          },
          "shapedefaults": {
           "fillcolor": "black",
           "line": {
            "width": 0
           },
           "opacity": 0.3
          },
          "ternary": {
           "aaxis": {
            "gridcolor": "rgb(232,232,232)",
            "linecolor": "rgb(36,36,36)",
            "showgrid": false,
            "showline": true,
            "ticks": "outside"
           },
           "baxis": {
            "gridcolor": "rgb(232,232,232)",
            "linecolor": "rgb(36,36,36)",
            "showgrid": false,
            "showline": true,
            "ticks": "outside"
           },
           "bgcolor": "white",
           "caxis": {
            "gridcolor": "rgb(232,232,232)",
            "linecolor": "rgb(36,36,36)",
            "showgrid": false,
            "showline": true,
            "ticks": "outside"
           }
          },
          "title": {
           "x": 0.05
          },
          "xaxis": {
           "automargin": true,
           "gridcolor": "rgb(232,232,232)",
           "linecolor": "rgb(36,36,36)",
           "showgrid": false,
           "showline": true,
           "ticks": "outside",
           "title": {
            "standoff": 15
           },
           "zeroline": false,
           "zerolinecolor": "rgb(36,36,36)"
          },
          "yaxis": {
           "automargin": true,
           "gridcolor": "rgb(232,232,232)",
           "linecolor": "rgb(36,36,36)",
           "showgrid": false,
           "showline": true,
           "ticks": "outside",
           "title": {
            "standoff": 15
           },
           "zeroline": false,
           "zerolinecolor": "rgb(36,36,36)"
          }
         }
        },
        "title": {
         "text": "model_1 — Game Category Effect (mean SHAP by category)"
        },
        "xaxis": {
         "anchor": "y",
         "domain": [
          0,
          1
         ],
         "title": {
          "text": "Mean SHAP (category effect on prediction)"
         }
        },
        "yaxis": {
         "anchor": "x",
         "categoryorder": "total descending",
         "domain": [
          0,
          1
         ],
         "title": {
          "text": "category"
         }
        }
       }
      }
     },
     "metadata": {},
     "output_type": "display_data"
    },
    {
     "data": {
      "application/vnd.plotly.v1+json": {
       "config": {
        "plotlyServerURL": "https://plot.ly"
       },
       "data": [
        {
         "hovertemplate": "mean_abs=%{x}<br>feature=%{y}<extra></extra>",
         "legendgroup": "",
         "marker": {
          "color": "#636efa",
          "pattern": {
           "shape": ""
          }
         },
         "name": "",
         "orientation": "h",
         "showlegend": false,
         "textposition": "auto",
         "type": "bar",
         "x": {
          "bdata": "YcyBSzkrlj+9ER1VK/GYPxGXv/k2A5k/Nm+J6eKQmT8iTJ1lpSqaP4nwTPstpZ4/BoBSiIRqoD+lv3UYmg2hPy0q+779aKM/HC3sxHOUoz+TESpTqg2lP6r4dvo6tKU/FNXRwgBXpj/fVuH2yhCnPxfCvDa52Kg/hU2q6OJYqz8OxelWkomuP8LA8ryi264/1VWMrRzlrj/49VKLbbWwPyWfYST2urA/niWYi6MytD8YIeaeYjG5P+S65egdj7o/oNUplupuvT94E2Imj4q9P2/T+9PLv8I/D4mwW9A5yT/831g7A8bOPz1YpkiIKt0/",
          "dtype": "f8"
         },
         "xaxis": "x",
         "y": [
          "avg_raid_viewers_per_hr_last_14",
          "avg_category_changes_last_3",
          "avg_follows_per_hour_last_1",
          "avg_chats_per_hour_last_3",
          "avg_stream_duration_last_1",
          "avg_total_subscriptions_last_1",
          "avg_chats_per_viewer_last_7",
          "avg_raid_viewers_per_viewer_last_3",
          "avg_unique_viewers_last_1",
          "avg_follows_per_hour_last_7",
          "avg_raid_viewers_per_viewer_last_7",
          "avg_chats_per_viewer_last_1",
          "avg_subs_per_hour_last_1",
          "avg_net_follower_change_last_1",
          "avg_peak_concurrent_viewers_last_1",
          "avg_raids_per_hour_last_14",
          "avg_peak_concurrent_viewers_last_7",
          "avg_total_subscriptions_last_7",
          "avg_emotes_per_chat_last_14",
          "avg_chats_per_viewer_last_14",
          "game_category",
          "avg_unique_viewers_last_3",
          "avg_follows_per_hour_last_14",
          "avg_follows_per_hour_last_3",
          "avg_chats_per_viewer_last_3",
          "start_time_hour",
          "stream_duration",
          "avg_emotes_per_chat_last_3",
          "avg_net_follower_change_last_3",
          "avg_net_follower_change_last_14"
         ],
         "yaxis": "y"
        }
       ],
       "layout": {
        "barmode": "relative",
        "legend": {
         "tracegroupgap": 0
        },
        "template": {
         "data": {
          "bar": [
           {
            "error_x": {
             "color": "#2a3f5f"
            },
            "error_y": {
             "color": "#2a3f5f"
            },
            "marker": {
             "line": {
              "color": "#E5ECF6",
              "width": 0.5
             },
             "pattern": {
              "fillmode": "overlay",
              "size": 10,
              "solidity": 0.2
             }
            },
            "type": "bar"
           }
          ],
          "barpolar": [
           {
            "marker": {
             "line": {
              "color": "#E5ECF6",
              "width": 0.5
             },
             "pattern": {
              "fillmode": "overlay",
              "size": 10,
              "solidity": 0.2
             }
            },
            "type": "barpolar"
           }
          ],
          "carpet": [
           {
            "aaxis": {
             "endlinecolor": "#2a3f5f",
             "gridcolor": "white",
             "linecolor": "white",
             "minorgridcolor": "white",
             "startlinecolor": "#2a3f5f"
            },
            "baxis": {
             "endlinecolor": "#2a3f5f",
             "gridcolor": "white",
             "linecolor": "white",
             "minorgridcolor": "white",
             "startlinecolor": "#2a3f5f"
            },
            "type": "carpet"
           }
          ],
          "choropleth": [
           {
            "colorbar": {
             "outlinewidth": 0,
             "ticks": ""
            },
            "type": "choropleth"
           }
          ],
          "contour": [
           {
            "colorbar": {
             "outlinewidth": 0,
             "ticks": ""
            },
            "colorscale": [
             [
              0,
              "#0d0887"
             ],
             [
              0.1111111111111111,
              "#46039f"
             ],
             [
              0.2222222222222222,
              "#7201a8"
             ],
             [
              0.3333333333333333,
              "#9c179e"
             ],
             [
              0.4444444444444444,
              "#bd3786"
             ],
             [
              0.5555555555555556,
              "#d8576b"
             ],
             [
              0.6666666666666666,
              "#ed7953"
             ],
             [
              0.7777777777777778,
              "#fb9f3a"
             ],
             [
              0.8888888888888888,
              "#fdca26"
             ],
             [
              1,
              "#f0f921"
             ]
            ],
            "type": "contour"
           }
          ],
          "contourcarpet": [
           {
            "colorbar": {
             "outlinewidth": 0,
             "ticks": ""
            },
            "type": "contourcarpet"
           }
          ],
          "heatmap": [
           {
            "colorbar": {
             "outlinewidth": 0,
             "ticks": ""
            },
            "colorscale": [
             [
              0,
              "#0d0887"
             ],
             [
              0.1111111111111111,
              "#46039f"
             ],
             [
              0.2222222222222222,
              "#7201a8"
             ],
             [
              0.3333333333333333,
              "#9c179e"
             ],
             [
              0.4444444444444444,
              "#bd3786"
             ],
             [
              0.5555555555555556,
              "#d8576b"
             ],
             [
              0.6666666666666666,
              "#ed7953"
             ],
             [
              0.7777777777777778,
              "#fb9f3a"
             ],
             [
              0.8888888888888888,
              "#fdca26"
             ],
             [
              1,
              "#f0f921"
             ]
            ],
            "type": "heatmap"
           }
          ],
          "histogram": [
           {
            "marker": {
             "pattern": {
              "fillmode": "overlay",
              "size": 10,
              "solidity": 0.2
             }
            },
            "type": "histogram"
           }
          ],
          "histogram2d": [
           {
            "colorbar": {
             "outlinewidth": 0,
             "ticks": ""
            },
            "colorscale": [
             [
              0,
              "#0d0887"
             ],
             [
              0.1111111111111111,
              "#46039f"
             ],
             [
              0.2222222222222222,
              "#7201a8"
             ],
             [
              0.3333333333333333,
              "#9c179e"
             ],
             [
              0.4444444444444444,
              "#bd3786"
             ],
             [
              0.5555555555555556,
              "#d8576b"
             ],
             [
              0.6666666666666666,
              "#ed7953"
             ],
             [
              0.7777777777777778,
              "#fb9f3a"
             ],
             [
              0.8888888888888888,
              "#fdca26"
             ],
             [
              1,
              "#f0f921"
             ]
            ],
            "type": "histogram2d"
           }
          ],
          "histogram2dcontour": [
           {
            "colorbar": {
             "outlinewidth": 0,
             "ticks": ""
            },
            "colorscale": [
             [
              0,
              "#0d0887"
             ],
             [
              0.1111111111111111,
              "#46039f"
             ],
             [
              0.2222222222222222,
              "#7201a8"
             ],
             [
              0.3333333333333333,
              "#9c179e"
             ],
             [
              0.4444444444444444,
              "#bd3786"
             ],
             [
              0.5555555555555556,
              "#d8576b"
             ],
             [
              0.6666666666666666,
              "#ed7953"
             ],
             [
              0.7777777777777778,
              "#fb9f3a"
             ],
             [
              0.8888888888888888,
              "#fdca26"
             ],
             [
              1,
              "#f0f921"
             ]
            ],
            "type": "histogram2dcontour"
           }
          ],
          "mesh3d": [
           {
            "colorbar": {
             "outlinewidth": 0,
             "ticks": ""
            },
            "type": "mesh3d"
           }
          ],
          "parcoords": [
           {
            "line": {
             "colorbar": {
              "outlinewidth": 0,
              "ticks": ""
             }
            },
            "type": "parcoords"
           }
          ],
          "pie": [
           {
            "automargin": true,
            "type": "pie"
           }
          ],
          "scatter": [
           {
            "fillpattern": {
             "fillmode": "overlay",
             "size": 10,
             "solidity": 0.2
            },
            "type": "scatter"
           }
          ],
          "scatter3d": [
           {
            "line": {
             "colorbar": {
              "outlinewidth": 0,
              "ticks": ""
             }
            },
            "marker": {
             "colorbar": {
              "outlinewidth": 0,
              "ticks": ""
             }
            },
            "type": "scatter3d"
           }
          ],
          "scattercarpet": [
           {
            "marker": {
             "colorbar": {
              "outlinewidth": 0,
              "ticks": ""
             }
            },
            "type": "scattercarpet"
           }
          ],
          "scattergeo": [
           {
            "marker": {
             "colorbar": {
              "outlinewidth": 0,
              "ticks": ""
             }
            },
            "type": "scattergeo"
           }
          ],
          "scattergl": [
           {
            "marker": {
             "colorbar": {
              "outlinewidth": 0,
              "ticks": ""
             }
            },
            "type": "scattergl"
           }
          ],
          "scattermap": [
           {
            "marker": {
             "colorbar": {
              "outlinewidth": 0,
              "ticks": ""
             }
            },
            "type": "scattermap"
           }
          ],
          "scattermapbox": [
           {
            "marker": {
             "colorbar": {
              "outlinewidth": 0,
              "ticks": ""
             }
            },
            "type": "scattermapbox"
           }
          ],
          "scatterpolar": [
           {
            "marker": {
             "colorbar": {
              "outlinewidth": 0,
              "ticks": ""
             }
            },
            "type": "scatterpolar"
           }
          ],
          "scatterpolargl": [
           {
            "marker": {
             "colorbar": {
              "outlinewidth": 0,
              "ticks": ""
             }
            },
            "type": "scatterpolargl"
           }
          ],
          "scatterternary": [
           {
            "marker": {
             "colorbar": {
              "outlinewidth": 0,
              "ticks": ""
             }
            },
            "type": "scatterternary"
           }
          ],
          "surface": [
           {
            "colorbar": {
             "outlinewidth": 0,
             "ticks": ""
            },
            "colorscale": [
             [
              0,
              "#0d0887"
             ],
             [
              0.1111111111111111,
              "#46039f"
             ],
             [
              0.2222222222222222,
              "#7201a8"
             ],
             [
              0.3333333333333333,
              "#9c179e"
             ],
             [
              0.4444444444444444,
              "#bd3786"
             ],
             [
              0.5555555555555556,
              "#d8576b"
             ],
             [
              0.6666666666666666,
              "#ed7953"
             ],
             [
              0.7777777777777778,
              "#fb9f3a"
             ],
             [
              0.8888888888888888,
              "#fdca26"
             ],
             [
              1,
              "#f0f921"
             ]
            ],
            "type": "surface"
           }
          ],
          "table": [
           {
            "cells": {
             "fill": {
              "color": "#EBF0F8"
             },
             "line": {
              "color": "white"
             }
            },
            "header": {
             "fill": {
              "color": "#C8D4E3"
             },
             "line": {
              "color": "white"
             }
            },
            "type": "table"
           }
          ]
         },
         "layout": {
          "annotationdefaults": {
           "arrowcolor": "#2a3f5f",
           "arrowhead": 0,
           "arrowwidth": 1
          },
          "autotypenumbers": "strict",
          "coloraxis": {
           "colorbar": {
            "outlinewidth": 0,
            "ticks": ""
           }
          },
          "colorscale": {
           "diverging": [
            [
             0,
             "#8e0152"
            ],
            [
             0.1,
             "#c51b7d"
            ],
            [
             0.2,
             "#de77ae"
            ],
            [
             0.3,
             "#f1b6da"
            ],
            [
             0.4,
             "#fde0ef"
            ],
            [
             0.5,
             "#f7f7f7"
            ],
            [
             0.6,
             "#e6f5d0"
            ],
            [
             0.7,
             "#b8e186"
            ],
            [
             0.8,
             "#7fbc41"
            ],
            [
             0.9,
             "#4d9221"
            ],
            [
             1,
             "#276419"
            ]
           ],
           "sequential": [
            [
             0,
             "#0d0887"
            ],
            [
             0.1111111111111111,
             "#46039f"
            ],
            [
             0.2222222222222222,
             "#7201a8"
            ],
            [
             0.3333333333333333,
             "#9c179e"
            ],
            [
             0.4444444444444444,
             "#bd3786"
            ],
            [
             0.5555555555555556,
             "#d8576b"
            ],
            [
             0.6666666666666666,
             "#ed7953"
            ],
            [
             0.7777777777777778,
             "#fb9f3a"
            ],
            [
             0.8888888888888888,
             "#fdca26"
            ],
            [
             1,
             "#f0f921"
            ]
           ],
           "sequentialminus": [
            [
             0,
             "#0d0887"
            ],
            [
             0.1111111111111111,
             "#46039f"
            ],
            [
             0.2222222222222222,
             "#7201a8"
            ],
            [
             0.3333333333333333,
             "#9c179e"
            ],
            [
             0.4444444444444444,
             "#bd3786"
            ],
            [
             0.5555555555555556,
             "#d8576b"
            ],
            [
             0.6666666666666666,
             "#ed7953"
            ],
            [
             0.7777777777777778,
             "#fb9f3a"
            ],
            [
             0.8888888888888888,
             "#fdca26"
            ],
            [
             1,
             "#f0f921"
            ]
           ]
          },
          "colorway": [
           "#636efa",
           "#EF553B",
           "#00cc96",
           "#ab63fa",
           "#FFA15A",
           "#19d3f3",
           "#FF6692",
           "#B6E880",
           "#FF97FF",
           "#FECB52"
          ],
          "font": {
           "color": "#2a3f5f"
          },
          "geo": {
           "bgcolor": "white",
           "lakecolor": "white",
           "landcolor": "#E5ECF6",
           "showlakes": true,
           "showland": true,
           "subunitcolor": "white"
          },
          "hoverlabel": {
           "align": "left"
          },
          "hovermode": "closest",
          "mapbox": {
           "style": "light"
          },
          "paper_bgcolor": "white",
          "plot_bgcolor": "#E5ECF6",
          "polar": {
           "angularaxis": {
            "gridcolor": "white",
            "linecolor": "white",
            "ticks": ""
           },
           "bgcolor": "#E5ECF6",
           "radialaxis": {
            "gridcolor": "white",
            "linecolor": "white",
            "ticks": ""
           }
          },
          "scene": {
           "xaxis": {
            "backgroundcolor": "#E5ECF6",
            "gridcolor": "white",
            "gridwidth": 2,
            "linecolor": "white",
            "showbackground": true,
            "ticks": "",
            "zerolinecolor": "white"
           },
           "yaxis": {
            "backgroundcolor": "#E5ECF6",
            "gridcolor": "white",
            "gridwidth": 2,
            "linecolor": "white",
            "showbackground": true,
            "ticks": "",
            "zerolinecolor": "white"
           },
           "zaxis": {
            "backgroundcolor": "#E5ECF6",
            "gridcolor": "white",
            "gridwidth": 2,
            "linecolor": "white",
            "showbackground": true,
            "ticks": "",
            "zerolinecolor": "white"
           }
          },
          "shapedefaults": {
           "line": {
            "color": "#2a3f5f"
           }
          },
          "ternary": {
           "aaxis": {
            "gridcolor": "white",
            "linecolor": "white",
            "ticks": ""
           },
           "baxis": {
            "gridcolor": "white",
            "linecolor": "white",
            "ticks": ""
           },
           "bgcolor": "#E5ECF6",
           "caxis": {
            "gridcolor": "white",
            "linecolor": "white",
            "ticks": ""
           }
          },
          "title": {
           "x": 0.05
          },
          "xaxis": {
           "automargin": true,
           "gridcolor": "white",
           "linecolor": "white",
           "ticks": "",
           "title": {
            "standoff": 15
           },
           "zerolinecolor": "white",
           "zerolinewidth": 2
          },
          "yaxis": {
           "automargin": true,
           "gridcolor": "white",
           "linecolor": "white",
           "ticks": "",
           "title": {
            "standoff": 15
           },
           "zerolinecolor": "white",
           "zerolinewidth": 2
          }
         }
        },
        "title": {
         "text": "Global SHAP Importance — model_2"
        },
        "xaxis": {
         "anchor": "y",
         "domain": [
          0,
          1
         ],
         "title": {
          "text": "mean_abs"
         }
        },
        "yaxis": {
         "anchor": "x",
         "categoryorder": "total descending",
         "domain": [
          0,
          1
         ],
         "title": {
          "text": "feature"
         }
        }
       }
      }
     },
     "metadata": {},
     "output_type": "display_data"
    },
    {
     "data": {
      "application/vnd.plotly.v1+json": {
       "config": {
        "plotlyServerURL": "https://plot.ly"
       },
       "data": [
        {
         "mode": "markers",
         "name": "samples",
         "opacity": 0.35,
         "type": "scatter",
         "x": {
          "bdata": "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",
          "dtype": "f8"
         },
         "y": {
          "bdata": "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",
          "dtype": "f8"
         }
        },
        {
         "mode": "lines+markers",
         "name": "mean by hour",
         "type": "scatter",
         "x": {
          "bdata": "AAAAAAAAAAAAAAAAAADwPwAAAAAAAABAAAAAAAAACEAAAAAAAAAQQAAAAAAAABRAAAAAAAAAGEAAAAAAAAAcQAAAAAAAACBAAAAAAAAAIkAAAAAAAAAkQAAAAAAAACZAAAAAAAAAKEAAAAAAAAAqQAAAAAAAACxAAAAAAAAALkAAAAAAAAAwQAAAAAAAADFAAAAAAAAAMkAAAAAAAAAzQAAAAAAAADRAAAAAAAAANUAAAAAAAAA2QAAAAAAAADdA",
          "dtype": "f8"
         },
         "y": {
          "bdata": "jbyotU3Dr7+A2J1nIAq0v3ExJIOQ56+/CvmqJcZtr78pAGBWkFizvyUHFCcF98W/Jm25qyYWx79p55wQmknDv/PQG06BGcG/tqhpdoZdvb8bRGGMG3S3v4ePWqhWo7y/p8VyqTjXur/NsBdh82m4v/YlHMfOIsS/xkDHFRnzyL+7w/jvVTzEv6QcKXD4woK/fQknPTG3qD/sx7SLsJekP9oR64UNiLM/+O1X/mAtuz9XPRyNZXe9P7ZI3Mhrecg/",
          "dtype": "f8"
         }
        }
       ],
       "layout": {
        "template": {
         "data": {
          "bar": [
           {
            "error_x": {
             "color": "rgb(36,36,36)"
            },
            "error_y": {
             "color": "rgb(36,36,36)"
            },
            "marker": {
             "line": {
              "color": "white",
              "width": 0.5
             },
             "pattern": {
              "fillmode": "overlay",
              "size": 10,
              "solidity": 0.2
             }
            },
            "type": "bar"
           }
          ],
          "barpolar": [
           {
            "marker": {
             "line": {
              "color": "white",
              "width": 0.5
             },
             "pattern": {
              "fillmode": "overlay",
              "size": 10,
              "solidity": 0.2
             }
            },
            "type": "barpolar"
           }
          ],
          "carpet": [
           {
            "aaxis": {
             "endlinecolor": "rgb(36,36,36)",
             "gridcolor": "white",
             "linecolor": "white",
             "minorgridcolor": "white",
             "startlinecolor": "rgb(36,36,36)"
            },
            "baxis": {
             "endlinecolor": "rgb(36,36,36)",
             "gridcolor": "white",
             "linecolor": "white",
             "minorgridcolor": "white",
             "startlinecolor": "rgb(36,36,36)"
            },
            "type": "carpet"
           }
          ],
          "choropleth": [
           {
            "colorbar": {
             "outlinewidth": 1,
             "tickcolor": "rgb(36,36,36)",
             "ticks": "outside"
            },
            "type": "choropleth"
           }
          ],
          "contour": [
           {
            "colorbar": {
             "outlinewidth": 1,
             "tickcolor": "rgb(36,36,36)",
             "ticks": "outside"
            },
            "colorscale": [
             [
              0,
              "#440154"
             ],
             [
              0.1111111111111111,
              "#482878"
             ],
             [
              0.2222222222222222,
              "#3e4989"
             ],
             [
              0.3333333333333333,
              "#31688e"
             ],
             [
              0.4444444444444444,
              "#26828e"
             ],
             [
              0.5555555555555556,
              "#1f9e89"
             ],
             [
              0.6666666666666666,
              "#35b779"
             ],
             [
              0.7777777777777778,
              "#6ece58"
             ],
             [
              0.8888888888888888,
              "#b5de2b"
             ],
             [
              1,
              "#fde725"
             ]
            ],
            "type": "contour"
           }
          ],
          "contourcarpet": [
           {
            "colorbar": {
             "outlinewidth": 1,
             "tickcolor": "rgb(36,36,36)",
             "ticks": "outside"
            },
            "type": "contourcarpet"
           }
          ],
          "heatmap": [
           {
            "colorbar": {
             "outlinewidth": 1,
             "tickcolor": "rgb(36,36,36)",
             "ticks": "outside"
            },
            "colorscale": [
             [
              0,
              "#440154"
             ],
             [
              0.1111111111111111,
              "#482878"
             ],
             [
              0.2222222222222222,
              "#3e4989"
             ],
             [
              0.3333333333333333,
              "#31688e"
             ],
             [
              0.4444444444444444,
              "#26828e"
             ],
             [
              0.5555555555555556,
              "#1f9e89"
             ],
             [
              0.6666666666666666,
              "#35b779"
             ],
             [
              0.7777777777777778,
              "#6ece58"
             ],
             [
              0.8888888888888888,
              "#b5de2b"
             ],
             [
              1,
              "#fde725"
             ]
            ],
            "type": "heatmap"
           }
          ],
          "histogram": [
           {
            "marker": {
             "line": {
              "color": "white",
              "width": 0.6
             }
            },
            "type": "histogram"
           }
          ],
          "histogram2d": [
           {
            "colorbar": {
             "outlinewidth": 1,
             "tickcolor": "rgb(36,36,36)",
             "ticks": "outside"
            },
            "colorscale": [
             [
              0,
              "#440154"
             ],
             [
              0.1111111111111111,
              "#482878"
             ],
             [
              0.2222222222222222,
              "#3e4989"
             ],
             [
              0.3333333333333333,
              "#31688e"
             ],
             [
              0.4444444444444444,
              "#26828e"
             ],
             [
              0.5555555555555556,
              "#1f9e89"
             ],
             [
              0.6666666666666666,
              "#35b779"
             ],
             [
              0.7777777777777778,
              "#6ece58"
             ],
             [
              0.8888888888888888,
              "#b5de2b"
             ],
             [
              1,
              "#fde725"
             ]
            ],
            "type": "histogram2d"
           }
          ],
          "histogram2dcontour": [
           {
            "colorbar": {
             "outlinewidth": 1,
             "tickcolor": "rgb(36,36,36)",
             "ticks": "outside"
            },
            "colorscale": [
             [
              0,
              "#440154"
             ],
             [
              0.1111111111111111,
              "#482878"
             ],
             [
              0.2222222222222222,
              "#3e4989"
             ],
             [
              0.3333333333333333,
              "#31688e"
             ],
             [
              0.4444444444444444,
              "#26828e"
             ],
             [
              0.5555555555555556,
              "#1f9e89"
             ],
             [
              0.6666666666666666,
              "#35b779"
             ],
             [
              0.7777777777777778,
              "#6ece58"
             ],
             [
              0.8888888888888888,
              "#b5de2b"
             ],
             [
              1,
              "#fde725"
             ]
            ],
            "type": "histogram2dcontour"
           }
          ],
          "mesh3d": [
           {
            "colorbar": {
             "outlinewidth": 1,
             "tickcolor": "rgb(36,36,36)",
             "ticks": "outside"
            },
            "type": "mesh3d"
           }
          ],
          "parcoords": [
           {
            "line": {
             "colorbar": {
              "outlinewidth": 1,
              "tickcolor": "rgb(36,36,36)",
              "ticks": "outside"
             }
            },
            "type": "parcoords"
           }
          ],
          "pie": [
           {
            "automargin": true,
            "type": "pie"
           }
          ],
          "scatter": [
           {
            "fillpattern": {
             "fillmode": "overlay",
             "size": 10,
             "solidity": 0.2
            },
            "type": "scatter"
           }
          ],
          "scatter3d": [
           {
            "line": {
             "colorbar": {
              "outlinewidth": 1,
              "tickcolor": "rgb(36,36,36)",
              "ticks": "outside"
             }
            },
            "marker": {
             "colorbar": {
              "outlinewidth": 1,
              "tickcolor": "rgb(36,36,36)",
              "ticks": "outside"
             }
            },
            "type": "scatter3d"
           }
          ],
          "scattercarpet": [
           {
            "marker": {
             "colorbar": {
              "outlinewidth": 1,
              "tickcolor": "rgb(36,36,36)",
              "ticks": "outside"
             }
            },
            "type": "scattercarpet"
           }
          ],
          "scattergeo": [
           {
            "marker": {
             "colorbar": {
              "outlinewidth": 1,
              "tickcolor": "rgb(36,36,36)",
              "ticks": "outside"
             }
            },
            "type": "scattergeo"
           }
          ],
          "scattergl": [
           {
            "marker": {
             "colorbar": {
              "outlinewidth": 1,
              "tickcolor": "rgb(36,36,36)",
              "ticks": "outside"
             }
            },
            "type": "scattergl"
           }
          ],
          "scattermap": [
           {
            "marker": {
             "colorbar": {
              "outlinewidth": 1,
              "tickcolor": "rgb(36,36,36)",
              "ticks": "outside"
             }
            },
            "type": "scattermap"
           }
          ],
          "scattermapbox": [
           {
            "marker": {
             "colorbar": {
              "outlinewidth": 1,
              "tickcolor": "rgb(36,36,36)",
              "ticks": "outside"
             }
            },
            "type": "scattermapbox"
           }
          ],
          "scatterpolar": [
           {
            "marker": {
             "colorbar": {
              "outlinewidth": 1,
              "tickcolor": "rgb(36,36,36)",
              "ticks": "outside"
             }
            },
            "type": "scatterpolar"
           }
          ],
          "scatterpolargl": [
           {
            "marker": {
             "colorbar": {
              "outlinewidth": 1,
              "tickcolor": "rgb(36,36,36)",
              "ticks": "outside"
             }
            },
            "type": "scatterpolargl"
           }
          ],
          "scatterternary": [
           {
            "marker": {
             "colorbar": {
              "outlinewidth": 1,
              "tickcolor": "rgb(36,36,36)",
              "ticks": "outside"
             }
            },
            "type": "scatterternary"
           }
          ],
          "surface": [
           {
            "colorbar": {
             "outlinewidth": 1,
             "tickcolor": "rgb(36,36,36)",
             "ticks": "outside"
            },
            "colorscale": [
             [
              0,
              "#440154"
             ],
             [
              0.1111111111111111,
              "#482878"
             ],
             [
              0.2222222222222222,
              "#3e4989"
             ],
             [
              0.3333333333333333,
              "#31688e"
             ],
             [
              0.4444444444444444,
              "#26828e"
             ],
             [
              0.5555555555555556,
              "#1f9e89"
             ],
             [
              0.6666666666666666,
              "#35b779"
             ],
             [
              0.7777777777777778,
              "#6ece58"
             ],
             [
              0.8888888888888888,
              "#b5de2b"
             ],
             [
              1,
              "#fde725"
             ]
            ],
            "type": "surface"
           }
          ],
          "table": [
           {
            "cells": {
             "fill": {
              "color": "rgb(237,237,237)"
             },
             "line": {
              "color": "white"
             }
            },
            "header": {
             "fill": {
              "color": "rgb(217,217,217)"
             },
             "line": {
              "color": "white"
             }
            },
            "type": "table"
           }
          ]
         },
         "layout": {
          "annotationdefaults": {
           "arrowhead": 0,
           "arrowwidth": 1
          },
          "autotypenumbers": "strict",
          "coloraxis": {
           "colorbar": {
            "outlinewidth": 1,
            "tickcolor": "rgb(36,36,36)",
            "ticks": "outside"
           }
          },
          "colorscale": {
           "diverging": [
            [
             0,
             "rgb(103,0,31)"
            ],
            [
             0.1,
             "rgb(178,24,43)"
            ],
            [
             0.2,
             "rgb(214,96,77)"
            ],
            [
             0.3,
             "rgb(244,165,130)"
            ],
            [
             0.4,
             "rgb(253,219,199)"
            ],
            [
             0.5,
             "rgb(247,247,247)"
            ],
            [
             0.6,
             "rgb(209,229,240)"
            ],
            [
             0.7,
             "rgb(146,197,222)"
            ],
            [
             0.8,
             "rgb(67,147,195)"
            ],
            [
             0.9,
             "rgb(33,102,172)"
            ],
            [
             1,
             "rgb(5,48,97)"
            ]
           ],
           "sequential": [
            [
             0,
             "#440154"
            ],
            [
             0.1111111111111111,
             "#482878"
            ],
            [
             0.2222222222222222,
             "#3e4989"
            ],
            [
             0.3333333333333333,
             "#31688e"
            ],
            [
             0.4444444444444444,
             "#26828e"
            ],
            [
             0.5555555555555556,
             "#1f9e89"
            ],
            [
             0.6666666666666666,
             "#35b779"
            ],
            [
             0.7777777777777778,
             "#6ece58"
            ],
            [
             0.8888888888888888,
             "#b5de2b"
            ],
            [
             1,
             "#fde725"
            ]
           ],
           "sequentialminus": [
            [
             0,
             "#440154"
            ],
            [
             0.1111111111111111,
             "#482878"
            ],
            [
             0.2222222222222222,
             "#3e4989"
            ],
            [
             0.3333333333333333,
             "#31688e"
            ],
            [
             0.4444444444444444,
             "#26828e"
            ],
            [
             0.5555555555555556,
             "#1f9e89"
            ],
            [
             0.6666666666666666,
             "#35b779"
            ],
            [
             0.7777777777777778,
             "#6ece58"
            ],
            [
             0.8888888888888888,
             "#b5de2b"
            ],
            [
             1,
             "#fde725"
            ]
           ]
          },
          "colorway": [
           "#1F77B4",
           "#FF7F0E",
           "#2CA02C",
           "#D62728",
           "#9467BD",
           "#8C564B",
           "#E377C2",
           "#7F7F7F",
           "#BCBD22",
           "#17BECF"
          ],
          "font": {
           "color": "rgb(36,36,36)"
          },
          "geo": {
           "bgcolor": "white",
           "lakecolor": "white",
           "landcolor": "white",
           "showlakes": true,
           "showland": true,
           "subunitcolor": "white"
          },
          "hoverlabel": {
           "align": "left"
          },
          "hovermode": "closest",
          "mapbox": {
           "style": "light"
          },
          "paper_bgcolor": "white",
          "plot_bgcolor": "white",
          "polar": {
           "angularaxis": {
            "gridcolor": "rgb(232,232,232)",
            "linecolor": "rgb(36,36,36)",
            "showgrid": false,
            "showline": true,
            "ticks": "outside"
           },
           "bgcolor": "white",
           "radialaxis": {
            "gridcolor": "rgb(232,232,232)",
            "linecolor": "rgb(36,36,36)",
            "showgrid": false,
            "showline": true,
            "ticks": "outside"
           }
          },
          "scene": {
           "xaxis": {
            "backgroundcolor": "white",
            "gridcolor": "rgb(232,232,232)",
            "gridwidth": 2,
            "linecolor": "rgb(36,36,36)",
            "showbackground": true,
            "showgrid": false,
            "showline": true,
            "ticks": "outside",
            "zeroline": false,
            "zerolinecolor": "rgb(36,36,36)"
           },
           "yaxis": {
            "backgroundcolor": "white",
            "gridcolor": "rgb(232,232,232)",
            "gridwidth": 2,
            "linecolor": "rgb(36,36,36)",
            "showbackground": true,
            "showgrid": false,
            "showline": true,
            "ticks": "outside",
            "zeroline": false,
            "zerolinecolor": "rgb(36,36,36)"
           },
           "zaxis": {
            "backgroundcolor": "white",
            "gridcolor": "rgb(232,232,232)",
            "gridwidth": 2,
            "linecolor": "rgb(36,36,36)",
            "showbackground": true,
            "showgrid": false,
            "showline": true,
            "ticks": "outside",
            "zeroline": false,
            "zerolinecolor": "rgb(36,36,36)"
           }
          },
          "shapedefaults": {
           "fillcolor": "black",
           "line": {
            "width": 0
           },
           "opacity": 0.3
          },
          "ternary": {
           "aaxis": {
            "gridcolor": "rgb(232,232,232)",
            "linecolor": "rgb(36,36,36)",
            "showgrid": false,
            "showline": true,
            "ticks": "outside"
           },
           "baxis": {
            "gridcolor": "rgb(232,232,232)",
            "linecolor": "rgb(36,36,36)",
            "showgrid": false,
            "showline": true,
            "ticks": "outside"
           },
           "bgcolor": "white",
           "caxis": {
            "gridcolor": "rgb(232,232,232)",
            "linecolor": "rgb(36,36,36)",
            "showgrid": false,
            "showline": true,
            "ticks": "outside"
           }
          },
          "title": {
           "x": 0.05
          },
          "xaxis": {
           "automargin": true,
           "gridcolor": "rgb(232,232,232)",
           "linecolor": "rgb(36,36,36)",
           "showgrid": false,
           "showline": true,
           "ticks": "outside",
           "title": {
            "standoff": 15
           },
           "zeroline": false,
           "zerolinecolor": "rgb(36,36,36)"
          },
          "yaxis": {
           "automargin": true,
           "gridcolor": "rgb(232,232,232)",
           "linecolor": "rgb(36,36,36)",
           "showgrid": false,
           "showline": true,
           "ticks": "outside",
           "title": {
            "standoff": 15
           },
           "zeroline": false,
           "zerolinecolor": "rgb(36,36,36)"
          }
         }
        },
        "title": {
         "text": "model_2 — SHAP Dependence: start_time_hour"
        },
        "xaxis": {
         "title": {
          "text": "Start hour (0–23)"
         }
        },
        "yaxis": {
         "title": {
          "text": "SHAP value (impact on prediction)"
         }
        }
       }
      }
     },
     "metadata": {},
     "output_type": "display_data"
    },
    {
     "data": {
      "application/vnd.plotly.v1+json": {
       "config": {
        "plotlyServerURL": "https://plot.ly"
       },
       "data": [
        {
         "mode": "markers",
         "name": "samples",
         "opacity": 0.35,
         "type": "scatter",
         "x": {
          "bdata": "3t3d3d3dBUDe3d3d3d35P5qZmZmZmR5Aq6qqqqqqFUARERERERH1P83MzMzMzBhAmpmZmZmZ4T+JiIiIiIgOQHd3d3d3dw9AAAAAAACAKUAAAAAAAADwP0RERERERA5AREREREREF0BmZmZmZmbyP0RERERERAhAzczMzMzME0AiIiIiIiIRQAAAAAAAAARAzczMzMzM/D8iIiIiIiITQKuqqqqqqvY/zczMzMzMFEDNzMzMzMwKQLy7u7u7u9s/AAAAAAAAEUAiIiIiIiIGQImIiIiIiBBAmpmZmZmZFkAAAAAAAAAUQKuqqqqqquo/REREREREBEBEREREREQAQO/u7u7u7hFAMzMzMzMz/z+JiIiIiIgWQFVVVVVVVbU/iYiIiIiIFECJiIiIiIggQHd3d3d3dwdAREREREREEkCamZmZmZkSQJqZmZmZmRtAERERERERHkBEREREREQYQN7d3d3d3Q9A7+7u7u7uDkBmZmZmZmYMQDMzMzMzMx9AERERERFRMEC8u7u7u7sFQGZmZmZmZiBAVVVVVVXVJkAzMzMzMzMDQCIiIiIiIgRAMzMzMzMzCUAREREREREQQJqZmZmZmdk/AAAAAAAA0D93d3d3d3cWQLy7u7u7ux1AERERERERD0AzMzMzMzMmQDMzMzMzMxBAIiIiIiIiFUCamZmZmZkeQO/u7u7u7h5AvLu7u7u7FkAAAAAAAAAOQHd3d3d3dxFAmpmZmZmZ4T8RERERERETQBERERERERVAERERERERK0BVVVVVVVUBQGZmZmZmZghAZmZmZmZmBkARERERERH1P1VVVVVVVcU/IiIiIiIi0j93d3d3d3fHP7y7u7u7uxZA3t3d3d3dvT93d3d3d3cHQImIiIiIiABAmpmZmZmZGUC8u7u7u7sPQAAAAAAAAApAERERERERkT+rqqqqqqoXQAAAAAAAAAJAd3d3d3d3E0AiIiIiIiL6P0RERERERPg/REREREREEkDNzMzMzMwOQFVVVVVVVeU/zczMzMzMLEB3d3d3d3cJQN7d3d3d3RtA7+7u7u7uBkCamZmZmZn9P+/u7u7u7u4/VVVVVVVV9T/v7u7u7u4MQN7d3d3d3Q9AAAAAAAAAEUC8u7u7uzszQN7d3d3d3e0/d3d3d3d3D0CJiIiIiIjoP0RERERERCJAd3d3d3d3I0BERERERET8P+/u7u7u7hVAd3d3d3d37z/NzMzMzMwXQImIiIiIiA5AVVVVVVVVIUDNzMzMzMz0PxEREREREfU/RERERERE1D9ERERERETsP+/u7u7ubiNA7+7u7u7u/j9EREREREQTQCIiIiIiIgZAZmZmZmZmEUBVVVVVVVULQBEREREREdE/iYiIiIiIBEAiIiIiIiIQQBERERERERRAZmZmZmZmF0BmZmZmZuYhQERERERERBFAAAAAAAAA4D/NzMzMzMwAQImIiIiIiCFAd3d3d3d3EECJiIiIiIgAQImIiIiIiAJAZmZmZmZmEkAAAAAAAAAOQJqZmZmZmdk/AAAAAAAAGkCJiIiIiIgYQFVVVVVV1SNAAAAAAAAADEBVVVVVVVX1P7y7u7u7u/s/zczMzMxMIkBEREREREQAQN7d3d3d3QlAVVVVVVVV9T8iIiIiIiICQFVVVVVVVRhAmpmZmZmZC0CrqqqqqqoiQN7d3d3d3QdAMzMzMzMz/z+amZmZmZkPQO/u7u7u7ghAERERERERkT93d3d3d3f7P1VVVVVVVRFA7+7u7u6uN0AiIiIiIiICQAAAAAAAADJAzczMzMzM+D+rqqqqqqraPzMzMzMzMxBA3t3d3d3dD0CamZmZmZkNQERERERERBpAvLu7u7u7EEBEREREREQZQGZmZmZmZu4/ZmZmZmZmG0DNzMzMzMwdQHd3d3d3dxRA7+7u7u7u8j/e3d3d3d0HQM3MzMzMzBRA7+7u7u7uDkAiIiIiIiL+P4mIiIiICCZAMzMzMzMzGUBERERERET8PxERERERERBAiYiIiIiIDkAiIiIiIiL+P4mIiIiIiARAZmZmZmZmEUBVVVVVVVURQN7d3d3d3e0/3t3d3d3dEEDv7u7u7u76PyIiIiIiIiFAvLu7u7u7EUBmZmZmZmYYQDMzMzMzMw1AvLu7u7u7D0AREREREREPQFVVVVVVVRNAq6qqqqqq/j+amZmZmZkaQLy7u7u7u/M/vLu7u7u7HkCrqqqqqqoXQBEREREREbE/q6qqqqqq6j8iIiIiIqItQBEREREREZE/VVVVVVVVEUC8u7u7u7sSQImIiIiIiBRAmpmZmZmZFEAiIiIiIiLSP4mIiIiIiOg/ERERERERG0CamZmZmZkQQGZmZmZmZgRA7+7u7u7uCEC8u7u7u7sQQCIiIiIiIhJAIiIiIiIiEkAAAAAAAAD8P7y7u7u7uyVAIiIiIiIiEEBVVVVVVVXVP4mIiIiIiARAZmZmZmZm8j+amZmZmZkRQBEREREREdE/q6qqqqqqFUDNzMzMzMweQImIiIiIiBBAZmZmZmZm9j/v7u7u7m4gQGZmZmZmZh9AERERERERIkAREREREZEoQJqZmZmZmRFAd3d3d3d3D0CJiIiIiIgSQJqZmZmZmRpAVVVVVVVV1T8AAAAAAIAiQN7d3d3d3QNAREREREREHkDe3d3d3d39P5qZmZmZmQ1AvLu7u7u7DUDe3d3d3d3lP7y7u7u7uxJA7+7u7u7uDEDe3d3d3d3tPzMzMzMzMyFAAAAAAAAADECamZmZmZkiQBERERERkSJAmpmZmZmZ9T8REREREREDQFVVVVVVVRlAZmZmZmZmGkAzMzMzMzMJQJqZmZmZmSRA3t3d3d3dGkCrqqqqqiopQImIiIiIiNg/q6qqqqqqCkB3d3d3d3cDQLy7u7u7u/c/q6qqqqqqBEC8u7u7u7vjPxERERERERZAmpmZmZmZHUBmZmZmZmbyP2ZmZmZmZhVAzczMzMzMDkBVVVVVVVUgQFVVVVVV1SJAZmZmZmZmCEBVVVVVVdUrQGZmZmZmZhdAZmZmZmbmIkBEREREREQOQImIiIiIiOg/MzMzMzMz0z9mZmZmZmYcQN7d3d3d3fU/iYiIiIgII0BEREREREQMQLy7u7u7u8s/MzMzMzMz9z/v7u7u7u7ePxERERERERJA3t3d3d3dEkBmZmZmZmYeQHd3d3d3d/M/q6qqqqqq4j/e3d3d3d0gQO/u7u7u7hFAZmZmZmZm/j9EREREREQaQKuqqqqqqh5Aq6qqqqqqEkDe3d3d3d29PxEREREREf0/IiIiIiIiDkDv7u7u7u4ZQN7d3d3d3RFAAAAAAAAADEDe3d3d3d39P83MzMzMzOw/IiIiIiIiEECamZmZmZkjQImIiIiIiOg/iYiIiIiI8D9VVVVVVVXFPxEREREREaE/ZmZmZmZmEECrqqqqqqryP0RERERERB9AERERERERwT+8u7u7u7sHQLy7u7u7u/s/mpmZmZmZuT9VVVVVVVXVPzMzMzMzMxdAq6qqqqqqBECrqqqqqqraPzMzMzMzsyRAvLu7u7u74z9ERERERETsP7y7u7u7uwFAVVVVVVXVIEDe3d3d3d0YQO/u7u7ubiBAERERERERIkB3d3d3d3fzPyIiIiIiIgBAMzMzMzMz/z9VVVVVVVX1P0REREREROQ/7+7u7u7uEECamZmZmZkJQDMzMzMzM/M/d3d3d3d3CUCrqqqqqqoSQERERERERPw/VVVVVVVVE0BVVVVVVVULQERERERERAhAmpmZmZmZ/T8AAAAAAAAdQDMzMzMzMxJAd3d3d3d37z8zMzMzMzP/P6uqqqqqqvo/zczMzMzMDkBmZmZmZuYhQAAAAAAAABRAMzMzMzMzIUAiIiIiIiIGQERERERERAZAmpmZmZmZCUBmZmZmZmYAQBEREREREQdAzczMzMzM7D93d3d3d3cPQJqZmZmZmR9AvLu7u7u7A0De3d3d3d0hQHd3d3d3dwdAzczMzMxMIkAAAAAAAAAKQImIiIiIiBVAAAAAAAAAEECrqqqqqqogQGZmZmZmZipAmpmZmZmZIEDNzMzMzMwQQFVVVVVVVRBAq6qqqqqqCEDe3d3d3d0JQCIiIiIiIhBAd3d3d3d39z8iIiIiIiLSPxERERERESpAMzMzMzMzFUAzMzMzMzMBQCIiIiIiIvY/MzMzMzMz+z9EREREREQKQERERERERCJAEREREREREEBEREREREQQQBEREREREaE/RERERERE1D/v7u7u7u4KQImIiIiIiB5AIiIiIiIiHEAREREREREWQJqZmZmZmRNAvLu7u7u7A0AiIiIiIiIfQKuqqqqqqhtAMzMzMzMzD0Dv7u7u7u4fQHd3d3d39yBAd3d3d3d38z9mZmZmZmYSQHd3d3d3dyVAMzMzMzMzA0C8u7u7u7vrP+/u7u7u7hJAIiIiIiIiIUC8u7u7u7sXQN7d3d3d3R5AZmZmZmZmDkBVVVVVVdUiQJqZmZmZmak/zczMzMzM3D8zMzMzMzMbQGZmZmZmZgRAAAAAAAAAEUBEREREREQdQGZmZmZmZi5AzczMzMzME0AREREREREZQERERERERBBAIiIiIiIiCkAREREREREiQJqZmZmZmRBAVVVVVVVVHEBEREREREQfQDMzMzMzMyNAd3d3d3d38z/e3d3d3d0WQM3MzMzMzBtAZmZmZmZmE0BmZmZmZmYKQBERERERERxAERERERERkT+JiIiIiIj0PzMzMzMzMw9AiYiIiIiICkAAAAAAAADQP2ZmZmZmZhJAAAAAAAAAJEC8u7u7u7sQQN7d3d3d3QdA7+7u7u7u5j+amZmZmZkFQBERERERERNARERERETENkAREREREREBQN7d3d3d3b0/q6qqqqoqJkDe3d3d3d3lP7y7u7u7uwVA7+7u7u7uFEDe3d3d3d3xP4mIiIiIiAhAIiIiIiIiAkDe3d3d3d0YQImIiIiIiBdA3t3d3d3dAUDNzMzMzMwpQAAAAAAAAAhARERERETEIUAAAAAAAAD0P97d3d3d3QFAmpmZmZmZEUAAAAAAAAAcQM3MzMzMzPA/mpmZmZmZ2T8REREREZEgQO/u7u7u7h9AERERERERHkARERERERHBP0RERERERPQ/MzMzMzMzGUB3d3d3d3cFQERERERERBtAiYiIiIiI/D/e3d3d3d0PQO/u7u7u7gpAIiIiIiIiG0DNzMzMzMwWQCIiIiIiIuo/IiIiIiIiIEAAAAAAAADoP3d3d3d3d8c/IiIiIiIiI0C8u7u7u7sBQO/u7u7u7hJAq6qqqqqqHEBEREREREQgQJqZmZmZGSBAiYiIiIhIMEAzMzMzMzMHQN7d3d3d3f0/3t3d3d3dHkDNzMzMzMwGQKuqqqqqqhdA7+7u7u7uHECJiIiIiIgQQO/u7u7u7gpA3t3d3d3d8T/NzMzMzMzkP1VVVVVVVRhAZmZmZmZm/j8zMzMzMzMPQM3MzMzMzBBAERERERERFEDe3d3d3d0ZQFVVVVVVVSJAzczMzMzMCkCJiIiIiIgbQJqZmZmZmek/mpmZmZmZEEBEREREREQAQJqZmZmZmeE/VVVVVVVVCUDv7u7u7u7ePzMzMzMzMwVAVVVVVVVVEkA=",
          "dtype": "f8"
         },
         "y": {
          "bdata": "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",
          "dtype": "f8"
         }
        },
        {
         "mode": "lines+markers",
         "name": "mean by duration bin",
         "type": "scatter",
         "x": {
          "bdata": "yzZfDrBs5z8TsEpSC/cCQOGJ3gie6A9ApM37FJcMFkCHcziHc7gcQG5I3obkbSFAwPqrv/orJEBjyS+W/GInQBzHcRzHcSpAx3Ecx3GcLUDNzMzMzEwwQAAAAAAAADJAvLu7u7s7M0BERERERMQ2QO/u7u7urjdA",
          "dtype": "f8"
         },
         "y": {
          "bdata": "hKjuIp6nzb8YElGDrWCsP4Yrt1UaBsA/yNzZd4xksD+E9O/L17KzP6c8E8Ur1bc/TwjehBDnyD9yLAYJgbfhP29v9BNJK94/dVc7K76w2z+FvWAw1HTXP3GEvBAsEec/Paxcd+Nm0z9mOXvyM/vWP1zi0NdpRdk/",
          "dtype": "f8"
         }
        }
       ],
       "layout": {
        "template": {
         "data": {
          "bar": [
           {
            "error_x": {
             "color": "rgb(36,36,36)"
            },
            "error_y": {
             "color": "rgb(36,36,36)"
            },
            "marker": {
             "line": {
              "color": "white",
              "width": 0.5
             },
             "pattern": {
              "fillmode": "overlay",
              "size": 10,
              "solidity": 0.2
             }
            },
            "type": "bar"
           }
          ],
          "barpolar": [
           {
            "marker": {
             "line": {
              "color": "white",
              "width": 0.5
             },
             "pattern": {
              "fillmode": "overlay",
              "size": 10,
              "solidity": 0.2
             }
            },
            "type": "barpolar"
           }
          ],
          "carpet": [
           {
            "aaxis": {
             "endlinecolor": "rgb(36,36,36)",
             "gridcolor": "white",
             "linecolor": "white",
             "minorgridcolor": "white",
             "startlinecolor": "rgb(36,36,36)"
            },
            "baxis": {
             "endlinecolor": "rgb(36,36,36)",
             "gridcolor": "white",
             "linecolor": "white",
             "minorgridcolor": "white",
             "startlinecolor": "rgb(36,36,36)"
            },
            "type": "carpet"
           }
          ],
          "choropleth": [
           {
            "colorbar": {
             "outlinewidth": 1,
             "tickcolor": "rgb(36,36,36)",
             "ticks": "outside"
            },
            "type": "choropleth"
           }
          ],
          "contour": [
           {
            "colorbar": {
             "outlinewidth": 1,
             "tickcolor": "rgb(36,36,36)",
             "ticks": "outside"
            },
            "colorscale": [
             [
              0,
              "#440154"
             ],
             [
              0.1111111111111111,
              "#482878"
             ],
             [
              0.2222222222222222,
              "#3e4989"
             ],
             [
              0.3333333333333333,
              "#31688e"
             ],
             [
              0.4444444444444444,
              "#26828e"
             ],
             [
              0.5555555555555556,
              "#1f9e89"
             ],
             [
              0.6666666666666666,
              "#35b779"
             ],
             [
              0.7777777777777778,
              "#6ece58"
             ],
             [
              0.8888888888888888,
              "#b5de2b"
             ],
             [
              1,
              "#fde725"
             ]
            ],
            "type": "contour"
           }
          ],
          "contourcarpet": [
           {
            "colorbar": {
             "outlinewidth": 1,
             "tickcolor": "rgb(36,36,36)",
             "ticks": "outside"
            },
            "type": "contourcarpet"
           }
          ],
          "heatmap": [
           {
            "colorbar": {
             "outlinewidth": 1,
             "tickcolor": "rgb(36,36,36)",
             "ticks": "outside"
            },
            "colorscale": [
             [
              0,
              "#440154"
             ],
             [
              0.1111111111111111,
              "#482878"
             ],
             [
              0.2222222222222222,
              "#3e4989"
             ],
             [
              0.3333333333333333,
              "#31688e"
             ],
             [
              0.4444444444444444,
              "#26828e"
             ],
             [
              0.5555555555555556,
              "#1f9e89"
             ],
             [
              0.6666666666666666,
              "#35b779"
             ],
             [
              0.7777777777777778,
              "#6ece58"
             ],
             [
              0.8888888888888888,
              "#b5de2b"
             ],
             [
              1,
              "#fde725"
             ]
            ],
            "type": "heatmap"
           }
          ],
          "histogram": [
           {
            "marker": {
             "line": {
              "color": "white",
              "width": 0.6
             }
            },
            "type": "histogram"
           }
          ],
          "histogram2d": [
           {
            "colorbar": {
             "outlinewidth": 1,
             "tickcolor": "rgb(36,36,36)",
             "ticks": "outside"
            },
            "colorscale": [
             [
              0,
              "#440154"
             ],
             [
              0.1111111111111111,
              "#482878"
             ],
             [
              0.2222222222222222,
              "#3e4989"
             ],
             [
              0.3333333333333333,
              "#31688e"
             ],
             [
              0.4444444444444444,
              "#26828e"
             ],
             [
              0.5555555555555556,
              "#1f9e89"
             ],
             [
              0.6666666666666666,
              "#35b779"
             ],
             [
              0.7777777777777778,
              "#6ece58"
             ],
             [
              0.8888888888888888,
              "#b5de2b"
             ],
             [
              1,
              "#fde725"
             ]
            ],
            "type": "histogram2d"
           }
          ],
          "histogram2dcontour": [
           {
            "colorbar": {
             "outlinewidth": 1,
             "tickcolor": "rgb(36,36,36)",
             "ticks": "outside"
            },
            "colorscale": [
             [
              0,
              "#440154"
             ],
             [
              0.1111111111111111,
              "#482878"
             ],
             [
              0.2222222222222222,
              "#3e4989"
             ],
             [
              0.3333333333333333,
              "#31688e"
             ],
             [
              0.4444444444444444,
              "#26828e"
             ],
             [
              0.5555555555555556,
              "#1f9e89"
             ],
             [
              0.6666666666666666,
              "#35b779"
             ],
             [
              0.7777777777777778,
              "#6ece58"
             ],
             [
              0.8888888888888888,
              "#b5de2b"
             ],
             [
              1,
              "#fde725"
             ]
            ],
            "type": "histogram2dcontour"
           }
          ],
          "mesh3d": [
           {
            "colorbar": {
             "outlinewidth": 1,
             "tickcolor": "rgb(36,36,36)",
             "ticks": "outside"
            },
            "type": "mesh3d"
           }
          ],
          "parcoords": [
           {
            "line": {
             "colorbar": {
              "outlinewidth": 1,
              "tickcolor": "rgb(36,36,36)",
              "ticks": "outside"
             }
            },
            "type": "parcoords"
           }
          ],
          "pie": [
           {
            "automargin": true,
            "type": "pie"
           }
          ],
          "scatter": [
           {
            "fillpattern": {
             "fillmode": "overlay",
             "size": 10,
             "solidity": 0.2
            },
            "type": "scatter"
           }
          ],
          "scatter3d": [
           {
            "line": {
             "colorbar": {
              "outlinewidth": 1,
              "tickcolor": "rgb(36,36,36)",
              "ticks": "outside"
             }
            },
            "marker": {
             "colorbar": {
              "outlinewidth": 1,
              "tickcolor": "rgb(36,36,36)",
              "ticks": "outside"
             }
            },
            "type": "scatter3d"
           }
          ],
          "scattercarpet": [
           {
            "marker": {
             "colorbar": {
              "outlinewidth": 1,
              "tickcolor": "rgb(36,36,36)",
              "ticks": "outside"
             }
            },
            "type": "scattercarpet"
           }
          ],
          "scattergeo": [
           {
            "marker": {
             "colorbar": {
              "outlinewidth": 1,
              "tickcolor": "rgb(36,36,36)",
              "ticks": "outside"
             }
            },
            "type": "scattergeo"
           }
          ],
          "scattergl": [
           {
            "marker": {
             "colorbar": {
              "outlinewidth": 1,
              "tickcolor": "rgb(36,36,36)",
              "ticks": "outside"
             }
            },
            "type": "scattergl"
           }
          ],
          "scattermap": [
           {
            "marker": {
             "colorbar": {
              "outlinewidth": 1,
              "tickcolor": "rgb(36,36,36)",
              "ticks": "outside"
             }
            },
            "type": "scattermap"
           }
          ],
          "scattermapbox": [
           {
            "marker": {
             "colorbar": {
              "outlinewidth": 1,
              "tickcolor": "rgb(36,36,36)",
              "ticks": "outside"
             }
            },
            "type": "scattermapbox"
           }
          ],
          "scatterpolar": [
           {
            "marker": {
             "colorbar": {
              "outlinewidth": 1,
              "tickcolor": "rgb(36,36,36)",
              "ticks": "outside"
             }
            },
            "type": "scatterpolar"
           }
          ],
          "scatterpolargl": [
           {
            "marker": {
             "colorbar": {
              "outlinewidth": 1,
              "tickcolor": "rgb(36,36,36)",
              "ticks": "outside"
             }
            },
            "type": "scatterpolargl"
           }
          ],
          "scatterternary": [
           {
            "marker": {
             "colorbar": {
              "outlinewidth": 1,
              "tickcolor": "rgb(36,36,36)",
              "ticks": "outside"
             }
            },
            "type": "scatterternary"
           }
          ],
          "surface": [
           {
            "colorbar": {
             "outlinewidth": 1,
             "tickcolor": "rgb(36,36,36)",
             "ticks": "outside"
            },
            "colorscale": [
             [
              0,
              "#440154"
             ],
             [
              0.1111111111111111,
              "#482878"
             ],
             [
              0.2222222222222222,
              "#3e4989"
             ],
             [
              0.3333333333333333,
              "#31688e"
             ],
             [
              0.4444444444444444,
              "#26828e"
             ],
             [
              0.5555555555555556,
              "#1f9e89"
             ],
             [
              0.6666666666666666,
              "#35b779"
             ],
             [
              0.7777777777777778,
              "#6ece58"
             ],
             [
              0.8888888888888888,
              "#b5de2b"
             ],
             [
              1,
              "#fde725"
             ]
            ],
            "type": "surface"
           }
          ],
          "table": [
           {
            "cells": {
             "fill": {
              "color": "rgb(237,237,237)"
             },
             "line": {
              "color": "white"
             }
            },
            "header": {
             "fill": {
              "color": "rgb(217,217,217)"
             },
             "line": {
              "color": "white"
             }
            },
            "type": "table"
           }
          ]
         },
         "layout": {
          "annotationdefaults": {
           "arrowhead": 0,
           "arrowwidth": 1
          },
          "autotypenumbers": "strict",
          "coloraxis": {
           "colorbar": {
            "outlinewidth": 1,
            "tickcolor": "rgb(36,36,36)",
            "ticks": "outside"
           }
          },
          "colorscale": {
           "diverging": [
            [
             0,
             "rgb(103,0,31)"
            ],
            [
             0.1,
             "rgb(178,24,43)"
            ],
            [
             0.2,
             "rgb(214,96,77)"
            ],
            [
             0.3,
             "rgb(244,165,130)"
            ],
            [
             0.4,
             "rgb(253,219,199)"
            ],
            [
             0.5,
             "rgb(247,247,247)"
            ],
            [
             0.6,
             "rgb(209,229,240)"
            ],
            [
             0.7,
             "rgb(146,197,222)"
            ],
            [
             0.8,
             "rgb(67,147,195)"
            ],
            [
             0.9,
             "rgb(33,102,172)"
            ],
            [
             1,
             "rgb(5,48,97)"
            ]
           ],
           "sequential": [
            [
             0,
             "#440154"
            ],
            [
             0.1111111111111111,
             "#482878"
            ],
            [
             0.2222222222222222,
             "#3e4989"
            ],
            [
             0.3333333333333333,
             "#31688e"
            ],
            [
             0.4444444444444444,
             "#26828e"
            ],
            [
             0.5555555555555556,
             "#1f9e89"
            ],
            [
             0.6666666666666666,
             "#35b779"
            ],
            [
             0.7777777777777778,
             "#6ece58"
            ],
            [
             0.8888888888888888,
             "#b5de2b"
            ],
            [
             1,
             "#fde725"
            ]
           ],
           "sequentialminus": [
            [
             0,
             "#440154"
            ],
            [
             0.1111111111111111,
             "#482878"
            ],
            [
             0.2222222222222222,
             "#3e4989"
            ],
            [
             0.3333333333333333,
             "#31688e"
            ],
            [
             0.4444444444444444,
             "#26828e"
            ],
            [
             0.5555555555555556,
             "#1f9e89"
            ],
            [
             0.6666666666666666,
             "#35b779"
            ],
            [
             0.7777777777777778,
             "#6ece58"
            ],
            [
             0.8888888888888888,
             "#b5de2b"
            ],
            [
             1,
             "#fde725"
            ]
           ]
          },
          "colorway": [
           "#1F77B4",
           "#FF7F0E",
           "#2CA02C",
           "#D62728",
           "#9467BD",
           "#8C564B",
           "#E377C2",
           "#7F7F7F",
           "#BCBD22",
           "#17BECF"
          ],
          "font": {
           "color": "rgb(36,36,36)"
          },
          "geo": {
           "bgcolor": "white",
           "lakecolor": "white",
           "landcolor": "white",
           "showlakes": true,
           "showland": true,
           "subunitcolor": "white"
          },
          "hoverlabel": {
           "align": "left"
          },
          "hovermode": "closest",
          "mapbox": {
           "style": "light"
          },
          "paper_bgcolor": "white",
          "plot_bgcolor": "white",
          "polar": {
           "angularaxis": {
            "gridcolor": "rgb(232,232,232)",
            "linecolor": "rgb(36,36,36)",
            "showgrid": false,
            "showline": true,
            "ticks": "outside"
           },
           "bgcolor": "white",
           "radialaxis": {
            "gridcolor": "rgb(232,232,232)",
            "linecolor": "rgb(36,36,36)",
            "showgrid": false,
            "showline": true,
            "ticks": "outside"
           }
          },
          "scene": {
           "xaxis": {
            "backgroundcolor": "white",
            "gridcolor": "rgb(232,232,232)",
            "gridwidth": 2,
            "linecolor": "rgb(36,36,36)",
            "showbackground": true,
            "showgrid": false,
            "showline": true,
            "ticks": "outside",
            "zeroline": false,
            "zerolinecolor": "rgb(36,36,36)"
           },
           "yaxis": {
            "backgroundcolor": "white",
            "gridcolor": "rgb(232,232,232)",
            "gridwidth": 2,
            "linecolor": "rgb(36,36,36)",
            "showbackground": true,
            "showgrid": false,
            "showline": true,
            "ticks": "outside",
            "zeroline": false,
            "zerolinecolor": "rgb(36,36,36)"
           },
           "zaxis": {
            "backgroundcolor": "white",
            "gridcolor": "rgb(232,232,232)",
            "gridwidth": 2,
            "linecolor": "rgb(36,36,36)",
            "showbackground": true,
            "showgrid": false,
            "showline": true,
            "ticks": "outside",
            "zeroline": false,
            "zerolinecolor": "rgb(36,36,36)"
           }
          },
          "shapedefaults": {
           "fillcolor": "black",
           "line": {
            "width": 0
           },
           "opacity": 0.3
          },
          "ternary": {
           "aaxis": {
            "gridcolor": "rgb(232,232,232)",
            "linecolor": "rgb(36,36,36)",
            "showgrid": false,
            "showline": true,
            "ticks": "outside"
           },
           "baxis": {
            "gridcolor": "rgb(232,232,232)",
            "linecolor": "rgb(36,36,36)",
            "showgrid": false,
            "showline": true,
            "ticks": "outside"
           },
           "bgcolor": "white",
           "caxis": {
            "gridcolor": "rgb(232,232,232)",
            "linecolor": "rgb(36,36,36)",
            "showgrid": false,
            "showline": true,
            "ticks": "outside"
           }
          },
          "title": {
           "x": 0.05
          },
          "xaxis": {
           "automargin": true,
           "gridcolor": "rgb(232,232,232)",
           "linecolor": "rgb(36,36,36)",
           "showgrid": false,
           "showline": true,
           "ticks": "outside",
           "title": {
            "standoff": 15
           },
           "zeroline": false,
           "zerolinecolor": "rgb(36,36,36)"
          },
          "yaxis": {
           "automargin": true,
           "gridcolor": "rgb(232,232,232)",
           "linecolor": "rgb(36,36,36)",
           "showgrid": false,
           "showline": true,
           "ticks": "outside",
           "title": {
            "standoff": 15
           },
           "zeroline": false,
           "zerolinecolor": "rgb(36,36,36)"
          }
         }
        },
        "title": {
         "text": "model_2 — SHAP Dependence: stream_duration"
        },
        "xaxis": {
         "title": {
          "text": "Duration (hours)"
         }
        },
        "yaxis": {
         "title": {
          "text": "SHAP value (impact on prediction)"
         }
        }
       }
      }
     },
     "metadata": {},
     "output_type": "display_data"
    },
    {
     "data": {
      "application/vnd.plotly.v1+json": {
       "config": {
        "plotlyServerURL": "https://plot.ly"
       },
       "data": [
        {
         "hovertemplate": "shap=%{x}<br>category=%{y}<extra></extra>",
         "legendgroup": "",
         "marker": {
          "color": "#636efa",
          "pattern": {
           "shape": ""
          }
         },
         "name": "",
         "orientation": "h",
         "showlegend": false,
         "textposition": "auto",
         "type": "bar",
         "x": {
          "bdata": "mlnEQ5BZvD9xhbtKgqTAPwBWNK2Op8A/pBTEq2IJwT88QQ2ucw7BPwqXC2Ty1sE/18vD15Z4wz9cT7bs8QfEPymZ/k6RLsc/JsGcTDaTyD8fFRLpx5jIP/agwHusaco/Ojo6fW66yj9S+L9OOMfKPwDQMhJg4cw/4aITNepRzT+4yrQoN/HNP6Q8Ss5SOs4/6zk3Rr9Fzz8fMQ9wup3QP64zATkV1dA/4QJ+Lh5o0T8pWHLBONLRP9cbGjRAT9M/UlA21Ta+2z8=",
          "dtype": "f8"
         },
         "xaxis": "x",
         "y": [
          "battlefield 2042",
          "abiotic factor",
          "battlefield v",
          "deadlock",
          "battlefield 6",
          "arma reforger",
          "brave fencer musashi",
          "path of exile 2",
          "hollow knight: silksong",
          "hearthstone",
          "deltarune",
          "geoguessr",
          "blue prince",
          "amnesia: the dark descent",
          "the legend of zelda: breath of the wild",
          "pokérogue",
          "kingdom hearts hd 1.5 + 2.5 remix",
          "helldivers 2",
          "factorio",
          "deadzone: rogue",
          "clair obscur: expedition 33",
          "baldur's gate 3",
          "daemon x machina: titanic scion",
          "rig riot",
          "red dead redemption ii"
         ],
         "yaxis": "y"
        }
       ],
       "layout": {
        "barmode": "relative",
        "legend": {
         "tracegroupgap": 0
        },
        "template": {
         "data": {
          "bar": [
           {
            "error_x": {
             "color": "rgb(36,36,36)"
            },
            "error_y": {
             "color": "rgb(36,36,36)"
            },
            "marker": {
             "line": {
              "color": "white",
              "width": 0.5
             },
             "pattern": {
              "fillmode": "overlay",
              "size": 10,
              "solidity": 0.2
             }
            },
            "type": "bar"
           }
          ],
          "barpolar": [
           {
            "marker": {
             "line": {
              "color": "white",
              "width": 0.5
             },
             "pattern": {
              "fillmode": "overlay",
              "size": 10,
              "solidity": 0.2
             }
            },
            "type": "barpolar"
           }
          ],
          "carpet": [
           {
            "aaxis": {
             "endlinecolor": "rgb(36,36,36)",
             "gridcolor": "white",
             "linecolor": "white",
             "minorgridcolor": "white",
             "startlinecolor": "rgb(36,36,36)"
            },
            "baxis": {
             "endlinecolor": "rgb(36,36,36)",
             "gridcolor": "white",
             "linecolor": "white",
             "minorgridcolor": "white",
             "startlinecolor": "rgb(36,36,36)"
            },
            "type": "carpet"
           }
          ],
          "choropleth": [
           {
            "colorbar": {
             "outlinewidth": 1,
             "tickcolor": "rgb(36,36,36)",
             "ticks": "outside"
            },
            "type": "choropleth"
           }
          ],
          "contour": [
           {
            "colorbar": {
             "outlinewidth": 1,
             "tickcolor": "rgb(36,36,36)",
             "ticks": "outside"
            },
            "colorscale": [
             [
              0,
              "#440154"
             ],
             [
              0.1111111111111111,
              "#482878"
             ],
             [
              0.2222222222222222,
              "#3e4989"
             ],
             [
              0.3333333333333333,
              "#31688e"
             ],
             [
              0.4444444444444444,
              "#26828e"
             ],
             [
              0.5555555555555556,
              "#1f9e89"
             ],
             [
              0.6666666666666666,
              "#35b779"
             ],
             [
              0.7777777777777778,
              "#6ece58"
             ],
             [
              0.8888888888888888,
              "#b5de2b"
             ],
             [
              1,
              "#fde725"
             ]
            ],
            "type": "contour"
           }
          ],
          "contourcarpet": [
           {
            "colorbar": {
             "outlinewidth": 1,
             "tickcolor": "rgb(36,36,36)",
             "ticks": "outside"
            },
            "type": "contourcarpet"
           }
          ],
          "heatmap": [
           {
            "colorbar": {
             "outlinewidth": 1,
             "tickcolor": "rgb(36,36,36)",
             "ticks": "outside"
            },
            "colorscale": [
             [
              0,
              "#440154"
             ],
             [
              0.1111111111111111,
              "#482878"
             ],
             [
              0.2222222222222222,
              "#3e4989"
             ],
             [
              0.3333333333333333,
              "#31688e"
             ],
             [
              0.4444444444444444,
              "#26828e"
             ],
             [
              0.5555555555555556,
              "#1f9e89"
             ],
             [
              0.6666666666666666,
              "#35b779"
             ],
             [
              0.7777777777777778,
              "#6ece58"
             ],
             [
              0.8888888888888888,
              "#b5de2b"
             ],
             [
              1,
              "#fde725"
             ]
            ],
            "type": "heatmap"
           }
          ],
          "histogram": [
           {
            "marker": {
             "line": {
              "color": "white",
              "width": 0.6
             }
            },
            "type": "histogram"
           }
          ],
          "histogram2d": [
           {
            "colorbar": {
             "outlinewidth": 1,
             "tickcolor": "rgb(36,36,36)",
             "ticks": "outside"
            },
            "colorscale": [
             [
              0,
              "#440154"
             ],
             [
              0.1111111111111111,
              "#482878"
             ],
             [
              0.2222222222222222,
              "#3e4989"
             ],
             [
              0.3333333333333333,
              "#31688e"
             ],
             [
              0.4444444444444444,
              "#26828e"
             ],
             [
              0.5555555555555556,
              "#1f9e89"
             ],
             [
              0.6666666666666666,
              "#35b779"
             ],
             [
              0.7777777777777778,
              "#6ece58"
             ],
             [
              0.8888888888888888,
              "#b5de2b"
             ],
             [
              1,
              "#fde725"
             ]
            ],
            "type": "histogram2d"
           }
          ],
          "histogram2dcontour": [
           {
            "colorbar": {
             "outlinewidth": 1,
             "tickcolor": "rgb(36,36,36)",
             "ticks": "outside"
            },
            "colorscale": [
             [
              0,
              "#440154"
             ],
             [
              0.1111111111111111,
              "#482878"
             ],
             [
              0.2222222222222222,
              "#3e4989"
             ],
             [
              0.3333333333333333,
              "#31688e"
             ],
             [
              0.4444444444444444,
              "#26828e"
             ],
             [
              0.5555555555555556,
              "#1f9e89"
             ],
             [
              0.6666666666666666,
              "#35b779"
             ],
             [
              0.7777777777777778,
              "#6ece58"
             ],
             [
              0.8888888888888888,
              "#b5de2b"
             ],
             [
              1,
              "#fde725"
             ]
            ],
            "type": "histogram2dcontour"
           }
          ],
          "mesh3d": [
           {
            "colorbar": {
             "outlinewidth": 1,
             "tickcolor": "rgb(36,36,36)",
             "ticks": "outside"
            },
            "type": "mesh3d"
           }
          ],
          "parcoords": [
           {
            "line": {
             "colorbar": {
              "outlinewidth": 1,
              "tickcolor": "rgb(36,36,36)",
              "ticks": "outside"
             }
            },
            "type": "parcoords"
           }
          ],
          "pie": [
           {
            "automargin": true,
            "type": "pie"
           }
          ],
          "scatter": [
           {
            "fillpattern": {
             "fillmode": "overlay",
             "size": 10,
             "solidity": 0.2
            },
            "type": "scatter"
           }
          ],
          "scatter3d": [
           {
            "line": {
             "colorbar": {
              "outlinewidth": 1,
              "tickcolor": "rgb(36,36,36)",
              "ticks": "outside"
             }
            },
            "marker": {
             "colorbar": {
              "outlinewidth": 1,
              "tickcolor": "rgb(36,36,36)",
              "ticks": "outside"
             }
            },
            "type": "scatter3d"
           }
          ],
          "scattercarpet": [
           {
            "marker": {
             "colorbar": {
              "outlinewidth": 1,
              "tickcolor": "rgb(36,36,36)",
              "ticks": "outside"
             }
            },
            "type": "scattercarpet"
           }
          ],
          "scattergeo": [
           {
            "marker": {
             "colorbar": {
              "outlinewidth": 1,
              "tickcolor": "rgb(36,36,36)",
              "ticks": "outside"
             }
            },
            "type": "scattergeo"
           }
          ],
          "scattergl": [
           {
            "marker": {
             "colorbar": {
              "outlinewidth": 1,
              "tickcolor": "rgb(36,36,36)",
              "ticks": "outside"
             }
            },
            "type": "scattergl"
           }
          ],
          "scattermap": [
           {
            "marker": {
             "colorbar": {
              "outlinewidth": 1,
              "tickcolor": "rgb(36,36,36)",
              "ticks": "outside"
             }
            },
            "type": "scattermap"
           }
          ],
          "scattermapbox": [
           {
            "marker": {
             "colorbar": {
              "outlinewidth": 1,
              "tickcolor": "rgb(36,36,36)",
              "ticks": "outside"
             }
            },
            "type": "scattermapbox"
           }
          ],
          "scatterpolar": [
           {
            "marker": {
             "colorbar": {
              "outlinewidth": 1,
              "tickcolor": "rgb(36,36,36)",
              "ticks": "outside"
             }
            },
            "type": "scatterpolar"
           }
          ],
          "scatterpolargl": [
           {
            "marker": {
             "colorbar": {
              "outlinewidth": 1,
              "tickcolor": "rgb(36,36,36)",
              "ticks": "outside"
             }
            },
            "type": "scatterpolargl"
           }
          ],
          "scatterternary": [
           {
            "marker": {
             "colorbar": {
              "outlinewidth": 1,
              "tickcolor": "rgb(36,36,36)",
              "ticks": "outside"
             }
            },
            "type": "scatterternary"
           }
          ],
          "surface": [
           {
            "colorbar": {
             "outlinewidth": 1,
             "tickcolor": "rgb(36,36,36)",
             "ticks": "outside"
            },
            "colorscale": [
             [
              0,
              "#440154"
             ],
             [
              0.1111111111111111,
              "#482878"
             ],
             [
              0.2222222222222222,
              "#3e4989"
             ],
             [
              0.3333333333333333,
              "#31688e"
             ],
             [
              0.4444444444444444,
              "#26828e"
             ],
             [
              0.5555555555555556,
              "#1f9e89"
             ],
             [
              0.6666666666666666,
              "#35b779"
             ],
             [
              0.7777777777777778,
              "#6ece58"
             ],
             [
              0.8888888888888888,
              "#b5de2b"
             ],
             [
              1,
              "#fde725"
             ]
            ],
            "type": "surface"
           }
          ],
          "table": [
           {
            "cells": {
             "fill": {
              "color": "rgb(237,237,237)"
             },
             "line": {
              "color": "white"
             }
            },
            "header": {
             "fill": {
              "color": "rgb(217,217,217)"
             },
             "line": {
              "color": "white"
             }
            },
            "type": "table"
           }
          ]
         },
         "layout": {
          "annotationdefaults": {
           "arrowhead": 0,
           "arrowwidth": 1
          },
          "autotypenumbers": "strict",
          "coloraxis": {
           "colorbar": {
            "outlinewidth": 1,
            "tickcolor": "rgb(36,36,36)",
            "ticks": "outside"
           }
          },
          "colorscale": {
           "diverging": [
            [
             0,
             "rgb(103,0,31)"
            ],
            [
             0.1,
             "rgb(178,24,43)"
            ],
            [
             0.2,
             "rgb(214,96,77)"
            ],
            [
             0.3,
             "rgb(244,165,130)"
            ],
            [
             0.4,
             "rgb(253,219,199)"
            ],
            [
             0.5,
             "rgb(247,247,247)"
            ],
            [
             0.6,
             "rgb(209,229,240)"
            ],
            [
             0.7,
             "rgb(146,197,222)"
            ],
            [
             0.8,
             "rgb(67,147,195)"
            ],
            [
             0.9,
             "rgb(33,102,172)"
            ],
            [
             1,
             "rgb(5,48,97)"
            ]
           ],
           "sequential": [
            [
             0,
             "#440154"
            ],
            [
             0.1111111111111111,
             "#482878"
            ],
            [
             0.2222222222222222,
             "#3e4989"
            ],
            [
             0.3333333333333333,
             "#31688e"
            ],
            [
             0.4444444444444444,
             "#26828e"
            ],
            [
             0.5555555555555556,
             "#1f9e89"
            ],
            [
             0.6666666666666666,
             "#35b779"
            ],
            [
             0.7777777777777778,
             "#6ece58"
            ],
            [
             0.8888888888888888,
             "#b5de2b"
            ],
            [
             1,
             "#fde725"
            ]
           ],
           "sequentialminus": [
            [
             0,
             "#440154"
            ],
            [
             0.1111111111111111,
             "#482878"
            ],
            [
             0.2222222222222222,
             "#3e4989"
            ],
            [
             0.3333333333333333,
             "#31688e"
            ],
            [
             0.4444444444444444,
             "#26828e"
            ],
            [
             0.5555555555555556,
             "#1f9e89"
            ],
            [
             0.6666666666666666,
             "#35b779"
            ],
            [
             0.7777777777777778,
             "#6ece58"
            ],
            [
             0.8888888888888888,
             "#b5de2b"
            ],
            [
             1,
             "#fde725"
            ]
           ]
          },
          "colorway": [
           "#1F77B4",
           "#FF7F0E",
           "#2CA02C",
           "#D62728",
           "#9467BD",
           "#8C564B",
           "#E377C2",
           "#7F7F7F",
           "#BCBD22",
           "#17BECF"
          ],
          "font": {
           "color": "rgb(36,36,36)"
          },
          "geo": {
           "bgcolor": "white",
           "lakecolor": "white",
           "landcolor": "white",
           "showlakes": true,
           "showland": true,
           "subunitcolor": "white"
          },
          "hoverlabel": {
           "align": "left"
          },
          "hovermode": "closest",
          "mapbox": {
           "style": "light"
          },
          "paper_bgcolor": "white",
          "plot_bgcolor": "white",
          "polar": {
           "angularaxis": {
            "gridcolor": "rgb(232,232,232)",
            "linecolor": "rgb(36,36,36)",
            "showgrid": false,
            "showline": true,
            "ticks": "outside"
           },
           "bgcolor": "white",
           "radialaxis": {
            "gridcolor": "rgb(232,232,232)",
            "linecolor": "rgb(36,36,36)",
            "showgrid": false,
            "showline": true,
            "ticks": "outside"
           }
          },
          "scene": {
           "xaxis": {
            "backgroundcolor": "white",
            "gridcolor": "rgb(232,232,232)",
            "gridwidth": 2,
            "linecolor": "rgb(36,36,36)",
            "showbackground": true,
            "showgrid": false,
            "showline": true,
            "ticks": "outside",
            "zeroline": false,
            "zerolinecolor": "rgb(36,36,36)"
           },
           "yaxis": {
            "backgroundcolor": "white",
            "gridcolor": "rgb(232,232,232)",
            "gridwidth": 2,
            "linecolor": "rgb(36,36,36)",
            "showbackground": true,
            "showgrid": false,
            "showline": true,
            "ticks": "outside",
            "zeroline": false,
            "zerolinecolor": "rgb(36,36,36)"
           },
           "zaxis": {
            "backgroundcolor": "white",
            "gridcolor": "rgb(232,232,232)",
            "gridwidth": 2,
            "linecolor": "rgb(36,36,36)",
            "showbackground": true,
            "showgrid": false,
            "showline": true,
            "ticks": "outside",
            "zeroline": false,
            "zerolinecolor": "rgb(36,36,36)"
           }
          },
          "shapedefaults": {
           "fillcolor": "black",
           "line": {
            "width": 0
           },
           "opacity": 0.3
          },
          "ternary": {
           "aaxis": {
            "gridcolor": "rgb(232,232,232)",
            "linecolor": "rgb(36,36,36)",
            "showgrid": false,
            "showline": true,
            "ticks": "outside"
           },
           "baxis": {
            "gridcolor": "rgb(232,232,232)",
            "linecolor": "rgb(36,36,36)",
            "showgrid": false,
            "showline": true,
            "ticks": "outside"
           },
           "bgcolor": "white",
           "caxis": {
            "gridcolor": "rgb(232,232,232)",
            "linecolor": "rgb(36,36,36)",
            "showgrid": false,
            "showline": true,
            "ticks": "outside"
           }
          },
          "title": {
           "x": 0.05
          },
          "xaxis": {
           "automargin": true,
           "gridcolor": "rgb(232,232,232)",
           "linecolor": "rgb(36,36,36)",
           "showgrid": false,
           "showline": true,
           "ticks": "outside",
           "title": {
            "standoff": 15
           },
           "zeroline": false,
           "zerolinecolor": "rgb(36,36,36)"
          },
          "yaxis": {
           "automargin": true,
           "gridcolor": "rgb(232,232,232)",
           "linecolor": "rgb(36,36,36)",
           "showgrid": false,
           "showline": true,
           "ticks": "outside",
           "title": {
            "standoff": 15
           },
           "zeroline": false,
           "zerolinecolor": "rgb(36,36,36)"
          }
         }
        },
        "title": {
         "text": "model_2 — Game Category Effect (mean SHAP by category)"
        },
        "xaxis": {
         "anchor": "y",
         "domain": [
          0,
          1
         ],
         "title": {
          "text": "Mean SHAP (category effect on prediction)"
         }
        },
        "yaxis": {
         "anchor": "x",
         "categoryorder": "total descending",
         "domain": [
          0,
          1
         ],
         "title": {
          "text": "category"
         }
        }
       }
      }
     },
     "metadata": {},
     "output_type": "display_data"
    },
    {
     "name": "stdout",
     "output_type": "stream",
     "text": [
      "\n",
      "Top cross-model features (consensus):\n",
      "                                     mean_rank  mean_importance  models_seen\n",
      "feature                                                                     \n",
      "stream_duration                       4.000000         0.234647            3\n",
      "avg_peak_concurrent_viewers_last_1   10.666667         0.165091            3\n",
      "avg_peak_concurrent_viewers_last_7   12.000000         0.115428            3\n",
      "avg_chats_per_hour_last_3            15.666667         0.040652            3\n",
      "avg_unique_viewers_last_7            17.000000         0.051829            3\n",
      "avg_subs_per_hour_last_14            17.333333         0.071575            3\n",
      "avg_chats_per_viewer_last_3          18.000000         0.060203            3\n",
      "avg_chats_per_viewer_last_7          18.000000         0.043903            3\n",
      "avg_peak_concurrent_viewers_last_3   20.333333         0.286809            3\n",
      "game_category                        21.000000         0.035958            3\n",
      "avg_chats_per_viewer_last_14         22.000000         0.039509            3\n",
      "avg_net_follower_change_last_14      24.000000         0.168003            3\n",
      "avg_follows_per_hour_last_7          25.333333         0.031769            3\n",
      "avg_donations_per_hour_last_14       27.000000         0.020387            3\n",
      "avg_chats_per_viewer_last_1          28.333333         0.022777            3\n",
      "avg_net_follower_change_last_1       29.333333         0.023676            3\n",
      "avg_chats_per_hour_last_14           32.333333         0.027988            3\n",
      "avg_total_subscriptions_last_14      34.000000         0.087876            3\n",
      "avg_stream_duration_last_1           35.333333         0.015390            3\n",
      "avg_unique_viewers_last_1            35.666667         0.021529            3\n",
      "avg_avg_sentiment_score_last_3       36.000000         0.016625            3\n",
      "avg_unique_viewers_last_3            36.333333         0.042041            3\n",
      "avg_peak_concurrent_viewers_last_14  37.000000         0.071566            3\n",
      "avg_start_time_hour_last_14          38.666667         0.028958            3\n",
      "avg_donations_per_hour_last_3        38.666667         0.018911            3\n",
      "avg_start_time_hour_last_7           40.666667         0.015594            3\n",
      "avg_raid_viewers_per_viewer_last_3   41.666667         0.016048            3\n",
      "days_since_previous_stream           42.000000         0.018389            3\n",
      "avg_donations_per_hour_last_7        43.666667         0.018857            3\n",
      "avg_total_subscriptions_last_3       44.000000         0.027487            3\n",
      "avg_subs_per_hour_last_3             44.000000         0.026318            3\n",
      "avg_total_emotes_used_last_3         44.000000         0.011803            3\n",
      "avg_chats_per_hour_last_7            45.000000         0.072211            3\n",
      "avg_emotes_per_chat_last_3           45.333333         0.070285            3\n",
      "avg_avg_sentiment_score_last_1       45.333333         0.011037            3\n",
      "avg_follows_per_hour_last_3          46.000000         0.045311            3\n",
      "avg_chats_per_hour_last_1            47.000000         0.029028            3\n",
      "avg_subs_per_hour_last_1             47.333333         0.018781            3\n",
      "avg_total_subscriptions_last_7       47.666667         0.030199            3\n",
      "avg_total_subscriptions_last_1       47.666667         0.014236            3\n",
      "avg_subs_per_hour_last_7             47.666667         0.013539            3\n",
      "avg_raids_per_hour_last_14           49.333333         0.021180            3\n",
      "avg_net_follower_change_last_3       50.000000         0.083298            3\n",
      "avg_total_num_chats_last_7           50.666667         0.018831            3\n",
      "avg_emotes_per_chat_last_7           51.000000         0.013979            3\n",
      "avg_max_sentiment_score_last_14      52.333333         0.010599            3\n",
      "avg_bits_per_hour_last_3             52.333333         0.010315            3\n",
      "avg_emotes_per_chat_last_1           53.666667         0.010582            3\n",
      "avg_raid_viewers_per_viewer_last_14  54.333333         0.017688            3\n",
      "avg_subs_per_100_avg_viewers_last_1  54.333333         0.008970            3\n"
     ]
    }
   ],
   "source": [
    "\n",
    "\n",
    "\n",
    "def _get_ttr_and_tree_estimator(pipe: Pipeline):\n",
    "    \"\"\"\n",
    "    Return (ttr, tree_est) where ttr is the TransformedTargetRegressor step\n",
    "    and tree_est is the fitted underlying HistGradientBoostingRegressor.\n",
    "    Works whether the TTR step is named 'model'/'reg' or something else.\n",
    "    \"\"\"\n",
    "    ttr = None\n",
    "    if isinstance(pipe, Pipeline):\n",
    "        for name, step in pipe.named_steps.items():\n",
    "            # The TTR is usually the final step\n",
    "            from sklearn.compose import TransformedTargetRegressor\n",
    "            if isinstance(step, TransformedTargetRegressor):\n",
    "                ttr = step\n",
    "                break\n",
    "    # If TTR is not directly in steps, allow passing the estimator itself\n",
    "    if ttr is None and hasattr(pipe, \"regressor_\"):  # already a fitted TTR\n",
    "        ttr = pipe\n",
    "\n",
    "    if ttr is None:\n",
    "        raise RuntimeError(\"Could not find TransformedTargetRegressor in pipeline.\")\n",
    "\n",
    "    # When fitted, TTR exposes .regressor_\n",
    "    tree_est = getattr(ttr, \"regressor_\", getattr(ttr, \"regressor\", None))\n",
    "    if tree_est is None:\n",
    "        raise RuntimeError(\"Could not access underlying regressor from TTR.\")\n",
    "\n",
    "    return ttr, tree_est\n",
    "\n",
    "def _get_preprocessor(pipe: Pipeline):\n",
    "    \"\"\"Return the fitted ColumnTransformer (if present) or None.\"\"\"\n",
    "    if isinstance(pipe, Pipeline):\n",
    "        return pipe.named_steps.get(\"pre\", None)\n",
    "    return None\n",
    "\n",
    "def _safe_feature_names(pre: ColumnTransformer, X_cols):\n",
    "    \"\"\"\n",
    "    Try to get output feature names from the preprocessor; fall back gracefully.\n",
    "    \"\"\"\n",
    "    names = None\n",
    "    if pre is not None and hasattr(pre, \"get_feature_names_out\"):\n",
    "        try:\n",
    "            # Some sklearn versions accept input feature names for alignment:\n",
    "            names = pre.get_feature_names_out(X_cols)\n",
    "        except Exception:\n",
    "            try:\n",
    "                names = pre.get_feature_names_out()\n",
    "            except Exception:\n",
    "                names = None\n",
    "    if names is None:\n",
    "        # Fall back: use input column names if they match; else generic f0..fN\n",
    "        n_out = None\n",
    "        try:\n",
    "            # Probe shape by transforming a small slice\n",
    "            n_out = pre.transform(pd.DataFrame({c: [0] for c in X_cols})).shape[1] if pre is not None else len(X_cols)\n",
    "        except Exception:\n",
    "            pass\n",
    "        if n_out is not None:\n",
    "            if len(X_cols) == n_out:\n",
    "                names = np.array(list(map(str, X_cols)))\n",
    "            else:\n",
    "                names = np.array([f\"f{i}\" for i in range(n_out)])\n",
    "        else:\n",
    "            names = np.array(list(map(str, X_cols)))\n",
    "    return np.array(names)\n",
    "\n",
    "def shap_global_importance_for_pipeline(\n",
    "    pipe: Pipeline,\n",
    "    X_df: pd.DataFrame,\n",
    "    top_n: int = 30,\n",
    "    nsample_background: int = 512,\n",
    "    nsample_explain: int = 2000,\n",
    "    random_state: int = 42,\n",
    "    title: str = None,\n",
    "    save_path: str = None,\n",
    "):\n",
    "    \"\"\"\n",
    "    Compute & plot global SHAP feature importances for a *fitted* pipeline:\n",
    "      [preprocessor 'pre'] -> [TransformedTargetRegressor(HistGradientBoostingRegressor)]\n",
    "    Returns a DataFrame of mean(|SHAP|) per feature (sorted desc).\n",
    "    \"\"\"\n",
    "    rng = np.random.default_rng(random_state)\n",
    "\n",
    "    # 1) Extract fitted pieces\n",
    "    ttr, tree_est = _get_ttr_and_tree_estimator(pipe)\n",
    "    pre = _get_preprocessor(pipe)\n",
    "\n",
    "    # 2) Transform X through the preprocessor the same way as training\n",
    "    X_in = X_df.copy()\n",
    "    # make sure column order matches what pipeline expects\n",
    "    if hasattr(pipe, \"feature_names_in_\"):\n",
    "        X_in = X_in[pipe.feature_names_in_]\n",
    "\n",
    "    if pre is not None:\n",
    "        X_trans = pre.transform(X_in)\n",
    "        # feat_names = _safe_feature_names(pre, X_in.columns)\n",
    "        # feat_names = _fix_tag_names(pre, X_in, feat_names)\n",
    "        feat_names = _robust_feature_names(pre, X_in)\n",
    "    else:\n",
    "        # No preprocessor; assume numeric array already\n",
    "        X_trans = X_in.values\n",
    "        feat_names = np.array(list(map(str, X_in.columns)))\n",
    "\n",
    "    # SHAP prefers dense float; ensure type/shape\n",
    "    if hasattr(X_trans, \"toarray\"):\n",
    "        X_trans = X_trans.toarray()\n",
    "    X_trans = np.asarray(X_trans, dtype=np.float32)\n",
    "\n",
    "    # 3) Subsample for background (masker) and explanation for speed\n",
    "    n = X_trans.shape[0]\n",
    "    bg_idx = rng.choice(n, size=min(nsample_background, n), replace=False)\n",
    "    ex_idx = rng.choice(n, size=min(nsample_explain, n), replace=False)\n",
    "    X_bg = X_trans[bg_idx]\n",
    "    X_ex = X_trans[ex_idx]\n",
    "\n",
    "    # 4) Build SHAP explainer (tree algorithm auto-detected)\n",
    "    masker = shap.maskers.Independent(X_bg)\n",
    "    explainer = shap.Explainer(tree_est, masker, feature_names=feat_names, algorithm=\"tree\")\n",
    "    explanation = explainer(X_ex, check_additivity=False)\n",
    "    # feat_names = np.array(explanation.feature_names)\n",
    "\n",
    "    # 5) Compute mean(|SHAP|) per feature (global importance)\n",
    "    vals = np.asarray(explanation.values)          # [n_samples, n_features]\n",
    "    n_feats = vals.shape[1]\n",
    "    # Force feature names to align with SHAP output width\n",
    "    ef = getattr(explanation, \"feature_names\", None)\n",
    "    if len(feat_names) != n_feats and ef is not None and len(ef) == n_feats:\n",
    "        feat_names = np.asarray(ef)\n",
    "    elif len(feat_names) > n_feats:\n",
    "        feat_names = np.asarray(feat_names[:n_feats])\n",
    "    elif len(feat_names) < n_feats:\n",
    "        feat_names = np.asarray(list(feat_names) + [f\"f{i}\" for i in range(len(feat_names), n_feats)])\n",
    "    else:\n",
    "        feat_names = np.asarray(feat_names)\n",
    "    # feat_names = getattr(explanation, \"feature_names\", None)\n",
    "    if feat_names is None:\n",
    "        feat_names = [f\"f{i}\" for i in range(n_feats)]\n",
    "    feat_names = np.asarray(feat_names)\n",
    "    if feat_names.shape[0] != n_feats:\n",
    "        feat_names = np.array([f\"f{i}\" for i in range(n_feats)])\n",
    "        \n",
    "    if len(feat_names) != n_feats:\n",
    "        # fallback to generic names to guarantee equal lengths\n",
    "        feat_names = np.array([f\"f{i}\" for i in range(n_feats)])\n",
    "\n",
    "    mean_abs = np.mean(np.abs(vals), axis=0)\n",
    "    imp_df = (\n",
    "        pd.DataFrame({\"feature\": feat_names, \"mean_abs_shap\": mean_abs})\n",
    "        .sort_values(\"mean_abs_shap\", ascending=False)\n",
    "        .reset_index(drop=True)\n",
    "    )\n",
    "    \n",
    "\n",
    "    # 6) Plot top-N as a bar (each chart in its own figure)\n",
    "    max_display = int(min(top_n, len(feat_names)))\n",
    "    order = np.argsort(mean_abs)[::-1][:max_display]  # top N, descending\n",
    "\n",
    "    fnames = feat_names[order]\n",
    "    df_bar = pd.DataFrame({\"feature\": fnames, \"mean_abs\": mean_abs[order]})\n",
    "\n",
    "    bar_fig = px.bar(\n",
    "        df_bar.sort_values(\"mean_abs\", ascending=True),\n",
    "        x=\"mean_abs\",\n",
    "        y=\"feature\",\n",
    "        orientation=\"h\",\n",
    "        title=title or \"Global Feature Importance\"\n",
    "    )\n",
    "    bar_fig.update_yaxes(categoryorder=\"total descending\")  # largest at top\n",
    "    bar_fig.show()  # or remove if you don't want it to auto-render\n",
    "\n",
    "\n",
    "    return imp_df\n",
    "\n",
    "# ----------------- usage with your loaded artifacts -----------------\n",
    "# Assumes you already loaded:\n",
    "# - pipes: List[Pipeline]  (fitted)\n",
    "# - df_inf: DataFrame used for inference\n",
    "# - features: List[str]    (feature columns expected by the pipelines)\n",
    "# - metrics_list: e.g. [\"subs\", \"viewers\", \"followers\"] (optional)\n",
    "\n",
    "if 'pipes' in globals() and 'df_inf' in globals() and 'features' in globals():\n",
    "    metric_names = metrics_list if 'metrics_list' in globals() and metrics_list else [\n",
    "        f\"model_{i}\" for i in range(len(pipes))\n",
    "    ]\n",
    "    metric_names = [n if isinstance(n, str) else f\"model_{i}\" for i, n in enumerate(metric_names)]\n",
    "\n",
    "\n",
    "    all_importances = []\n",
    "    for pipe, mname in zip(pipes, metric_names):\n",
    "        label = mname\n",
    "        X = df_inf[features].copy()\n",
    "        imp_df = shap_global_importance_for_pipeline(\n",
    "            pipe=pipe,\n",
    "            X_df=X,\n",
    "            top_n=30,                  # change to taste\n",
    "            nsample_background=512,    # speed/accuracy tradeoff\n",
    "            nsample_explain=2000,      # more -> smoother estimates\n",
    "            random_state=42,\n",
    "            title=f\"Global SHAP Importance — {label}\",\n",
    "            save_path=None             # e.g. f\"shap_{mname}.png\"\n",
    "        )\n",
    "        # plot_focus_from_imp_df(imp_df, model_name=mname, top_cat=20)\n",
    "        \n",
    "        _ = shap_effect_plots(pipe, X, model_name=mname, top_categories=25)\n",
    "        \n",
    "        imp_df[\"model\"] = mname\n",
    "        all_importances.append(imp_df)\n",
    "\n",
    "\n",
    "    # Combined table of importances across models\n",
    "    if all_importances:\n",
    "        comb = pd.concat(all_importances, ignore_index=True)\n",
    "        # average rank across models to find features important everywhere\n",
    "        comb[\"rank\"] = comb.groupby(\"model\")[\"mean_abs_shap\"].rank(ascending=False, method=\"min\")\n",
    "        cross_model = (\n",
    "            comb.groupby(\"feature\")\n",
    "                .agg(\n",
    "                    mean_rank=(\"rank\", \"mean\"),\n",
    "                    mean_importance=(\"mean_abs_shap\", \"mean\"),\n",
    "                    models_seen=(\"model\", \"nunique\"),\n",
    "                )\n",
    "                .sort_values([\"models_seen\", \"mean_rank\", \"mean_importance\"], ascending=[False, True, False])\n",
    "        )\n",
    "        # Show top 50 consensus features\n",
    "        print(\"\\nTop cross-model features (consensus):\")\n",
    "        print(cross_model.head(50))"
   ]
  },
  {
   "cell_type": "code",
   "execution_count": 7,
   "metadata": {},
   "outputs": [],
   "source": [
    "def plot_three_factor_overlap(\n",
    "    pipe: Pipeline,\n",
    "    X_df: pd.DataFrame,\n",
    "    nsample_background: int = 512,\n",
    "    nsample_explain: int = 2000,\n",
    "    random_state: int = 42,\n",
    "    top_categories: int = 6,\n",
    "    model_name: str = None,\n",
    "):\n",
    "    rng = np.random.default_rng(random_state)\n",
    "    # ---- pieces\n",
    "    ttr = None\n",
    "    from sklearn.compose import TransformedTargetRegressor\n",
    "    for _, step in pipe.named_steps.items():\n",
    "        if isinstance(step, TransformedTargetRegressor):\n",
    "            ttr = step; break\n",
    "    reg = getattr(ttr, \"regressor_\", getattr(ttr, \"regressor\", None))\n",
    "    pre: ColumnTransformer = pipe.named_steps.get(\"pre\")\n",
    "\n",
    "    # ---- align inputs like training\n",
    "    X_in = X_df.copy()\n",
    "    if hasattr(pipe, \"feature_names_in_\"):\n",
    "        X_in = X_in[pipe.feature_names_in_]\n",
    "\n",
    "    if pre is not None:\n",
    "        X_trans = pre.transform(X_in)\n",
    "        feat_names = _robust_feature_names(pre, X_in)\n",
    "    else:\n",
    "        X_trans = X_in.values\n",
    "        feat_names = np.array(list(map(str, X_in.columns)))\n",
    "\n",
    "    if hasattr(X_trans, \"toarray\"):\n",
    "        X_trans = X_trans.toarray()\n",
    "    X_trans = np.asarray(X_trans, dtype=np.float32)\n",
    "\n",
    "    # subsample for speed\n",
    "    n = X_trans.shape[0]\n",
    "    bg_idx = rng.choice(n, size=min(nsample_background, n), replace=False)\n",
    "    ex_idx = rng.choice(n, size=min(nsample_explain, n), replace=False)\n",
    "    X_bg, X_ex = X_trans[bg_idx], X_trans[ex_idx]\n",
    "    X_ex_df = X_in.iloc[ex_idx].copy()\n",
    "\n",
    "    # ---- SHAP\n",
    "    masker = shap.maskers.Independent(X_bg)\n",
    "    explainer = shap.Explainer(reg, masker, feature_names=feat_names, algorithm=\"tree\")\n",
    "    explanation = explainer(X_ex, check_additivity=False)\n",
    "    vals = np.asarray(explanation.values)  # [n_samples, n_features]\n",
    "\n",
    "    # ---- helpers\n",
    "    def find_idx(name=None):\n",
    "        for i, fn in enumerate(feat_names):\n",
    "            s = str(fn)\n",
    "            if s == name or s.endswith(f\"__{name}\"):\n",
    "                return i\n",
    "        return None\n",
    "\n",
    "    # hour + duration SHAP\n",
    "    start_idx = find_idx(\"start_time_hour\")\n",
    "    dur_idx   = find_idx(\"stream_duration\")\n",
    "\n",
    "    if start_idx is None or dur_idx is None or \"start_time_hour\" not in X_ex_df or \"stream_duration\" not in X_ex_df:\n",
    "        print(\"Missing start_time_hour or stream_duration in this model. Retrain with hour passthrough to enable this plot.\")\n",
    "        return None\n",
    "\n",
    "    start_hour = X_ex_df[\"start_time_hour\"].astype(float)\n",
    "    duration_hr = X_ex_df[\"stream_duration\"].astype(float) / 60.0\n",
    "    shap_hour = vals[:, start_idx]\n",
    "    shap_dur  = vals[:, dur_idx]\n",
    "\n",
    "    # game category SHAP (handles both OHE and OrdinalEncoder)\n",
    "    name = \"game_category\"\n",
    "    # OHE columns (e.g., 'cat__game_category_Apex Legends' or 'game_category_Apex Legends')\n",
    "    game_ohe_cols = [\n",
    "        i for i, fn in enumerate(feat_names)\n",
    "        if re.search(rf\"(?:^|__){re.escape(name)}(?:[_=:.])\", str(fn)) or str(fn).startswith(f\"{name}_\")\n",
    "    ]\n",
    "    if game_ohe_cols:\n",
    "        X_game = X_ex[:, game_ohe_cols]\n",
    "        active_idx = X_game.argmax(axis=1)\n",
    "        all_zero = (X_game.max(axis=1) == 0)\n",
    "        active_idx[all_zero] = -1\n",
    "\n",
    "        cat_labels = []\n",
    "        shap_game = np.zeros(X_ex.shape[0], dtype=float)\n",
    "        for r in range(X_game.shape[0]):\n",
    "            j = active_idx[r]\n",
    "            if j >= 0:\n",
    "                gj = game_ohe_cols[j]\n",
    "                raw = str(feat_names[gj])\n",
    "                # clean: suffix after 'game_category'\n",
    "                lab = re.sub(r\".*game_category[_=:]*\", \"\", raw).strip() or \"unknown\"\n",
    "                cat_labels.append(lab)\n",
    "                shap_game[r] = vals[r, gj]\n",
    "            else:\n",
    "                cat_labels.append(\"unknown\")\n",
    "                shap_game[r] = 0.0\n",
    "    else:\n",
    "        # Ordinal path: use original string labels + single feature SHAP\n",
    "        game_idx = next((i for i, fn in enumerate(feat_names)\n",
    "                         if str(fn) == name or str(fn).endswith(f\"__{name}\")), None)\n",
    "        if game_idx is None or name not in X_ex_df:\n",
    "            print(\"No game_category feature found (neither OHE nor ordinal).\")\n",
    "            return None\n",
    "        shap_game = vals[:, game_idx]\n",
    "        cat_labels = X_ex_df[name].astype(str).replace({\"-1\": \"unknown\", \"-1.0\": \"unknown\"}).tolist()\n",
    "\n",
    "    # ---- assemble plot frame\n",
    "    dfp = pd.DataFrame({\n",
    "        \"start_time_hour\": start_hour,\n",
    "        \"duration_hr\": duration_hr,\n",
    "        \"category\": cat_labels,\n",
    "        \"shap_hour\": shap_hour,\n",
    "        \"shap_duration\": shap_dur,\n",
    "        \"shap_game\": shap_game,\n",
    "    })\n",
    "    dfp[\"combined\"] = dfp[\"shap_hour\"] + dfp[\"shap_duration\"] + dfp[\"shap_game\"]\n",
    "    dfp[\"abs_combined\"] = dfp[\"combined\"].abs()\n",
    "\n",
    "    # bucket categories: top by frequency in this sample\n",
    "    top = dfp[\"category\"].value_counts().head(top_categories).index.tolist()\n",
    "    dfp[\"category_simple\"] = np.where(dfp[\"category\"].isin(top), dfp[\"category\"], \"other\")\n",
    "\n",
    "    # scale sizes (nice range)\n",
    "    s_ref = dfp[\"abs_combined\"].quantile(0.9) if (dfp[\"abs_combined\"] > 0).any() else 1.0\n",
    "    dfp[\"size\"] = (dfp[\"abs_combined\"] / (s_ref + 1e-9) * 20).clip(6, 26)\n",
    "\n",
    "    # ---- one final overlapping plot\n",
    "    title = (f\"{model_name} — \" if model_name else \"\") + \"Overlap of Effects (start hour × duration, colored by net SHAP)\"\n",
    "    fig = px.scatter(\n",
    "        dfp,\n",
    "        x=\"start_time_hour\", y=\"duration_hr\",\n",
    "        color=\"combined\", color_continuous_scale=\"RdBu\", color_continuous_midpoint=0,\n",
    "        size=\"size\", size_max=16,\n",
    "        symbol=\"category_simple\",\n",
    "        hover_data={\n",
    "            \"category\": True,\n",
    "            \"shap_hour\": ':.3f',\n",
    "            \"shap_duration\": ':.3f',\n",
    "            \"shap_game\": ':.3f',\n",
    "            \"combined\": ':.3f',\n",
    "            \"start_time_hour\": True,\n",
    "            \"duration_hr\": ':.2f'\n",
    "        },\n",
    "        title=title,\n",
    "        height=600,\n",
    "        )\n",
    "    fig.update_layout(\n",
    "        xaxis_title=\"Start hour (0–23)\",\n",
    "        yaxis_title=\"Duration (hours)\",\n",
    "        template=\"simple_white\",\n",
    "        margin=dict(l=80, r=30, t=60, b=180),\n",
    "        legend=dict(\n",
    "            orientation=\"h\",\n",
    "            yanchor=\"top\", y=-0.20,\n",
    "            xanchor=\"left\", x=0,\n",
    "            font=dict(size=11)\n",
    "        )\n",
    "    )\n",
    "    fig.show()\n",
    "    return fig"
   ]
  },
  {
   "cell_type": "code",
   "execution_count": 8,
   "metadata": {},
   "outputs": [
    {
     "data": {
      "application/vnd.plotly.v1+json": {
       "config": {
        "plotlyServerURL": "https://plot.ly"
       },
       "data": [
        {
         "customdata": [
          [
           "valheim",
           -0.0036481023349801945,
           0.1883105421517979,
           -0.05660105934724641,
           0.1280613804695713
          ],
          [
           "valheim",
           0.004667452715705167,
           0.563240581314629,
           -0.047545167498494155,
           0.5203628665318399
          ],
          [
           "valheim",
           -0.03563206168188913,
           -0.5104567075156422,
           -0.06947518982036228,
           -0.6155639590178936
          ],
          [
           "valheim",
           -0.01689669363887674,
           -0.6413494957691159,
           -0.043401990546665846,
           -0.7016481799546584
          ],
          [
           "valheim",
           0.0008663063387024294,
           0.16145549420580324,
           -0.06282286428389625,
           0.09949893626060943
          ],
          [
           "valheim",
           -0.024876540196863174,
           0.2590354179159772,
           -0.07854436714649977,
           0.15561451057261422
          ],
          [
           "valheim",
           0.013766837555979804,
           0.4745141730988496,
           -0.06534193395884585,
           0.4229390766959835
          ],
          [
           "valheim",
           0.006641378183954885,
           -0.21035525262360408,
           -0.03667964807714782,
           -0.24039352251679702
          ],
          [
           "valheim",
           -0.0025113554614722487,
           0.20511074503998714,
           -0.05448299209597224,
           0.14811639748254266
          ],
          [
           "valheim",
           -0.02339043421029487,
           -0.872579865929404,
           -0.04839667448988223,
           -0.9443669746295811
          ],
          [
           "valheim",
           -0.005519071565620379,
           0.4072542292588247,
           -0.05852619108464921,
           0.34320896660855515
          ],
          [
           "valheim",
           -0.007488068124973779,
           0.18890557686546686,
           -0.05461994918902917,
           0.12679755955146393
          ],
          [
           "valheim",
           0.008981909066129674,
           0.2826487715474286,
           -0.05341651511587259,
           0.2382141654976857
          ],
          [
           "valheim",
           0.000401780732423731,
           0.556057326851182,
           -0.05020238650318277,
           0.506256721080423
          ],
          [
           "valheim",
           -0.008743426494102096,
           0.6450805079808952,
           -0.06750742485312627,
           0.5688296566336668
          ],
          [
           "valheim",
           -0.02046856980384213,
           -0.22293219146464566,
           -0.10401165948696971,
           -0.3474124207554575
          ],
          [
           "valheim",
           -0.0010179622273687983,
           0.2724286375266661,
           -0.06254323858832493,
           0.20886743671097235
          ],
          [
           "valheim",
           0.009859862643777433,
           -0.41778362898528515,
           -0.06810221040760268,
           -0.4760259767491104
          ]
         ],
         "hovertemplate": "category_simple=valheim<br>start_time_hour=%{x}<br>duration_hr=%{y:.2f}<br>size=%{marker.size}<br>category=%{customdata[0]}<br>shap_hour=%{customdata[1]:.3f}<br>shap_duration=%{customdata[2]:.3f}<br>shap_game=%{customdata[3]:.3f}<br>combined=%{marker.color:.3f}<extra></extra>",
         "legendgroup": "valheim",
         "marker": {
          "color": {
           "bdata": "hat/uFBkwD9707kG0KbgPxqAEjCzsuO/dYBG4uZz5r8W4jklw3i5P1yh2CAt68M/FAWnD28R2z8AoLAGN8XOv3ssmGV69cI/wJvuFkE47r/YxdG9IvfVPyo6vgXnOsA/uNQgQc19zj+kdY1LQTPgP3qRh0DaM+I/wZtXTgE81r+uve8MK7zKP8jEi6g1d96/",
           "dtype": "f8"
          },
          "coloraxis": "coloraxis",
          "size": {
           "bdata": "AAAAAAAAGEAj+ccmRFIiQI2TRFZbrCVAJMEx2kW0KEAAAAAAAAAYQAAAAAAAABhA4ovPbkjIHUAAAAAAAAAYQAAAAAAAABhAdcMg7wCgMECPQFrp/ioYQAAAAAAAABhAAAAAAAAAGEBaZOwCH9MhQFQrq40eByRAwr+aYcV2GEAAAAAAAAAYQCSWW0OjwiBA",
           "dtype": "f8"
          },
          "sizemode": "area",
          "sizeref": 0.1015625,
          "symbol": "circle"
         },
         "mode": "markers",
         "name": "valheim",
         "orientation": "v",
         "showlegend": true,
         "type": "scatter",
         "x": {
          "bdata": "AAAAAAAAM0AAAAAAAAAuQAAAAAAAADdAAAAAAAAANUAAAAAAAAAzQAAAAAAAAC5AAAAAAAAAMEAAAAAAAAA0QAAAAAAAADNAAAAAAAAAN0AAAAAAAAAuQAAAAAAAADNAAAAAAAAAM0AAAAAAAAAuQAAAAAAAAC5AAAAAAAAANUAAAAAAAAAzQAAAAAAAADZA",
          "dtype": "f8"
         },
         "xaxis": "x",
         "y": {
          "bdata": "ZmZmZmZmEkBEREREREQfQERERERERPw/7+7u7u7u8j8RERERERETQJqZmZmZmR5AZmZmZmZmIEDe3d3d3d0HQO/u7u7u7hJA7+7u7u7u5j/e3d3d3d0eQDMzMzMzMxJAAAAAAAAAEUC8u7u7u7sXQGZmZmZm5iFA3t3d3d3d/T8iIiIiIiIVQLy7u7u7u/M/",
          "dtype": "f8"
         },
         "yaxis": "y"
        },
        {
         "customdata": [
          [
           "music",
           0.00032986519113592294,
           -0.22883912684467306,
           -0.016500929306263002,
           -0.24501019095980014
          ],
          [
           "fate trigger",
           -0.008077993842475735,
           -1.1261882006620878,
           0.01372947399743566,
           -1.120536720507128
          ],
          [
           "retro",
           0.014935422163803195,
           -0.8889878995051084,
           -0.01145877804273823,
           -0.8855112553840434
          ],
          [
           "elden ring",
           -0.0027819214762661204,
           -0.17786677141172505,
           0.011274933420708066,
           -0.1693737594672831
          ],
          [
           "get to work",
           -0.030288540667908207,
           -1.2465173683647035,
           0.02442399404977344,
           -1.2523819149828384
          ],
          [
           "special events",
           0.011844592396544442,
           0.5325531636312667,
           -0.027603938265154396,
           0.5167938177626568
          ],
          [
           "wuchang: fallen feathers",
           -0.006163999720579767,
           -0.013518860668267508,
           -0.18335180673425155,
           -0.20303466712309884
          ],
          [
           "super mario world",
           0.009186061633562871,
           -2.2405553200913504,
           -0.02255266665026781,
           -2.2539219251080556
          ],
          [
           "teenage mutant ninja turtles: the cowabunga collection",
           -0.010764352221099713,
           -0.49321603243743767,
           -0.025275350408069244,
           -0.5292557350666066
          ],
          [
           "pokérogue",
           0.03715881327752868,
           0.45256091841909624,
           0.03140134455202997,
           0.5211210762486549
          ],
          [
           "battlefield 6",
           -0.007050413083249509,
           0.3545508832978891,
           0.01867405285929749,
           0.36617452307393705
          ],
          [
           "dark souls: remastered",
           0.007178990902417581,
           -0.33119817245192396,
           0.01911394809465037,
           -0.304905233454856
          ],
          [
           "jackbox party packs",
           0.03000859782398159,
           -1.1681150345724793,
           0.016097527947993198,
           -1.1220089088005045
          ],
          [
           "rocket league",
           -0.012769801423705686,
           -0.4982369540853327,
           -0.019675291101918332,
           -0.5306820466109567
          ],
          [
           "marbles on stream",
           0.009479207594731065,
           0.7157345579185989,
           0.015851345390734083,
           0.741065110904064
          ],
          [
           "the legend of zelda: ocarina of time",
           -0.02516913137220058,
           -1.0972755493825956,
           -0.024535649862151558,
           -1.146980330616948
          ],
          [
           "supermarket simulator",
           0.0031498261651870508,
           0.2599112302865342,
           0.022098443015053135,
           0.2851594994667744
          ],
          [
           "the sims 4",
           -0.019065525990309168,
           -0.1445875914764332,
           0.06823398136333779,
           -0.09541913610340459
          ],
          [
           "the legend of zelda: ocarina of time",
           0.004252475618661719,
           0.2859276914177963,
           -0.005171549150398533,
           0.28500861788605947
          ],
          [
           "streamer games",
           -0.0023984501686882707,
           -2.242269334312267,
           0.007699242568414775,
           -2.2369685419125407
          ],
          [
           "palworld",
           0.0029561190454205646,
           0.7420483700081968,
           0.00524483629205676,
           0.7502493253456741
          ],
          [
           "metroid prime 2: echoes",
           -0.06733143544285781,
           -0.418176841769091,
           -0.010232153276655822,
           -0.4957404304886046
          ],
          [
           "guilty gear: strive",
           -0.0005929165807719983,
           -0.23408030595579477,
           0.035898048301211245,
           -0.1987751742353555
          ],
          [
           "elden ring",
           -0.006125043651782108,
           -0.08646055867361724,
           0.01941534184410102,
           -0.07317026048129832
          ],
          [
           "starcraft ii",
           -0.01607653696850093,
           0.3477437169998259,
           -0.03399081759003536,
           0.29767636244128964
          ],
          [
           "prospector",
           0.0028412450732639627,
           -0.22233603814741967,
           -0.04308741351819151,
           -0.2625822065923472
          ],
          [
           "elden ring",
           -0.012557719234323486,
           0.0290580467776914,
           0.006767083365904227,
           0.023267410909272142
          ],
          [
           "half sword",
           0.01163057664874728,
           -0.08558039471939657,
           0.01683117345685275,
           -0.05711864461379654
          ],
          [
           "starcraft ii",
           -0.008209304427643928,
           -0.29105472556148415,
           -0.031625588543851106,
           -0.3308896185329792
          ],
          [
           "retro",
           -0.04489304197080287,
           0.15621992379942867,
           -0.02447115921296472,
           0.08685572261566107
          ],
          [
           "final fantasy viii",
           -0.01589907339124359,
           -1.0445198979284342,
           0.03821450847742156,
           -1.0222044628422564
          ],
          [
           "ufo 50",
           -0.012684424413828737,
           0.35680993411372797,
           -0.07494957349671211,
           0.26917593620318714
          ],
          [
           "waterpark simulator",
           -0.027005488429633715,
           0.238849434087374,
           0.022831065565836754,
           0.23467501122357703
          ],
          [
           "retro",
           -0.08419485131182114,
           0.10263887266539541,
           -0.02612892512596204,
           -0.007684903772387768
          ],
          [
           "the legend of zelda: tears of the kingdom",
           -0.005072855779007454,
           0.12031058711332435,
           -0.06635003453276056,
           0.04888769680155633
          ],
          [
           "battlefield 6",
           -0.030054647889115244,
           0.13427252291590888,
           0.023322364165053386,
           0.12754023919184704
          ],
          [
           "hitman world of assassination",
           -0.0002679685938323928,
           -0.25975389581119773,
           0.0013697703007329665,
           -0.2586520941042971
          ],
          [
           "the legend of zelda: ocarina of time",
           -0.014943474040052251,
           -0.33600191377665906,
           -0.02184413804980977,
           -0.3727895258665211
          ],
          [
           "final fantasy viii",
           -0.011642126245334339,
           0.03473889144493512,
           0.00916801122159427,
           0.032264776421195046
          ],
          [
           "the quarry",
           -0.0040286433698821615,
           0.42850837376786727,
           0.03083946158715321,
           0.4553191919851383
          ],
          [
           "music",
           0.06224418986820069,
           -0.4142641488582055,
           -0.021566958331963024,
           -0.37358691732196786
          ],
          [
           "peak",
           -0.009244964516853997,
           -0.13056935610516404,
           -0.011971841029078405,
           -0.15178616165109646
          ],
          [
           "fate trigger",
           0.019297294450175785,
           -0.16644777516685763,
           0.06291243078519543,
           -0.08423804993148643
          ],
          [
           "last epoch",
           -0.0007240704189462122,
           0.3162980829179196,
           0.017674988679204945,
           0.33324900117817835
          ],
          [
           "grounded 2",
           0.011918200691918486,
           0.5174451477562676,
           0.021438055200615053,
           0.5508014036488011
          ],
          [
           "waterpark simulator",
           -0.032982089827294774,
           0.21777690686618542,
           0.021939739101005103,
           0.20673455613989575
          ],
          [
           "balatro",
           0.018939242461829053,
           -1.2076384772784048,
           0.0081668725819668,
           -1.180532362234609
          ],
          [
           "deltarune",
           -0.03355747724534041,
           0.7782672082825134,
           0.04052525645592844,
           0.7852349874931014
          ],
          [
           "rocket league",
           -0.025849511601051773,
           -1.1963092969974864,
           -0.01140427973110711,
           -1.2335630883296453
          ],
          [
           "fate trigger",
           0.004525006275653141,
           -1.7965570597020646,
           0.008059101127341818,
           -1.7839729522990695
          ],
          [
           "the lord of the rings: gollum",
           -0.007219975090986281,
           0.19067441343381233,
           0.04962119930946415,
           0.2330756376522902
          ],
          [
           "pokémon",
           -0.0024268811719929317,
           -0.07806929447305948,
           -0.006167264615970111,
           -0.08666344026102252
          ],
          [
           "the legend of zelda: ocarina of time",
           -0.01095275210860109,
           0.39666593126666055,
           -0.027720589917345394,
           0.3579925892407141
          ],
          [
           "hollow knight",
           0.0022247156763239673,
           0.31433959580037824,
           0.031242678603684907,
           0.3478069900803871
          ],
          [
           "the legend of zelda: tears of the kingdom",
           -0.1710912288710012,
           0.10631352890617904,
           -0.133115956352119,
           -0.19789365631694117
          ],
          [
           "marbles on stream",
           0.010211147289745669,
           0.560664156850124,
           0.016260350078705983,
           0.5871356542185757
          ],
          [
           "peak",
           0.009396153919698235,
           0.5741714236676014,
           -0.014204732749803384,
           0.5693628448374963
          ],
          [
           "battlefield 6",
           0.00042755947865771307,
           -0.07896968143315007,
           0.018466084933912726,
           -0.06007603702057963
          ],
          [
           "the outlast trials",
           -0.005613516219236203,
           -1.3904630252961516,
           -0.03922858753584741,
           -1.435305129051235
          ],
          [
           "noita",
           0.004540370628620849,
           -0.36179242509482834,
           -0.0131489431334262,
           -0.3704009975996337
          ],
          [
           "tom clancy's rainbow six siege x",
           0.00001549196391479768,
           0.19776771028601814,
           0.01978442482121295,
           0.21756762707114588
          ],
          [
           "the legend of zelda: breath of the wild",
           0.0037003075169104705,
           0.42737459950167933,
           -0.021580371133103994,
           0.4094945358854858
          ],
          [
           "the quarry",
           -0.0014253831669503825,
           0.4413908014439716,
           0.029318086854596005,
           0.4692835051316172
          ],
          [
           "elden ring",
           -0.018410267001431748,
           -0.12061956661751111,
           0.010173771817175634,
           -0.12885606180176723
          ],
          [
           "special events",
           0.06639810145518141,
           0.5992889554511055,
           -0.021903020264831527,
           0.6437840366414554
          ],
          [
           "music",
           -0.0035511173621574697,
           -0.6273112020013756,
           -0.021301469214539282,
           -0.6521637885780723
          ],
          [
           "slackjaw",
           -0.030997005523444726,
           -0.016558632187538436,
           0.020538822326336685,
           -0.027016815384646474
          ],
          [
           "super mario world",
           -0.018272640980865163,
           -1.5018647004974313,
           -0.030103495694634715,
           -1.550240837172931
          ],
          [
           "hitman world of assassination",
           0.004027150529350365,
           -0.22152571427462703,
           0.01482481098045639,
           -0.20267375276482025
          ],
          [
           "supermarket simulator",
           0.0013251877088362107,
           0.24773565333219721,
           0.01960662813075828,
           0.26866746917179174
          ],
          [
           "grounded 2",
           -0.011884658106418726,
           -0.08722170901967502,
           0.00584358729132191,
           -0.09326277983477184
          ],
          [
           "special events",
           0.013821199631720304,
           0.5025935090507523,
           -0.037553618464419285,
           0.47886109021805334
          ],
          [
           "metal gear solid: peace walker",
           0.000403183673444687,
           0.595917530625648,
           0.0175161279243207,
           0.6138368422234134
          ],
          [
           "daemon x machina: titanic scion",
           -0.014823085459310619,
           -0.44176865109574637,
           0.035982552052214206,
           -0.4206091845028428
          ],
          [
           "pokémon",
           -0.002645553604631914,
           0.47938539695859617,
           -0.003320419234196379,
           0.47341942411976784
          ],
          [
           "mega man 11",
           -0.008923547322655167,
           -0.1921684763864414,
           -0.006686053182173737,
           -0.2077780768912703
          ],
          [
           "the legend of zelda: tears of the kingdom",
           -0.007743624237420761,
           0.9050756321329135,
           -0.102864962257336,
           0.7944670456381567
          ],
          [
           "until dawn",
           -0.0037283619032342586,
           0.4422508983954171,
           -0.15492930402918945,
           0.2835932324629934
          ],
          [
           "rocket league",
           -0.0449140669044732,
           -0.04907047353353619,
           -0.02107160368657844,
           -0.11505614412458783
          ],
          [
           "marbles on stream",
           -0.012216956561186407,
           -0.2923238747759086,
           0.015244710471026223,
           -0.2892961208660688
          ],
          [
           "mortal kombat 11",
           -0.0446953958173253,
           -0.5299693196590234,
           -0.08832739754034251,
           -0.6629921130166911
          ],
          [
           "blue prince",
           -0.009266593070516933,
           -0.27887214543734673,
           0.030323596097200606,
           -0.25781514241066306
          ],
          [
           "metroid prime 3: corruption",
           0.011617711767534046,
           0.3315054068511097,
           -0.003962228647797019,
           0.33916088997084676
          ],
          [
           "battlefield 6",
           -0.0030586495574630133,
           0.10619887642607324,
           0.018827456586639073,
           0.1219676834552493
          ],
          [
           "factorio",
           -0.00223578283948882,
           -1.0216780892758728,
           0.007061571002159895,
           -1.0168523011132016
          ],
          [
           "warcraft iii",
           -0.007795228369640199,
           -0.7825408846738878,
           -0.042612879646856075,
           -0.8329489926903841
          ],
          [
           "palworld",
           0.006344049267580658,
           0.5372422560326663,
           -0.003461772498484521,
           0.5401245328017624
          ],
          [
           "battlefield 6",
           -0.0042392273146515435,
           -0.002330337437616947,
           0.01699404447665188,
           0.01042447972438339
          ],
          [
           "mario kart world",
           0.04948586090057745,
           -1.0039549394925564,
           0.008814059742461496,
           -0.9456550188495174
          ],
          [
           "elden ring: nightreign",
           0.006060530471494658,
           0.13261950259933541,
           0.03276680962215721,
           0.17144684269298727
          ],
          [
           "peak",
           -0.01604233771901363,
           0.21210934051435273,
           -0.031032920371531814,
           0.1650340824238073
          ],
          [
           "elden ring: nightreign",
           -0.00032275167013608554,
           -1.3643006430796958,
           0.01566007685096167,
           -1.3489633178988703
          ],
          [
           "final fantasy viii",
           -0.00028395051708741904,
           0.11655686927950057,
           0.014070585463699672,
           0.13034350422611282
          ],
          [
           "destiny 2",
           0.012065740354515242,
           0.25780155370039837,
           0.08414296594303294,
           0.35401025999794655
          ],
          [
           "the legend of zelda: ocarina of time",
           -0.004425140082875032,
           -0.384505045082434,
           -0.016390439041507106,
           -0.40532062420681614
          ],
          [
           "super mario odyssey",
           0.008669808388272032,
           0.6157930016876392,
           0.005912792637736856,
           0.630375602713648
          ],
          [
           "waterpark simulator",
           -0.032298773590075595,
           0.2291887445544637,
           0.020228023706170575,
           0.21711799467055867
          ],
          [
           "retro",
           -0.011635580296324406,
           -0.38162399990640694,
           -0.03442051658018386,
           -0.4276800967829152
          ],
          [
           "geoguessr",
           0.001010963214939693,
           0.37430758858003627,
           0.008495119554199846,
           0.3838136713491758
          ],
          [
           "terraria",
           0.003676980613784906,
           -0.10896502427500764,
           -0.022714261215463837,
           -0.12800230487668657
          ],
          [
           "the legend of zelda: tears of the kingdom",
           0.006868371244962503,
           0.5242547354666977,
           -0.06717410472564155,
           0.4639490019860186
          ],
          [
           "sonic x shadow generations",
           -0.05522998791998134,
           -0.015464926516533523,
           0.015101291121040958,
           -0.055593623315473906
          ],
          [
           "super smash bros. ultimate",
           0.028259708343666857,
           -0.09215291176113923,
           -0.05570342733627712,
           -0.11959663075374949
          ],
          [
           "factorio",
           -0.02295120870249889,
           -0.5050946242768086,
           0.005268325510215845,
           -0.5227775074690917
          ],
          [
           "last epoch",
           -0.008794397107972146,
           -1.0167390291010643,
           0.0068476172414921165,
           -1.0186858089675443
          ],
          [
           "r.e.p.o.",
           0.0050467582204555585,
           0.099460146321465,
           -0.03459947351666472,
           0.06990743102525585
          ],
          [
           "supermarket simulator",
           0.002004322394624296,
           0.26014510503928134,
           0.02197735385815463,
           0.28412678129206026
          ],
          [
           "soulframe",
           0.007115783435002925,
           -0.942879777931651,
           -0.014082246808104059,
           -0.9498462413047521
          ],
          [
           "final fantasy viii",
           -0.002823745350904119,
           -0.11710797973550853,
           0.008494892873026743,
           -0.1114368322133859
          ],
          [
           "supermarket simulator",
           -0.034225032720102036,
           0.24717524609513647,
           0.019094614391692064,
           0.23204482776672652
          ],
          [
           "final fantasy ix",
           -0.011475612892199933,
           -0.30115624829125465,
           0.005806931457740348,
           -0.30682492972571423
          ],
          [
           "grounded",
           -0.0017612839036274864,
           -0.05813731058343592,
           0.012946773899361119,
           -0.046951820587702295
          ],
          [
           "final fantasy ix",
           -0.0024832966661540467,
           -0.077593888194084,
           0.012297791328434756,
           -0.06777939353180329
          ],
          [
           "mario kart world",
           0.007069400911412913,
           0.15301106600933054,
           0.020358831922026185,
           0.18043929884276966
          ],
          [
           "juice galaxy",
           0.015101257822271919,
           -0.07342598141557233,
           0.016035047279623314,
           -0.042289676313677096
          ],
          [
           "super smash bros. ultimate",
           -0.003938094686822069,
           -0.3297047223746563,
           -0.02704581065470023,
           -0.3606886277161786
          ],
          [
           "fortnite",
           -0.0003845151779948708,
           0.5165772822717254,
           0.044650424254449206,
           0.5608431913481797
          ],
          [
           "drag x drive",
           0.008589939750143999,
           0.506769745043448,
           0.025480708630871617,
           0.5408403934244636
          ],
          [
           "elden ring",
           -0.08007669298655146,
           0.8080651059786118,
           0.040850265720678396,
           0.7688386787127388
          ],
          [
           "waterpark simulator",
           -0.0352909960857437,
           0.22937821709248965,
           0.02043951546481594,
           0.2145267364715619
          ],
          [
           "pokémon",
           0.001011754250971535,
           0.5718928045258668,
           0.017423765617004393,
           0.5903283243938428
          ],
          [
           "sonic adventure dx: director's cut",
           0.15565914034596787,
           0.3174570141474344,
           -0.027678857739903008,
           0.44543729675349925
          ],
          [
           "elden ring",
           -0.026534015865327092,
           -0.25050303909852006,
           0.0067408112581892965,
           -0.27029624370565786
          ],
          [
           "pokémon white version",
           -0.008125202090111756,
           0.729390217699856,
           0.0145118478204256,
           0.7357768634301698
          ],
          [
           "pokémon white version",
           -0.00847650870848156,
           -0.059236195317899955,
           0.01796699704626576,
           -0.04974570698011576
          ],
          [
           "blue prince",
           -0.0026252644416285874,
           -0.1999292665858036,
           0.047605378725298804,
           -0.15494915230213338
          ],
          [
           "metroid prime 2: echoes",
           0.012213087402228666,
           -0.5397897250509095,
           -0.007768823480633955,
           -0.5353454611293147
          ],
          [
           "hades ii",
           0.001046353881111486,
           0.06500359637795781,
           0.011956161143295958,
           0.07800611140236527
          ],
          [
           "music",
           0.01336642841352159,
           0.1393418744824328,
           -0.01416145288545266,
           0.1385468500105017
          ],
          [
           "metroid prime 3: corruption",
           0.011781867033165553,
           0.38208585875745144,
           0.0014717743955372953,
           0.39533950018615427
          ],
          [
           "blue prince",
           -0.0005513382379789533,
           -0.5497069156210401,
           0.0064890133850604315,
           -0.5437692404739586
          ],
          [
           "jackbox party packs",
           0.01855813741207257,
           0.49899537104308367,
           0.011381707285967763,
           0.528935215741124
          ],
          [
           "metal gear solid 3 snake eater",
           0.0075436833522616095,
           0.2238971834717154,
           0.011899521938289439,
           0.24334038876226644
          ],
          [
           "metal gear solid",
           0.014745982554232312,
           0.5593815050249225,
           0.01831708501696596,
           0.5924445725961207
          ],
          [
           "pokémon scarlet/violet",
           -0.00031159487570789677,
           -0.03268348108894543,
           -0.044594821519179956,
           -0.07758989748383327
          ],
          [
           "elden ring: nightreign",
           0.00035675806828862735,
           0.01444059844538515,
           0.012955584797924757,
           0.027752941311598535
          ],
          [
           "rocket league",
           -0.05122107809937233,
           0.40592536029612375,
           -0.028344205601002273,
           0.32636007659574917
          ],
          [
           "super mario odyssey",
           0.0036854747883384676,
           0.4182394776543799,
           -0.020719647029529824,
           0.40120530541318855
          ],
          [
           "blue prince",
           -0.019239607917731973,
           0.1755960975601681,
           0.011260582921006517,
           0.16761707256344266
          ],
          [
           "half sword",
           -0.03724503347491975,
           -0.009105638307939045,
           0.02274681637744038,
           -0.02360385540541842
          ],
          [
           "minecraft",
           0.04083383229486458,
           -0.5759887207156794,
           -0.0043118160006696375,
           -0.5394667044214845
          ],
          [
           "fortnite",
           -0.024458390931021725,
           -1.1507927742703727,
           0.039000495676176215,
           -1.1362506695252181
          ],
          [
           "metal gear solid 2: sons of liberty",
           0.0025128406036499483,
           0.5608639191186873,
           0.01531306274511948,
           0.5786898224674567
          ],
          [
           "warcraft iii",
           -0.015185372095563707,
           0.04752030997102054,
           -0.05695640562942117,
           -0.024621467753964336
          ],
          [
           "music",
           -0.002571499837698639,
           0.9730639570675466,
           -0.005851845575598702,
           0.9646406116542492
          ],
          [
           "mario kart world",
           0.008539518417360342,
           0.4719638089458272,
           0.018821006557809595,
           0.4993243339209971
          ],
          [
           "the legend of zelda: tears of the kingdom",
           0.0032405081477780585,
           0.5493255600437419,
           -0.05743778279065282,
           0.4951282854008672
          ],
          [
           "soulframe",
           0.05398247806804079,
           0.15403667237406551,
           -0.05383112354115496,
           0.15418802690095135
          ],
          [
           "grounded 2",
           -0.005826527249942046,
           -0.14421199549470884,
           0.0064079519529568075,
           -0.14363057079169406
          ],
          [
           "hearthstone",
           -0.011060479627077483,
           0.4064979066930408,
           0.02258168823412461,
           0.41801911530008795
          ],
          [
           "mafia: the old country",
           -0.0008772946792288394,
           0.28369841475514135,
           0.02880608305588112,
           0.31162720313179365
          ],
          [
           "arma reforger",
           -0.004063170996548706,
           0.4509955420535951,
           0.020879813248236588,
           0.467812184305283
          ],
          [
           "warcraft iii",
           -0.009390716953558921,
           -1.1190160085722403,
           -0.03745183295035076,
           -1.16585855847615
          ],
          [
           "metal gear solid 4: guns of the patriots",
           0.00024167695087271568,
           0.5382101527263142,
           0.010616906959177186,
           0.5490687366363641
          ],
          [
           "retro",
           -0.002999004898417752,
           -0.38718583548347224,
           -0.023523470715134068,
           -0.41370831109702405
          ],
          [
           "amnesia: the dark descent",
           -0.006285694357344483,
           -0.01991883416413998,
           0.019049144570270755,
           -0.007155383951213706
          ],
          [
           "final fantasy ix",
           -0.011736513602883178,
           0.12084330801903548,
           0.012970013901479546,
           0.12207680831763185
          ],
          [
           "the legend of zelda: tears of the kingdom",
           -0.0048040927859997855,
           0.8340404389001332,
           -0.10842637188198864,
           0.7208099742321448
          ],
          [
           "grounded 2",
           -0.00556557402787206,
           0.5254356762693172,
           0.008144054450892781,
           0.528014156692338
          ],
          [
           "until dawn",
           -0.0043027896091567186,
           0.37553051785574953,
           -0.1749760268107434,
           0.19625170143584944
          ],
          [
           "elden ring: nightreign",
           -0.0031657084286703706,
           0.03640890167869543,
           0.016226187044299536,
           0.049469380294324586
          ],
          [
           "battlefield 6",
           -0.002101600162378645,
           -0.2093198489811681,
           0.019377568300020586,
           -0.19204388084352617
          ],
          [
           "the legend of zelda: ocarina of time",
           0.09539628079620158,
           -0.1791664271386938,
           -0.09226101430537924,
           -0.17603116064787144
          ],
          [
           "metal gear solid 3 snake eater",
           -0.0010755067974207576,
           0.2933938011864552,
           0.014258430787370885,
           0.30657672517640533
          ],
          [
           "elden ring",
           -0.016728481250989233,
           -1.135440533928501,
           0.01762908104670281,
           -1.1345399341327873
          ],
          [
           "pokémon scarlet/violet",
           -0.0048409651244128325,
           0.15111620597368527,
           -0.07069649438523129,
           0.07557874646404114
          ],
          [
           "battlefield v",
           -0.005861037694920697,
           -0.07412244294072423,
           0.018952642281676618,
           -0.0610308383539683
          ],
          [
           "wuchang: fallen feathers",
           -0.004059461363191233,
           -1.439619014727699,
           -0.10266998083245468,
           -1.546348456923345
          ],
          [
           "metal gear 2: solid snake",
           0.014694791185998923,
           0.4781953833112723,
           0.027367883614542735,
           0.520258058111814
          ],
          [
           "the legend of zelda: tears of the kingdom",
           -0.10715738475747003,
           0.23152008447954586,
           -0.08964474343618292,
           0.034717956285892915
          ],
          [
           "mario kart world",
           0.004521416259163971,
           -1.5119189074457302,
           0.009429134159524892,
           -1.4979683570270412
          ],
          [
           "final fantasy ix",
           -0.0018467667208119565,
           -0.20632640926116325,
           0.013992732811381074,
           -0.19418044317059413
          ],
          [
           "grounded 2",
           -0.007689655822817656,
           0.5570170510807594,
           0.002407755735791852,
           0.5517351509937336
          ],
          [
           "hades ii",
           -0.016527949425488943,
           -0.6244495649156189,
           0.007655095709034185,
           -0.6333224186320736
          ],
          [
           "final fantasy viii",
           0.0020163728367049317,
           -0.8888349144996843,
           0.007626216277047888,
           -0.8791923253859315
          ],
          [
           "the legend of zelda: tears of the kingdom",
           -0.0031157337413151255,
           0.17457038989883814,
           -0.06874747970412443,
           0.10270717645339858
          ],
          [
           "warcraft iii",
           -0.016495472549609078,
           0.13873351389838945,
           -0.04966756481340894,
           0.07257047653537144
          ],
          [
           "peak",
           -0.007960144373896298,
           0.13385882383250747,
           -0.020431753711350212,
           0.10546692574726095
          ],
          [
           "plateup!",
           -0.017821522522212804,
           -0.28059197141324405,
           -0.0627102615721764,
           -0.36112375550763326
          ],
          [
           "battlefield 6",
           -0.006390677498692412,
           0.1397598751575194,
           0.018972172404745608,
           0.1523413700635726
          ],
          [
           "the king is watching",
           -0.00005797049226742956,
           0.47886805595026916,
           -0.025354249665820276,
           0.45345583579218146
          ],
          [
           "metal gear solid 4: guns of the patriots",
           0.004361134175971273,
           -0.003118641000442608,
           0.010297310368977719,
           0.011539803544506384
          ],
          [
           "retro",
           -0.0018003946395742786,
           0.22040641071774644,
           -0.03962088102043765,
           0.17898513505773453
          ],
          [
           "the legend of zelda: tears of the kingdom",
           -0.021356845443995097,
           -0.9409347017514961,
           -0.04663560997407927,
           -1.0089271571695704
          ],
          [
           "elden ring: nightreign",
           0.0033239447424337244,
           0.5066086919136066,
           0.03236572029302238,
           0.5422983569490627
          ],
          [
           "killing floor iii",
           0.006540153248017191,
           0.2975381184313585,
           0.021457145553583815,
           0.32553541723295953
          ],
          [
           "tiny tina's wonderlands",
           -0.00335019709888428,
           -0.8759873465334306,
           -0.06513901701685426,
           -0.9444765606491692
          ],
          [
           "lockdown protocol",
           0.0024513039730254603,
           -0.055577580668521594,
           0.012778160422624297,
           -0.04034811627287184
          ],
          [
           "super mario world",
           0.011381637254055192,
           0.5583614403703371,
           -0.026160369171470847,
           0.5435827084529214
          ],
          [
           "super mario world",
           -0.0031615188495342037,
           -0.101845873709658,
           -0.04595924222142017,
           -0.1509666347806124
          ],
          [
           "super mario odyssey",
           0.0014038372374284335,
           0.14303374895481824,
           -0.014977709762034693,
           0.12945987643021198
          ],
          [
           "brave fencer musashi",
           0.007962191493415389,
           0.46240156800671856,
           0.024405499696637207,
           0.4947692591967711
          ],
          [
           "shenmue",
           -0.009766961440709565,
           0.04266820509552233,
           -0.010568961493052881,
           0.02233228216175988
          ],
          [
           "pokémon",
           -0.0010205218914791203,
           0.5012171687244836,
           -0.011682408393422179,
           0.4885142384395823
          ],
          [
           "peak",
           0.00535045501936196,
           0.3373480713947231,
           -0.016260115948119422,
           0.3264384104659656
          ],
          [
           "stomach",
           -0.001291795452578981,
           0.24284671553856726,
           0.02279737745034481,
           0.2643522975363331
          ],
          [
           "the legend of zelda: tears of the kingdom",
           0.0023298113039643908,
           0.5766918202865509,
           -0.06402970553500324,
           0.514991926055512
          ],
          [
           "amnesia: the dark descent",
           -0.0023207426881162972,
           0.15318002866028224,
           0.019668666015267035,
           0.17052795198743298
          ],
          [
           "streamer games",
           -0.0020003983556935623,
           -1.252585186546975,
           0.009200793173321245,
           -1.2453847917293472
          ],
          [
           "asmr",
           0.002550452167232606,
           0.022865036530198495,
           0.01553629236255972,
           0.04095178105999082
          ],
          [
           "mario kart world",
           0.0047925181321238595,
           0.5737045966357658,
           0.01751810768962173,
           0.5960152224575114
          ],
          [
           "super mario odyssey",
           0.01822577746428351,
           0.30827246417583465,
           -0.007211056078781439,
           0.31928718556133673
          ],
          [
           "super mario odyssey",
           -0.019775056174720477,
           -1.0950743682681354,
           -0.03109676692898006,
           -1.145946191371836
          ],
          [
           "left 4 dead 2",
           -0.02400294748977963,
           -1.5038217483671414,
           -0.001831322911897857,
           -1.5296560187688188
          ],
          [
           "blue prince",
           -0.011361971107494356,
           -1.1841283549416668,
           0.011574257948518607,
           -1.1839160681006426
          ],
          [
           "the king is watching",
           -0.004885462155996407,
           0.007140722462252142,
           -0.05218405326900552,
           -0.04992879296274978
          ],
          [
           "the legend of zelda: ocarina of time",
           -0.014147395326170908,
           -1.5257672790054835,
           -0.017526167781847166,
           -1.5574408421135015
          ],
          [
           "retro",
           0.004811650680073854,
           0.17219185681445082,
           -0.030313612216166918,
           0.14668989527835777
          ],
          [
           "palworld",
           -0.004078101559582876,
           0.45569683157965074,
           0.005727689977737498,
           0.45734641999780534
          ],
          [
           "mario kart world",
           0.00699347861651674,
           0.23218274846009848,
           0.026360790574401563,
           0.2655370176510168
          ],
          [
           "until dawn",
           -0.005942319804354668,
           0.4546384838695818,
           -0.17984884686792613,
           0.268847317197301
          ],
          [
           "music",
           -0.0046197647964743285,
           0.2052020763406935,
           -0.013090477438400114,
           0.18749183410581907
          ],
          [
           "supervive",
           -0.010877376767413693,
           0.16619425888891443,
           0.019745083042655553,
           0.17506196516415629
          ],
          [
           "deadlock",
           -0.0019552232743109245,
           0.44657655300738613,
           0.023755934433248173,
           0.4683772641663234
          ],
          [
           "the legend of zelda: ocarina of time",
           -0.028362805698606053,
           -1.1305136494952068,
           -0.03340013035251218,
           -1.192276585546325
          ],
          [
           "hitman world of assassination",
           0.01177435558784964,
           -1.1036075754380943,
           0.003136450365131793,
           -1.0886967694851128
          ],
          [
           "pokérogue",
           -0.010902213795368425,
           0.5849764220975903,
           0.018756773575588567,
           0.5928309818778105
          ],
          [
           "battlefield 6",
           -0.0032721941418475354,
           0.4029346805463285,
           0.021619090572349932,
           0.42128157697683094
          ],
          [
           "static dread: the lighthouse",
           -0.14991715937859632,
           0.008877678685929027,
           0.09486178594707795,
           -0.04617769474558933
          ],
          [
           "battlefield v",
           -0.006329142834240144,
           -0.2241805260435069,
           0.02059073483199654,
           -0.20991893404575052
          ],
          [
           "super mario party jamboree",
           -0.003289370665761453,
           0.1494285442768569,
           -0.014980822295773919,
           0.13115835131532153
          ],
          [
           "metroid prime",
           0.0006578991627515052,
           -1.0659254106831428,
           0.009660164476821364,
           -1.05560734704357
          ],
          [
           "palworld",
           -0.028527198968047004,
           -1.7976425821539568,
           -0.001655405560058938,
           -1.8278251866820625
          ],
          [
           "abiotic factor",
           -0.005271723230633824,
           -0.07017175136843207,
           0.012958316034010977,
           -0.06248515856505491
          ],
          [
           "retro",
           -0.004968059291344389,
           0.19232583294012556,
           -0.020103713313659455,
           0.16725406033512172
          ],
          [
           "the outlast trials",
           -0.0004372194288009723,
           0.2786028926382747,
           -0.06129613360026461,
           0.2168695396092091
          ],
          [
           "metal gear solid",
           -0.012640697359534556,
           -0.11152863683293844,
           0.0006088539650356495,
           -0.12356048022743735
          ],
          [
           "mario kart world",
           0.004322175308309397,
           0.3754150178073974,
           0.020134513702382718,
           0.39987170681808953
          ],
          [
           "the legend of zelda: tears of the kingdom",
           -0.07689446556944972,
           0.26277006912971274,
           -0.05395797386990523,
           0.13191762969035778
          ],
          [
           "wuchang: fallen feathers",
           0.013649598496773194,
           0.5308204716578601,
           -0.19197490645393941,
           0.3524951637006938
          ],
          [
           "retro",
           -0.06933711364365194,
           -0.2854283326180757,
           -0.027060888692261642,
           -0.3818263349539893
          ],
          [
           "metal gear solid 4: guns of the patriots",
           0.01351171204201478,
           0.533891429784719,
           0.016765782759382546,
           0.5641689245861163
          ],
          [
           "mario kart world",
           0.003171070265218532,
           0.19854795705949072,
           0.00908239642214312,
           0.21080142374685237
          ],
          [
           "blue prince",
           -0.034496465292942986,
           -0.7190344987044247,
           0.006876315568971805,
           -0.7466546484283959
          ],
          [
           "tenable",
           -0.08091052658542935,
           -0.1546924815184667,
           -0.028754871714049272,
           -0.26435787981794534
          ],
          [
           "retro",
           -0.06459961855790652,
           -0.41002896189463856,
           -0.022901851350998755,
           -0.49753043180354384
          ],
          [
           "grounded",
           0.06191901200028553,
           -0.15319156259560315,
           0.073162029145508,
           -0.018110521449809625
          ],
          [
           "dark souls: remastered",
           -0.020583964180921156,
           -0.15067610030412426,
           0.026187227309676472,
           -0.14507283717536895
          ],
          [
           "retro",
           -0.17421648220436572,
           -0.06529721454862965,
           -0.10118867397468065,
           -0.34070237072767606
          ],
          [
           "blue prince",
           -0.0016496138704613372,
           -0.49017596298085125,
           0.01681967714873167,
           -0.47500589970258095
          ],
          [
           "mafia: the old country",
           -0.005053526612981045,
           0.3590766111493832,
           0.02397382357452159,
           0.3779969081109238
          ],
          [
           "minecraft",
           -0.007677461482073795,
           -0.4319490792932459,
           -0.014336591213539123,
           -0.45396313198885885
          ],
          [
           "half sword",
           0.012890000813034845,
           -0.08234852515577253,
           0.01971402616214334,
           -0.04974449818059434
          ],
          [
           "get to work",
           -0.01139458559500099,
           -0.9545888660580801,
           0.008965474823681631,
           -0.9570179768293995
          ],
          [
           "blue prince",
           0.00013783314842640948,
           -1.2108876820215702,
           0.01141072235218985,
           -1.199339126520954
          ],
          [
           "warframe",
           0.06516296432766013,
           0.5333308414269874,
           -0.049436226114708576,
           0.549057579639939
          ],
          [
           "starcraft ii",
           0.020719015643252306,
           -0.9839792178073935,
           -0.01292369010241451,
           -0.9761838922665558
          ],
          [
           "irl",
           -0.0019120163973593662,
           0.20565918527920415,
           0.01895247847920871,
           0.22269964736105352
          ],
          [
           "golf with your friends",
           -0.060579795272906266,
           -0.08481157884240588,
           0.016651854378864073,
           -0.12873951973644807
          ],
          [
           "mario kart world",
           -0.0006682103869752609,
           0.8446995059504252,
           0.01798585663713311,
           0.8620171522005831
          ],
          [
           "waterpark simulator",
           -0.03399711863299444,
           0.07944891997401772,
           0.019983840048233788,
           0.06543564138925706
          ],
          [
           "battlefield 2042",
           -0.0045444486332462475,
           -1.103154425982575,
           0.011353344275505606,
           -1.0963455303403156
          ],
          [
           "oddsparks: an automation adventure",
           0.07078534411885244,
           0.4015564904584278,
           0.0007673050951763116,
           0.47310913967245655
          ],
          [
           "hollow knight",
           -0.0035202800184367788,
           -0.07226992689366284,
           0.01886708860970771,
           -0.05692311830239191
          ],
          [
           "the legend of zelda: ocarina of time",
           -0.009154080428274938,
           -1.2849959290719175,
           -0.008478797380212058,
           -1.3026288068804046
          ],
          [
           "fallout 4",
           0.002740852035890384,
           -0.21688675563295534,
           0.0018280489892379137,
           -0.21231785460782704
          ],
          [
           "supermarket simulator",
           0.0023662593486528747,
           0.23664448504337585,
           0.021035537637143307,
           0.260046282029172
          ],
          [
           "wuchang: fallen feathers",
           -0.0031698752731979594,
           -1.3973100748883451,
           -0.11419012505952708,
           -1.51467007522107
          ],
          [
           "geoguessr",
           0.0050241220541488475,
           0.5105812575727771,
           0.010308221154336933,
           0.5259136007812628
          ],
          [
           "destiny 2",
           -0.02983678751632297,
           -0.5448152660263332,
           0.008777896041733584,
           -0.5658741575009226
          ],
          [
           "path of exile 2",
           0.012450892438730534,
           0.5555519225940918,
           0.02174093606672443,
           0.5897437510995468
          ],
          [
           "the legend of zelda: tears of the kingdom",
           0.059478115832249615,
           -0.20260744545109902,
           -0.05398192402371649,
           -0.19711125364256588
          ],
          [
           "mario kart world",
           0.011209013672538504,
           -1.549601213402807,
           0.010224865122429492,
           -1.528167334607839
          ],
          [
           "super mario odyssey",
           -0.007872022411238078,
           -0.05603516402949239,
           -0.060399189312971086,
           -0.12430637575370156
          ],
          [
           "super mario world",
           0.0019798753140118207,
           0.2710496443292277,
           -0.03603860830289591,
           0.2369909113403436
          ],
          [
           "ovis loop",
           -0.020165120519878885,
           -1.0524094081032067,
           0.01204890003528817,
           -1.0605256285877975
          ],
          [
           "hades ii",
           0.008787148318923528,
           0.3543732431195082,
           0.00429475524151485,
           0.36745514667994655
          ],
          [
           "titan quest ii",
           0.014306218850260706,
           0.4963097627150168,
           0.024288018034569633,
           0.5349039995998471
          ],
          [
           "the legend of zelda: tears of the kingdom",
           0.0035470946533155256,
           0.3307092405136882,
           -0.06785560299166889,
           0.2664007321753349
          ],
          [
           "pokémon",
           -0.002712199491567162,
           0.5718900883294031,
           0.002984689192770702,
           0.5721625780306067
          ],
          [
           "palworld",
           -0.02615730021629588,
           -1.6989770551617005,
           -0.008993080276807177,
           -1.7341274356548035
          ],
          [
           "kingdom hearts hd 1.5 + 2.5 remix",
           0.0046049643314029255,
           0.4134979663632009,
           0.012239147247378242,
           0.4303420779419821
          ],
          [
           "retro",
           0.015300510857873633,
           0.1473475033694581,
           -0.02878668902704362,
           0.1338613252002881
          ],
          [
           "software and game development",
           -0.0004405167404929955,
           0.02988147843466493,
           0.015953077711280343,
           0.04539403940545228
          ],
          [
           "final fantasy ix",
           -0.007479690340845764,
           -0.08970064549414956,
           0.031630247304084376,
           -0.06555008853091096
          ],
          [
           "prospector",
           0.069144648362103,
           0.34309236309089214,
           -0.040581635556146266,
           0.3716553758968489
          ],
          [
           "marbles on stream",
           0.013633439487888381,
           0.7011730074048083,
           0.008314219427636544,
           0.7231206663203332
          ],
          [
           "guilty as sock!",
           -0.007472571078021701,
           -0.2575777116310144,
           -0.00043468668738682936,
           -0.2654849693964229
          ],
          [
           "retro",
           -0.08717577310699993,
           0.1587735183817415,
           -0.027889503770052216,
           0.043708241504689355
          ],
          [
           "the sims 4",
           -0.010129373705855187,
           -0.28557107479005256,
           0.012905662040942047,
           -0.2827947864549657
          ],
          [
           "blue prince",
           0.006933948896219135,
           0.2904281472853927,
           0.06992784521699946,
           0.36728994139861126
          ],
          [
           "battlefield 6",
           -0.02458641299530598,
           0.1175647590354572,
           0.023163991275644093,
           0.11614233731579532
          ],
          [
           "mafia: the old country",
           0.012813091858413372,
           0.4228419682546206,
           0.027205433200035715,
           0.4628604933130697
          ],
          [
           "dark souls: remastered",
           -0.008675251089218818,
           -0.8224788110542317,
           0.024726917071640174,
           -0.8064271450718103
          ],
          [
           "clair obscur: expedition 33",
           -0.00210314805832013,
           1.0301476587544993,
           0.009053093328357137,
           1.0370976040245363
          ],
          [
           "the outlast trials",
           -0.020859506108615092,
           0.36017367173796366,
           -0.149704446695241,
           0.18960971893410758
          ],
          [
           "retro",
           0.02745902669267025,
           -0.1226246974333651,
           -0.03317668181683644,
           -0.1283423525575313
          ],
          [
           "retro",
           -0.017591439191718336,
           0.07681411644652598,
           -0.017476251252852536,
           0.04174642600195511
          ],
          [
           "hitman world of assassination",
           -0.0009012231413453264,
           -1.0448831962800704,
           0.008914962174174833,
           -1.0368694572472408
          ],
          [
           "irl",
           -0.0018390971726404358,
           -0.039124290374167855,
           0.019809517000021516,
           -0.021153870546786774
          ],
          [
           "party animals",
           0.012542845642699377,
           1.1882551077862467,
           0.00031465075709206756,
           1.2011126041860383
          ],
          [
           "daemon x machina: titanic scion",
           -0.007874100893527327,
           -0.22775803476514397,
           0.04255093609865753,
           -0.19308119956001377
          ],
          [
           "dark souls: remastered",
           -0.0026721279352886996,
           -0.21195395171933684,
           0.058179201852503866,
           -0.1564468778021217
          ],
          [
           "mario party 2",
           0.016640033594657096,
           -1.3177114017401845,
           0.0036076754682301273,
           -1.2974636926772973
          ],
          [
           "hearthstone",
           0.0038186953998342685,
           -0.22823694948688542,
           0.018443079020621554,
           -0.2059751750664296
          ],
          [
           "factorio",
           -0.0016696985927671904,
           -0.22833145372112854,
           0.014880897735525877,
           -0.21512025457836986
          ],
          [
           "blue prince",
           -0.011366630320644049,
           -0.9330499595104607,
           0.01499554695404754,
           -0.9294210428770571
          ],
          [
           "mario kart world",
           0.016147977146011315,
           -0.11035970715153638,
           0.031793979083977464,
           -0.06241775092154761
          ],
          [
           "blue prince",
           -0.011949297340329394,
           -0.8707566464403027,
           0.005961800464000362,
           -0.8767441433166316
          ],
          [
           "pokémon firered/leafgreen",
           0.0014759305198603556,
           0.06736834425805256,
           -0.005001462969948989,
           0.06384281180796392
          ],
          [
           "battlefield 6",
           0.023582077349424253,
           0.47476789274029474,
           0.020032275297758133,
           0.5183822453874771
          ],
          [
           "the legend of zelda: tears of the kingdom",
           -0.10608049456512618,
           -0.4305304629422369,
           -0.10524866161601892,
           -0.6418596191233821
          ],
          [
           "baldur's gate 3",
           -0.026359357211530467,
           -0.35509494951678133,
           0.003489291989592402,
           -0.3779650147387194
          ],
          [
           "elden ring",
           -0.0003208155020888626,
           -0.240276802818139,
           0.021391449829834527,
           -0.21920616849039337
          ],
          [
           "abiotic factor",
           -0.005459160230894611,
           0.43154217340599843,
           0.015404999018820718,
           0.44148801219392453
          ],
          [
           "the legend of zelda: ocarina of time",
           0.007551846921146534,
           -0.016190572286553788,
           0.010460764902685896,
           0.0018220395372786427
          ],
          [
           "grounded 2",
           0.0005501740042956982,
           0.471647169010605,
           0.02281848171405727,
           0.49501582472895794
          ],
          [
           "final fantasy viii",
           -0.013716737011134796,
           -0.033660825955421955,
           0.02886745198686583,
           -0.01851011097969092
          ],
          [
           "ufo 50",
           0.009001180735670857,
           0.004562561113556569,
           -0.1568448885453722,
           -0.14328114669614478
          ],
          [
           "supermarket simulator",
           0.001995844523963797,
           0.27395061780805235,
           0.021685612681031897,
           0.29763207501304806
          ],
          [
           "the legend of zelda: tears of the kingdom",
           -0.002458988469279717,
           0.23439609071520182,
           -0.05537368380979331,
           0.17656341843612877
          ],
          [
           "final fantasy viii",
           0.004279728837558423,
           0.27543769013928,
           0.038403666631971305,
           0.31812108560880975
          ],
          [
           "pokémon scarlet/violet",
           -0.0011623363422245347,
           -1.373645119162445,
           -0.022297358340146047,
           -1.3971048138448157
          ],
          [
           "pools, hot tubs, and beaches",
           -0.002639331595099179,
           0.23745497791658068,
           -0.03437137827795425,
           0.20044426804352725
          ],
          [
           "abiotic factor",
           -0.005758831917388534,
           -1.1752122916800978,
           0.00895637945194153,
           -1.1720147441455446
          ],
          [
           "helldivers 2",
           -0.013606366533129233,
           -0.13133900786760605,
           0.015748863130868075,
           -0.12919651126986723
          ],
          [
           "ninja gaiden: ragebound",
           -0.0037115547597238673,
           0.4883253233916554,
           -0.00895224384797018,
           0.4756615247839614
          ],
          [
           "hitman world of assassination",
           -0.0022220729588684662,
           0.5339202188460865,
           0.009117307443764844,
           0.5408154533309829
          ],
          [
           "super mario world",
           0.0047103866993407455,
           -0.04482851151916065,
           -0.007240071695536159,
           -0.04735819651535607
          ],
          [
           "palworld",
           0.0018899108342375825,
           0.4895918301814197,
           -0.018415334772811463,
           0.4730664062428458
          ],
          [
           "battlefield 6",
           0.020663846330070613,
           0.39009673747269774,
           0.017993134119014372,
           0.42875371792178274
          ],
          [
           "retro",
           -0.0715275606772309,
           -0.2839502799916005,
           -0.014964299143293829,
           -0.3704421398121252
          ],
          [
           "the legend of zelda: ocarina of time",
           0.008296811855148007,
           -0.4292766839949684,
           -0.023129597618053596,
           -0.44410946975787396
          ],
          [
           "the king is watching",
           0.0019132328402869804,
           0.49994963164723116,
           -0.029069268228096235,
           0.4727935962594219
          ]
         ],
         "hovertemplate": "category_simple=other<br>start_time_hour=%{x}<br>duration_hr=%{y:.2f}<br>size=%{marker.size}<br>category=%{customdata[0]}<br>shap_hour=%{customdata[1]:.3f}<br>shap_duration=%{customdata[2]:.3f}<br>shap_game=%{customdata[3]:.3f}<br>combined=%{marker.color:.3f}<extra></extra>",
         "legendgroup": "other",
         "marker": {
          "color": {
           "bdata": "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",
           "dtype": "f8"
          },
          "coloraxis": "coloraxis",
          "size": {
           "bdata": "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",
           "dtype": "f8"
          },
          "sizemode": "area",
          "sizeref": 0.1015625,
          "symbol": "diamond"
         },
         "mode": "markers",
         "name": "other",
         "orientation": "v",
         "showlegend": true,
         "type": "scatter",
         "x": {
          "bdata": "AAAAAAAAKkAAAAAAAAA3QAAAAAAAAPA/AAAAAAAAMEAAAAAAAAA2QAAAAAAAACBAAAAAAAAAKkAAAAAAAAA0QAAAAAAAADVAAAAAAAAAIEAAAAAAAAA1QAAAAAAAADRAAAAAAAAAN0AAAAAAAAA0QAAAAAAAACBAAAAAAAAAKkAAAAAAAAA2QAAAAAAAADJAAAAAAAAAJEAAAAAAAAA1QAAAAAAAADNAAAAAAAAAN0AAAAAAAAA0QAAAAAAAAC5AAAAAAAAANUAAAAAAAAAkQAAAAAAAACpAAAAAAAAA8D8AAAAAAAA3QAAAAAAAADdAAAAAAAAANkAAAAAAAAAuQAAAAAAAADdAAAAAAAAAN0AAAAAAAAA1QAAAAAAAADdAAAAAAAAANUAAAAAAAAAmQAAAAAAAADJAAAAAAAAALEAAAAAAAAA3QAAAAAAAACpAAAAAAAAAN0AAAAAAAAAzQAAAAAAAACBAAAAAAAAAN0AAAAAAAAAgQAAAAAAAADVAAAAAAAAALEAAAAAAAAAAAAAAAAAAADNAAAAAAAAANUAAAAAAAAAsQAAAAAAAADNAAAAAAAAAN0AAAAAAAAAgQAAAAAAAACBAAAAAAAAAN0AAAAAAAAAAAAAAAAAAADVAAAAAAAAAMEAAAAAAAAA1QAAAAAAAACZAAAAAAAAALEAAAAAAAAAiQAAAAAAAADZAAAAAAAAAN0AAAAAAAAA3QAAAAAAAADVAAAAAAAAANkAAAAAAAAAsQAAAAAAAACBAAAAAAAAAJkAAAAAAAAA1QAAAAAAAACpAAAAAAAAAKkAAAAAAAAAqQAAAAAAAACxAAAAAAAAAN0AAAAAAAAAoQAAAAAAAADVAAAAAAAAANEAAAAAAAAA2QAAAAAAAADRAAAAAAAAAJEAAAAAAAAA0QAAAAAAAACpAAAAAAAAANUAAAAAAAADwPwAAAAAAADRAAAAAAAAANUAAAAAAAAA2QAAAAAAAADJAAAAAAAAANEAAAAAAAAAwQAAAAAAAADNAAAAAAAAAN0AAAAAAAAAAAAAAAAAAADNAAAAAAAAAKkAAAAAAAAA0QAAAAAAAADdAAAAAAAAANkAAAAAAAAAqQAAAAAAAADNAAAAAAAAANUAAAAAAAAA2QAAAAAAAADJAAAAAAAAAMkAAAAAAAAA3QAAAAAAAADVAAAAAAAAANkAAAAAAAAAzQAAAAAAAADVAAAAAAAAA8D8AAAAAAAA0QAAAAAAAADVAAAAAAAAAIEAAAAAAAAA3QAAAAAAAADdAAAAAAAAALkAAAAAAAAAiQAAAAAAAACxAAAAAAAAAKkAAAAAAAAAqQAAAAAAAADJAAAAAAAAA8D8AAAAAAAAzQAAAAAAAADRAAAAAAAAANkAAAAAAAAA2QAAAAAAAABxAAAAAAAAAIEAAAAAAAAAgQAAAAAAAADJAAAAAAAAANkAAAAAAAAA3QAAAAAAAADNAAAAAAAAALEAAAAAAAAA3QAAAAAAAADdAAAAAAAAAN0AAAAAAAAAmQAAAAAAAADJAAAAAAAAAMkAAAAAAAAA1QAAAAAAAADVAAAAAAAAAIkAAAAAAAAA1QAAAAAAAADZAAAAAAAAAKEAAAAAAAAAwQAAAAAAAADNAAAAAAAAAJkAAAAAAAAAAAAAAAAAAACZAAAAAAAAAMkAAAAAAAAAqQAAAAAAAACxAAAAAAAAAKEAAAAAAAAA1QAAAAAAAADNAAAAAAAAAIEAAAAAAAAAoQAAAAAAAACpAAAAAAAAALkAAAAAAAAA1QAAAAAAAADdAAAAAAAAAIEAAAAAAAAA3QAAAAAAAAPA/AAAAAAAANkAAAAAAAAAqQAAAAAAAADNAAAAAAAAAAAAAAAAAAAA1QAAAAAAAADNAAAAAAAAAKkAAAAAAAAAqQAAAAAAAADVAAAAAAAAAJkAAAAAAAAA2QAAAAAAAADVAAAAAAAAAN0AAAAAAAAAqQAAAAAAAADNAAAAAAAAAN0AAAAAAAAA0QAAAAAAAACBAAAAAAAAANEAAAAAAAAA0QAAAAAAAACBAAAAAAAAAKkAAAAAAAAAsQAAAAAAAACpAAAAAAAAANkAAAAAAAAA1QAAAAAAAACZAAAAAAAAANUAAAAAAAAAzQAAAAAAAAC5AAAAAAAAAM0AAAAAAAAA3QAAAAAAAADdAAAAAAAAAMkAAAAAAAAAqQAAAAAAAADVAAAAAAAAANUAAAAAAAAAzQAAAAAAAADNAAAAAAAAALEAAAAAAAAA1QAAAAAAAACpAAAAAAAAAJkAAAAAAAAAqQAAAAAAAAPA/AAAAAAAALEAAAAAAAAA0QAAAAAAAADdAAAAAAAAAAAAAAAAAAAAoQAAAAAAAADZAAAAAAAAAM0AAAAAAAAA1QAAAAAAAADZAAAAAAAAANUAAAAAAAAA3QAAAAAAAADVAAAAAAAAAN0AAAAAAAAAgQAAAAAAAADdAAAAAAAAAIEAAAAAAAAA1QAAAAAAAAAAAAAAAAAAAN0AAAAAAAAA3QAAAAAAAADdAAAAAAAAALEAAAAAAAAA3QAAAAAAAADRAAAAAAAAAKEAAAAAAAAA1QAAAAAAAAPA/AAAAAAAAMUAAAAAAAAA2QAAAAAAAACJAAAAAAAAA8D8AAAAAAAAmQAAAAAAAADdAAAAAAAAANUAAAAAAAAA3QAAAAAAAADRAAAAAAAAAIkAAAAAAAAA1QAAAAAAAADBAAAAAAAAAJEAAAAAAAAA2QAAAAAAAAAAAAAAAAAAAM0AAAAAAAAAmQAAAAAAAACBAAAAAAAAA8D8AAAAAAADwPwAAAAAAACZAAAAAAAAAM0AAAAAAAAAzQAAAAAAAADBAAAAAAAAAIEAAAAAAAAA1QAAAAAAAAC5AAAAAAAAAN0AAAAAAAAAzQAAAAAAAADZAAAAAAAAAMUAAAAAAAAA0QAAAAAAAACJAAAAAAAAAIEAAAAAAAAAwQAAAAAAAADdAAAAAAAAAMkAAAAAAAAAzQAAAAAAAADdAAAAAAAAAJEAAAAAAAAA1QAAAAAAAADNAAAAAAAAAKkAAAAAAAAA2QAAAAAAAADVAAAAAAAAANUAAAAAAAAA3QAAAAAAAACBAAAAAAAAAMEAAAAAAAAAzQAAAAAAAAAAAAAAAAAAANkAAAAAAAAAmQAAAAAAAADVAAAAAAAAAN0AAAAAAAAA1QAAAAAAAACpAAAAAAAAAEEAAAAAAAAA3QAAAAAAAACxAAAAAAAAANEAAAAAAAAAxQAAAAAAAACRAAAAAAAAAM0AAAAAAAAA0QAAAAAAAACJAAAAAAAAANkAAAAAAAAA1QAAAAAAAADJAAAAAAAAAMkAAAAAAAAAqQAAAAAAAADVAAAAAAAAAKkAAAAAAAAAkQAAAAAAAAC5AAAAAAAAANkAAAAAAAAAqQAAAAAAAAAhAAAAAAAAAN0AAAAAAAAAgQAAAAAAAADNA",
          "dtype": "f8"
         },
         "xaxis": "x",
         "y": {
          "bdata": "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",
          "dtype": "f8"
         },
         "yaxis": "y"
        },
        {
         "customdata": [
          [
           "just chatting",
           0.009136813949940006,
           -0.8683604901853539,
           0.003735806022651218,
           -0.8554878702127626
          ],
          [
           "just chatting",
           -0.016500947280961784,
           -1.4267122281883735,
           0.006144524125624571,
           -1.4370686513437108
          ],
          [
           "just chatting",
           -0.0014996064720259029,
           -1.3016825914939658,
           0.004237979334045576,
           -1.298944218631946
          ],
          [
           "just chatting",
           0.0001154879151363275,
           0.5146966193589196,
           0.018301717186909698,
           0.5331138244609657
          ],
          [
           "just chatting",
           0.007184825985502244,
           0.39514166377698584,
           0.023826040442835962,
           0.42615253020532406
          ],
          [
           "just chatting",
           -0.002056806507724218,
           -2.363409971310099,
           0.006304908821560673,
           -2.3591618689962623
          ],
          [
           "just chatting",
           -0.0002597968110205784,
           0.4685682881388658,
           0.016717811855937157,
           0.4850263031837824
          ],
          [
           "just chatting",
           0.002720264452157153,
           0.08485687557580832,
           0.028568058604684553,
           0.11614519863265002
          ],
          [
           "just chatting",
           -0.003775243748229968,
           0.4944499933555572,
           0.02115035495861271,
           0.51182510456594
          ],
          [
           "just chatting",
           0.0051426821313080495,
           0.45693221063188844,
           0.011342327065676798,
           0.47341721982887325
          ],
          [
           "just chatting",
           0.0001425403609937348,
           0.5375088838984129,
           0.01840808820982268,
           0.5560595124692292
          ],
          [
           "just chatting",
           0.012888514069950362,
           -0.15497552502470172,
           0.0015843239571478307,
           -0.14050268699760352
          ],
          [
           "just chatting",
           0.005323746555162074,
           0.2211294953009576,
           0.02446619469746338,
           0.25091943655358306
          ],
          [
           "just chatting",
           -0.0008415149639236574,
           0.5749489464619026,
           0.013946467132578988,
           0.5880538986305579
          ],
          [
           "just chatting",
           0.04718446493839906,
           -0.2740752577067292,
           0.006896293938680174,
           -0.21999449882964994
          ],
          [
           "just chatting",
           0.02116671919880332,
           -0.2146951548897323,
           0.010714443976257825,
           -0.18281399171467116
          ],
          [
           "just chatting",
           -0.001569873894002427,
           0.03709937804740832,
           0.013921160523153588,
           0.04945066467655948
          ],
          [
           "just chatting",
           -0.006072466411618507,
           -0.004427472421015182,
           0.019768859749119086,
           0.009268920916485398
          ],
          [
           "just chatting",
           -0.005557514522931513,
           0.48622861112636373,
           0.019770770118108204,
           0.5004418667215405
          ],
          [
           "just chatting",
           -0.00015940281653683996,
           0.4968518292833977,
           0.016777273634858217,
           0.5134697001017191
          ],
          [
           "just chatting",
           0.015531524270015211,
           0.3714280154794008,
           0.008497573431598652,
           0.3954571131810146
          ],
          [
           "just chatting",
           0.013787039516939785,
           0.4515275641577631,
           0.017126883955714902,
           0.4824414876304177
          ],
          [
           "just chatting",
           -0.0013705811247723431,
           0.1000793885314613,
           0.016163429677222327,
           0.11487223708391128
          ],
          [
           "just chatting",
           0.000692448420284535,
           0.435033673053573,
           0.016084879198765948,
           0.4518110006726235
          ],
          [
           "just chatting",
           0.00897131766516992,
           0.45413457485589787,
           0.012095896921675902,
           0.47520178944274366
          ],
          [
           "just chatting",
           -0.033098520549669955,
           0.44768010439656736,
           0.022553235420682397,
           0.4371348192675798
          ],
          [
           "just chatting",
           -0.0029182151043175963,
           -0.038445979573604065,
           0.014105818831471738,
           -0.027258375846449925
          ],
          [
           "just chatting",
           -0.016105132782222427,
           -1.3797847340889655,
           0.005401699550854744,
           -1.390488167320333
          ],
          [
           "just chatting",
           -0.003530535824593244,
           0.4807786328529072,
           0.02162868207542445,
           0.4988767791037384
          ],
          [
           "just chatting",
           -0.0016952534199435832,
           0.520349924813793,
           0.027855898471498223,
           0.5465105698653477
          ],
          [
           "just chatting",
           -0.017858654075429286,
           -1.3101358691025373,
           0.0075324899969928085,
           -1.3204620331809738
          ],
          [
           "just chatting",
           -0.004244693698231003,
           -0.022721209145584,
           0.01921152539714001,
           -0.007754377446674995
          ],
          [
           "just chatting",
           -0.02790080675872275,
           0.4299730615493979,
           0.018706207361053658,
           0.4207784621517288
          ],
          [
           "just chatting",
           -0.010742629783721895,
           -1.407957954830614,
           0.0012841284215176073,
           -1.4174164561928182
          ],
          [
           "just chatting",
           -0.006392894270658758,
           0.43135455815406176,
           0.015839263726348207,
           0.4408009276097512
          ],
          [
           "just chatting",
           0.00768379200459492,
           0.4875928117840539,
           0.023799207505941097,
           0.5190758112945899
          ],
          [
           "just chatting",
           -0.0004507953191205161,
           -0.098651873952615,
           0.0024182603298623915,
           -0.09668440894187312
          ],
          [
           "just chatting",
           -0.01857693204544873,
           -0.12766405884703347,
           0.01959958606981175,
           -0.12664140482267044
          ],
          [
           "just chatting",
           0.006222532148054256,
           0.5407778725649217,
           0.016472780219414816,
           0.5634731849323907
          ],
          [
           "just chatting",
           -0.0031356566473664314,
           0.45951470778610526,
           0.02233998384292029,
           0.47871903498165913
          ],
          [
           "just chatting",
           -0.010529083880579436,
           0.3642845384213336,
           0.021088142865783085,
           0.3748435974065373
          ],
          [
           "just chatting",
           -0.0022105962262871513,
           0.03327066362370374,
           0.015820973088429894,
           0.04688104048584649
          ],
          [
           "just chatting",
           -0.04734742715638049,
           0.4929467928548996,
           0.024119059246558053,
           0.46971842494507715
          ],
          [
           "just chatting",
           -0.01116197648731827,
           0.20466111252500127,
           0.014424636104667456,
           0.20792377214235047
          ],
          [
           "just chatting",
           -0.04955143449037564,
           0.5195426987122295,
           0.022088470861447006,
           0.49207973508330083
          ],
          [
           "just chatting",
           0.016189102085351407,
           0.7999025507437068,
           0.0211239980080245,
           0.8372156508370826
          ],
          [
           "just chatting",
           -0.02352008425334816,
           0.6236833415929862,
           0.020635250802513383,
           0.6207985081421514
          ],
          [
           "just chatting",
           0.006388340794942451,
           0.7372088931893126,
           0.011759461718832328,
           0.7553566957030874
          ],
          [
           "just chatting",
           -0.013665563190420187,
           -2.185425694823927,
           0.005770374257194817,
           -2.1933208837571523
          ],
          [
           "just chatting",
           0.0007981506253315728,
           0.03006452690570427,
           0.015804737475348246,
           0.04666741500638409
          ],
          [
           "just chatting",
           -0.008462119162700218,
           0.5008353383929881,
           0.028147032816489174,
           0.5205202520467771
          ],
          [
           "just chatting",
           -0.01982620512115247,
           -0.22550251401593926,
           0.024901976342544714,
           -0.22042674279454702
          ],
          [
           "just chatting",
           -0.0013787305808239125,
           0.5449522921800852,
           0.013427148543092926,
           0.5570007101423542
          ],
          [
           "just chatting",
           0.025504291343409022,
           0.06882075611956452,
           0.012388595791492776,
           0.10671364325446632
          ],
          [
           "just chatting",
           0.0023189587839829075,
           0.7452740092366912,
           0.015874213079926633,
           0.7634671811006007
          ],
          [
           "just chatting",
           0.054581681075928826,
           -0.33095661762295775,
           0.012745844352584754,
           -0.2636290921944442
          ],
          [
           "just chatting",
           0.004935757247581591,
           0.46786711382825047,
           0.0072035850558387435,
           0.4800064561316708
          ],
          [
           "just chatting",
           -0.0017369214654851105,
           0.03451504704652848,
           0.010486354014907703,
           0.043264479595951075
          ],
          [
           "just chatting",
           0.00030448240314001396,
           0.5304438783769411,
           0.018600586251508348,
           0.5493489470315894
          ],
          [
           "just chatting",
           0.004697649031733704,
           0.7648907363928279,
           0.014837218290196076,
           0.7844256037147578
          ]
         ],
         "hovertemplate": "category_simple=just chatting<br>start_time_hour=%{x}<br>duration_hr=%{y:.2f}<br>size=%{marker.size}<br>category=%{customdata[0]}<br>shap_hour=%{customdata[1]:.3f}<br>shap_duration=%{customdata[2]:.3f}<br>shap_game=%{customdata[3]:.3f}<br>combined=%{marker.color:.3f}<extra></extra>",
         "legendgroup": "just chatting",
         "marker": {
          "color": {
           "bdata": "QggWGShg67+NDLqyO/72v8Sjpbt5yPS/4l4juUQP4T+uuhVDFUbbPzV5CkKQ3wLAr/F3w6sK3z+u87YVsbu9P2E9rArfYOA/584hvXdM3j/h65VRPcvhP4XR0/b9+8G/rmp7ZRAP0D/Y6dxoVtHiPxT64pzHKMy/kDbV6XJmx78UQhr3mFGpPx7lpIGV+4I/WshjqZ4D4D/djy0CWG7gP1ZQBVorT9k/hMzmQlLg3j/iZn5VRGi9Pzgq96946tw/lRAqxLRp3j+2nSxSBPrbPzTXNaOe6Zu/WNpBhXA/9r/2/77emO3fPwOuD7wDfeE/gfMBzJwg9b+wh4zYDcN/v+Fhc8kI7to/4ZDC4Lyt9r+SVwgYFTbcPzL1NOBEnOA/Rz1wNk/AuL/2NAQayTXAv3ukrur4B+I/jgLOKVWj3j/md/7/b/3XP+zZYK/KAKg/Z+9d3t0P3j/sx7QEP53KP3hBTQA8ft8/kW0BenjK6j9CCTzVlN3jPxOAG87hK+g/X/fK0euLAcD2iHuayuSnP2xKbhYaqOA/cbK7ifE2zL9AID0n89LhPymg0NeVUbs/Oa/MuVJu6D+k9E+OTN/Qv6QUvf9suN4/9tniCcMmpj+B9zI+RJThP7cyQ7kDGuk/",
           "dtype": "f8"
          },
          "coloraxis": "coloraxis",
          "size": {
           "bdata": "StzbUOYeLkDEh+yveUw5QIBpU3783TZAuHW1RTLFIkDt6R0pNgIeQAAAAAAAADpAMlwPA8MTIUAAAAAAAAAYQOuAhr5PBSJAnevlsx+rIEBNw1IpBJQjQAAAAAAAABhAAAAAAAAAGEDCZRZqZbQkQAAAAAAAABhAAAAAAAAAGEAAAAAAAAAYQAAAAAAAABhAIVCVj7WeIUA0rmeOIhQiQKyhaUDe2BtAfK/msXb8IEAAAAAAAAAYQO9wNiDB0B9ASsRBfzW7IEBWspMxMMgeQAAAAAAAABhAPtxPwox6OECs8Xo1mpAhQObb8oLyPSNAPM6rEfY+N0AAAAAAAAAYQMhpXHBVoR1AEHmKhOjzOEBxjWvfRgofQNIc+leqRiJAAAAAAAAAGEAAAAAAAAAYQCU0jsvW1iNA9EAUWOnaIECN0dMvRWUaQAAAAAAAABhABgTa8MiJIEAAAAAAAAAYQI6lJ2lWUyFA7nyVMTR6LUDZiwbEidslQABGDT5fmCpAAAAAAAAAOkAAAAAAAAAYQM1jS0+vUyJAAAAAAAAAGEDG9hvsf5wjQAAAAAAAABhAKJKfu3nhKkAAAAAAAAAYQM+tB/+D5iBAAAAAAAAAGED0t2Loh1cjQJr4VR5initA",
           "dtype": "f8"
          },
          "sizemode": "area",
          "sizeref": 0.1015625,
          "symbol": "square"
         },
         "mode": "markers",
         "name": "just chatting",
         "orientation": "v",
         "showlegend": true,
         "type": "scatter",
         "x": {
          "bdata": "AAAAAAAAIkAAAAAAAAA2QAAAAAAAADRAAAAAAAAANUAAAAAAAAAkQAAAAAAAADNAAAAAAAAAMEAAAAAAAAAwQAAAAAAAAAAAAAAAAAAANUAAAAAAAAA1QAAAAAAAACRAAAAAAAAAJEAAAAAAAAA1QAAAAAAAACRAAAAAAAAAJEAAAAAAAAAoQAAAAAAAAChAAAAAAAAALEAAAAAAAAA1QAAAAAAAABxAAAAAAAAAIEAAAAAAAAAzQAAAAAAAADFAAAAAAAAANkAAAAAAAAA3QAAAAAAAACZAAAAAAAAAJkAAAAAAAAAAAAAAAAAAACpAAAAAAAAAMkAAAAAAAAAsQAAAAAAAADdAAAAAAAAAKEAAAAAAAAA1QAAAAAAAADRAAAAAAAAAKkAAAAAAAAAsQAAAAAAAADVAAAAAAAAAAAAAAAAAAAAoQAAAAAAAACpAAAAAAAAAN0AAAAAAAAAoQAAAAAAAADdAAAAAAAAAIEAAAAAAAAA3QAAAAAAAADZAAAAAAAAAN0AAAAAAAAAzQAAAAAAAACpAAAAAAAAAMUAAAAAAAAA1QAAAAAAAACRAAAAAAAAANEAAAAAAAAAkQAAAAAAAADNAAAAAAAAANEAAAAAAAAA1QAAAAAAAADVA",
          "dtype": "f8"
         },
         "xaxis": "x",
         "y": {
          "bdata": "ZmZmZmZm8j/NzMzMzMzkP97d3d3d3e0/3t3d3d1dIEBVVVVVVVUTQJqZmZmZmak/AAAAAAAAGUDv7u7u7u4KQM3MzMzMzBhAiYiIiIiIHkCJiIiIiIggQLy7u7u7uwFAvLu7u7u7EEBVVVVVVdUiQImIiIiIiABAMzMzMzMzAUCrqqqqqqoGQHd3d3d3dwVAERERERERFkAzMzMzMzMhQFVVVVVVVRhAREREREREIEDv7u7u7u4KQCIiIiIiIhNA7+7u7u7uHEDNzMzMzMwXQHd3d3d3dwFA3t3d3d3dvT8zMzMzMzMZQCIiIiIiIiBAiYiIiIiI8D9mZmZmZmYIQGZmZmZmZh9AVVVVVVVVxT8REREREZEgQCIiIiIiIiFA7+7u7u7uCkAzMzMzMzP/P97d3d3d3SFAvLu7u7u7FkDNzMzMzMwUQLy7u7u7uwFAq6qqqqqqHkDv7u7u7u4RQCIiIiIiIhtA7+7u7u5uI0CrqqqqqqoiQGZmZmZmZipA3t3d3d3dvT8zMzMzMzMBQERERERERBpAvLu7u7u7B0CamZmZmZkjQERERERERABAiYiIiIgIJEBmZmZmZmYAQHd3d3d3dxNAq6qqqqqqBEDv7u7u7m4gQM3MzMzMzClA",
          "dtype": "f8"
         },
         "yaxis": "y"
        },
        {
         "customdata": [
          [
           "clash royale",
           -0.004914623776619323,
           0.03203262881604701,
           0.01822380545307169,
           0.04534181049249937
          ],
          [
           "clash royale",
           -0.0011167564001613073,
           -1.2932665625187922,
           0.012389227558647348,
           -1.2819940913603063
          ],
          [
           "clash royale",
           -0.004578761077791995,
           0.15918027843144272,
           0.017857892299582546,
           0.17245940965323328
          ],
          [
           "clash royale",
           -0.00003287445742614636,
           -1.3728066427309966,
           0.01070576237580724,
           -1.3621337548126153
          ],
          [
           "clash royale",
           -0.002894203660817425,
           -1.3494022878542113,
           0.011793334055554397,
           -1.3405031574594743
          ],
          [
           "clash royale",
           -0.025391206554550363,
           0.34548260364660904,
           0.019905526751300612,
           0.33999692384335933
          ],
          [
           "clash royale",
           -0.024317937271300705,
           0.32709786200533697,
           0.025958542773345243,
           0.3287384675073815
          ],
          [
           "clash royale",
           -0.008118530586536395,
           0.47541225553660355,
           0.020267925057397634,
           0.48756165000746476
          ],
          [
           "clash royale",
           -0.016196493879347712,
           0.7396157982799536,
           0.020520696690631154,
           0.743940001091237
          ],
          [
           "clash royale",
           -0.0021164727925594208,
           0.4717885617867637,
           0.020851855521854645,
           0.4905239445160589
          ],
          [
           "clash royale",
           -0.004114155618216557,
           -0.0314342327570887,
           0.013505854301173485,
           -0.022042534074131766
          ],
          [
           "clash royale",
           -0.029670861382953717,
           0.33190169770095734,
           0.026251054301012572,
           0.3284818906190162
          ],
          [
           "clash royale",
           0.024460839816293215,
           -1.0763046583155487,
           0.06528774069514967,
           -0.9865560778041057
          ],
          [
           "clash royale",
           -0.02427034511830044,
           0.45773688031700316,
           0.02060354347091902,
           0.45407007866962174
          ],
          [
           "clash royale",
           -0.001124830038351803,
           0.37563360363016046,
           0.020273320611497638,
           0.3947820942033063
          ],
          [
           "clash royale",
           -0.0020804142619724074,
           -0.023388961632571183,
           0.01762084633597851,
           -0.00784852955856508
          ],
          [
           "clash royale",
           -0.0025662259084580797,
           -1.3668589016079533,
           0.009851888377129399,
           -1.3595732391392819
          ],
          [
           "clash royale",
           -0.001518285604233398,
           0.4137992649595117,
           0.020607764103621095,
           0.4328887434588994
          ]
         ],
         "hovertemplate": "category_simple=clash royale<br>start_time_hour=%{x}<br>duration_hr=%{y:.2f}<br>size=%{marker.size}<br>category=%{customdata[0]}<br>shap_hour=%{customdata[1]:.3f}<br>shap_duration=%{customdata[2]:.3f}<br>shap_game=%{customdata[3]:.3f}<br>combined=%{marker.color:.3f}<extra></extra>",
         "legendgroup": "clash royale",
         "marker": {
          "color": {
           "bdata": "etZpsgo3pz+N7IA8DIP0v6mOLGImE8Y/dSqbw0zL9b8mkldws3L1vxB2KXWCwtU/PWi4EQ0K1T8KN2THNTTfPyvw20Jbzuc/M33mir5k3z9SoOBrUZKWv/ZcYujYBdU/WdY6Dd6R779hmn7yew/dP+mS6R0cRNk/ArA0zuMSgL+I62nez8D1v7aZ/fxytNs/",
           "dtype": "f8"
          },
          "coloraxis": "coloraxis",
          "size": {
           "bdata": "AAAAAAAAGECk/VPCmJE2QAAAAAAAABhArr9vpsP6N0BIC1/0R5k3QAAAAAAAABhAAAAAAAAAGEBHuMIunSohQOwOAtx3MSpAn0ffglBFIUAAAAAAAAAYQAAAAAAAABhApJH+bSNeMUB8qH+EevkfQEhfXB2zzBtAAAAAAAAAGED+M+WGOe83QAymnAelex5A",
           "dtype": "f8"
          },
          "sizemode": "area",
          "sizeref": 0.1015625,
          "symbol": "x"
         },
         "mode": "markers",
         "name": "clash royale",
         "orientation": "v",
         "showlegend": true,
         "type": "scatter",
         "x": {
          "bdata": "AAAAAAAAMkAAAAAAAAA0QAAAAAAAAChAAAAAAAAANEAAAAAAAAA1QAAAAAAAADdAAAAAAAAAN0AAAAAAAAAuQAAAAAAAADdAAAAAAAAALkAAAAAAAAAzQAAAAAAAADdAAAAAAAAAN0AAAAAAAAA3QAAAAAAAAC5AAAAAAAAANUAAAAAAAAA1QAAAAAAAAC5A",
          "dtype": "f8"
         },
         "xaxis": "x",
         "y": {
          "bdata": "VVVVVVVVC0Dv7u7u7u7ePwAAAAAAAA5AvLu7u7u76z9ERERERETsP7y7u7u7uxZAzczMzMzME0Dv7u7u7u4bQBEREREREStAAAAAAAAAGkC8u7u7u7v7P83MzMzMzBNAZmZmZmZm7j8REREREREbQO/u7u7u7hVAd3d3d3d38z8AAAAAAADoP0RERERERBhA",
          "dtype": "f8"
         },
         "yaxis": "y"
        },
        {
         "customdata": [
          [
           "marvel rivals",
           0.016816022989526117,
           0.6111312515792506,
           0.022551124455749232,
           0.650498399024526
          ],
          [
           "marvel rivals",
           -0.011058249883241587,
           -1.2247521836449915,
           0.005653343880029524,
           -1.2301570896482037
          ],
          [
           "marvel rivals",
           0.0020474322009658864,
           0.42922684336958666,
           0.013695597616559212,
           0.44496987318711173
          ],
          [
           "marvel rivals",
           0.022239480717702806,
           0.44123385043564073,
           0.025763689309154642,
           0.4892370204624982
          ],
          [
           "marvel rivals",
           -0.022124929718044653,
           0.10994639867343409,
           -0.011052695268157322,
           0.07676877368723212
          ],
          [
           "marvel rivals",
           0.017615093873355362,
           0.5974300139365437,
           0.016198551291558373,
           0.6312436591014574
          ],
          [
           "marvel rivals",
           -0.0020393367342171585,
           0.4872591055286489,
           0.018919468690580744,
           0.5041392374850124
          ],
          [
           "marvel rivals",
           -0.016778497089852636,
           -0.7046547059822496,
           0.009408045516065612,
           -0.7120251575560366
          ],
          [
           "marvel rivals",
           -0.01279062436481638,
           -1.7994885821405007,
           -0.0024079629897534004,
           -1.8146871694950704
          ],
          [
           "marvel rivals",
           0.012770138785720064,
           0.4513779924533331,
           0.014788053380684688,
           0.47893618461973786
          ],
          [
           "marvel rivals",
           -0.00489469216694161,
           0.004693463075685713,
           0.00927523295261551,
           0.009074003861359613
          ],
          [
           "marvel rivals",
           -0.005489272100402331,
           -0.12545589234757018,
           0.01899035258781055,
           -0.11195481186016197
          ],
          [
           "marvel rivals",
           0.02589587620906059,
           -0.19397505189812364,
           -0.0003556464012612537,
           -0.16843482209032432
          ],
          [
           "marvel rivals",
           0.02026199733089868,
           0.3745641477729012,
           0.018168548824468188,
           0.41299469392826804
          ],
          [
           "marvel rivals",
           0.01694322368009921,
           0.5382809999344811,
           0.020667785045235407,
           0.5758920086598157
          ],
          [
           "marvel rivals",
           0.02507650313118319,
           0.6123275663305457,
           0.017536339498450956,
           0.6549404089601798
          ],
          [
           "marvel rivals",
           0.010349068127108013,
           0.5155579071289857,
           0.013940669825117168,
           0.539847645081211
          ],
          [
           "marvel rivals",
           0.034684124543562546,
           1.156671661740055,
           0.004332564443676574,
           1.195688350727294
          ],
          [
           "marvel rivals",
           -0.03009210290459606,
           0.7055325333127606,
           -0.010121224122282833,
           0.6653192062858817
          ],
          [
           "marvel rivals",
           -0.007821485442557901,
           -0.3905456963212458,
           0.004744156304409728,
           -0.393623025459394
          ],
          [
           "marvel rivals",
           0.014626515939281149,
           0.7934051369292666,
           0.023469134586707126,
           0.8315007874552548
          ],
          [
           "marvel rivals",
           -0.02641966666349205,
           -1.1037938937036014,
           -0.0019098237451554213,
           -1.1321233841122489
          ],
          [
           "marvel rivals",
           0.012730685722499403,
           -2.3346398066300638,
           0.007426731148105503,
           -2.314482389759459
          ],
          [
           "marvel rivals",
           -0.0009083681639936003,
           -1.2408097613375833,
           0.014880455985709844,
           -1.226837673515867
          ],
          [
           "marvel rivals",
           -0.00399022704379945,
           -0.25264264444835305,
           0.004590168931252947,
           -0.25204270256089956
          ],
          [
           "marvel rivals",
           0.0463583043014107,
           0.43135828818289296,
           0.012130608927974436,
           0.4898472014122781
          ],
          [
           "marvel rivals",
           0.006716302515969374,
           -0.341314549449997,
           0.0091058731471054,
           -0.3254923737869222
          ],
          [
           "marvel rivals",
           0.03538936054651714,
           0.4790946859080614,
           0.023274924913805534,
           0.5377589713683841
          ],
          [
           "marvel rivals",
           0.017950277461336272,
           0.5376866235211972,
           0.025163980938880854,
           0.5808008819214143
          ],
          [
           "marvel rivals",
           0.018402905789114073,
           0.33345761837671944,
           0.014026915151881668,
           0.36588743931771517
          ],
          [
           "marvel rivals",
           -0.005916387348449916,
           0.4642399261001333,
           0.020090222411700793,
           0.4784137611633842
          ],
          [
           "marvel rivals",
           0.03216854470343861,
           0.4702865590829336,
           0.02224710417641745,
           0.5247022079627897
          ],
          [
           "marvel rivals",
           0.003308933554944815,
           0.3729295209908034,
           0.018014887614329497,
           0.39425334216007774
          ],
          [
           "marvel rivals",
           -0.00490000348562603,
           -0.05810318738380744,
           0.01650909500606133,
           -0.04649409586337214
          ],
          [
           "marvel rivals",
           -0.006116734707694036,
           0.3371546382483487,
           0.021071027523233282,
           0.35210893106388796
          ],
          [
           "marvel rivals",
           -0.01617561163522211,
           -0.1148847749045558,
           -0.001839208051993495,
           -0.13289959459177142
          ],
          [
           "marvel rivals",
           0.010437060839485354,
           0.9027976895486645,
           0.013523974821476372,
           0.9267587252096262
          ],
          [
           "marvel rivals",
           0.015052232131859,
           0.45156990520471313,
           0.021893091064399073,
           0.4885152284009712
          ],
          [
           "marvel rivals",
           0.022030005492564442,
           0.5662013056790681,
           0.01826319366975099,
           0.6064945048413836
          ],
          [
           "marvel rivals",
           0.022680808406972234,
           0.4509826556673158,
           0.025228341002062962,
           0.498891805076351
          ],
          [
           "marvel rivals",
           0.006776619020860721,
           -0.20939554673774524,
           0.012470820384981565,
           -0.19014810733190296
          ],
          [
           "marvel rivals",
           -0.006227526653198083,
           0.4412388215718687,
           0.018650747167567375,
           0.453662042086238
          ],
          [
           "marvel rivals",
           0.021541743984458323,
           -0.008360062965010684,
           0.013361695487786847,
           0.026543376507234484
          ],
          [
           "marvel rivals",
           -0.0021119529809880077,
           -0.3233825304456548,
           -0.012220051918449144,
           -0.33771453534509194
          ],
          [
           "marvel rivals",
           0.015409651713027302,
           0.8162200033933769,
           0.018079285113453237,
           0.8497089402198574
          ],
          [
           "marvel rivals",
           0.01655644734646103,
           0.6634257388421674,
           0.02689577422720447,
           0.7068779604158328
          ],
          [
           "marvel rivals",
           0.011678252365898345,
           0.621263306777822,
           0.015343685416030936,
           0.6482852445597513
          ],
          [
           "marvel rivals",
           0.009127482800326447,
           -1.1171699266623745,
           0.01143378688042219,
           -1.0966086569816258
          ],
          [
           "marvel rivals",
           0.014484892025242857,
           0.5116660449444588,
           0.016568689993803218,
           0.5427196269635048
          ],
          [
           "marvel rivals",
           0.02137494825749002,
           0.16232973146478458,
           0.017069022958015694,
           0.2007737026802903
          ],
          [
           "marvel rivals",
           0.010561693646118897,
           -1.6293836178579384,
           0.00913376561864716,
           -1.6096881585931724
          ],
          [
           "marvel rivals",
           0.02703146833378497,
           0.10462033315438361,
           0.013941378732579324,
           0.1455931802207479
          ],
          [
           "marvel rivals",
           -0.003671222937211951,
           0.5500947868344269,
           0.02021134116420967,
           0.5666349050614246
          ],
          [
           "marvel rivals",
           0.011582320528409013,
           0.7928336445177203,
           0.01535493102323656,
           0.8197708960693659
          ],
          [
           "marvel rivals",
           0.017498266923843032,
           0.20386382926189953,
           0.014865753032046741,
           0.2362278492177893
          ],
          [
           "marvel rivals",
           -0.0026577148421779383,
           0.5036633555956468,
           0.02162358070085986,
           0.5226292214543288
          ],
          [
           "marvel rivals",
           -0.004035436391896496,
           0.3234872661919019,
           0.015419951404003882,
           0.33487178120400923
          ],
          [
           "marvel rivals",
           -0.0076724751106632995,
           -0.30521789255042164,
           -0.0020605343653028285,
           -0.3149509020263878
          ],
          [
           "marvel rivals",
           0.0064993051121246025,
           0.43532611239961083,
           0.017109510588314832,
           0.45893492810005027
          ],
          [
           "marvel rivals",
           0.018552877839210568,
           0.5902840237942713,
           0.01850978838421213,
           0.6273466900176939
          ],
          [
           "marvel rivals",
           -0.01129262666358855,
           0.40835424969653134,
           0.01396748364202267,
           0.41102910667496545
          ],
          [
           "marvel rivals",
           0.015301799713082005,
           0.8939728724014014,
           0.01480012387121576,
           0.9240747959856992
          ],
          [
           "marvel rivals",
           -0.006819612600887695,
           -2.304417917912105,
           0.006930732797039383,
           -2.304306797715953
          ],
          [
           "marvel rivals",
           -0.0025334209670995734,
           -0.3173356315404635,
           -0.007414147350134499,
           -0.3272831998576976
          ],
          [
           "marvel rivals",
           0.011522529747650197,
           -0.2358636714520341,
           -0.010519605796413317,
           -0.23486074750079722
          ],
          [
           "marvel rivals",
           -0.014661339615894064,
           -1.2300593890391351,
           0.0042108219733958665,
           -1.2405099066816334
          ],
          [
           "marvel rivals",
           -0.0032553998861010315,
           -0.8996321543475483,
           0.0006354509404911823,
           -0.9022521032931581
          ],
          [
           "marvel rivals",
           0.013263694361155558,
           0.47399963119594846,
           0.02008758503249453,
           0.5073509105895986
          ],
          [
           "marvel rivals",
           0.0006052864232981392,
           -0.031434271305478205,
           -0.012915675254599534,
           -0.0437446601367796
          ]
         ],
         "hovertemplate": "category_simple=marvel rivals<br>start_time_hour=%{x}<br>duration_hr=%{y:.2f}<br>size=%{marker.size}<br>category=%{customdata[0]}<br>shap_hour=%{customdata[1]:.3f}<br>shap_duration=%{customdata[2]:.3f}<br>shap_game=%{customdata[3]:.3f}<br>combined=%{marker.color:.3f}<extra></extra>",
         "legendgroup": "marvel rivals",
         "marker": {
          "color": {
           "bdata": "byS9BOLQ5D+ItE8zua7zv3XPQutietw/GkC4yqhP3z9IN1dMHqezP4C99OYlM+Q/uBw0nOgh4D/SPLT76Mjmv/M712n1CP2/ygR09OOm3j/MZKAuZJWCP/e4kQ8Sqby/w1gxskWPxb/w+vVLgW7aP9EX5xO1beI/xAKqlkX15D8LSY6RbkbhP3xPqRuKIfM/1sAMgUtK5T84PlOhHjHZv3/+Foqnm+o/hcjcaC0d8r95etlXD4QCwKEFVIogofO/AHMst3ch0L9AlYYTqFnfP4TIIPfd1NS/yAxlTVI14T/S5Cq765XiP9zAeCazatc/OsyJwFSe3j+A2upIXMrgP4ujul5yO9k/XGth+hLOp792IePl84jWPz4vNpraAsG/GdsB6gGo7T8LIWVg1UPfPynr7ylnaOM/wubC5Nft3z9agzHvxVbIvx+bjITMCN0/AJAY2C8umz9xOSxtHZ3Vv5Keq83QMOs/UvlHh76e5j++oXuywL7kP+7x44S1i/G/DpQWjfVd4T9xT3Tj87LJP3+o3l5Iwfm/rszIHcyiwj8oWUCG3yHiP8yTmiyQO+o/zbxl07Y8zj+vkcLqYLngP5n3Jw2KbtU/ZyMD1Cco1L8Po8uaMF/dP7EnnF05E+Q/aeC3Bk1O2j9cIHpOBZLtP8EfAWc4bwLAmtH6OzXy1L8UpdC+6g/Ov238eOog2fO/woWMzT/f7L8sgBL6NzzgPzP/UjmzZaa/",
           "dtype": "f8"
          },
          "coloraxis": "coloraxis",
          "size": {
           "bdata": "kkZ1mTznJkB6EVxF+6c1QFKd2xZuVR9A/xmPAbc5IUAAAAAAAAAYQDvqvV2vOSZAGNJkCQnAIUAa0oUlzhEpQAAAAAAAADpA7guZZ97cIEAAAAAAAAAYQAAAAAAAABhAAAAAAAAAGECYypQ4BBUdQP7G7ojGRiRALkbWSUYPJ0BKRJ0v5AEjQD9+5e2jDDVA8DoWyNJsJ0CWV3EkzrcbQGyqenexRi1A14lYoSvuM0AAAAAAAAA6QCdEbJYFmTVAAAAAAAAAGECPMOX2Nj8hQAAAAAAAABhAhcg+sBDvIkAcCx58BXMkQHD0Z4XRwxlAgucb8SjYIEBKQEvwYHkiQBkVuPsqwxtAAAAAAAAAGED83/o/b8sYQAAAAAAAABhA0cPk6KVQMEAGeOiCNTMhQKLyahScWiVABT9o4byQIUAAAAAAAAAYQIpHd3kf8h9AAAAAAAAAGEAAAAAAAAAYQO+mPsLP6i1AMGgTR2njKECg7ZreSdMmQDL8ToIdTjNAvQiMH8cbI0AAAAAAAAAYQAAAAAAAADpAAAAAAAAAGEC3I4JJVvMjQH6aVGb33CxAAAAAAAAAGECk9nGjsWYiQAAAAAAAABhAAAAAAAAAGEBU206gliggQIA/E1SPFiZAfvKTQZXxHEAbus9mjUQwQAAAAAAAADpAAAAAAAAAGEAAAAAAAAAYQMq9IYuj1jVA1oKwKWjEL0CWC9rK+9whQAAAAAAAABhA",
           "dtype": "f8"
          },
          "sizemode": "area",
          "sizeref": 0.1015625,
          "symbol": "cross"
         },
         "mode": "markers",
         "name": "marvel rivals",
         "orientation": "v",
         "showlegend": true,
         "type": "scatter",
         "x": {
          "bdata": "AAAAAAAAIEAAAAAAAAA0QAAAAAAAAAAAAAAAAAAAGEAAAAAAAAA1QAAAAAAAABhAAAAAAAAAKkAAAAAAAAAyQAAAAAAAADFAAAAAAAAAIEAAAAAAAAAmQAAAAAAAADdAAAAAAAAANkAAAAAAAADwPwAAAAAAACBAAAAAAAAAGEAAAAAAAAAgQAAAAAAAABxAAAAAAAAANUAAAAAAAAAqQAAAAAAAACBAAAAAAAAALEAAAAAAAAA2QAAAAAAAADVAAAAAAAAANUAAAAAAAAAcQAAAAAAAADdAAAAAAAAAGEAAAAAAAAAcQAAAAAAAAABAAAAAAAAAKkAAAAAAAAAUQAAAAAAAAAAAAAAAAAAAKEAAAAAAAAAmQAAAAAAAACpAAAAAAAAAIEAAAAAAAAAgQAAAAAAAABRAAAAAAAAAGEAAAAAAAAA1QAAAAAAAACpAAAAAAAAAIEAAAAAAAAA1QAAAAAAAABhAAAAAAAAAIEAAAAAAAAAgQAAAAAAAADRAAAAAAAAAIEAAAAAAAAAcQAAAAAAAADZAAAAAAAAAFEAAAAAAAAAqQAAAAAAAACBAAAAAAAAACEAAAAAAAAAqQAAAAAAAACZAAAAAAAAANUAAAAAAAAA2QAAAAAAAABxAAAAAAAAAKEAAAAAAAAAiQAAAAAAAADJAAAAAAAAANUAAAAAAAAA1QAAAAAAAACpAAAAAAAAANkAAAAAAAAAYQAAAAAAAADRA",
          "dtype": "f8"
         },
         "xaxis": "x",
         "y": {
          "bdata": "zczMzMxMIkDNzMzMzMzsP2ZmZmZmZh5AmpmZmZmZHUAREREREREWQN7d3d3d3RlAmpmZmZmZHUC8u7u7u7v7P1VVVVVVVcU/7+7u7u7uH0C8u7u7u7sDQGZmZmZmZvI/MzMzMzMz/z8zMzMzMzMXQBERERERESJA3t3d3d1dI0BEREREREQiQDMzMzMzsyRAVVVVVVXVJkAzMzMzMzMDQGZmZmZm5iJAq6qqqqqq6j+amZmZmZmpP83MzMzMzNw/mpmZmZmZC0BEREREREQZQN7d3d3d3fk/mpmZmZmZHkBVVVVVVVUZQERERERERBdAIiIiIiIiGUB3d3d3d/cgQImIiIiIiBRAvLu7u7u7+z/e3d3d3d0WQCIiIiIiIgZAMzMzMzMzJkBEREREREQfQJqZmZmZGSBAiYiIiIiIF0De3d3d3d3xP0RERERERBxAMzMzMzMzCUBmZmZmZmYEQHd3d3d3dyVAmpmZmZmZIECJiIiIiAgjQM3MzMzMzOw/AAAAAACAIkAREREREREQQBEREREREdE/7+7u7u7uEEBVVVVVVdUhQFVVVVVV1SNAd3d3d3d3D0DNzMzMzMwbQGZmZmZmZhVA3t3d3d3dAUAiIiIiIiIfQCIiIiIiIiNA3t3d3d3dG0AREREREREqQN7d3d3d3b0/MzMzMzMzCUDv7u7u7u7+P1VVVVVVVdU/iYiIiIiI6D/v7u7u7u4fQN7d3d3d3QlA",
          "dtype": "f8"
         },
         "yaxis": "y"
        },
        {
         "customdata": [
          [
           "street fighter 6",
           -0.021082424030327403,
           -1.428736162258634,
           -0.022066889791233776,
           -1.4718854760801952
          ],
          [
           "street fighter 6",
           -0.0071880621209805895,
           -0.2940917523584278,
           -0.03394935752998208,
           -0.3352291720093905
          ],
          [
           "street fighter 6",
           -0.013443472215741395,
           -0.2665558937169038,
           -0.023203133677909875,
           -0.30320249961055507
          ],
          [
           "street fighter 6",
           -0.00820431946282497,
           -1.1714604049320587,
           -0.01751797549311391,
           -1.1971826998879975
          ],
          [
           "street fighter 6",
           -0.009728757067811955,
           -0.31117183407747234,
           -0.042907261696056624,
           -0.36380785284134093
          ],
          [
           "street fighter 6",
           -0.007932853611598602,
           -0.30219393865635824,
           -0.0361307143105978,
           -0.34625750657855464
          ],
          [
           "street fighter 6",
           -0.0010929658082110905,
           0.43977417157238646,
           -0.04332433120708799,
           0.39535687455708735
          ],
          [
           "street fighter 6",
           -0.015006245471703893,
           -0.8949491713225092,
           -0.02498905253858723,
           -0.9349444693328003
          ],
          [
           "street fighter 6",
           -0.0348287078117238,
           -0.2566266510776927,
           -0.028048365988704516,
           -0.31950372487812106
          ],
          [
           "street fighter 6",
           -0.021182357290930442,
           -0.9333473097293475,
           -0.012484102189985151,
           -0.9670137692102632
          ],
          [
           "street fighter 6",
           -0.0040002749555236505,
           -0.4218486322362419,
           -0.03760413072781162,
           -0.46345303791957715
          ],
          [
           "street fighter 6",
           -0.0011247030906700673,
           0.2282431701044834,
           -0.02594359959432694,
           0.2011748674194864
          ],
          [
           "street fighter 6",
           0.01978550885989023,
           -0.17946460132064657,
           -0.01740037884757726,
           -0.1770794713083336
          ],
          [
           "street fighter 6",
           -7.916258168449986e-7,
           0.6088650606388964,
           -0.036533426799444296,
           0.5723308422136353
          ],
          [
           "street fighter 6",
           -0.012129365704520438,
           -0.8631854037232154,
           -0.005757705658331815,
           -0.8810724750860676
          ],
          [
           "street fighter 6",
           -0.029291501719989697,
           -0.053074112859694364,
           -0.05489289958456254,
           -0.1372585141642466
          ],
          [
           "street fighter 6",
           0.00050242649384586,
           -1.2944013970023582,
           -0.018047983279488734,
           -1.311946953788001
          ],
          [
           "street fighter 6",
           -0.0011074256100943103,
           -1.3098182757348957,
           -0.017668861601860045,
           -1.32859456294685
          ],
          [
           "street fighter 6",
           -0.0043606179491257535,
           -0.15538662224269956,
           -0.031123813337767387,
           -0.19087105352959272
          ],
          [
           "street fighter 6",
           -0.01921467668437863,
           -1.0472992320973102,
           -0.06631378161274412,
           -1.132827690394433
          ],
          [
           "street fighter 6",
           -0.015835766533111837,
           -0.8478762393342231,
           -0.022384337298044555,
           -0.8860963431653794
          ],
          [
           "street fighter 6",
           -0.004107640784905869,
           0.24306963972503895,
           -0.032561672359654494,
           0.2064003265804786
          ],
          [
           "street fighter 6",
           -0.00728693750862,
           -0.355059169581564,
           -0.028409833709671376,
           -0.3907559407998554
          ],
          [
           "street fighter 6",
           -0.013423252577292146,
           -0.8572085123267891,
           -0.03350982982975324,
           -0.9041415947338345
          ],
          [
           "street fighter 6",
           -0.013566329256257462,
           -0.3888996921009169,
           -0.020224855410010036,
           -0.42269087676718436
          ],
          [
           "street fighter 6",
           -0.01728161220470156,
           -0.22774623786209872,
           -0.03000538600574373,
           -0.275033236072544
          ],
          [
           "street fighter 6",
           -0.01755188775757176,
           -0.28335453049342507,
           -0.02853930486469153,
           -0.32944572311568837
          ],
          [
           "street fighter 6",
           -0.008816749105861277,
           -0.2871733947397621,
           -0.04211494774787525,
           -0.33810509159349866
          ],
          [
           "street fighter 6",
           -0.003402261805373996,
           -0.2642106961756946,
           -0.03925401224560005,
           -0.30686697022666864
          ],
          [
           "street fighter 6",
           0.009893127744700934,
           0.47173710997598417,
           -0.03339015520946475,
           0.44824008251122033
          ],
          [
           "street fighter 6",
           -0.0017668378625791093,
           0.30526657706437277,
           -0.023451604397684064,
           0.2800481348041096
          ]
         ],
         "hovertemplate": "category_simple=street fighter 6<br>start_time_hour=%{x}<br>duration_hr=%{y:.2f}<br>size=%{marker.size}<br>category=%{customdata[0]}<br>shap_hour=%{customdata[1]:.3f}<br>shap_duration=%{customdata[2]:.3f}<br>shap_game=%{customdata[3]:.3f}<br>combined=%{marker.color:.3f}<extra></extra>",
         "legendgroup": "street fighter 6",
         "marker": {
          "color": {
           "bdata": "nIzzyNeM97/sgpwOZXTVv2sj+XSrZ9O/5rH1C6kn87+N0X67oEjXvx/2rz4VKda/eiye64ZN2T/TiOupEOvtvz5PU8C/ctS/0EUx3Mbx7r/wK0buNqndv58CLBoZwMk/PfgHRYqqxr8klznFiFDiP13QPOe+Mey/R2y33q+Rwb9bs8kWvP30v40AWF/sQfW/PtJUcnZuyL/09KPtDyDyvxQE4LfmWuy/AQBGblNryj9x/5w0JQLZvy65ilq67uy/fxYCCV4N27/rp48AJZrRv2expYOjFdW/kFTAiYOj1b9IJ1ZctaPTvxEXySv3r9w/WoYSA0/s0T8=",
           "dtype": "f8"
          },
          "coloraxis": "coloraxis",
          "size": {
           "bdata": "kD+En2LpOUAAAAAAAAAYQAAAAAAAABhAVAwl/l8TNUCwim52VJ4ZQKdX8JTzYRhAOnpeqQ/XG0D/go77iXUwQAAAAAAAABhAJqXqCREGMUBiilHpT1EgQAAAAAAAABhAAAAAAAAAGECARchXrSYkQD4zlVuBBS9AAAAAAAAAGEDBv+cIlhg3QGzHUr+cYzdAAAAAAAAAGEDDazI0WPEzQHo326bJMi9AAAAAAAAAGEAZMjbeHoQbQInn9g5w1S9AMNmbBM/DHUAAAAAAAAAYQAAAAAAAABhAAAAAAAAAGEAAAAAAAAAYQHEOIL1hkB9AAAAAAAAAGEA=",
           "dtype": "f8"
          },
          "sizemode": "area",
          "sizeref": 0.1015625,
          "symbol": "circle"
         },
         "mode": "markers",
         "name": "street fighter 6",
         "orientation": "v",
         "showlegend": true,
         "type": "scatter",
         "x": {
          "bdata": "AAAAAAAANUAAAAAAAAA1QAAAAAAAACZAAAAAAAAANkAAAAAAAAA0QAAAAAAAADVAAAAAAAAAM0AAAAAAAAAsQAAAAAAAAC5AAAAAAAAALEAAAAAAAAA3QAAAAAAAADVAAAAAAAAANEAAAAAAAAAmQAAAAAAAADNAAAAAAAAANUAAAAAAAAAAAAAAAAAAADdAAAAAAAAALkAAAAAAAAA3QAAAAAAAADVAAAAAAAAAKEAAAAAAAAA1QAAAAAAAADVAAAAAAAAANUAAAAAAAAAoQAAAAAAAADNAAAAAAAAANUAAAAAAAAA2QAAAAAAAACBAAAAAAAAAKEA=",
          "dtype": "f8"
         },
         "xaxis": "x",
         "y": {
          "bdata": "ERERERERsT9EREREREQGQAAAAAAAAAhAERERERERkT/v7u7u7u4IQJqZmZmZmQFAd3d3d3d3FECJiIiIiIjoP2ZmZmZmZv4/IiIiIiIi0j8zMzMzMzPzPyIiIiIiIg5AiYiIiIiIBEB3d3d3d3cjQFVVVVVVVeU/MzMzMzMzD0ARERERERHRP6uqqqqqquo/iYiIiIiICkB3d3d3d3fvP+/u7u7u7u4/d3d3d3d3D0BEREREREQGQHd3d3d3d+8/vLu7u7u79z+JiIiIiIgIQLy7u7u7uwVA3t3d3d3dA0AiIiIiIiICQERERERERB5AZmZmZmZmEUA=",
          "dtype": "f8"
         },
         "yaxis": "y"
        },
        {
         "customdata": [
          [
           "donkey kong bananza",
           -0.0022858833940972547,
           0.04132921568449092,
           0.023294978949451206,
           0.06233831123984487
          ],
          [
           "donkey kong bananza",
           0.0013882390401829525,
           0.5011890761135169,
           0.028838024856895572,
           0.5314153400105954
          ],
          [
           "donkey kong bananza",
           -0.0007894456585552234,
           0.40273630634201396,
           0.016056603242348047,
           0.4180034639258068
          ],
          [
           "donkey kong bananza",
           0.001147074549696754,
           0.26332710258670433,
           0.020041501616791493,
           0.28451567875319256
          ],
          [
           "donkey kong bananza",
           -0.002383068178179428,
           0.4685313571530696,
           0.020996349725446634,
           0.4871446387003368
          ],
          [
           "donkey kong bananza",
           -0.0012076585232362901,
           -2.557370036164229,
           0.005935805896079956,
           -2.5526418887913853
          ],
          [
           "donkey kong bananza",
           -0.004049582159685627,
           0.7069426188588079,
           0.014619236602792398,
           0.7175122733019147
          ],
          [
           "donkey kong bananza",
           0.010867851957056019,
           -0.7549974641244264,
           0.00550115885043283,
           -0.7386284533169376
          ],
          [
           "donkey kong bananza",
           0.04138818231250127,
           -0.8292169668335327,
           0.02513774694541439,
           -0.7626910375756171
          ],
          [
           "donkey kong bananza",
           -0.00691332814126838,
           0.5087142107748457,
           0.02228759226862735,
           0.5240884749022047
          ],
          [
           "donkey kong bananza",
           -0.0007872971150197827,
           0.5039108488563762,
           0.0176098891775905,
           0.5207334409189469
          ],
          [
           "donkey kong bananza",
           -0.0005192749497894056,
           0.32934638320750764,
           0.032354207554049025,
           0.36118131581176727
          ],
          [
           "donkey kong bananza",
           -0.038967981091750516,
           -0.2969812863152947,
           0.005612880455071263,
           -0.330336386951974
          ],
          [
           "donkey kong bananza",
           0.002834320396706289,
           0.09779249830193748,
           0.02718533911962595,
           0.1278121578182697
          ],
          [
           "donkey kong bananza",
           -0.001900367925680939,
           0.40353054476046507,
           0.017134538957841415,
           0.41876471579262553
          ],
          [
           "donkey kong bananza",
           0.03366463119270918,
           0.22998954040229022,
           0.008096601303457192,
           0.27175077289845656
          ],
          [
           "donkey kong bananza",
           -0.016516915253413984,
           -1.161452803420505,
           0.03269123223970055,
           -1.1452784864342183
          ],
          [
           "donkey kong bananza",
           0.021520399962855093,
           0.7788331285696148,
           0.015386007500324013,
           0.8157395360327939
          ],
          [
           "donkey kong bananza",
           -0.0006220247967283399,
           0.06423312212968625,
           0.019243476100846806,
           0.08285457343380473
          ],
          [
           "donkey kong bananza",
           -0.0032639339890599217,
           0.5301877301114678,
           0.020290632908040607,
           0.5472144290304485
          ],
          [
           "donkey kong bananza",
           -0.001087006615896371,
           0.33558855506882534,
           0.024206301944019515,
           0.35870785039694847
          ],
          [
           "donkey kong bananza",
           0.002684452183293331,
           -0.35102622820857393,
           0.0040833153278083505,
           -0.34425846069747223
          ],
          [
           "donkey kong bananza",
           -0.008454017222026948,
           0.433949994266175,
           0.024970491274276016,
           0.4504664683184241
          ],
          [
           "donkey kong bananza",
           -0.015423513143776973,
           0.44926989431125774,
           0.006595934751558872,
           0.44044231591903965
          ],
          [
           "donkey kong bananza",
           -0.0008534156308569863,
           0.6504667644482472,
           0.01315198374636246,
           0.6627653325637528
          ],
          [
           "donkey kong bananza",
           -0.0056945594295075355,
           0.19909452531866464,
           0.015465221474082682,
           0.2088651873632398
          ],
          [
           "donkey kong bananza",
           -0.007156151377189417,
           0.21641274417874456,
           0.02135245486071085,
           0.230609047662266
          ],
          [
           "donkey kong bananza",
           0.0030783099744768096,
           0.05501589600167847,
           0.017134947355753525,
           0.0752291533319088
          ],
          [
           "donkey kong bananza",
           0.011474103778403588,
           0.49709424115396245,
           0.02626640853933111,
           0.5348347534716972
          ],
          [
           "donkey kong bananza",
           -0.0004892195944478317,
           -0.0007264407722072974,
           0.016401006069509096,
           0.015185345702853967
          ],
          [
           "donkey kong bananza",
           0.0004945766335278279,
           -2.398481341924479,
           0.011556091418645451,
           -2.3864306738723053
          ],
          [
           "donkey kong bananza",
           -0.0024480485061772585,
           0.6848195837674842,
           0.019353418465767616,
           0.7017249537270746
          ]
         ],
         "hovertemplate": "category_simple=donkey kong bananza<br>start_time_hour=%{x}<br>duration_hr=%{y:.2f}<br>size=%{marker.size}<br>category=%{customdata[0]}<br>shap_hour=%{customdata[1]:.3f}<br>shap_duration=%{customdata[2]:.3f}<br>shap_game=%{customdata[3]:.3f}<br>combined=%{marker.color:.3f}<extra></extra>",
         "legendgroup": "donkey kong bananza",
         "marker": {
          "color": {
           "bdata": "60EgoM7qrz/2BT6+WgHhP4BEy5mRwNo/123cP4E10j+P8Oi0YC3fP8ERtoLPawTASe6JTNz15j+chVwj2KLnv9zd6gj3Z+i/qUt9MVXF4D8LxlUt2angP1Ke1TyYHdc/SM2oOjsk1b8UKu4WJlzAP3ATw4UKzdo/9b2QWl1k0T/vwcCID1PyvwAVqsyJGuo/huM4E/U1tT8NuZLVx4LhP6N+kcUR9dY/0kiEo1QI1r/40ldPcdTcP8Vkqfc0MNw/kBWJpF815T9dv38uGLzKP3GB7+aYhM0/Zi1EwTdCsz/tmt3FXR3hP6WwYJl+GY8/Up8T92gXA8DPb+Hjh3TmPw==",
           "dtype": "f8"
          },
          "coloraxis": "coloraxis",
          "size": {
           "bdata": "AAAAAAAAGEDlvlcd47UiQK5uFSJPbx1AAAAAAAAAGECG/9Lz2iYhQAAAAAAAADpA+8DPW0NDKUDGZrbClwEqQFJ2QdN62ipAHKu0yNhzIkBRmSo7m1UiQBDu40n7bhlAAAAAAAAAGEAAAAAAAAAYQOpHpTkIfR1AAAAAAAAAGEAgl//1dCk0QNgVK0OhuCxAAAAAAAAAGEAQSomgSkQjQNiY4oVkQhlADM+INeo9GECGFH1ChLgfQH2ug+vPAx9AWUxx3M1VJ0AAAAAAAAAYQAAAAAAAABhAAAAAAAAAGEDBHTQ4tdQiQAAAAAAAABhAAAAAAAAAOkAkTeUA97QoQA==",
           "dtype": "f8"
          },
          "sizemode": "area",
          "sizeref": 0.1015625,
          "symbol": "diamond"
         },
         "mode": "markers",
         "name": "donkey kong bananza",
         "orientation": "v",
         "showlegend": true,
         "type": "scatter",
         "x": {
          "bdata": "AAAAAAAALkAAAAAAAAAuQAAAAAAAAC5AAAAAAAAALkAAAAAAAAAuQAAAAAAAADRAAAAAAAAAKEAAAAAAAAAAAAAAAAAAADdAAAAAAAAALkAAAAAAAAAsQAAAAAAAAC5AAAAAAAAAKEAAAAAAAAAyQAAAAAAAACxAAAAAAAAA8D8AAAAAAAA3QAAAAAAAACBAAAAAAAAAJEAAAAAAAAAmQAAAAAAAAC5AAAAAAAAANUAAAAAAAAAsQAAAAAAAACpAAAAAAAAANkAAAAAAAAAzQAAAAAAAACxAAAAAAAAANUAAAAAAAAAgQAAAAAAAADVAAAAAAAAAM0AAAAAAAAAmQA==",
          "dtype": "f8"
         },
         "xaxis": "x",
         "y": {
          "bdata": "IiIiIiIiBkCamZmZmZkUQHd3d3d3dxdAmpmZmZmZEUBmZmZmZmYXQBEREREREaE/mpmZmZmZIkBERERERET8P7y7u7u7u9s/ZmZmZmbmIUAREREREREZQKuqqqqqqhJAIiIiIiIi/j/NzMzMzMwQQImIiIiIiBVAiYiIiIiIDkDe3d3d3d3lP83MzMzMzCxAVVVVVVVVC0AiIiIiIiIhQKuqqqqqqhVAd3d3d3d38z8zMzMzMzMVQFVVVVVV1SBAiYiIiIhIMEBmZmZmZmYRQFVVVVVVVRJAzczMzMzMBkAREREREREcQKuqqqqqqgRAVVVVVVVVtT8REREREZEiQA==",
          "dtype": "f8"
         },
         "yaxis": "y"
        }
       ],
       "layout": {
        "coloraxis": {
         "cmid": 0,
         "colorbar": {
          "title": {
           "text": "combined"
          }
         },
         "colorscale": [
          [
           0,
           "rgb(103,0,31)"
          ],
          [
           0.1,
           "rgb(178,24,43)"
          ],
          [
           0.2,
           "rgb(214,96,77)"
          ],
          [
           0.3,
           "rgb(244,165,130)"
          ],
          [
           0.4,
           "rgb(253,219,199)"
          ],
          [
           0.5,
           "rgb(247,247,247)"
          ],
          [
           0.6,
           "rgb(209,229,240)"
          ],
          [
           0.7,
           "rgb(146,197,222)"
          ],
          [
           0.8,
           "rgb(67,147,195)"
          ],
          [
           0.9,
           "rgb(33,102,172)"
          ],
          [
           1,
           "rgb(5,48,97)"
          ]
         ]
        },
        "height": 600,
        "legend": {
         "font": {
          "size": 11
         },
         "itemsizing": "constant",
         "orientation": "h",
         "title": {
          "text": "category_simple"
         },
         "tracegroupgap": 0,
         "x": 0,
         "xanchor": "left",
         "y": -0.2,
         "yanchor": "top"
        },
        "margin": {
         "b": 180,
         "l": 80,
         "r": 30,
         "t": 60
        },
        "template": {
         "data": {
          "bar": [
           {
            "error_x": {
             "color": "rgb(36,36,36)"
            },
            "error_y": {
             "color": "rgb(36,36,36)"
            },
            "marker": {
             "line": {
              "color": "white",
              "width": 0.5
             },
             "pattern": {
              "fillmode": "overlay",
              "size": 10,
              "solidity": 0.2
             }
            },
            "type": "bar"
           }
          ],
          "barpolar": [
           {
            "marker": {
             "line": {
              "color": "white",
              "width": 0.5
             },
             "pattern": {
              "fillmode": "overlay",
              "size": 10,
              "solidity": 0.2
             }
            },
            "type": "barpolar"
           }
          ],
          "carpet": [
           {
            "aaxis": {
             "endlinecolor": "rgb(36,36,36)",
             "gridcolor": "white",
             "linecolor": "white",
             "minorgridcolor": "white",
             "startlinecolor": "rgb(36,36,36)"
            },
            "baxis": {
             "endlinecolor": "rgb(36,36,36)",
             "gridcolor": "white",
             "linecolor": "white",
             "minorgridcolor": "white",
             "startlinecolor": "rgb(36,36,36)"
            },
            "type": "carpet"
           }
          ],
          "choropleth": [
           {
            "colorbar": {
             "outlinewidth": 1,
             "tickcolor": "rgb(36,36,36)",
             "ticks": "outside"
            },
            "type": "choropleth"
           }
          ],
          "contour": [
           {
            "colorbar": {
             "outlinewidth": 1,
             "tickcolor": "rgb(36,36,36)",
             "ticks": "outside"
            },
            "colorscale": [
             [
              0,
              "#440154"
             ],
             [
              0.1111111111111111,
              "#482878"
             ],
             [
              0.2222222222222222,
              "#3e4989"
             ],
             [
              0.3333333333333333,
              "#31688e"
             ],
             [
              0.4444444444444444,
              "#26828e"
             ],
             [
              0.5555555555555556,
              "#1f9e89"
             ],
             [
              0.6666666666666666,
              "#35b779"
             ],
             [
              0.7777777777777778,
              "#6ece58"
             ],
             [
              0.8888888888888888,
              "#b5de2b"
             ],
             [
              1,
              "#fde725"
             ]
            ],
            "type": "contour"
           }
          ],
          "contourcarpet": [
           {
            "colorbar": {
             "outlinewidth": 1,
             "tickcolor": "rgb(36,36,36)",
             "ticks": "outside"
            },
            "type": "contourcarpet"
           }
          ],
          "heatmap": [
           {
            "colorbar": {
             "outlinewidth": 1,
             "tickcolor": "rgb(36,36,36)",
             "ticks": "outside"
            },
            "colorscale": [
             [
              0,
              "#440154"
             ],
             [
              0.1111111111111111,
              "#482878"
             ],
             [
              0.2222222222222222,
              "#3e4989"
             ],
             [
              0.3333333333333333,
              "#31688e"
             ],
             [
              0.4444444444444444,
              "#26828e"
             ],
             [
              0.5555555555555556,
              "#1f9e89"
             ],
             [
              0.6666666666666666,
              "#35b779"
             ],
             [
              0.7777777777777778,
              "#6ece58"
             ],
             [
              0.8888888888888888,
              "#b5de2b"
             ],
             [
              1,
              "#fde725"
             ]
            ],
            "type": "heatmap"
           }
          ],
          "histogram": [
           {
            "marker": {
             "line": {
              "color": "white",
              "width": 0.6
             }
            },
            "type": "histogram"
           }
          ],
          "histogram2d": [
           {
            "colorbar": {
             "outlinewidth": 1,
             "tickcolor": "rgb(36,36,36)",
             "ticks": "outside"
            },
            "colorscale": [
             [
              0,
              "#440154"
             ],
             [
              0.1111111111111111,
              "#482878"
             ],
             [
              0.2222222222222222,
              "#3e4989"
             ],
             [
              0.3333333333333333,
              "#31688e"
             ],
             [
              0.4444444444444444,
              "#26828e"
             ],
             [
              0.5555555555555556,
              "#1f9e89"
             ],
             [
              0.6666666666666666,
              "#35b779"
             ],
             [
              0.7777777777777778,
              "#6ece58"
             ],
             [
              0.8888888888888888,
              "#b5de2b"
             ],
             [
              1,
              "#fde725"
             ]
            ],
            "type": "histogram2d"
           }
          ],
          "histogram2dcontour": [
           {
            "colorbar": {
             "outlinewidth": 1,
             "tickcolor": "rgb(36,36,36)",
             "ticks": "outside"
            },
            "colorscale": [
             [
              0,
              "#440154"
             ],
             [
              0.1111111111111111,
              "#482878"
             ],
             [
              0.2222222222222222,
              "#3e4989"
             ],
             [
              0.3333333333333333,
              "#31688e"
             ],
             [
              0.4444444444444444,
              "#26828e"
             ],
             [
              0.5555555555555556,
              "#1f9e89"
             ],
             [
              0.6666666666666666,
              "#35b779"
             ],
             [
              0.7777777777777778,
              "#6ece58"
             ],
             [
              0.8888888888888888,
              "#b5de2b"
             ],
             [
              1,
              "#fde725"
             ]
            ],
            "type": "histogram2dcontour"
           }
          ],
          "mesh3d": [
           {
            "colorbar": {
             "outlinewidth": 1,
             "tickcolor": "rgb(36,36,36)",
             "ticks": "outside"
            },
            "type": "mesh3d"
           }
          ],
          "parcoords": [
           {
            "line": {
             "colorbar": {
              "outlinewidth": 1,
              "tickcolor": "rgb(36,36,36)",
              "ticks": "outside"
             }
            },
            "type": "parcoords"
           }
          ],
          "pie": [
           {
            "automargin": true,
            "type": "pie"
           }
          ],
          "scatter": [
           {
            "fillpattern": {
             "fillmode": "overlay",
             "size": 10,
             "solidity": 0.2
            },
            "type": "scatter"
           }
          ],
          "scatter3d": [
           {
            "line": {
             "colorbar": {
              "outlinewidth": 1,
              "tickcolor": "rgb(36,36,36)",
              "ticks": "outside"
             }
            },
            "marker": {
             "colorbar": {
              "outlinewidth": 1,
              "tickcolor": "rgb(36,36,36)",
              "ticks": "outside"
             }
            },
            "type": "scatter3d"
           }
          ],
          "scattercarpet": [
           {
            "marker": {
             "colorbar": {
              "outlinewidth": 1,
              "tickcolor": "rgb(36,36,36)",
              "ticks": "outside"
             }
            },
            "type": "scattercarpet"
           }
          ],
          "scattergeo": [
           {
            "marker": {
             "colorbar": {
              "outlinewidth": 1,
              "tickcolor": "rgb(36,36,36)",
              "ticks": "outside"
             }
            },
            "type": "scattergeo"
           }
          ],
          "scattergl": [
           {
            "marker": {
             "colorbar": {
              "outlinewidth": 1,
              "tickcolor": "rgb(36,36,36)",
              "ticks": "outside"
             }
            },
            "type": "scattergl"
           }
          ],
          "scattermap": [
           {
            "marker": {
             "colorbar": {
              "outlinewidth": 1,
              "tickcolor": "rgb(36,36,36)",
              "ticks": "outside"
             }
            },
            "type": "scattermap"
           }
          ],
          "scattermapbox": [
           {
            "marker": {
             "colorbar": {
              "outlinewidth": 1,
              "tickcolor": "rgb(36,36,36)",
              "ticks": "outside"
             }
            },
            "type": "scattermapbox"
           }
          ],
          "scatterpolar": [
           {
            "marker": {
             "colorbar": {
              "outlinewidth": 1,
              "tickcolor": "rgb(36,36,36)",
              "ticks": "outside"
             }
            },
            "type": "scatterpolar"
           }
          ],
          "scatterpolargl": [
           {
            "marker": {
             "colorbar": {
              "outlinewidth": 1,
              "tickcolor": "rgb(36,36,36)",
              "ticks": "outside"
             }
            },
            "type": "scatterpolargl"
           }
          ],
          "scatterternary": [
           {
            "marker": {
             "colorbar": {
              "outlinewidth": 1,
              "tickcolor": "rgb(36,36,36)",
              "ticks": "outside"
             }
            },
            "type": "scatterternary"
           }
          ],
          "surface": [
           {
            "colorbar": {
             "outlinewidth": 1,
             "tickcolor": "rgb(36,36,36)",
             "ticks": "outside"
            },
            "colorscale": [
             [
              0,
              "#440154"
             ],
             [
              0.1111111111111111,
              "#482878"
             ],
             [
              0.2222222222222222,
              "#3e4989"
             ],
             [
              0.3333333333333333,
              "#31688e"
             ],
             [
              0.4444444444444444,
              "#26828e"
             ],
             [
              0.5555555555555556,
              "#1f9e89"
             ],
             [
              0.6666666666666666,
              "#35b779"
             ],
             [
              0.7777777777777778,
              "#6ece58"
             ],
             [
              0.8888888888888888,
              "#b5de2b"
             ],
             [
              1,
              "#fde725"
             ]
            ],
            "type": "surface"
           }
          ],
          "table": [
           {
            "cells": {
             "fill": {
              "color": "rgb(237,237,237)"
             },
             "line": {
              "color": "white"
             }
            },
            "header": {
             "fill": {
              "color": "rgb(217,217,217)"
             },
             "line": {
              "color": "white"
             }
            },
            "type": "table"
           }
          ]
         },
         "layout": {
          "annotationdefaults": {
           "arrowhead": 0,
           "arrowwidth": 1
          },
          "autotypenumbers": "strict",
          "coloraxis": {
           "colorbar": {
            "outlinewidth": 1,
            "tickcolor": "rgb(36,36,36)",
            "ticks": "outside"
           }
          },
          "colorscale": {
           "diverging": [
            [
             0,
             "rgb(103,0,31)"
            ],
            [
             0.1,
             "rgb(178,24,43)"
            ],
            [
             0.2,
             "rgb(214,96,77)"
            ],
            [
             0.3,
             "rgb(244,165,130)"
            ],
            [
             0.4,
             "rgb(253,219,199)"
            ],
            [
             0.5,
             "rgb(247,247,247)"
            ],
            [
             0.6,
             "rgb(209,229,240)"
            ],
            [
             0.7,
             "rgb(146,197,222)"
            ],
            [
             0.8,
             "rgb(67,147,195)"
            ],
            [
             0.9,
             "rgb(33,102,172)"
            ],
            [
             1,
             "rgb(5,48,97)"
            ]
           ],
           "sequential": [
            [
             0,
             "#440154"
            ],
            [
             0.1111111111111111,
             "#482878"
            ],
            [
             0.2222222222222222,
             "#3e4989"
            ],
            [
             0.3333333333333333,
             "#31688e"
            ],
            [
             0.4444444444444444,
             "#26828e"
            ],
            [
             0.5555555555555556,
             "#1f9e89"
            ],
            [
             0.6666666666666666,
             "#35b779"
            ],
            [
             0.7777777777777778,
             "#6ece58"
            ],
            [
             0.8888888888888888,
             "#b5de2b"
            ],
            [
             1,
             "#fde725"
            ]
           ],
           "sequentialminus": [
            [
             0,
             "#440154"
            ],
            [
             0.1111111111111111,
             "#482878"
            ],
            [
             0.2222222222222222,
             "#3e4989"
            ],
            [
             0.3333333333333333,
             "#31688e"
            ],
            [
             0.4444444444444444,
             "#26828e"
            ],
            [
             0.5555555555555556,
             "#1f9e89"
            ],
            [
             0.6666666666666666,
             "#35b779"
            ],
            [
             0.7777777777777778,
             "#6ece58"
            ],
            [
             0.8888888888888888,
             "#b5de2b"
            ],
            [
             1,
             "#fde725"
            ]
           ]
          },
          "colorway": [
           "#1F77B4",
           "#FF7F0E",
           "#2CA02C",
           "#D62728",
           "#9467BD",
           "#8C564B",
           "#E377C2",
           "#7F7F7F",
           "#BCBD22",
           "#17BECF"
          ],
          "font": {
           "color": "rgb(36,36,36)"
          },
          "geo": {
           "bgcolor": "white",
           "lakecolor": "white",
           "landcolor": "white",
           "showlakes": true,
           "showland": true,
           "subunitcolor": "white"
          },
          "hoverlabel": {
           "align": "left"
          },
          "hovermode": "closest",
          "mapbox": {
           "style": "light"
          },
          "paper_bgcolor": "white",
          "plot_bgcolor": "white",
          "polar": {
           "angularaxis": {
            "gridcolor": "rgb(232,232,232)",
            "linecolor": "rgb(36,36,36)",
            "showgrid": false,
            "showline": true,
            "ticks": "outside"
           },
           "bgcolor": "white",
           "radialaxis": {
            "gridcolor": "rgb(232,232,232)",
            "linecolor": "rgb(36,36,36)",
            "showgrid": false,
            "showline": true,
            "ticks": "outside"
           }
          },
          "scene": {
           "xaxis": {
            "backgroundcolor": "white",
            "gridcolor": "rgb(232,232,232)",
            "gridwidth": 2,
            "linecolor": "rgb(36,36,36)",
            "showbackground": true,
            "showgrid": false,
            "showline": true,
            "ticks": "outside",
            "zeroline": false,
            "zerolinecolor": "rgb(36,36,36)"
           },
           "yaxis": {
            "backgroundcolor": "white",
            "gridcolor": "rgb(232,232,232)",
            "gridwidth": 2,
            "linecolor": "rgb(36,36,36)",
            "showbackground": true,
            "showgrid": false,
            "showline": true,
            "ticks": "outside",
            "zeroline": false,
            "zerolinecolor": "rgb(36,36,36)"
           },
           "zaxis": {
            "backgroundcolor": "white",
            "gridcolor": "rgb(232,232,232)",
            "gridwidth": 2,
            "linecolor": "rgb(36,36,36)",
            "showbackground": true,
            "showgrid": false,
            "showline": true,
            "ticks": "outside",
            "zeroline": false,
            "zerolinecolor": "rgb(36,36,36)"
           }
          },
          "shapedefaults": {
           "fillcolor": "black",
           "line": {
            "width": 0
           },
           "opacity": 0.3
          },
          "ternary": {
           "aaxis": {
            "gridcolor": "rgb(232,232,232)",
            "linecolor": "rgb(36,36,36)",
            "showgrid": false,
            "showline": true,
            "ticks": "outside"
           },
           "baxis": {
            "gridcolor": "rgb(232,232,232)",
            "linecolor": "rgb(36,36,36)",
            "showgrid": false,
            "showline": true,
            "ticks": "outside"
           },
           "bgcolor": "white",
           "caxis": {
            "gridcolor": "rgb(232,232,232)",
            "linecolor": "rgb(36,36,36)",
            "showgrid": false,
            "showline": true,
            "ticks": "outside"
           }
          },
          "title": {
           "x": 0.05
          },
          "xaxis": {
           "automargin": true,
           "gridcolor": "rgb(232,232,232)",
           "linecolor": "rgb(36,36,36)",
           "showgrid": false,
           "showline": true,
           "ticks": "outside",
           "title": {
            "standoff": 15
           },
           "zeroline": false,
           "zerolinecolor": "rgb(36,36,36)"
          },
          "yaxis": {
           "automargin": true,
           "gridcolor": "rgb(232,232,232)",
           "linecolor": "rgb(36,36,36)",
           "showgrid": false,
           "showline": true,
           "ticks": "outside",
           "title": {
            "standoff": 15
           },
           "zeroline": false,
           "zerolinecolor": "rgb(36,36,36)"
          }
         }
        },
        "title": {
         "text": "model_0 — Overlap of Effects (start hour × duration, colored by net SHAP)"
        },
        "xaxis": {
         "anchor": "y",
         "domain": [
          0,
          1
         ],
         "title": {
          "text": "Start hour (0–23)"
         }
        },
        "yaxis": {
         "anchor": "x",
         "domain": [
          0,
          1
         ],
         "title": {
          "text": "Duration (hours)"
         }
        }
       }
      }
     },
     "metadata": {},
     "output_type": "display_data"
    },
    {
     "data": {
      "application/vnd.plotly.v1+json": {
       "config": {
        "plotlyServerURL": "https://plot.ly"
       },
       "data": [
        {
         "customdata": [
          [
           "valheim",
           -0.015065922338112613,
           0.0265179203536664,
           -0.02990363131984168,
           -0.018451633304287895
          ],
          [
           "valheim",
           -0.0084187232672015,
           0.10340126424977455,
           -0.03169161186103338,
           0.06329092912153968
          ],
          [
           "valheim",
           0.024590422193060704,
           -0.0018891230468781827,
           -0.03067020771486341,
           -0.007968908568680887
          ],
          [
           "valheim",
           0.0025312890054652827,
           -0.09466895977995023,
           -0.03383028474253024,
           -0.12596795551701517
          ],
          [
           "valheim",
           -0.013194405484157415,
           0.026561066343058996,
           -0.03168806809287389,
           -0.018321407233972308
          ],
          [
           "valheim",
           -0.010512456131961017,
           0.09067334004788734,
           -0.030444042243479998,
           0.049716841672446326
          ],
          [
           "valheim",
           -0.007854914180276182,
           0.09890731199425318,
           -0.033400418378079166,
           0.057651979435897824
          ],
          [
           "valheim",
           -0.0035393036006115606,
           0.01602154890029652,
           -0.024895676043056484,
           -0.012413430743371524
          ],
          [
           "valheim",
           -0.018583089763266118,
           0.023298592409974218,
           -0.031430027415665335,
           -0.026714524768957235
          ],
          [
           "valheim",
           0.02162827345439098,
           -0.10296658709793291,
           -0.03550488048085754,
           -0.11684319412439947
          ],
          [
           "valheim",
           -0.011018528723410555,
           0.08542564653086003,
           -0.03129296443795056,
           0.04311415336949892
          ],
          [
           "valheim",
           -0.01786058392113887,
           0.017002162367193988,
           -0.03286659892468151,
           -0.03372502047862639
          ],
          [
           "valheim",
           -0.019828870191009856,
           0.020339855417093985,
           -0.03133259570494374,
           -0.03082161047885961
          ],
          [
           "valheim",
           -0.011413472375642187,
           0.07061235706889903,
           -0.02691386108309416,
           0.03228502361016268
          ],
          [
           "valheim",
           -0.00918222145707503,
           0.13113464207762887,
           -0.04205880127562864,
           0.0798936193449252
          ],
          [
           "valheim",
           0.00467237853938002,
           -0.09963133299218953,
           -0.35812868591036706,
           -0.45308764036317656
          ],
          [
           "valheim",
           -0.019294208115953778,
           0.04231922108643459,
           -0.03007200584129578,
           -0.007046992870814964
          ],
          [
           "valheim",
           0.02133764090223849,
           -0.04077106560838502,
           -0.03962810184549767,
           -0.0590615265516442
          ]
         ],
         "hovertemplate": "category_simple=valheim<br>start_time_hour=%{x}<br>duration_hr=%{y:.2f}<br>size=%{marker.size}<br>category=%{customdata[0]}<br>shap_hour=%{customdata[1]:.3f}<br>shap_duration=%{customdata[2]:.3f}<br>shap_game=%{customdata[3]:.3f}<br>combined=%{marker.color:.3f}<extra></extra>",
         "legendgroup": "valheim",
         "marker": {
          "color": {
           "bdata": "ABhmJvzkkr8p4bWW1TOwP2aWf80AUoC/ZhClzLcfwL8z44vT2MKSv2dOFmJ8dKk/HiV0bI+ErT+6bpd4NmyJv+zp12gNW5u/AESGgW/pvb+49m7tDhOmP4V3BuhnRKG/ricRRLOPn78KyxyhqYegP9baPoLoc7Q/zTllTWP/3L/QDKW+Tt18v693+/lPPa6/",
           "dtype": "f8"
          },
          "coloraxis": "coloraxis",
          "size": {
           "bdata": "AAAAAAAAGEDgs58GqYIgQAAAAAAAABhAtVqOXiluMEAAAAAAAAAYQOAn/29T8BlAwlPrfioUHkAAAAAAAAAYQAAAAAAAABhAGSuKV/V6LkAAAAAAAAAYQAAAAAAAABhAAAAAAAAAGEAAAAAAAAAYQAj36Htp1yRAAAAAAAAAOkAAAAAAAAAYQEvMuOBt0B5A",
           "dtype": "f8"
          },
          "sizemode": "area",
          "sizeref": 0.1015625,
          "symbol": "circle"
         },
         "mode": "markers",
         "name": "valheim",
         "orientation": "v",
         "showlegend": true,
         "type": "scatter",
         "x": {
          "bdata": "AAAAAAAAM0AAAAAAAAAuQAAAAAAAADdAAAAAAAAANUAAAAAAAAAzQAAAAAAAAC5AAAAAAAAAMEAAAAAAAAA0QAAAAAAAADNAAAAAAAAAN0AAAAAAAAAuQAAAAAAAADNAAAAAAAAAM0AAAAAAAAAuQAAAAAAAAC5AAAAAAAAANUAAAAAAAAAzQAAAAAAAADZA",
          "dtype": "f8"
         },
         "xaxis": "x",
         "y": {
          "bdata": "ZmZmZmZmEkBEREREREQfQERERERERPw/7+7u7u7u8j8RERERERETQJqZmZmZmR5AZmZmZmZmIEDe3d3d3d0HQO/u7u7u7hJA7+7u7u7u5j/e3d3d3d0eQDMzMzMzMxJAAAAAAAAAEUC8u7u7u7sXQGZmZmZm5iFA3t3d3d3d/T8iIiIiIiIVQLy7u7u7u/M/",
          "dtype": "f8"
         },
         "yaxis": "y"
        },
        {
         "customdata": [
          [
           "music",
           -0.006141028187684583,
           0.007539431759738875,
           -0.025077954130094896,
           -0.023679550558040604
          ],
          [
           "fate trigger",
           -0.008816337785203814,
           -0.03963336393947998,
           0.01749121584708064,
           -0.03095848587760315
          ],
          [
           "retro",
           -0.004066200016820858,
           -0.09307022276515795,
           -0.03156141720479127,
           -0.12869783998677006
          ],
          [
           "elden ring",
           -0.014078312008670792,
           0.003110852585745647,
           0.006022906194627922,
           -0.004944553228297223
          ],
          [
           "get to work",
           0.023032798142543384,
           -0.6631436004604927,
           0.3963896846520561,
           -0.24372111766589327
          ],
          [
           "special events",
           0.050520626136825515,
           0.09980882393025695,
           -0.012397590194334498,
           0.13793185987274795
          ],
          [
           "wuchang: fallen feathers",
           0.016576323601717603,
           -0.004385586288885861,
           -0.05843935165529501,
           -0.04624861434246327
          ],
          [
           "super mario world",
           -0.01278426762447964,
           -0.023120905117691562,
           -0.015011534294810645,
           -0.05091670703698184
          ],
          [
           "teenage mutant ninja turtles: the cowabunga collection",
           -0.003071218229630404,
           -0.11737968400901934,
           -0.04958327337967603,
           -0.17003417561832576
          ],
          [
           "pokérogue",
           -0.008005240280848511,
           0.15791165048995537,
           0.08309233267807599,
           0.23299874288718286
          ],
          [
           "battlefield 6",
           -0.011005825716819118,
           0.009308572716766434,
           0.021637807618358238,
           0.019940554618305552
          ],
          [
           "dark souls: remastered",
           0.009280382427690484,
           -0.011093288445299549,
           0.006276663107555578,
           0.004463757089946513
          ],
          [
           "jackbox party packs",
           0.04616501676872147,
           -0.0878283394908857,
           0.003866558293652815,
           -0.03779676442851141
          ],
          [
           "rocket league",
           -0.0044385995499123965,
           -0.10257198690749987,
           -0.04500313218277597,
           -0.15201371864018823
          ],
          [
           "marbles on stream",
           0.007558902519125468,
           0.089372202293859,
           -0.00915283088003207,
           0.0877782739329524
          ],
          [
           "the legend of zelda: ocarina of time",
           -0.006233079429329393,
           -0.059417279181025434,
           -0.03541441215382975,
           -0.10106477076418457
          ],
          [
           "supermarket simulator",
           -0.008206123397501415,
           0.0156665202919757,
           -0.01835931773237462,
           -0.010898920837900334
          ],
          [
           "the sims 4",
           0.02424563025001646,
           0.027107355688488894,
           0.31058263668336394,
           0.3619356226218693
          ],
          [
           "the legend of zelda: ocarina of time",
           0.005134072577526751,
           0.04952597651208123,
           -0.0452238209008965,
           0.009436228188711482
          ],
          [
           "streamer games",
           -0.0047811474134402945,
           -0.05282324404879546,
           -0.017600554785149145,
           -0.0752049462473849
          ],
          [
           "palworld",
           -0.01108472830919915,
           0.038234798354741174,
           -0.026779389856917534,
           0.00037068018862449273
          ],
          [
           "metroid prime 2: echoes",
           0.00507070252094465,
           0.010669212354283957,
           -0.03165675890590137,
           -0.015916844030672762
          ],
          [
           "guilty gear: strive",
           0.03339256158730265,
           -0.012395557100747396,
           0.01949804329897688,
           0.04049504778553213
          ],
          [
           "elden ring",
           -0.02009559710477177,
           -0.0012314093294747864,
           0.004875872372556387,
           -0.016451134061690173
          ],
          [
           "starcraft ii",
           0.008849121579087722,
           0.1232651260574903,
           -0.030043920470192234,
           0.1020703271663858
          ],
          [
           "prospector",
           0.003457394369703479,
           0.01617136194248076,
           -0.028153350595046048,
           -0.00852459428286181
          ],
          [
           "elden ring",
           -0.01737477164172674,
           0.024933193553496834,
           0.0075176478759391326,
           0.015076069787709229
          ],
          [
           "half sword",
           0.00545283965685826,
           -0.017658145891224705,
           0.002532740189478773,
           -0.009672566044887672
          ],
          [
           "starcraft ii",
           0.0066672621447894185,
           -0.07048918487194555,
           -0.03437634337080226,
           -0.0981982660979584
          ],
          [
           "retro",
           0.0024698552168104016,
           0.02721515757451584,
           -0.02769353082910584,
           0.001991481962220404
          ],
          [
           "final fantasy viii",
           0.0029568120578336732,
           -0.8709353621574372,
           0.17891297477055787,
           -0.6890655753290456
          ],
          [
           "ufo 50",
           -0.02097894961687146,
           0.04830912133363285,
           -0.04437194529207318,
           -0.017041773575311794
          ],
          [
           "waterpark simulator",
           -0.006053932877535715,
           0.01233065291715178,
           0.016298165989632026,
           0.022574886029248092
          ],
          [
           "retro",
           -0.00018499713070582402,
           0.034256354681156155,
           -0.02701813622985128,
           0.007053221320599049
          ],
          [
           "the legend of zelda: tears of the kingdom",
           -0.0035341745153471037,
           0.019891734424965647,
           -0.046461339251651454,
           -0.03010377934203291
          ],
          [
           "battlefield 6",
           -0.013665067541553668,
           0.024316923627627603,
           0.050396428195326734,
           0.06104828428140067
          ],
          [
           "hitman world of assassination",
           -0.005574687580675714,
           0.0030461992953257776,
           0.002657096062487199,
           0.0001286077771372623
          ],
          [
           "the legend of zelda: ocarina of time",
           -0.005064568252773256,
           0.012721405154415492,
           -0.018680240704321706,
           -0.011023403802679469
          ],
          [
           "final fantasy viii",
           -0.005303838585516374,
           0.026395985979569332,
           0.009961001092638071,
           0.03105314848669103
          ],
          [
           "the quarry",
           -0.02054297027692428,
           0.00629357502244261,
           0.036557694150606036,
           0.022308298896124366
          ],
          [
           "music",
           0.01469522969345462,
           -0.06872513528146612,
           -0.03382095575873109,
           -0.0878508613467426
          ],
          [
           "peak",
           -0.00036692139412480173,
           -0.0018706009241816447,
           -0.022660146155963047,
           -0.024897668474269493
          ],
          [
           "fate trigger",
           0.015386439090588623,
           -0.006076966695679289,
           0.5185525625659261,
           0.5278620349608354
          ],
          [
           "last epoch",
           -0.012283827869380275,
           0.028094790808758603,
           0.004926015969074342,
           0.02073697890845267
          ],
          [
           "grounded 2",
           0.03889904277581081,
           0.10882615193836954,
           0.0070996250644839165,
           0.15482481977866427
          ],
          [
           "waterpark simulator",
           -0.0086655509702031,
           0.008623169840063553,
           0.013787950225416807,
           0.013745569095277261
          ],
          [
           "balatro",
           0.01225395891705034,
           -0.22963178355930894,
           0.015240439477590826,
           -0.20213738516466778
          ],
          [
           "deltarune",
           0.01112552144123299,
           0.24672160108610597,
           0.26928930853578664,
           0.5271364310631256
          ],
          [
           "rocket league",
           -0.016695250621435634,
           -0.7018974495515351,
           -0.4097830202246973,
           -1.128375720397668
          ],
          [
           "fate trigger",
           0.007859307811748976,
           -0.03709671804181767,
           0.014006147499112559,
           -0.015231262730956133
          ],
          [
           "the lord of the rings: gollum",
           -0.007304711158046757,
           0.03588711373263607,
           0.017555014510105594,
           0.046137417084694904
          ],
          [
           "pokémon",
           -0.011716633389655727,
           -0.02066465823897602,
           -0.015700406866017147,
           -0.04808169849464889
          ],
          [
           "the legend of zelda: ocarina of time",
           -0.008381390562213938,
           0.09796710763367543,
           -0.02786474715839063,
           0.061720969913070856
          ],
          [
           "hollow knight",
           -0.020121640335526082,
           0.0008593634040880715,
           0.025615698416193027,
           0.006353421484755015
          ],
          [
           "the legend of zelda: tears of the kingdom",
           0.021942938608853525,
           0.2099957838804346,
           -0.3390620545792149,
           -0.10712333208992678
          ],
          [
           "marbles on stream",
           0.006788369325998928,
           0.09178968353655477,
           -0.010506479045050128,
           0.08807157381750357
          ],
          [
           "peak",
           0.009587881711266845,
           0.08860353978984904,
           -0.017967456929141007,
           0.08022396457197488
          ],
          [
           "battlefield 6",
           -0.01844190270617787,
           -0.009261278903096012,
           0.028663579912413296,
           0.0009603983031394141
          ],
          [
           "the outlast trials",
           0.007662917098734852,
           -0.431122015654297,
           -0.025811789679343066,
           -0.4492708882349052
          ],
          [
           "noita",
           -0.005014336659648962,
           0.002070899715203609,
           -0.034846697651664725,
           -0.03779013459611008
          ],
          [
           "tom clancy's rainbow six siege x",
           -0.007861346930879804,
           0.01387931954380349,
           -0.06760104630237947,
           -0.06158307368945578
          ],
          [
           "the legend of zelda: breath of the wild",
           -0.004330138051950598,
           0.04664560854423371,
           -0.019432691669694576,
           0.022882778822588535
          ],
          [
           "the quarry",
           0.007239763510124248,
           0.021579805233378692,
           0.025510165807768315,
           0.054329734551271255
          ],
          [
           "elden ring",
           -0.02148271847344745,
           0.002891062179773485,
           0.0019940830069640468,
           -0.016597573286709917
          ],
          [
           "special events",
           0.00403650351162014,
           0.10752536648605229,
           -0.027602312934629936,
           0.0839595570630425
          ],
          [
           "music",
           0.0191929717900652,
           -0.08021055592099628,
           -0.034668566520770126,
           -0.09568615065170122
          ],
          [
           "slackjaw",
           -0.009786595479173456,
           0.00011009929622815662,
           -0.020349491935407967,
           -0.030025988118353268
          ],
          [
           "super mario world",
           -0.020386819211323653,
           -0.05272241585623306,
           -0.02197247922334327,
           -0.09508171429089998
          ],
          [
           "hitman world of assassination",
           -0.005130847659795563,
           0.016220399932649912,
           0.0077887043142914085,
           0.01887825658714576
          ],
          [
           "supermarket simulator",
           -0.00803018891532929,
           0.013717020890274796,
           -0.017962374728772375,
           -0.01227554275382687
          ],
          [
           "grounded 2",
           -0.02745116885108132,
           -0.008712692946991183,
           0.0064482098460780434,
           -0.029715651951994458
          ],
          [
           "special events",
           0.049176185559226725,
           0.11668619936296806,
           -0.00809544247446638,
           0.1577669424477284
          ],
          [
           "metal gear solid: peace walker",
           0.004486152670469892,
           0.08808544892457917,
           -0.016697207381905627,
           0.07587439421314345
          ],
          [
           "daemon x machina: titanic scion",
           -0.00549259109396985,
           -0.05615129469286956,
           0.017635588590835596,
           -0.04400829719600381
          ],
          [
           "pokémon",
           0.0023032654842916854,
           0.053806808171189005,
           -0.015865775926777133,
           0.04024429772870356
          ],
          [
           "mega man 11",
           -0.026169175876360667,
           0.011336050678430638,
           -0.029289102609679957,
           -0.044122227807609986
          ],
          [
           "the legend of zelda: tears of the kingdom",
           -0.0015269932124533626,
           0.09904903872418401,
           -0.022270655486588565,
           0.07525139002514208
          ],
          [
           "until dawn",
           -0.023156034057111582,
           0.04155283508888943,
           -0.03130393568827458,
           -0.012907134656496736
          ],
          [
           "rocket league",
           -0.00954677478429403,
           -0.020053583161729307,
           -0.01635602001919324,
           -0.04595637796521658
          ],
          [
           "marbles on stream",
           -0.0032450320544347732,
           -0.006044206357693724,
           -0.007957238005113823,
           -0.01724647641724232
          ],
          [
           "mortal kombat 11",
           -0.00631551390245761,
           -0.6029328556218684,
           -0.4560125349809323,
           -1.0652609045052583
          ],
          [
           "blue prince",
           0.0038546857746405293,
           -0.061285256088707454,
           0.006108316519714663,
           -0.05132225379435226
          ],
          [
           "metroid prime 3: corruption",
           0.0025081528290286314,
           0.02725312993602415,
           -0.02367781076487063,
           0.006083472000182152
          ],
          [
           "battlefield 6",
           -0.013449507702845268,
           0.013117053879865921,
           0.030326136534656597,
           0.029993682711677253
          ],
          [
           "factorio",
           -0.006603598663427306,
           -0.1324704240882977,
           -0.0022134511765125355,
           -0.14128747392823754
          ],
          [
           "warcraft iii",
           0.005630416850239612,
           -0.10516555727778837,
           -0.038598356332312275,
           -0.13813349675986103
          ],
          [
           "palworld",
           -0.0014538241660463315,
           0.037079164974756794,
           -0.02271944147420754,
           0.012905899334502924
          ],
          [
           "battlefield 6",
           -0.016467968619336942,
           -0.007192241863077697,
           0.016936997692589557,
           -0.006723212789825083
          ],
          [
           "mario kart world",
           0.004473926675644862,
           -0.06569945444336554,
           -0.008935979501088695,
           -0.07016150726880938
          ],
          [
           "elden ring: nightreign",
           -0.027249100593603543,
           -0.018324589043555762,
           0.0012552053714193789,
           -0.04431848426573993
          ],
          [
           "peak",
           -0.0031715815836061267,
           0.029931723784717406,
           -0.02713894167750368,
           -0.00037879947639240033
          ],
          [
           "elden ring: nightreign",
           -0.02347220614665403,
           -0.06733631841039937,
           0.0031779439544720846,
           -0.08763058060258132
          ],
          [
           "final fantasy viii",
           -0.0048415612338008175,
           0.023615408319727464,
           0.010125242678618633,
           0.02889908976454528
          ],
          [
           "destiny 2",
           -0.002351730887575627,
           0.018832128593974175,
           0.01207340112511929,
           0.02855379883151784
          ],
          [
           "the legend of zelda: ocarina of time",
           -0.013552571092167226,
           -0.0003605604487506753,
           -0.029819061295345364,
           -0.04373219283626326
          ],
          [
           "super mario odyssey",
           -0.012871885072531768,
           0.03023529129801858,
           -0.030920552371341045,
           -0.013557146145854234
          ],
          [
           "waterpark simulator",
           -0.007370940250197151,
           0.010967905570201709,
           0.016430471133452328,
           0.020027436453456886
          ],
          [
           "retro",
           0.016564804581028058,
           -0.023002765287562853,
           -0.030007331520689604,
           -0.036445292227224396
          ],
          [
           "geoguessr",
           -0.011886632841056795,
           0.02786837663689539,
           0.0050999304726906305,
           0.02108167426852923
          ],
          [
           "terraria",
           -0.005853372591392372,
           -0.0002490721245703753,
           -0.02990548539485417,
           -0.03600793011081692
          ],
          [
           "the legend of zelda: tears of the kingdom",
           -0.011741943394106329,
           0.11086836657447975,
           -0.026842810582450055,
           0.07228361259792337
          ],
          [
           "sonic x shadow generations",
           -0.010977080832544743,
           -0.010693856291146062,
           0.019193164480989254,
           -0.0024777726427015513
          ],
          [
           "super smash bros. ultimate",
           -0.0016103247402344323,
           0.011890388684825268,
           -0.030533015487974352,
           -0.020252951543383517
          ],
          [
           "factorio",
           -0.01893181996608149,
           -0.09207220894140136,
           -0.005725803315078793,
           -0.11672983222256166
          ],
          [
           "last epoch",
           -0.016618391055357052,
           -0.1174831649898232,
           0.003121565503352031,
           -0.13097999054182824
          ],
          [
           "r.e.p.o.",
           -0.0003185092719331806,
           0.011174526991022731,
           -0.022375352960641522,
           -0.011519335241551971
          ],
          [
           "supermarket simulator",
           -0.008070694049852136,
           0.015220992682341433,
           -0.019801652667121063,
           -0.012651354034631766
          ],
          [
           "soulframe",
           -0.004961769658555397,
           -0.07021961291040299,
           -0.03321661621197336,
           -0.10839799878093175
          ],
          [
           "final fantasy viii",
           -0.005489803363174843,
           0.024636045182902536,
           0.009627096855260787,
           0.02877333867498848
          ],
          [
           "supermarket simulator",
           -0.007591116279044314,
           0.004183407605514447,
           -0.019922836965142778,
           -0.023330545638672644
          ],
          [
           "final fantasy ix",
           -0.0002959487377017922,
           -0.06067775984589105,
           0.0068148061207830325,
           -0.05415890246280981
          ],
          [
           "grounded",
           -0.021246078650041227,
           -0.02498212741613713,
           0.009665309391295977,
           -0.036562896674882384
          ],
          [
           "final fantasy ix",
           -0.0080145635214474,
           0.013614260156138015,
           0.008911063348168682,
           0.014510759982859297
          ],
          [
           "mario kart world",
           0.004780363641488066,
           0.011108825772274712,
           0.010541085930944973,
           0.02643027534470775
          ],
          [
           "juice galaxy",
           0.0007359752158367883,
           -0.004332513772938001,
           0.007331174926357562,
           0.00373463636925635
          ],
          [
           "super smash bros. ultimate",
           0.00418814099908488,
           0.004183523424685802,
           -0.028057408398394726,
           -0.019685743974624043
          ],
          [
           "fortnite",
           -0.008319284146065798,
           0.055883466247526596,
           0.007269726516134369,
           0.05483390861759516
          ],
          [
           "drag x drive",
           0.04645253139496958,
           0.08223369145485662,
           0.01941870319795271,
           0.14810492604777892
          ],
          [
           "elden ring",
           0.017129350028622526,
           0.24843650077370086,
           0.26760294983471455,
           0.5331688006370379
          ],
          [
           "waterpark simulator",
           -0.007135866799609545,
           0.011549808890759721,
           0.016294290676822813,
           0.02070823276797299
          ],
          [
           "pokémon",
           -0.018241152937777515,
           0.08100725500713452,
           -0.015784207495341887,
           0.04698189457401511
          ],
          [
           "sonic adventure dx: director's cut",
           -0.004858725035655169,
           0.20443333500010907,
           -0.331884146730024,
           -0.13230953676557008
          ],
          [
           "elden ring",
           -0.02714883885809357,
           -0.023548681253765268,
           0.0054717084068329315,
           -0.0452258117050259
          ],
          [
           "pokémon white version",
           -0.004628857240475952,
           0.08600512897970816,
           -0.013661588842523997,
           0.0677146828967082
          ],
          [
           "pokémon white version",
           -0.0002380725880072987,
           -0.03315696874226546,
           -0.0143560719714867,
           -0.04775111330175946
          ],
          [
           "blue prince",
           -0.009968205852902656,
           -0.006036991719314528,
           0.004375746870098282,
           -0.0116294507021189
          ],
          [
           "metroid prime 2: echoes",
           -0.00221068789942251,
           -0.03577398572294243,
           -0.03369184372139216,
           -0.0716765173437571
          ],
          [
           "hades ii",
           -0.0032880043191471486,
           -0.0019632507606127093,
           0.003353074468302566,
           -0.001898180611457292
          ],
          [
           "music",
           -0.008014807818124439,
           0.018709573142936906,
           -0.025747237605576175,
           -0.015052472280763708
          ],
          [
           "metroid prime 3: corruption",
           0.005604031928229887,
           0.0336108290627908,
           -0.027713309886291882,
           0.011501551104728804
          ],
          [
           "blue prince",
           0.014346252064142816,
           -0.07350791050267105,
           0.002278991632592806,
           -0.05688266680593543
          ],
          [
           "jackbox party packs",
           0.01098419121526014,
           0.08981207491881549,
           -0.0024808618800682327,
           0.09831540425400741
          ],
          [
           "metal gear solid 3 snake eater",
           0.023717109900418337,
           -0.002447197422532099,
           -0.017530096064901954,
           0.0037398164129842856
          ],
          [
           "metal gear solid",
           0.04938597531574715,
           0.057079173644065125,
           -0.016612975164450747,
           0.08985217379536152
          ],
          [
           "pokémon scarlet/violet",
           -0.024215885343522956,
           -0.006260323917726965,
           -0.016251958292778,
           -0.04672816755402792
          ],
          [
           "elden ring: nightreign",
           -0.010164296984005432,
           0.008393496564170277,
           0.004413743678478568,
           0.0026429432586434123
          ],
          [
           "rocket league",
           -0.009101266308584854,
           0.024561210728138577,
           -0.012961658447970877,
           0.0024982859715828466
          ],
          [
           "super mario odyssey",
           -0.013580542551519841,
           0.02632419125276897,
           -0.02800694989283329,
           -0.015263301191584162
          ],
          [
           "blue prince",
           -0.03298240148764421,
           0.01926671700854399,
           0.00530831370068654,
           -0.00840737077841368
          ],
          [
           "half sword",
           -0.008577747955239374,
           0.0024724716815714485,
           0.004002578553863714,
           -0.0021026977198042108
          ],
          [
           "minecraft",
           -0.0018491267916783726,
           -0.0608223971083612,
           -0.07806093754742506,
           -0.14073246144746465
          ],
          [
           "fortnite",
           -0.0011662225321980202,
           -0.9179486715381674,
           0.18329367799207602,
           -0.7358212160782893
          ],
          [
           "metal gear solid 2: sons of liberty",
           -0.003110059474662421,
           0.08543110756879344,
           -0.013207815914570346,
           0.06911323217956067
          ],
          [
           "warcraft iii",
           -0.007728487033110696,
           0.03389530883399118,
           -0.03175804598321633,
           -0.005591224182335847
          ],
          [
           "music",
           -0.005757370549223424,
           0.11153038490111612,
           -0.02554399676402909,
           0.0802290175878636
          ],
          [
           "mario kart world",
           -0.0053998033660946024,
           0.011447395502518703,
           0.022215510316082144,
           0.028263102452506246
          ],
          [
           "the legend of zelda: tears of the kingdom",
           -0.00767698643456697,
           0.0378606139691783,
           -0.0377760747181128,
           -0.007592447183501466
          ],
          [
           "soulframe",
           -0.002996192272219105,
           0.015972770117708136,
           -0.028390659222266093,
           -0.015414081376777062
          ],
          [
           "grounded 2",
           -0.007702616791686978,
           0.0036594426589721253,
           0.04850464438414747,
           0.044461470251432614
          ],
          [
           "hearthstone",
           0.00041171794573550356,
           0.05345075123246744,
           0.013608900874885421,
           0.06747137005308837
          ],
          [
           "mafia: the old country",
           -0.0015701428426779529,
           0.00043435214401199573,
           -0.011960152602691778,
           -0.013095943301357736
          ],
          [
           "arma reforger",
           -0.025142772195347902,
           0.008833092201931549,
           0.03334252881093789,
           0.017032848817521536
          ],
          [
           "warcraft iii",
           -0.01469473976833072,
           -0.42000487083075055,
           -0.03952027724842537,
           -0.4742198878475067
          ],
          [
           "metal gear solid 4: guns of the patriots",
           0.0010700975872043727,
           0.09244739361543453,
           -0.017112280281328367,
           0.07640521092131053
          ],
          [
           "retro",
           0.02595795962024681,
           0.006393428010117077,
           -0.028494860189819064,
           0.003856527440544825
          ],
          [
           "amnesia: the dark descent",
           -0.002817798731867924,
           -0.011510801936944972,
           0.02210187749002216,
           0.007773276821209265
          ],
          [
           "final fantasy ix",
           -0.00593713075736062,
           0.027252113500249493,
           0.010406723988573958,
           0.03172170673146283
          ],
          [
           "the legend of zelda: tears of the kingdom",
           0.004711354715491325,
           0.10485931369132288,
           -0.017843874215698177,
           0.09172679419111603
          ],
          [
           "grounded 2",
           -0.01792934732276308,
           0.10676405208382278,
           0.017241821020786575,
           0.10607652578184627
          ],
          [
           "until dawn",
           0.00017740510633700523,
           0.021215111304125,
           -0.025282205971875554,
           -0.0038896895614135493
          ],
          [
           "elden ring: nightreign",
           -0.022584003797727518,
           -0.0223862056160624,
           0.0004466398447789288,
           -0.04452356956901099
          ],
          [
           "battlefield 6",
           -0.012726334421805206,
           -0.020316987399148445,
           0.012681457109176791,
           -0.02036186471177686
          ],
          [
           "the legend of zelda: ocarina of time",
           -0.017006933293426413,
           -0.006925510235488446,
           -0.4258775626924421,
           -0.449810006221357
          ],
          [
           "metal gear solid 3 snake eater",
           0.011905397923593455,
           -0.000346580293960983,
           -0.013470405899287812,
           -0.0019115882696553402
          ],
          [
           "elden ring",
           -0.005268211721966338,
           -0.8584407284633037,
           0.1747309114143968,
           -0.6889780287708732
          ],
          [
           "pokémon scarlet/violet",
           -0.026091104693027774,
           -0.012112689037131759,
           -0.015135027166274994,
           -0.053338820896434526
          ],
          [
           "battlefield v",
           -0.01959777860514123,
           -0.011900833801652766,
           0.022060052579299737,
           -0.00943855982749426
          ],
          [
           "wuchang: fallen feathers",
           -0.021704346396103347,
           -0.06807833066596344,
           -0.05509668701210785,
           -0.14487936407417462
          ],
          [
           "metal gear 2: solid snake",
           0.04493903219184858,
           0.10396332661341944,
           -0.019970320556676597,
           0.12893203824859142
          ],
          [
           "the legend of zelda: tears of the kingdom",
           0.0034652720194799256,
           0.030452160714002047,
           -0.03210941593023904,
           0.001808016803242933
          ],
          [
           "mario kart world",
           0.001453092609039004,
           -0.09283005402159461,
           0.0006410996890053866,
           -0.09073586172355022
          ],
          [
           "final fantasy ix",
           0.0008542853805545292,
           -0.0016021606810852518,
           0.008622494560538598,
           0.007874619260007876
          ],
          [
           "grounded 2",
           0.002994402830842091,
           0.1045213639006792,
           0.01932188999453956,
           0.12683765672606087
          ],
          [
           "hades ii",
           -0.013510989393539034,
           -0.11962098073538215,
           0.003786202675987624,
           -0.12934576745293355
          ],
          [
           "final fantasy viii",
           0.018273185899317212,
           -0.08851707106435242,
           0.011504981951034096,
           -0.058738903214001104
          ],
          [
           "the legend of zelda: tears of the kingdom",
           0.0008070367617756347,
           0.027866608963870478,
           -0.01599272328342522,
           0.012680922442220893
          ],
          [
           "warcraft iii",
           -0.008297676862159306,
           0.04185559398182022,
           -0.038927563961452735,
           -0.0053696468417918225
          ],
          [
           "peak",
           -0.004740623692174495,
           0.02542668576719791,
           -0.02380833854379489,
           -0.0031222764687714732
          ],
          [
           "plateup!",
           -0.01793829025880825,
           -0.31250970920044663,
           -0.5461331405698047,
           -0.8765811400290595
          ],
          [
           "battlefield 6",
           -0.01559894873667389,
           0.004319734806413749,
           0.02662895465177371,
           0.01534974072151357
          ],
          [
           "the king is watching",
           0.004593270620918019,
           0.08053776586279468,
           -0.022770925132274442,
           0.06236011135143826
          ],
          [
           "metal gear solid 4: guns of the patriots",
           -0.020719459131918257,
           -0.012569647019282683,
           -0.01891521944853821,
           -0.05220432559973915
          ],
          [
           "retro",
           0.00010781593735373463,
           0.029563385102038355,
           -0.025662934093104467,
           0.004008266946287621
          ],
          [
           "the legend of zelda: tears of the kingdom",
           -0.0025109940661104703,
           -0.1309465324126643,
           -0.05453159981573322,
           -0.18798912629450798
          ],
          [
           "elden ring: nightreign",
           -0.0007130853341686816,
           0.031105674525667835,
           0.006789226127943948,
           0.037181815319443104
          ],
          [
           "killing floor iii",
           -0.028461221373138414,
           -0.0032803064906636336,
           -0.006633203876231164,
           -0.03837473174003321
          ],
          [
           "tiny tina's wonderlands",
           0.005912709535824661,
           -0.14648408490406153,
           -0.03737673355878883,
           -0.17794810892702573
          ],
          [
           "lockdown protocol",
           -0.01091222806983069,
           -0.014123626488511717,
           -0.010251696216796518,
           -0.035287550775138926
          ],
          [
           "super mario world",
           0.02534970176918705,
           0.06317992361585255,
           -0.024471075950691555,
           0.06405854943434805
          ],
          [
           "super mario world",
           -0.014933167228076628,
           -0.01794981033654608,
           -0.012366877202191517,
           -0.04524985476681422
          ],
          [
           "super mario odyssey",
           -0.00432946503844235,
           0.02924147966094779,
           -0.023040562017449702,
           0.0018714526050557373
          ],
          [
           "brave fencer musashi",
           0.04790332193180575,
           0.08224299798226184,
           0.019473630319680524,
           0.1496199502337481
          ],
          [
           "shenmue",
           0.0051553359865266655,
           -0.006266213365072985,
           -0.016060953758831147,
           -0.017171831137377466
          ],
          [
           "pokémon",
           -0.013025263075508064,
           0.10032264962421322,
           -0.016904353316547258,
           0.0703930332321579
          ],
          [
           "peak",
           -0.0020593358738096867,
           0.08904796994264032,
           -0.025611688800775027,
           0.06137694526805561
          ],
          [
           "stomach",
           -0.00931678329630472,
           0.01691056141700585,
           -0.01854280840789215,
           -0.010949030287191021
          ],
          [
           "the legend of zelda: tears of the kingdom",
           -0.005169562873453515,
           0.03933037710683493,
           -0.0466520747961988,
           -0.012491260562817387
          ],
          [
           "amnesia: the dark descent",
           -0.005141946515303744,
           -0.000693155056588921,
           0.02702161047993286,
           0.021186508908040195
          ],
          [
           "streamer games",
           -0.006835251234966933,
           -0.031147246982750402,
           -0.016536876411064442,
           -0.05451937462878177
          ],
          [
           "asmr",
           -0.013121692343086125,
           0.0004319651903844601,
           0.027982936708731358,
           0.015293209556029693
          ],
          [
           "mario kart world",
           -0.01934076238342982,
           0.005385664019669321,
           0.0041305769173504816,
           -0.00982452144641002
          ],
          [
           "super mario odyssey",
           -0.007217401201029361,
           0.023205362611519433,
           -0.026975255268811223,
           -0.010987293858321152
          ],
          [
           "super mario odyssey",
           0.008687242898055274,
           -0.06167122735547195,
           -0.033137565687543426,
           -0.0861215501449601
          ],
          [
           "left 4 dead 2",
           0.03503423370607507,
           -0.6847446692185929,
           0.17936215698808156,
           -0.4703482785244363
          ],
          [
           "blue prince",
           -0.024071939358369862,
           -0.06880229173963472,
           0.0014456930612419684,
           -0.09142853803676261
          ],
          [
           "the king is watching",
           0.010910586435664981,
           -0.00004415714204014876,
           -0.014115277737464566,
           -0.0032488484438397327
          ],
          [
           "the legend of zelda: ocarina of time",
           0.014381988151913277,
           -0.15483337451927126,
           -0.020179017054940688,
           -0.16063040342229867
          ],
          [
           "retro",
           -0.0013235021446098472,
           0.042108090523943244,
           -0.02493696214957254,
           0.015847626229760856
          ],
          [
           "palworld",
           -0.0132592908292213,
           0.009659441153926309,
           -0.027412666165448626,
           -0.031012515840743618
          ],
          [
           "mario kart world",
           -0.03009114644633783,
           -0.01907377952105378,
           -0.009864875697219304,
           -0.059029801664610915
          ],
          [
           "until dawn",
           -0.030900415933919165,
           0.023235952891079704,
           -0.031255024854244765,
           -0.03891948789708423
          ],
          [
           "music",
           0.001591301849316551,
           0.040319071594164486,
           -0.02393709458194053,
           0.017973278861540508
          ],
          [
           "supervive",
           -0.007822033045340362,
           0.004190998822851952,
           -0.024593549745561633,
           -0.028224583968050044
          ],
          [
           "deadlock",
           -0.0035587538605795998,
           0.02105537864959956,
           0.039872765238853844,
           0.05736939002787381
          ],
          [
           "the legend of zelda: ocarina of time",
           -0.010134212227528678,
           -0.05013139862446934,
           -0.04276693599710825,
           -0.10303254684910626
          ],
          [
           "hitman world of assassination",
           0.004923209364712307,
           -0.12973688691385973,
           0.006784110922976652,
           -0.11802956662617078
          ],
          [
           "pokérogue",
           -0.012028220602110196,
           0.13390041640062747,
           0.03157789089781545,
           0.15345008669633273
          ],
          [
           "battlefield 6",
           -0.010412219185518552,
           0.06532151579844822,
           0.02024370255530357,
           0.07515299916823323
          ],
          [
           "static dread: the lighthouse",
           0.01701112858109525,
           0.18110895681497483,
           -0.364931914211686,
           -0.16681182881561596
          ],
          [
           "battlefield v",
           0.04044151960146316,
           -0.0017932830334029858,
           0.05944545409035527,
           0.09809369065841544
          ],
          [
           "super mario party jamboree",
           0.000010392260553544475,
           0.050032840939263676,
           -0.01852290547793473,
           0.031520327721882485
          ],
          [
           "metroid prime",
           0.013782548348466435,
           -0.1096576967553591,
           0.007508655275410092,
           -0.08836649313148257
          ],
          [
           "palworld",
           -0.018003104516949406,
           -0.37522583511713037,
           -0.03466926729597617,
           -0.427898206930056
          ],
          [
           "abiotic factor",
           -0.013468827169233463,
           -0.020003024974841993,
           0.027626303015097164,
           -0.005845549128978292
          ],
          [
           "retro",
           0.0006182307048725022,
           0.03596719384295966,
           -0.023641815801970553,
           0.012943608745861614
          ],
          [
           "the outlast trials",
           -0.0002558742437156525,
           0.028386154819725676,
           -0.027053944017858385,
           0.0010763365581516401
          ],
          [
           "metal gear solid",
           -0.026609976574441134,
           -0.0246700677615911,
           -0.019324036151731436,
           -0.07060408048776368
          ],
          [
           "mario kart world",
           -0.0040448759115065515,
           0.020250271941037,
           -0.007797968519962523,
           0.008407427509567925
          ],
          [
           "the legend of zelda: tears of the kingdom",
           -0.0042311253385071265,
           -0.02113127831587235,
           -0.046781642448593175,
           -0.07214404610297265
          ],
          [
           "wuchang: fallen feathers",
           0.04234735363432947,
           0.05177587104733448,
           -0.06793629826838696,
           0.026186926413276995
          ],
          [
           "retro",
           0.011366984009899852,
           0.00861520149835883,
           -0.0259005209665861,
           -0.005918335458327418
          ],
          [
           "metal gear solid 4: guns of the patriots",
           0.0451087122599256,
           0.10802714585010335,
           -0.018512300665590828,
           0.1346235574444381
          ],
          [
           "mario kart world",
           -0.010899711218831954,
           0.019637011117486624,
           0.0016132135915927393,
           0.010350513490247409
          ],
          [
           "blue prince",
           0.0002780015019143889,
           -0.08929527013880374,
           0.009786294048569743,
           -0.07923097458831961
          ],
          [
           "tenable",
           0.01936652367087035,
           0.02396723174610969,
           -0.023797408564634,
           0.019536346852346037
          ],
          [
           "retro",
           0.006507455169645482,
           0.00965950919739015,
           -0.03314168483678486,
           -0.01697472046974923
          ],
          [
           "grounded",
           0.038864516738548786,
           0.015367102324401003,
           0.5574252155874251,
           0.6116568346503749
          ],
          [
           "dark souls: remastered",
           -0.018397649822701395,
           0.005247777416370809,
           0.003242742887314307,
           -0.00990712951901628
          ],
          [
           "retro",
           0.0026629589757766327,
           -0.04578818338897122,
           -0.4199178564626368,
           -0.4630430808758314
          ],
          [
           "blue prince",
           0.0025833476148420685,
           -0.021586762363386924,
           0.004714819899002123,
           -0.014288594849542731
          ],
          [
           "mafia: the old country",
           -0.006207189295269586,
           0.00003345008456108189,
           -0.012803606125398801,
           -0.018977345336107305
          ],
          [
           "minecraft",
           -0.007976593005391806,
           -0.023484228953172988,
           -0.028547899508457705,
           -0.060008721467022505
          ],
          [
           "half sword",
           0.006715844929283463,
           -0.01664444512352503,
           0.003949164060647945,
           -0.0059794361335936234
          ],
          [
           "get to work",
           -0.013186511828733387,
           -0.1257059461237486,
           0.046250204172640676,
           -0.09264225377984134
          ],
          [
           "blue prince",
           0.04376986733966803,
           -0.06183107782067907,
           0.006046232218307637,
           -0.012014978262703407
          ],
          [
           "warframe",
           0.0050043037097498196,
           0.13350136931891854,
           -0.056062980410819134,
           0.08244269261784923
          ],
          [
           "starcraft ii",
           0.0029125610316521034,
           -0.08308077679074585,
           -0.026541680075456497,
           -0.10670989583455025
          ],
          [
           "irl",
           -0.005073748603614092,
           0.011209052005593776,
           0.0003388573361473846,
           0.006474160738127069
          ],
          [
           "golf with your friends",
           -0.008191523714735922,
           -0.01996436346736175,
           0.018455961390632183,
           -0.009699925791465489
          ],
          [
           "mario kart world",
           -0.011099648617830552,
           0.12380066652924938,
           -0.009725308763927387,
           0.10297570914749145
          ],
          [
           "waterpark simulator",
           -0.008174387139868884,
           0.001714059160005661,
           0.017305053020394326,
           0.010844725040531102
          ],
          [
           "battlefield 2042",
           -0.014873664597636206,
           -0.040032284800714135,
           0.02478258043652204,
           -0.030123368961828302
          ],
          [
           "oddsparks: an automation adventure",
           0.005749138358019081,
           0.0381034428889393,
           -0.025344812775754236,
           0.018507768471204143
          ],
          [
           "hollow knight",
           -0.029797629986413766,
           -0.028781950569810418,
           0.023499887988234606,
           -0.03507969256798958
          ],
          [
           "the legend of zelda: ocarina of time",
           -0.021120619518531784,
           -0.32625989639852604,
           -0.07159737242338679,
           -0.4189778883404446
          ],
          [
           "fallout 4",
           0.0008901111883458413,
           0.004160913724031729,
           -0.0027861909055218346,
           0.002264834006855736
          ],
          [
           "supermarket simulator",
           -0.008445253888040724,
           0.016845681248879033,
           -0.0218820889439894,
           -0.013481661583151092
          ],
          [
           "wuchang: fallen feathers",
           -0.00020108050817384536,
           -0.08331160316920318,
           -0.07637997153380865,
           -0.15989265521118567
          ],
          [
           "geoguessr",
           -0.012356772852956298,
           0.041170622061977726,
           0.014606415642865613,
           0.04342026485188704
          ],
          [
           "destiny 2",
           -0.001023633214370534,
           -0.07623657084786117,
           0.009385069764077799,
           -0.06787513429815391
          ],
          [
           "path of exile 2",
           0.044888609205542024,
           0.11592191737786366,
           -0.0113047857225979,
           0.14950574086080776
          ],
          [
           "the legend of zelda: tears of the kingdom",
           0.003928556282321551,
           -0.002352401264633954,
           -0.03190404434848006,
           -0.03032788933079246
          ],
          [
           "mario kart world",
           0.009201841064566452,
           -0.07893841590352281,
           0.0005521355218752433,
           -0.06918443931708111
          ],
          [
           "super mario odyssey",
           0.0030145696786394185,
           0.0019513273003215659,
           -0.04293299353521093,
           -0.03796709655624994
          ],
          [
           "super mario world",
           -0.020431949901769712,
           0.001710669451568947,
           -0.019468098226150234,
           -0.038189378676351
          ],
          [
           "ovis loop",
           -0.015538867220570438,
           -0.08394295652642939,
           0.012330347435661224,
           -0.0871514763113386
          ],
          [
           "hades ii",
           -0.014646718034029504,
           0.0354171128112479,
           0.0011505321527397428,
           0.021920926929958142
          ],
          [
           "titan quest ii",
           0.036528191192670645,
           0.09538386499218746,
           -0.0233005128708578,
           0.1086115433140003
          ],
          [
           "the legend of zelda: tears of the kingdom",
           -0.002886357104551962,
           0.025376957767756492,
           -0.019792578435303767,
           0.002698022227900762
          ],
          [
           "pokémon",
           -0.007960293348409095,
           0.08720402548103891,
           -0.013533939547166939,
           0.06570979258546286
          ],
          [
           "palworld",
           0.001873420858563577,
           -0.17873504388851644,
           -0.034680355620441784,
           -0.21154197865039465
          ],
          [
           "kingdom hearts hd 1.5 + 2.5 remix",
           -0.012490313353914644,
           0.030033114651157575,
           0.003456016550887853,
           0.020998817848130784
          ],
          [
           "retro",
           0.005292122844340383,
           0.030580679103520084,
           -0.027196683094368835,
           0.008676118853491632
          ],
          [
           "software and game development",
           -0.014404692475739864,
           -0.019038699638936122,
           0.009092306362758791,
           -0.024351085751917197
          ],
          [
           "final fantasy ix",
           0.0013755140391292287,
           0.024206550083762296,
           0.008405952802297634,
           0.03398801692518916
          ],
          [
           "prospector",
           0.007202890661164929,
           0.03830628964707728,
           -0.026317019530212066,
           0.019192160778030147
          ],
          [
           "marbles on stream",
           0.008296068509403086,
           0.09649360824449403,
           -0.009912109550937203,
           0.09487756720295991
          ],
          [
           "guilty as sock!",
           -0.01770883230921527,
           -0.014722438680129244,
           0.0016432471727398478,
           -0.030788023816604667
          ],
          [
           "retro",
           -0.005362344482801973,
           0.03221421534283252,
           -0.028441571104315243,
           -0.0015897002442846996
          ],
          [
           "the sims 4",
           -0.011285770920669336,
           -0.015714170398090345,
           0.000672714382783397,
           -0.026327226935976285
          ],
          [
           "blue prince",
           -0.010603489694007777,
           0.015161610248294438,
           0.008260810990921073,
           0.012818931545207734
          ],
          [
           "battlefield 6",
           -0.004372734255560004,
           0.021815632301148184,
           0.03880108851354635,
           0.056243986559134526
          ],
          [
           "mafia: the old country",
           0.04538405007503485,
           0.0030767422194099936,
           -0.01059011934535647,
           0.03787067294908837
          ],
          [
           "dark souls: remastered",
           0.016786881074996672,
           -0.042514888651180055,
           0.010959954841709987,
           -0.014768052734473396
          ],
          [
           "clair obscur: expedition 33",
           -0.009906062870134775,
           0.11716471807503864,
           0.006251647896037866,
           0.11351030310094173
          ],
          [
           "the outlast trials",
           -0.0329588907511112,
           0.2312701383835912,
           -0.31413648109315884,
           -0.11582523346067883
          ],
          [
           "retro",
           0.005489290221031524,
           0.013248032766734924,
           -0.02583965210735414,
           -0.007102329119587695
          ],
          [
           "retro",
           0.00307262555161401,
           0.03247615302053191,
           -0.02708213692950949,
           0.008466641642636427
          ],
          [
           "hitman world of assassination",
           -0.002414969802925668,
           -0.11413582321106276,
           0.005492124841048281,
           -0.11105866817294016
          ],
          [
           "irl",
           -0.010945371897369114,
           -0.009991026087674867,
           -0.0010288601501486027,
           -0.02196525813519258
          ],
          [
           "party animals",
           0.010091367040587329,
           0.11405050648747306,
           -0.01596119335510821,
           0.10818068017295218
          ],
          [
           "daemon x machina: titanic scion",
           -0.007869433615178422,
           -0.02679861140808839,
           0.01803475733051755,
           -0.016633287692749264
          ],
          [
           "dark souls: remastered",
           -0.010362663703673433,
           0.0063318842309695355,
           0.030767897809312217,
           0.02673711833660832
          ],
          [
           "mario party 2",
           0.008992489681863844,
           -0.07849366407029607,
           0.03930136420880899,
           -0.030199810179623227
          ],
          [
           "hearthstone",
           0.00856922722508351,
           0.008679375380040141,
           0.012379506440563546,
           0.029628109045687197
          ],
          [
           "factorio",
           -0.019666249486957384,
           -0.049155405072852716,
           -0.020632412156246574,
           -0.08945406671605667
          ],
          [
           "blue prince",
           0.01419495194088995,
           -0.07730704174601442,
           0.007267233731577108,
           -0.05584485607354737
          ],
          [
           "mario kart world",
           0.02358107888341408,
           -0.2144448297948952,
           -0.007717877419181605,
           -0.19858162833066276
          ],
          [
           "blue prince",
           0.023281118340931925,
           -0.04331607841489699,
           -0.0007075726394168668,
           -0.020742532713381934
          ],
          [
           "pokémon firered/leafgreen",
           -0.0006775437836790843,
           0.009751530599168064,
           -0.025025565879379884,
           -0.015951579063890907
          ],
          [
           "battlefield 6",
           0.036278458302707366,
           0.021688956720655597,
           0.05337160914034939,
           0.11133902416371236
          ],
          [
           "the legend of zelda: tears of the kingdom",
           0.0018829184206515493,
           -0.019185885782081868,
           -0.017176345406207928,
           -0.03447931276763824
          ],
          [
           "baldur's gate 3",
           -0.011018480139230888,
           0.0004435145092321591,
           0.016211930454112462,
           0.005636964824113733
          ],
          [
           "elden ring",
           0.044030742155660364,
           0.001336537329108296,
           0.006990633887237436,
           0.0523579133720061
          ],
          [
           "abiotic factor",
           -0.009822627984731299,
           0.032808056037599724,
           0.02550907138905586,
           0.048494499441924285
          ],
          [
           "the legend of zelda: ocarina of time",
           0.002286312345539727,
           0.027045419259615643,
           -0.02799955837404241,
           0.001332173231112961
          ],
          [
           "grounded 2",
           -0.022539125554542353,
           0.010083293554820329,
           0.005057337725058914,
           -0.00739849427466311
          ],
          [
           "final fantasy viii",
           -0.0005762135136662039,
           0.02602505712604966,
           0.009636578197760173,
           0.03508542181014363
          ],
          [
           "ufo 50",
           0.021663829880207004,
           0.03157517925683237,
           -0.03690008317065576,
           0.01633892596638361
          ],
          [
           "supermarket simulator",
           -0.008029997554624515,
           0.013251370290044804,
           -0.018004833467707614,
           -0.012783460732287324
          ],
          [
           "the legend of zelda: tears of the kingdom",
           -0.007731570694350012,
           0.028970783153540652,
           -0.03824104795473886,
           -0.017001835495548217
          ],
          [
           "final fantasy viii",
           -0.015369488262185768,
           -0.0034943896059519376,
           0.005900476485467152,
           -0.012963401382670554
          ],
          [
           "pokémon scarlet/violet",
           -0.02541828589211377,
           -0.08317881225101587,
           -0.022690094438789856,
           -0.13128719258191948
          ],
          [
           "pools, hot tubs, and beaches",
           0.002568322623774577,
           0.020199924291321735,
           -0.012155318104450998,
           0.010612928810645315
          ],
          [
           "abiotic factor",
           -0.01582454559024086,
           -0.06687867433729763,
           0.02394659264945858,
           -0.058756627278079905
          ],
          [
           "helldivers 2",
           -0.0061801251026918184,
           -0.01245354212616121,
           0.01199937908124184,
           -0.006634288147611186
          ],
          [
           "ninja gaiden: ragebound",
           0.003552506489018583,
           0.11330876066552222,
           -0.02598671181710188,
           0.09087455533743892
          ],
          [
           "hitman world of assassination",
           -0.008221455929429028,
           0.06396635745466199,
           0.004832562483541096,
           0.060577464008774055
          ],
          [
           "super mario world",
           -0.0324042479764762,
           -0.06101998329815785,
           -0.01982247140215577,
           -0.11324670267678984
          ],
          [
           "palworld",
           -0.0003034354498475977,
           0.06006489319927553,
           -0.022437215462398397,
           0.03732424228702953
          ],
          [
           "battlefield 6",
           0.023522279402765207,
           0.02361577059620231,
           0.029914925961979862,
           0.07705297596094739
          ],
          [
           "retro",
           0.00875310474598244,
           -0.0028543443846928084,
           -0.029926099838223762,
           -0.024027339476934133
          ],
          [
           "the legend of zelda: ocarina of time",
           -0.008411728545149799,
           -0.015258962849938485,
           -0.10006513589884207,
           -0.12373582729393034
          ],
          [
           "the king is watching",
           -0.03371399052788433,
           0.007195834118316497,
           -0.021258566131139106,
           -0.047776722540706945
          ]
         ],
         "hovertemplate": "category_simple=other<br>start_time_hour=%{x}<br>duration_hr=%{y:.2f}<br>size=%{marker.size}<br>category=%{customdata[0]}<br>shap_hour=%{customdata[1]:.3f}<br>shap_duration=%{customdata[2]:.3f}<br>shap_game=%{customdata[3]:.3f}<br>combined=%{marker.color:.3f}<extra></extra>",
         "legendgroup": "other",
         "marker": {
          "color": {
           "bdata": "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",
           "dtype": "f8"
          },
          "coloraxis": "coloraxis",
          "size": {
           "bdata": "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",
           "dtype": "f8"
          },
          "sizemode": "area",
          "sizeref": 0.1015625,
          "symbol": "diamond"
         },
         "mode": "markers",
         "name": "other",
         "orientation": "v",
         "showlegend": true,
         "type": "scatter",
         "x": {
          "bdata": "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",
          "dtype": "f8"
         },
         "xaxis": "x",
         "y": {
          "bdata": "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",
          "dtype": "f8"
         },
         "yaxis": "y"
        },
        {
         "customdata": [
          [
           "just chatting",
           -0.0022810173410775293,
           -0.12097260426415915,
           0.002980320804695111,
           -0.12027330080054156
          ],
          [
           "just chatting",
           0.00869407429322493,
           -0.06054310621891659,
           0.0016990817393002543,
           -0.050149950186391415
          ],
          [
           "just chatting",
           -0.0036146859321240753,
           -0.022920029356318424,
           0.008677003216309914,
           -0.017857712072132586
          ],
          [
           "just chatting",
           -0.0047777208187994805,
           0.13581912080471284,
           0.005038298307044897,
           0.13607969829295824
          ],
          [
           "just chatting",
           0.055464394245718154,
           0.011302785193429941,
           -0.003787882977962909,
           0.06297929646118518
          ],
          [
           "just chatting",
           -0.023586289044777827,
           -0.11841968274950204,
           -0.00417125389706598,
           -0.14617722569134586
          ],
          [
           "just chatting",
           -0.012371833848981169,
           0.014361322748807765,
           0.0018443923289987651,
           0.0038338812288253614
          ],
          [
           "just chatting",
           -0.028357975699669993,
           0.0015882172324904785,
           -0.0037766492795162777,
           -0.030546407746695793
          ],
          [
           "just chatting",
           0.015584422640818047,
           0.05578456509374405,
           0.0029130173641840427,
           0.07428200509874615
          ],
          [
           "just chatting",
           -0.005502265266492259,
           0.15939005494602043,
           0.0049852382819688046,
           0.158873027961497
          ],
          [
           "just chatting",
           -0.004739655286412017,
           0.14785471201882275,
           0.0041795843267095735,
           0.1472946410591203
          ],
          [
           "just chatting",
           0.004353205620209338,
           -0.003853961735394478,
           0.002325059428271743,
           0.002824303313086603
          ],
          [
           "just chatting",
           0.07095067293891134,
           0.03666470158326092,
           0.003031523664719771,
           0.11064689818689204
          ],
          [
           "just chatting",
           -0.012705372792308935,
           0.1035069270283941,
           -0.0008016162867136245,
           0.08999993794937154
          ],
          [
           "just chatting",
           0.005386991629330282,
           -0.004303876150494261,
           0.001655181213202468,
           0.0027382966920384893
          ],
          [
           "just chatting",
           0.006235669948795533,
           -0.004007563199114657,
           0.0034625137251373416,
           0.005690620474818218
          ],
          [
           "just chatting",
           0.00029438680837671425,
           -0.007710010129044918,
           0.0007049318835333907,
           -0.006710691437134813
          ],
          [
           "just chatting",
           0.00037523453814543474,
           -0.0194290272116217,
           -0.0043442943033142,
           -0.023398086976790466
          ],
          [
           "just chatting",
           -0.014275314122846794,
           0.025428400584709722,
           0.0020392421823680704,
           0.013192328644230998
          ],
          [
           "just chatting",
           -0.003737327178959049,
           0.1309309902950733,
           0.005620810430090159,
           0.1328144735462044
          ],
          [
           "just chatting",
           0.010363726117245732,
           0.0061548027267303955,
           0.01287875006720128,
           0.02939727891117741
          ],
          [
           "just chatting",
           -0.0001984004205655765,
           0.08114788513054975,
           0.01877618335556008,
           0.09972566806554427
          ],
          [
           "just chatting",
           -0.02022346866330281,
           -0.000564222568813335,
           -0.002028158426378468,
           -0.022815849658494616
          ],
          [
           "just chatting",
           -0.01328100328161554,
           0.014436095490895298,
           0.0011747977065181203,
           0.0023298899157978784
          ],
          [
           "just chatting",
           -0.0028300120387780227,
           0.0905504352214939,
           0.003397650748590877,
           0.09111807393130675
          ],
          [
           "just chatting",
           -0.004641394418197251,
           0.031340966287968966,
           -0.0006961342414501814,
           0.026003437628321534
          ],
          [
           "just chatting",
           -0.006670085456994457,
           -0.01662596854582148,
           0.014902473361935335,
           -0.008393580640880603
          ],
          [
           "just chatting",
           -0.010354796111292898,
           -0.2650372064997373,
           0.0018592651383005432,
           -0.27353273747272966
          ],
          [
           "just chatting",
           0.008955197978810645,
           0.03898223359798123,
           0.003782436409048842,
           0.051719867985840724
          ],
          [
           "just chatting",
           0.01126338481809313,
           0.08704821606241125,
           0.0014623249004171157,
           0.09977392578092151
          ],
          [
           "just chatting",
           -0.012877457580783585,
           -0.09923187051312823,
           -0.0020181769752025502,
           -0.11412750506911437
          ],
          [
           "just chatting",
           -0.02410860860892754,
           -0.008705619469183148,
           -0.0033233268168669384,
           -0.03613755489497762
          ],
          [
           "just chatting",
           -0.011159124319120934,
           0.07181946842731066,
           -0.0005196850504353279,
           0.0601406590577544
          ],
          [
           "just chatting",
           0.0032378908871351086,
           -0.07478086721899785,
           0.0017210535289063954,
           -0.06982192280295635
          ],
          [
           "just chatting",
           -0.009390168145813504,
           0.10394126844168113,
           -0.0013413722061261524,
           0.09320972808974147
          ],
          [
           "just chatting",
           -0.014395758246290597,
           0.08982975049460777,
           0.000017740687170544333,
           0.07545173293548772
          ],
          [
           "just chatting",
           -0.007052850766544622,
           0.02063408266835836,
           0.0015245567834926987,
           0.015105788685306437
          ],
          [
           "just chatting",
           -0.005245719421906756,
           0.0514310472149387,
           0.33584455615455,
           0.38202988394758197
          ],
          [
           "just chatting",
           -0.00644839658506271,
           0.11704853957156246,
           0.0064985140843259615,
           0.1170986570708257
          ],
          [
           "just chatting",
           0.004182140209166505,
           0.026690037774653206,
           0.0027499040162308574,
           0.03362208200005057
          ],
          [
           "just chatting",
           0.01506494635289215,
           0.011445829448348946,
           -0.002330639168253583,
           0.02418013663298751
          ],
          [
           "just chatting",
           -0.009749760979991607,
           -0.006783630991028673,
           -0.0028202528742895085,
           -0.019353644845309787
          ],
          [
           "just chatting",
           0.001503167116007944,
           0.14626777535361554,
           0.0045381181808477325,
           0.15230906065047123
          ],
          [
           "just chatting",
           -0.006446225730956883,
           -0.004924770883609994,
           -0.004634348311365102,
           -0.01600534492593198
          ],
          [
           "just chatting",
           -0.013568787408490834,
           0.05191325267872855,
           0.002657151182437474,
           0.04100161645267519
          ],
          [
           "just chatting",
           0.002751006372594702,
           0.08854257094861197,
           0.019886036270911518,
           0.1111796135921182
          ],
          [
           "just chatting",
           -0.00853216152416735,
           0.06188216699271379,
           0.002411863179527245,
           0.055761868648073684
          ],
          [
           "just chatting",
           -0.0017588131361662817,
           0.15993700995282353,
           0.005826103284960027,
           0.1640043001016173
          ],
          [
           "just chatting",
           -0.007018022935338308,
           -0.020659730229131697,
           0.00039328675527599443,
           -0.027284466409194012
          ],
          [
           "just chatting",
           -0.018096060352815756,
           -0.020031678919130796,
           0.0002442763878570986,
           -0.03788346288408946
          ],
          [
           "just chatting",
           -0.006396179855184059,
           0.006240850792617039,
           -0.002367971249996117,
           -0.0025233003125631373
          ],
          [
           "just chatting",
           -0.0029922520809708432,
           0.13983263979284744,
           0.25516976656412454,
           0.39201015427600117
          ],
          [
           "just chatting",
           -0.011635729205528378,
           0.08354230863550413,
           -0.001042097016148773,
           0.07086448241382698
          ],
          [
           "just chatting",
           0.006777132900298284,
           0.005623782229142762,
           0.005923526766646319,
           0.018324441896087364
          ],
          [
           "just chatting",
           -0.006972643537059184,
           0.16718945181134928,
           0.004495042229398223,
           0.16471185050368833
          ],
          [
           "just chatting",
           0.0036567948699155295,
           -0.002596063033164455,
           0.002844717642294654,
           0.0039054494790457285
          ],
          [
           "just chatting",
           -0.014046137153366089,
           0.031599416675884416,
           0.004624322819881854,
           0.02217760234240018
          ],
          [
           "just chatting",
           -0.008358876093440272,
           -0.0038240366166451168,
           -0.0016178002057620233,
           -0.013800712915847411
          ],
          [
           "just chatting",
           -0.005177420370362142,
           0.12611844049245377,
           0.004250825447084026,
           0.12519184556917565
          ],
          [
           "just chatting",
           -0.006335997809839,
           0.16950574900821125,
           0.005611936237627333,
           0.16878168743599958
          ]
         ],
         "hovertemplate": "category_simple=just chatting<br>start_time_hour=%{x}<br>duration_hr=%{y:.2f}<br>size=%{marker.size}<br>category=%{customdata[0]}<br>shap_hour=%{customdata[1]:.3f}<br>shap_duration=%{customdata[2]:.3f}<br>shap_game=%{customdata[3]:.3f}<br>combined=%{marker.color:.3f}<extra></extra>",
         "legendgroup": "just chatting",
         "marker": {
          "color": {
           "bdata": "KTKFJTvKvr8qpuQXQa2pv3skU8VKSZK/wq3oPg9rwT+ZOaBCaR+wP/HV4XHvtcK/RmHTTztobz+aHSG5jkefv2eWlD4lBLM/4tKnjfNVxD8pzBwBjdrCPypco0v+Imc/w9Ud6VpTvD/XcyJmPAq3P85MptefbmY/PipVTQxPdz+5vhiEq3x7vwDIagmr9Ze/7DGuYJQEiz/2fyiOEADBP0hBD/5RGp4/r8vpEp+HuT9nanTACV2XvzRzux8iFmM/Zgacm4NTtz8z88kopaCaPwyXylKnMIG/pCp1dI+B0b9x8RrLBnuqP5r7OLTIirk/Po7YzXU3vb/C19wgn4Civ9g5oKfByq4/XIf7etnfsb+PgtC9l9y3PwtrYgXOULM/w8URo8jvjj8Qkml4LXPYP8JThnYt+r0/ADA63ek2oT+PujSArcKYP4UPrR5x0ZO/pGowAd1+wz/ighKEtGOQv/+nfvMp/qQ/NC1cZER2vD9mJmrU0YysPxV/q8gX/sQ/Pkqqi3Xwm78q9EoUdmWjv2cWQYq+q2S/hi4UwrEW2T+kVGq6LCSyP9cDpXqkw5I/XaeWJUcVxT9I4Tw5Uv5vPx+lDrO5tZY/zJQUVYxDjL/hBTlRSQbAP5rE2WmjmsU/",
           "dtype": "f8"
          },
          "coloraxis": "coloraxis",
          "size": {
           "bdata": "NCvnnwZgL0DhNThULCoaQAAAAAAAABhAxS1zz8y/MUDSpnBW2W0gQB2i6Lz2EDNAAAAAAAAAGEAAAAAAAAAYQEg5vQipYCNAYHdwyeK4NEC4nwJvRjYzQAAAAAAAABhAZu+zJCndLEBKlFOiU3onQAAAAAAAABhAAAAAAAAAGEAAAAAAAAAYQAAAAAAAABhAAAAAAAAAGED2R4SVxVIxQAAAAAAAABhASX03OdMDKkAAAAAAAAAYQAAAAAAAABhAzp5cWP/EJ0AAAAAAAAAYQAAAAAAAABhAAAAAAAAAOkCIu0Yf2/saQIaOaz0MBypAxwC7x5nFLUAAAAAAAAAYQJL5ZbCPYB9A8CoLPM82IkDDSK9frlAoQOIRI8PGriNAAAAAAAAAGEAAAAAAAAA6QCaV878EjC5AAAAAAAAAGEAAAAAAAAAYQAAAAAAAABhAmRW20rXdM0AAAAAAAAAYQAAAAAAAABhAYDlGebwALUCu+WmhtxcdQH9p8wg5ZDVAAAAAAAAAGEAAAAAAAAAYQAAAAAAAABhAAAAAAAAAOkBFgFbjbnwiQAAAAAAAABhAuMK6Mdl7NUAAAAAAAAAYQAAAAAAAABhAAAAAAAAAGEBczUkpP1QwQKjAOUS+AzZA",
           "dtype": "f8"
          },
          "sizemode": "area",
          "sizeref": 0.1015625,
          "symbol": "square"
         },
         "mode": "markers",
         "name": "just chatting",
         "orientation": "v",
         "showlegend": true,
         "type": "scatter",
         "x": {
          "bdata": "AAAAAAAAIkAAAAAAAAA2QAAAAAAAADRAAAAAAAAANUAAAAAAAAAkQAAAAAAAADNAAAAAAAAAMEAAAAAAAAAwQAAAAAAAAAAAAAAAAAAANUAAAAAAAAA1QAAAAAAAACRAAAAAAAAAJEAAAAAAAAA1QAAAAAAAACRAAAAAAAAAJEAAAAAAAAAoQAAAAAAAAChAAAAAAAAALEAAAAAAAAA1QAAAAAAAABxAAAAAAAAAIEAAAAAAAAAzQAAAAAAAADFAAAAAAAAANkAAAAAAAAA3QAAAAAAAACZAAAAAAAAAJkAAAAAAAAAAAAAAAAAAACpAAAAAAAAAMkAAAAAAAAAsQAAAAAAAADdAAAAAAAAAKEAAAAAAAAA1QAAAAAAAADRAAAAAAAAAKkAAAAAAAAAsQAAAAAAAADVAAAAAAAAAAAAAAAAAAAAoQAAAAAAAACpAAAAAAAAAN0AAAAAAAAAoQAAAAAAAADdAAAAAAAAAIEAAAAAAAAA3QAAAAAAAADZAAAAAAAAAN0AAAAAAAAAzQAAAAAAAACpAAAAAAAAAMUAAAAAAAAA1QAAAAAAAACRAAAAAAAAANEAAAAAAAAAkQAAAAAAAADNAAAAAAAAANEAAAAAAAAA1QAAAAAAAADVA",
          "dtype": "f8"
         },
         "xaxis": "x",
         "y": {
          "bdata": "ZmZmZmZm8j/NzMzMzMzkP97d3d3d3e0/3t3d3d1dIEBVVVVVVVUTQJqZmZmZmak/AAAAAAAAGUDv7u7u7u4KQM3MzMzMzBhAiYiIiIiIHkCJiIiIiIggQLy7u7u7uwFAvLu7u7u7EEBVVVVVVdUiQImIiIiIiABAMzMzMzMzAUCrqqqqqqoGQHd3d3d3dwVAERERERERFkAzMzMzMzMhQFVVVVVVVRhAREREREREIEDv7u7u7u4KQCIiIiIiIhNA7+7u7u7uHEDNzMzMzMwXQHd3d3d3dwFA3t3d3d3dvT8zMzMzMzMZQCIiIiIiIiBAiYiIiIiI8D9mZmZmZmYIQGZmZmZmZh9AVVVVVVVVxT8REREREZEgQCIiIiIiIiFA7+7u7u7uCkAzMzMzMzP/P97d3d3d3SFAvLu7u7u7FkDNzMzMzMwUQLy7u7u7uwFAq6qqqqqqHkDv7u7u7u4RQCIiIiIiIhtA7+7u7u5uI0CrqqqqqqoiQGZmZmZmZipA3t3d3d3dvT8zMzMzMzMBQERERERERBpAvLu7u7u7B0CamZmZmZkjQERERERERABAiYiIiIgIJEBmZmZmZmYAQHd3d3d3dxNAq6qqqqqqBEDv7u7u7m4gQM3MzMzMzClA",
          "dtype": "f8"
         },
         "yaxis": "y"
        },
        {
         "customdata": [
          [
           "clash royale",
           -0.009215638526807197,
           0.006768264577956984,
           0.009991157447891509,
           0.007543783499041296
          ],
          [
           "clash royale",
           -0.009365634326273948,
           -0.04787333275715753,
           0.011160273216563609,
           -0.04607869386686787
          ],
          [
           "clash royale",
           0.00031174639675668914,
           0.007072176181371788,
           0.009109454978233771,
           0.016493377556362248
          ],
          [
           "clash royale",
           -0.007937361635796378,
           -0.02939688131532364,
           0.011184276669233668,
           -0.02614996628188635
          ],
          [
           "clash royale",
           -0.012340646608830639,
           -0.027141553301794942,
           0.011841859726060874,
           -0.02764034018456471
          ],
          [
           "clash royale",
           -0.006169926030759712,
           0.016003457879330087,
           0.013698313016036537,
           0.02353184486460691
          ],
          [
           "clash royale",
           -0.00945428592830126,
           0.009160874006339555,
           0.010784440725938111,
           0.010491028803976406
          ],
          [
           "clash royale",
           -0.008844953468521908,
           0.03580268906399908,
           0.013276879672432643,
           0.04023461526790982
          ],
          [
           "clash royale",
           -0.01128864473023782,
           0.07558232261585715,
           0.012227448932799234,
           0.07652112681841856
          ],
          [
           "clash royale",
           -0.007555489370345185,
           0.023450699597092353,
           0.013178237180757151,
           0.02907344740750432
          ],
          [
           "clash royale",
           -0.009853185015863346,
           -0.001723247767419025,
           0.014929219824848588,
           0.003352787041566217
          ],
          [
           "clash royale",
           -0.011255128794106213,
           0.01142314803864906,
           0.01206280309605063,
           0.012230822340593478
          ],
          [
           "clash royale",
           0.049463409443698654,
           -0.04992698527246603,
           0.4837111243221329,
           0.48324754849336554
          ],
          [
           "clash royale",
           -0.007590535202585329,
           0.026294931985800643,
           0.014464232893958524,
           0.033168629677173836
          ],
          [
           "clash royale",
           -0.009752953161020627,
           0.01292869835403735,
           0.00836578375902036,
           0.011541528952037083
          ],
          [
           "clash royale",
           -0.005883203230790173,
           -0.01974185157192892,
           0.01442383183545644,
           -0.01120122296726265
          ],
          [
           "clash royale",
           -0.0069292001344962275,
           -0.026953527909892045,
           0.017836209001725365,
           -0.016046519042662907
          ],
          [
           "clash royale",
           -0.01164114029349605,
           0.01681392389448206,
           0.013189228783669477,
           0.018362012384655485
          ]
         ],
         "hovertemplate": "category_simple=clash royale<br>start_time_hour=%{x}<br>duration_hr=%{y:.2f}<br>size=%{marker.size}<br>category=%{customdata[0]}<br>shap_hour=%{customdata[1]:.3f}<br>shap_duration=%{customdata[2]:.3f}<br>shap_game=%{customdata[3]:.3f}<br>combined=%{marker.color:.3f}<extra></extra>",
         "legendgroup": "clash royale",
         "marker": {
          "color": {
           "bdata": "FO6p9jrmfj8qtGZmoJenv3sU0tSj45A/monjhw7Hmr/Yc5LUv02cvwCgbmC7GJg/pHDqDFJ8hT8+UnypoZmkP4VfI3njlrM/C1cwB27FnT98FDXWTXdrP8P1pS95DIk/66wpIIft3j/C5W6HevugPwCgKMsVo4c/9YiOsqrwhr+P8gKqf26Qv7guucp9zZI/",
           "dtype": "f8"
          },
          "coloraxis": "coloraxis",
          "size": {
           "bdata": "AAAAAAAAGECS3BWCZwoYQAAAAAAAABhAAAAAAAAAGEAAAAAAAAAYQAAAAAAAABhAAAAAAAAAGEAAAAAAAAAYQDpMBS0x9iNAAAAAAAAAGEAAAAAAAAAYQAAAAAAAABhAAAAAAAAAOkAAAAAAAAAYQAAAAAAAABhAAAAAAAAAGEAAAAAAAAAYQAAAAAAAABhA",
           "dtype": "f8"
          },
          "sizemode": "area",
          "sizeref": 0.1015625,
          "symbol": "x"
         },
         "mode": "markers",
         "name": "clash royale",
         "orientation": "v",
         "showlegend": true,
         "type": "scatter",
         "x": {
          "bdata": "AAAAAAAAMkAAAAAAAAA0QAAAAAAAAChAAAAAAAAANEAAAAAAAAA1QAAAAAAAADdAAAAAAAAAN0AAAAAAAAAuQAAAAAAAADdAAAAAAAAALkAAAAAAAAAzQAAAAAAAADdAAAAAAAAAN0AAAAAAAAA3QAAAAAAAAC5AAAAAAAAANUAAAAAAAAA1QAAAAAAAAC5A",
          "dtype": "f8"
         },
         "xaxis": "x",
         "y": {
          "bdata": "VVVVVVVVC0Dv7u7u7u7ePwAAAAAAAA5AvLu7u7u76z9ERERERETsP7y7u7u7uxZAzczMzMzME0Dv7u7u7u4bQBEREREREStAAAAAAAAAGkC8u7u7u7v7P83MzMzMzBNAZmZmZmZm7j8REREREREbQO/u7u7u7hVAd3d3d3d38z8AAAAAAADoP0RERERERBhA",
          "dtype": "f8"
         },
         "yaxis": "y"
        },
        {
         "customdata": [
          [
           "marvel rivals",
           0.004257880499342264,
           0.10746752419182655,
           0.01389214005949043,
           0.12561754475065925
          ],
          [
           "marvel rivals",
           -0.017053767809387638,
           -0.039967433799054104,
           -0.01505506369779141,
           -0.07207626530623315
          ],
          [
           "marvel rivals",
           0.0016534430914060749,
           0.06232140057534963,
           -0.012204660162744858,
           0.05177018350401085
          ],
          [
           "marvel rivals",
           0.010638533180871051,
           0.0773236282974375,
           -0.007125932914248096,
           0.08083622856406045
          ],
          [
           "marvel rivals",
           -0.0033193527144624113,
           0.04116191851908269,
           -0.008051490089369508,
           0.029791075715250775
          ],
          [
           "marvel rivals",
           0.003341241528682133,
           0.04296516888128551,
           -0.004760749356443057,
           0.041545661053524585
          ],
          [
           "marvel rivals",
           -0.0031484447433513195,
           0.06980815039265849,
           -0.002658778195227569,
           0.06400092745407959
          ],
          [
           "marvel rivals",
           -0.011452049113790679,
           -0.01630545659563211,
           -0.005143461684415342,
           -0.03290096739383813
          ],
          [
           "marvel rivals",
           -0.007758765962591951,
           -0.08403950314672955,
           -0.009966600196871695,
           -0.10176486930619319
          ],
          [
           "marvel rivals",
           -0.010954279318475528,
           0.07718259657022088,
           0.003876809945124933,
           0.07010512719687029
          ],
          [
           "marvel rivals",
           0.0052641623972726845,
           0.0005610292660514915,
           -0.011787636408062099,
           -0.005962444744737922
          ],
          [
           "marvel rivals",
           -0.020755710993877442,
           -0.041355977288009174,
           -0.007930894806459038,
           -0.07004258308834566
          ],
          [
           "marvel rivals",
           0.004284393952262917,
           -0.023459581635858626,
           -0.00925615413121477,
           -0.028431341814810482
          ],
          [
           "marvel rivals",
           0.0008601227157660673,
           0.008839460143268524,
           -0.007920784296838974,
           0.001778798562195618
          ],
          [
           "marvel rivals",
           0.001603804513187015,
           0.07645843321071367,
           0.0009844986388429788,
           0.07904673636274367
          ],
          [
           "marvel rivals",
           0.01675832997674803,
           0.11296687585030668,
           -0.007993318536555306,
           0.12173188729049941
          ],
          [
           "marvel rivals",
           0.003877184214508702,
           0.1001371676489694,
           0.017560493496433766,
           0.12157484535991188
          ],
          [
           "marvel rivals",
           0.006524409482167357,
           0.0976242076895943,
           -0.007836177863099465,
           0.09631243930866219
          ],
          [
           "marvel rivals",
           0.020102047598927017,
           0.3054590130732598,
           -0.017340759111021953,
           0.30822030156116487
          ],
          [
           "marvel rivals",
           -0.00273502743900508,
           -0.008650425139765048,
           -0.020004242649829394,
           -0.03138969522859952
          ],
          [
           "marvel rivals",
           0.00607165448775703,
           0.08936639636853613,
           -0.011478002073547487,
           0.08396004878274567
          ],
          [
           "marvel rivals",
           -0.03449085684779717,
           -0.3035184609304446,
           -0.06590849940686894,
           -0.4039178171851107
          ],
          [
           "marvel rivals",
           -0.00943083377411199,
           -0.21312084000130993,
           -0.012402867370533387,
           -0.23495454114595532
          ],
          [
           "marvel rivals",
           -0.01941776024287492,
           -0.10442335923053064,
           -0.015752461436720752,
           -0.1395935809101263
          ],
          [
           "marvel rivals",
           0.0006174835920935351,
           0.02676140582334284,
           -0.011330079150918665,
           0.01604881026451771
          ],
          [
           "marvel rivals",
           0.007701429995394165,
           0.00858115721942312,
           -0.008915262990233258,
           0.007367324224584025
          ],
          [
           "marvel rivals",
           -0.0036676814382985866,
           -0.038748254116408136,
           -0.054722172824035624,
           -0.09713810837874234
          ],
          [
           "marvel rivals",
           0.015319281302373896,
           0.06960052493439321,
           -0.008057958755136952,
           0.07686184748163015
          ],
          [
           "marvel rivals",
           0.03148522686432898,
           0.030713772222575243,
           -0.0038454669607290272,
           0.058353532126175195
          ],
          [
           "marvel rivals",
           -0.0028385033854703323,
           0.011931172511849582,
           -0.00866033963659902,
           0.00043232948978023066
          ],
          [
           "marvel rivals",
           -0.003210160938917852,
           0.04767130710703668,
           0.0012008351755355307,
           0.04566198134365436
          ],
          [
           "marvel rivals",
           0.022059506873565626,
           0.10563653279298023,
           -0.013526257216685735,
           0.11416978244986012
          ],
          [
           "marvel rivals",
           -0.0020228300976432223,
           0.012341656881867493,
           -0.014003049762698084,
           -0.0036842229784738115
          ],
          [
           "marvel rivals",
           -0.009045015598802308,
           -0.016588207651378754,
           -0.010486111211866956,
           -0.036119334462048014
          ],
          [
           "marvel rivals",
           -0.011072498358047085,
           0.009956333186553366,
           -0.005648487369790019,
           -0.006764652541283738
          ],
          [
           "marvel rivals",
           -0.03616664043640469,
           0.006730176965558598,
           -0.01728125009340147,
           -0.04671771356424756
          ],
          [
           "marvel rivals",
           0.007245010162675953,
           0.1592964734087596,
           0.019505032237510704,
           0.18604651580894627
          ],
          [
           "marvel rivals",
           0.0013649885124932836,
           0.07792338705885811,
           -0.011288149919737407,
           0.06800022565161398
          ],
          [
           "marvel rivals",
           0.011945428171453897,
           0.07626808287007407,
           -0.0075230792229058355,
           0.08069043181862214
          ],
          [
           "marvel rivals",
           0.010078049404745357,
           0.011551857271027756,
           -0.005548699926284826,
           0.01608120674948829
          ],
          [
           "marvel rivals",
           -0.01583900226363994,
           -0.10043219655002986,
           -0.01623383576859851,
           -0.1325050345822683
          ],
          [
           "marvel rivals",
           -0.005793233665979187,
           0.05554996193661054,
           -0.005650955874341434,
           0.04410577239628992
          ],
          [
           "marvel rivals",
           0.04647474522003819,
           0.00976699985735877,
           -0.007783167071929711,
           0.04845857800546725
          ],
          [
           "marvel rivals",
           0.0031450181880734365,
           -0.011398480585195898,
           -0.005874907648201315,
           -0.014128370045323777
          ],
          [
           "marvel rivals",
           0.03092003076103765,
           0.12459598461076724,
           -0.00380781509548342,
           0.15170820027632145
          ],
          [
           "marvel rivals",
           -0.005110958172427047,
           0.08871011692015258,
           -0.01498800926700369,
           0.06861114948072185
          ],
          [
           "marvel rivals",
           -0.01337677188890666,
           0.07255565546077519,
           -0.01776657268740564,
           0.04141231088446289
          ],
          [
           "marvel rivals",
           -0.010200796232016956,
           -0.05893590320313308,
           -0.005276186172526422,
           -0.07441288560767646
          ],
          [
           "marvel rivals",
           -0.008548204383719166,
           0.08629625285879115,
           0.003612239892397611,
           0.0813602883674696
          ],
          [
           "marvel rivals",
           0.0073005995821017675,
           0.000991711182118138,
           -0.01071595767771214,
           -0.0024236469134922348
          ],
          [
           "marvel rivals",
           -0.014280597919159844,
           -0.13474428504523672,
           -0.012972504505212328,
           -0.1619973874696089
          ],
          [
           "marvel rivals",
           0.014207718037410047,
           0.00482433344376659,
           -0.015001433880534022,
           0.004030617600642616
          ],
          [
           "marvel rivals",
           -0.0046076615342781225,
           0.08380177311414798,
           -0.0028524998490581767,
           0.07634161173081168
          ],
          [
           "marvel rivals",
           -0.0027065015858943296,
           0.1421013363582668,
           -0.01160579963134296,
           0.12778903514102952
          ],
          [
           "marvel rivals",
           0.0058280394700295805,
           0.02741658378694183,
           -0.010236213443215547,
           0.023008409813755862
          ],
          [
           "marvel rivals",
           -0.004124919624071026,
           0.05744017106687124,
           -0.002681238262318857,
           0.05063401318048136
          ],
          [
           "marvel rivals",
           -0.0026956073990527327,
           0.007842645676324764,
           -0.008742722875722394,
           -0.003595684598450362
          ],
          [
           "marvel rivals",
           0.0010394411153970395,
           -0.03189759798338485,
           -0.012790402468215233,
           -0.04364855933620304
          ],
          [
           "marvel rivals",
           -0.009806992646596341,
           0.10676853916417031,
           -0.005745507888923385,
           0.09121603862865058
          ],
          [
           "marvel rivals",
           0.023538182605432213,
           0.12346833645347999,
           -0.0041559909069997045,
           0.14285052815191251
          ],
          [
           "marvel rivals",
           0.0023889950640661084,
           0.056679688465465006,
           -0.011854503233594186,
           0.04721418029593693
          ],
          [
           "marvel rivals",
           0.027645643648640146,
           0.13075960689913246,
           -0.004783862856425003,
           0.1536213876913476
          ],
          [
           "marvel rivals",
           -0.0007656671503954726,
           -0.2309341107119127,
           -0.015997867173883833,
           -0.247697645036192
          ],
          [
           "marvel rivals",
           0.0030549645376029134,
           0.015675411825295384,
           -0.008693941690210068,
           0.01003643467268823
          ],
          [
           "marvel rivals",
           0.0005785062265306351,
           -0.0035123400979313146,
           -0.005684668163150945,
           -0.008618502034551626
          ],
          [
           "marvel rivals",
           0.00026078004305190916,
           -0.07727587639051307,
           -0.008575107450401447,
           -0.08559020379786261
          ],
          [
           "marvel rivals",
           0.0048403498034763,
           -0.08491570064435677,
           -0.00905944894751201,
           -0.08913479978839248
          ],
          [
           "marvel rivals",
           0.022252345245941642,
           0.0892270777079591,
           -0.0053365135670628665,
           0.10614290938683786
          ],
          [
           "marvel rivals",
           0.001725888913684912,
           0.024152112357428167,
           -0.004602566126948204,
           0.021275435144164873
          ]
         ],
         "hovertemplate": "category_simple=marvel rivals<br>start_time_hour=%{x}<br>duration_hr=%{y:.2f}<br>size=%{marker.size}<br>category=%{customdata[0]}<br>shap_hour=%{customdata[1]:.3f}<br>shap_duration=%{customdata[2]:.3f}<br>shap_game=%{customdata[3]:.3f}<br>combined=%{marker.color:.3f}<extra></extra>",
         "legendgroup": "marvel rivals",
         "marker": {
          "color": {
           "bdata": "zQJBVzwUwD8K304Sl3Oyv6+DHRqfgao/Lr4D3q6xtD9ofqM/jYGeP0j7Bw95RaU/cDVUYl1isD9INe1FZdigv65DjTFDDbq/pKyX3GjysT/h+uySE2x4v0gasYtP7rG/7KEaDRsdnb9wvaZp0iRdP6SUiCtoPLQ/hgXLKtIpvz/NStZwhx+/PylYB5nup7g/EMjKpOG50z9IYeBkTxKgv+FEsd9nfrU/gzvFHcrZ2b9SYCKL/RLOv3DJXtQz3sG/cDvnbBlvkD8+aqgJMy1+P66XrgYL3ri/12U+0Tetsz9cDy2gg+CtP2A4CwVJVTw/CkcV2QFhpz8KR9AZOzq9P/TYhCZgLm6/uBqJwDt+or9SGPCWQLV7v1z/zVdi66e/7JJ3Sl/Qxz9mV0t5dmixP3HXws0gqLQ/2O1GhJd3kD9SCAvL7PXAv2aGAyQIlaY/zQB9D5DPqD9S2FK6Ve+Mv49kXJ8sa8M/hSEpE4CQsT9HFc2R/jOlP3EBFg65DLO/wz27IQfUtD+QQmCHwdpjv6QVnJRUvMS/DGdwrGiCcD8pMLW1H4uzPz7rWx9kW8A/pHC7PoSPlz8UzlmNs+ypP8T1OXiydG2/4Ka7nRpZpr+43ccu71m3Pz58UBXtSMI/H5eOAHUsqD9c3Aya3anDPz0DXXKOtM+/hUeAdfuNhD9IAQjDk6aBv653K1Y96bW/wtIGyonRtr91zYSELiy7P4UDnEg6yZU/",
           "dtype": "f8"
          },
          "coloraxis": "coloraxis",
          "size": {
           "bdata": "Z42KDHZiMECy1HGXW80iQL+o/4OTAhtAJURiYVwWJUAAAAAAAAAYQAAAAAAAABhAn4bEMROyIEAAAAAAAAAYQG93qIMBjCpA5w9h6bhJIkAAAAAAAAAYQLvlf6eLRSJAAAAAAAAAGEAAAAAAAAAYQHij3SDbniRAL+cBsm7BL0CRQPfl8bYvQFFCk3ziHylAAAAAAAAAOkAAAAAAAAAYQCCysl/55iVAAAAAAAAAOkAAAAAAAAA6QGXPE5IhNTJAAAAAAAAAGEAAAAAAAAAYQJGgCSsGVylA0bhyJ/IMJEAwq/0O3nEeQAAAAAAAABhAAAAAAAAAGEA8CXeObMgtQAAAAAAAABhAAAAAAAAAGEAAAAAAAAAYQGDsse/AXxhAG8dBeDpEOECRIa9nJ70hQDhd5tSfDCVAAAAAAAAAGECcB+F9cEgxQAAAAAAAABhAc79BwURIGUAAAAAAAAAYQBwcJ6elyTNA5DJpyvPlIUAAAAAAAAAYQHsy+5JmaSNAQ8bwu1s5JUAAAAAAAAAYQL54uOQ1ITVAAAAAAAAAGECMBjMtNOojQNhwZwH4qjBAAAAAAAAAGEBd+Bx202oaQAAAAAAAABhAAAAAAAAAGEBJAZ0nissnQN74YwrioTJAwnC4LRCiGEBAVP2ghwk0QAAAAAAAADpAAAAAAAAAGEAAAAAAAAAYQFyByJbWUyZAvm3cL41AJ0Dzp0S3YLArQAAAAAAAABhA",
           "dtype": "f8"
          },
          "sizemode": "area",
          "sizeref": 0.1015625,
          "symbol": "cross"
         },
         "mode": "markers",
         "name": "marvel rivals",
         "orientation": "v",
         "showlegend": true,
         "type": "scatter",
         "x": {
          "bdata": "AAAAAAAAIEAAAAAAAAA0QAAAAAAAAAAAAAAAAAAAGEAAAAAAAAA1QAAAAAAAABhAAAAAAAAAKkAAAAAAAAAyQAAAAAAAADFAAAAAAAAAIEAAAAAAAAAmQAAAAAAAADdAAAAAAAAANkAAAAAAAADwPwAAAAAAACBAAAAAAAAAGEAAAAAAAAAgQAAAAAAAABxAAAAAAAAANUAAAAAAAAAqQAAAAAAAACBAAAAAAAAALEAAAAAAAAA2QAAAAAAAADVAAAAAAAAANUAAAAAAAAAcQAAAAAAAADdAAAAAAAAAGEAAAAAAAAAcQAAAAAAAAABAAAAAAAAAKkAAAAAAAAAUQAAAAAAAAAAAAAAAAAAAKEAAAAAAAAAmQAAAAAAAACpAAAAAAAAAIEAAAAAAAAAgQAAAAAAAABRAAAAAAAAAGEAAAAAAAAA1QAAAAAAAACpAAAAAAAAAIEAAAAAAAAA1QAAAAAAAABhAAAAAAAAAIEAAAAAAAAAgQAAAAAAAADRAAAAAAAAAIEAAAAAAAAAcQAAAAAAAADZAAAAAAAAAFEAAAAAAAAAqQAAAAAAAACBAAAAAAAAACEAAAAAAAAAqQAAAAAAAACZAAAAAAAAANUAAAAAAAAA2QAAAAAAAABxAAAAAAAAAKEAAAAAAAAAiQAAAAAAAADJAAAAAAAAANUAAAAAAAAA1QAAAAAAAACpAAAAAAAAANkAAAAAAAAAYQAAAAAAAADRA",
          "dtype": "f8"
         },
         "xaxis": "x",
         "y": {
          "bdata": "zczMzMxMIkDNzMzMzMzsP2ZmZmZmZh5AmpmZmZmZHUAREREREREWQN7d3d3d3RlAmpmZmZmZHUC8u7u7u7v7P1VVVVVVVcU/7+7u7u7uH0C8u7u7u7sDQGZmZmZmZvI/MzMzMzMz/z8zMzMzMzMXQBERERERESJA3t3d3d1dI0BEREREREQiQDMzMzMzsyRAVVVVVVXVJkAzMzMzMzMDQGZmZmZm5iJAq6qqqqqq6j+amZmZmZmpP83MzMzMzNw/mpmZmZmZC0BEREREREQZQN7d3d3d3fk/mpmZmZmZHkBVVVVVVVUZQERERERERBdAIiIiIiIiGUB3d3d3d/cgQImIiIiIiBRAvLu7u7u7+z/e3d3d3d0WQCIiIiIiIgZAMzMzMzMzJkBEREREREQfQJqZmZmZGSBAiYiIiIiIF0De3d3d3d3xP0RERERERBxAMzMzMzMzCUBmZmZmZmYEQHd3d3d3dyVAmpmZmZmZIECJiIiIiAgjQM3MzMzMzOw/AAAAAACAIkAREREREREQQBEREREREdE/7+7u7u7uEEBVVVVVVdUhQFVVVVVV1SNAd3d3d3d3D0DNzMzMzMwbQGZmZmZmZhVA3t3d3d3dAUAiIiIiIiIfQCIiIiIiIiNA3t3d3d3dG0AREREREREqQN7d3d3d3b0/MzMzMzMzCUDv7u7u7u7+P1VVVVVVVdU/iYiIiIiI6D/v7u7u7u4fQN7d3d3d3QlA",
          "dtype": "f8"
         },
         "yaxis": "y"
        },
        {
         "customdata": [
          [
           "street fighter 6",
           0.0024998173718030615,
           -0.8107154780735357,
           -0.4198216446416905,
           -1.228037305343423
          ],
          [
           "street fighter 6",
           -0.004479814063801086,
           0.008779387113496568,
           -0.03475670529232275,
           -0.030457132242627267
          ],
          [
           "street fighter 6",
           -0.022035254373355427,
           -0.015116811365686544,
           -0.031423469322751314,
           -0.06857553506179329
          ],
          [
           "street fighter 6",
           -0.004484407369685428,
           -0.38234177462267555,
           -0.04185650532265981,
           -0.4286826873150208
          ],
          [
           "street fighter 6",
           -0.0027865730334568186,
           0.004422092497808592,
           -0.029581043990644956,
           -0.027945524526293182
          ],
          [
           "street fighter 6",
           -0.0010444212857680668,
           -0.018335914799266106,
           -0.030483586638096086,
           -0.049863922723130255
          ],
          [
           "street fighter 6",
           -0.02618952086888157,
           0.001879915960157632,
           -0.02321239544250375,
           -0.04752200035122769
          ],
          [
           "street fighter 6",
           -0.008084822728336575,
           -0.11429139969376592,
           -0.03921759080353013,
           -0.16159381322563263
          ],
          [
           "street fighter 6",
           -0.013647788988511139,
           -0.014581420967517147,
           -0.03296437963321068,
           -0.06119358958923897
          ],
          [
           "street fighter 6",
           -0.014943424052470391,
           -0.14077179790429453,
           -0.04055203336729619,
           -0.1962672553240611
          ],
          [
           "street fighter 6",
           0.006095128192335721,
           -0.0739529433161016,
           -0.03916080573368845,
           -0.10701862085745432
          ],
          [
           "street fighter 6",
           -0.01829792311599249,
           -0.01080424043703772,
           -0.017887802851657853,
           -0.04698996640468807
          ],
          [
           "street fighter 6",
           0.04269239651382278,
           0.006115783729651412,
           -0.031146509174784568,
           0.017661671068689624
          ],
          [
           "street fighter 6",
           0.0035814809891735423,
           0.0996020621806585,
           -0.02070644574707785,
           0.08247709742275419
          ],
          [
           "street fighter 6",
           -0.02186412098361302,
           -0.09771976869981018,
           -0.03186461723418915,
           -0.15144850691761236
          ],
          [
           "street fighter 6",
           -0.007547030365830665,
           0.017124957169940558,
           -0.03888178685981984,
           -0.029303860055709948
          ],
          [
           "street fighter 6",
           0.007257152035059562,
           -0.09249362105426485,
           -0.02348054335751385,
           -0.10871701237671913
          ],
          [
           "street fighter 6",
           -0.02237116495448845,
           -0.05053584326624105,
           -0.02308333765814268,
           -0.09599034587887217
          ],
          [
           "street fighter 6",
           -0.027252530790540987,
           0.013621528999280486,
           -0.03173115526095217,
           -0.045362157052212665
          ],
          [
           "street fighter 6",
           0.0033868837799940366,
           -0.6208253067657574,
           -0.46253261650256944,
           -1.0799710394883328
          ],
          [
           "street fighter 6",
           0.0310058454063487,
           -0.044325878594581807,
           -0.03965639017357944,
           -0.05297642336181255
          ],
          [
           "street fighter 6",
           0.019681332291162333,
           0.015732982202029008,
           -0.009723926047543045,
           0.02569038844564829
          ],
          [
           "street fighter 6",
           -0.004288205716876092,
           0.012514974530357109,
           -0.03367428030374867,
           -0.025447511490267655
          ],
          [
           "street fighter 6",
           0.008219032069235936,
           -0.06836148732266338,
           -0.04901001734943975,
           -0.1091524726028672
          ],
          [
           "street fighter 6",
           0.055189403847604554,
           -0.010183633061961928,
           -0.036530779446509315,
           0.008474991339133313
          ],
          [
           "street fighter 6",
           -0.007282600808156303,
           0.0005374629767902661,
           -0.031400027810560685,
           -0.03814516564192672
          ],
          [
           "street fighter 6",
           -0.015142600249106408,
           -0.007171086346883726,
           -0.030589735125406605,
           -0.05290342172139674
          ],
          [
           "street fighter 6",
           -0.0023589405022046606,
           0.008822933677064384,
           -0.03400471804150811,
           -0.027540724866648388
          ],
          [
           "street fighter 6",
           -0.003705579050895977,
           -0.016049257471401006,
           -0.03411202952242661,
           -0.05386686604472359
          ],
          [
           "street fighter 6",
           0.03326235332997726,
           0.09429608346896202,
           -0.024387593805429333,
           0.10317084299350997
          ],
          [
           "street fighter 6",
           0.004742075484410861,
           0.0011034495142689593,
           -0.012332648451667864,
           -0.006487123452988044
          ]
         ],
         "hovertemplate": "category_simple=street fighter 6<br>start_time_hour=%{x}<br>duration_hr=%{y:.2f}<br>size=%{marker.size}<br>category=%{customdata[0]}<br>shap_hour=%{customdata[1]:.3f}<br>shap_duration=%{customdata[2]:.3f}<br>shap_game=%{customdata[3]:.3f}<br>combined=%{marker.color:.3f}<extra></extra>",
         "legendgroup": "street fighter 6",
         "marker": {
          "color": {
           "bdata": "zHwLcgqm87+F66WLJzCfvwpnZZAqjrG/OkiYgolv27/C1aNnwJ2cvxQ2sZrDh6m/M7Oyus1UqL+FH4UnG6/Ev/ZwBSTEVK+/PT5yEUkfyb97UqWEkmW7vyqE5aERD6i/t+qHruYVkj8+iBkUOB21P0idHiiqYsO/H+VXwtQBnr8eRa3M4NS7v1wPSMTSkri/XNEHarU5p78XrHO2j0fxvxSYmMu5H6u/PErIyJROmj/1DHaW6Q6av5BaG5xq8bu/fGwVFVZbgT/het1dw4ejv1KgR0QoFqu/wglxwqIznL8zDQAYcJSrv/fQjoRnabo/XA828T2Ser8=",
           "dtype": "f8"
          },
          "coloraxis": "coloraxis",
          "size": {
           "bdata": "AAAAAAAAOkAAAAAAAAAYQExkueyS4yFAAAAAAAAAOkAAAAAAAAAYQBLQt3L4AxpAw7GsMS3LGEC5w1khvBM1QNQlgpkx7R9AOIwinoGZOUDtnMTs2+orQGgcdtUdhBhAAAAAAAAAGEDtEpDC8IMlQH7mjsn5wDNAAAAAAAAAGED3xgK3R1wsQLI35vVfCilAAAAAAAAAGEAAAAAAAAA6QNApCmWvoxtAAAAAAAAAGEAAAAAAAAAYQP3SmV1ceSxAAAAAAAAAGEAAAAAAAAAYQDWWolDvmRtAAAAAAAAAGEASIvmAnRocQFBsIR3m6SpAAAAAAAAAGEA=",
           "dtype": "f8"
          },
          "sizemode": "area",
          "sizeref": 0.1015625,
          "symbol": "circle"
         },
         "mode": "markers",
         "name": "street fighter 6",
         "orientation": "v",
         "showlegend": true,
         "type": "scatter",
         "x": {
          "bdata": "AAAAAAAANUAAAAAAAAA1QAAAAAAAACZAAAAAAAAANkAAAAAAAAA0QAAAAAAAADVAAAAAAAAAM0AAAAAAAAAsQAAAAAAAAC5AAAAAAAAALEAAAAAAAAA3QAAAAAAAADVAAAAAAAAANEAAAAAAAAAmQAAAAAAAADNAAAAAAAAANUAAAAAAAAAAAAAAAAAAADdAAAAAAAAALkAAAAAAAAA3QAAAAAAAADVAAAAAAAAAKEAAAAAAAAA1QAAAAAAAADVAAAAAAAAANUAAAAAAAAAoQAAAAAAAADNAAAAAAAAANUAAAAAAAAA2QAAAAAAAACBAAAAAAAAAKEA=",
          "dtype": "f8"
         },
         "xaxis": "x",
         "y": {
          "bdata": "ERERERERsT9EREREREQGQAAAAAAAAAhAERERERERkT/v7u7u7u4IQJqZmZmZmQFAd3d3d3d3FECJiIiIiIjoP2ZmZmZmZv4/IiIiIiIi0j8zMzMzMzPzPyIiIiIiIg5AiYiIiIiIBEB3d3d3d3cjQFVVVVVVVeU/MzMzMzMzD0ARERERERHRP6uqqqqqquo/iYiIiIiICkB3d3d3d3fvP+/u7u7u7u4/d3d3d3d3D0BEREREREQGQHd3d3d3d+8/vLu7u7u79z+JiIiIiIgIQLy7u7u7uwVA3t3d3d3dA0AiIiIiIiICQERERERERB5AZmZmZmZmEUA=",
          "dtype": "f8"
         },
         "yaxis": "y"
        },
        {
         "customdata": [
          [
           "donkey kong bananza",
           -0.01765782532031352,
           -0.03273685668793064,
           0.003358521749050851,
           -0.047036160259193306
          ],
          [
           "donkey kong bananza",
           -0.01789052914621493,
           0.0158820655336865,
           0.0064596462898907706,
           0.004451182677362338
          ],
          [
           "donkey kong bananza",
           -0.015594984096953795,
           0.03856338396612614,
           0.0072119816986014485,
           0.030180381567773792
          ],
          [
           "donkey kong bananza",
           -0.015059466327652444,
           -0.0035585319843278286,
           0.004014460435728324,
           -0.014603537876251948
          ],
          [
           "donkey kong bananza",
           -0.021234741948239842,
           0.032881599373185966,
           0.009701794408069873,
           0.021348651833015996
          ],
          [
           "donkey kong bananza",
           -0.024281080883706636,
           -0.10720466174546119,
           0.009672741088022576,
           -0.12181300154114524
          ],
          [
           "donkey kong bananza",
           0.009406628697139468,
           0.11362355386650023,
           0.011783979378178629,
           0.13481416194181833
          ],
          [
           "donkey kong bananza",
           0.01250481071027366,
           -0.02349544673306468,
           -0.001844233513384097,
           -0.012834869536175119
          ],
          [
           "donkey kong bananza",
           0.011606214701899945,
           -0.11841185734511499,
           0.002004953871585258,
           -0.10480068877162979
          ],
          [
           "donkey kong bananza",
           -0.025621683330642783,
           0.06619303083842056,
           0.00502065078013402,
           0.04559199828791179
          ],
          [
           "donkey kong bananza",
           -0.01814438636079444,
           0.04597672644350155,
           0.006797150818638329,
           0.03462949090134544
          ],
          [
           "donkey kong bananza",
           -0.030547116733137047,
           -0.008623918213853585,
           0.0076409443345391995,
           -0.031530090612451434
          ],
          [
           "donkey kong bananza",
           -0.019038941923649872,
           -0.020974508807115627,
           0.003933050244370406,
           -0.03608040048639509
          ],
          [
           "donkey kong bananza",
           -0.017064263404280525,
           0.011126638574617119,
           0.010491690616131564,
           0.0045540657864681575
          ],
          [
           "donkey kong bananza",
           -0.017695746439294453,
           0.009421817915504107,
           0.005842698635387933,
           -0.0024312298884024133
          ],
          [
           "donkey kong bananza",
           0.0038423761031890534,
           -0.022445368130977385,
           0.012835721289679896,
           -0.005767270738108437
          ],
          [
           "donkey kong bananza",
           0.03122960292942153,
           -0.684729789035099,
           0.31214893072209404,
           -0.34135125538358335
          ],
          [
           "donkey kong bananza",
           0.042385666482360876,
           0.11655168420820218,
           0.019766967924329037,
           0.17870431861489208
          ],
          [
           "donkey kong bananza",
           0.0074778276442214065,
           0.0018563495077296465,
           0.004813565599856701,
           0.014147742751807755
          ],
          [
           "donkey kong bananza",
           0.007429191754922613,
           0.09592038876614879,
           0.007544201974351381,
           0.11089378249542278
          ],
          [
           "donkey kong bananza",
           -0.0195205535931845,
           0.0022855675477660496,
           0.0032546959504134066,
           -0.013980290095005045
          ],
          [
           "donkey kong bananza",
           0.027106099207325086,
           -0.02275782497070509,
           0.01265231247697784,
           0.01700058671359784
          ],
          [
           "donkey kong bananza",
           -0.03131300559442707,
           -0.000012130999251098728,
           0.004653191563972996,
           -0.02667194502970517
          ],
          [
           "donkey kong bananza",
           0.0034781179512151537,
           0.1146164530838999,
           0.011824287660865594,
           0.12991885869598063
          ],
          [
           "donkey kong bananza",
           0.00040344087235439475,
           0.10157615037321137,
           0.006723166855459794,
           0.10870275810102555
          ],
          [
           "donkey kong bananza",
           -0.011928050616617156,
           0.02870953590871977,
           0.00386318053773266,
           0.020644665829835276
          ],
          [
           "donkey kong bananza",
           -0.01795705117576972,
           -0.0036597926559500137,
           0.004767031053856954,
           -0.01684981277786278
          ],
          [
           "donkey kong bananza",
           -0.026209407117171395,
           -0.002858731124958922,
           0.005131417491475077,
           -0.02393672075065524
          ],
          [
           "donkey kong bananza",
           0.05079923835612363,
           0.09340235358064262,
           0.010823404713053151,
           0.1550249966498194
          ],
          [
           "donkey kong bananza",
           -0.013415413022471512,
           -0.013939006639428726,
           0.003628004943379892,
           -0.023726414718520345
          ],
          [
           "donkey kong bananza",
           -0.030229589999382255,
           -0.0831692300182658,
           0.006067957919459559,
           -0.1073308620981885
          ],
          [
           "donkey kong bananza",
           0.0012729966602535113,
           0.07739793039338821,
           0.009721569699374868,
           0.0883924967530166
          ]
         ],
         "hovertemplate": "category_simple=donkey kong bananza<br>start_time_hour=%{x}<br>duration_hr=%{y:.2f}<br>size=%{marker.size}<br>category=%{customdata[0]}<br>shap_hour=%{customdata[1]:.3f}<br>shap_duration=%{customdata[2]:.3f}<br>shap_game=%{customdata[3]:.3f}<br>combined=%{marker.color:.3f}<extra></extra>",
         "legendgroup": "donkey kong bananza",
         "marker": {
          "color": {
           "bdata": "PdYVpB8VqL8I13FAZztyP1zvQR+b554/mdmsrHXojb9T+L7Fa9yVP/bI2AkjL7+/9vNJKJdBwT+ZGUAHK0mKvzRX38o31Lq/ezQ2m9VXpz8q/Mvl9LqhP0hxCki2JKC/ZjY7WCF5or+4Dt65SKdyPz4Kg5uo6mO/7FFR82ufd7/Ui5TvstjVvzNuDXrI38Y/hStz4335jD+uxyXxiGO8PxQe+cWyoYy/wnXKD5pokT+kQH7u40+bvxTPnWAuocA/PWYHp/HTuz+k0E0S4COVP1xvTMsTQZG/pLAwI96CmL+4NFbt29fDP4XLEb28S5i/PS6QDgl6u78VGMQC5KC2Pw==",
           "dtype": "f8"
          },
          "coloraxis": "coloraxis",
          "size": {
           "bdata": "Om2GTEmKGEAAAAAAAAAYQAAAAAAAABhAAAAAAAAAGEAAAAAAAAAYQA/3xW3Zxi9AOin9+IqVMUAAAAAAAAAYQKL5zwq+VitAAAAAAAAAGEAAAAAAAAAYQAAAAAAAABhAAAAAAAAAGEAAAAAAAAAYQAAAAAAAABhAAAAAAAAAGEAAAAAAAAA6QCjdNy0RTzdAAAAAAAAAGEC7efDjpe0sQAAAAAAAABhAAAAAAAAAGEAAAAAAAAAYQELn88oV8jBAvEvmBVRbLEAAAAAAAAAYQAAAAAAAABhAAAAAAAAAGEB6lAC3ZTg0QAAAAAAAABhAIU51BLb/K0BGdky8+g4nQA==",
           "dtype": "f8"
          },
          "sizemode": "area",
          "sizeref": 0.1015625,
          "symbol": "diamond"
         },
         "mode": "markers",
         "name": "donkey kong bananza",
         "orientation": "v",
         "showlegend": true,
         "type": "scatter",
         "x": {
          "bdata": "AAAAAAAALkAAAAAAAAAuQAAAAAAAAC5AAAAAAAAALkAAAAAAAAAuQAAAAAAAADRAAAAAAAAAKEAAAAAAAAAAAAAAAAAAADdAAAAAAAAALkAAAAAAAAAsQAAAAAAAAC5AAAAAAAAAKEAAAAAAAAAyQAAAAAAAACxAAAAAAAAA8D8AAAAAAAA3QAAAAAAAACBAAAAAAAAAJEAAAAAAAAAmQAAAAAAAAC5AAAAAAAAANUAAAAAAAAAsQAAAAAAAACpAAAAAAAAANkAAAAAAAAAzQAAAAAAAACxAAAAAAAAANUAAAAAAAAAgQAAAAAAAADVAAAAAAAAAM0AAAAAAAAAmQA==",
          "dtype": "f8"
         },
         "xaxis": "x",
         "y": {
          "bdata": "IiIiIiIiBkCamZmZmZkUQHd3d3d3dxdAmpmZmZmZEUBmZmZmZmYXQBEREREREaE/mpmZmZmZIkBERERERET8P7y7u7u7u9s/ZmZmZmbmIUAREREREREZQKuqqqqqqhJAIiIiIiIi/j/NzMzMzMwQQImIiIiIiBVAiYiIiIiIDkDe3d3d3d3lP83MzMzMzCxAVVVVVVVVC0AiIiIiIiIhQKuqqqqqqhVAd3d3d3d38z8zMzMzMzMVQFVVVVVV1SBAiYiIiIhIMEBmZmZmZmYRQFVVVVVVVRJAzczMzMzMBkAREREREREcQKuqqqqqqgRAVVVVVVVVtT8REREREZEiQA==",
          "dtype": "f8"
         },
         "yaxis": "y"
        }
       ],
       "layout": {
        "coloraxis": {
         "cmid": 0,
         "colorbar": {
          "title": {
           "text": "combined"
          }
         },
         "colorscale": [
          [
           0,
           "rgb(103,0,31)"
          ],
          [
           0.1,
           "rgb(178,24,43)"
          ],
          [
           0.2,
           "rgb(214,96,77)"
          ],
          [
           0.3,
           "rgb(244,165,130)"
          ],
          [
           0.4,
           "rgb(253,219,199)"
          ],
          [
           0.5,
           "rgb(247,247,247)"
          ],
          [
           0.6,
           "rgb(209,229,240)"
          ],
          [
           0.7,
           "rgb(146,197,222)"
          ],
          [
           0.8,
           "rgb(67,147,195)"
          ],
          [
           0.9,
           "rgb(33,102,172)"
          ],
          [
           1,
           "rgb(5,48,97)"
          ]
         ]
        },
        "height": 600,
        "legend": {
         "font": {
          "size": 11
         },
         "itemsizing": "constant",
         "orientation": "h",
         "title": {
          "text": "category_simple"
         },
         "tracegroupgap": 0,
         "x": 0,
         "xanchor": "left",
         "y": -0.2,
         "yanchor": "top"
        },
        "margin": {
         "b": 180,
         "l": 80,
         "r": 30,
         "t": 60
        },
        "template": {
         "data": {
          "bar": [
           {
            "error_x": {
             "color": "rgb(36,36,36)"
            },
            "error_y": {
             "color": "rgb(36,36,36)"
            },
            "marker": {
             "line": {
              "color": "white",
              "width": 0.5
             },
             "pattern": {
              "fillmode": "overlay",
              "size": 10,
              "solidity": 0.2
             }
            },
            "type": "bar"
           }
          ],
          "barpolar": [
           {
            "marker": {
             "line": {
              "color": "white",
              "width": 0.5
             },
             "pattern": {
              "fillmode": "overlay",
              "size": 10,
              "solidity": 0.2
             }
            },
            "type": "barpolar"
           }
          ],
          "carpet": [
           {
            "aaxis": {
             "endlinecolor": "rgb(36,36,36)",
             "gridcolor": "white",
             "linecolor": "white",
             "minorgridcolor": "white",
             "startlinecolor": "rgb(36,36,36)"
            },
            "baxis": {
             "endlinecolor": "rgb(36,36,36)",
             "gridcolor": "white",
             "linecolor": "white",
             "minorgridcolor": "white",
             "startlinecolor": "rgb(36,36,36)"
            },
            "type": "carpet"
           }
          ],
          "choropleth": [
           {
            "colorbar": {
             "outlinewidth": 1,
             "tickcolor": "rgb(36,36,36)",
             "ticks": "outside"
            },
            "type": "choropleth"
           }
          ],
          "contour": [
           {
            "colorbar": {
             "outlinewidth": 1,
             "tickcolor": "rgb(36,36,36)",
             "ticks": "outside"
            },
            "colorscale": [
             [
              0,
              "#440154"
             ],
             [
              0.1111111111111111,
              "#482878"
             ],
             [
              0.2222222222222222,
              "#3e4989"
             ],
             [
              0.3333333333333333,
              "#31688e"
             ],
             [
              0.4444444444444444,
              "#26828e"
             ],
             [
              0.5555555555555556,
              "#1f9e89"
             ],
             [
              0.6666666666666666,
              "#35b779"
             ],
             [
              0.7777777777777778,
              "#6ece58"
             ],
             [
              0.8888888888888888,
              "#b5de2b"
             ],
             [
              1,
              "#fde725"
             ]
            ],
            "type": "contour"
           }
          ],
          "contourcarpet": [
           {
            "colorbar": {
             "outlinewidth": 1,
             "tickcolor": "rgb(36,36,36)",
             "ticks": "outside"
            },
            "type": "contourcarpet"
           }
          ],
          "heatmap": [
           {
            "colorbar": {
             "outlinewidth": 1,
             "tickcolor": "rgb(36,36,36)",
             "ticks": "outside"
            },
            "colorscale": [
             [
              0,
              "#440154"
             ],
             [
              0.1111111111111111,
              "#482878"
             ],
             [
              0.2222222222222222,
              "#3e4989"
             ],
             [
              0.3333333333333333,
              "#31688e"
             ],
             [
              0.4444444444444444,
              "#26828e"
             ],
             [
              0.5555555555555556,
              "#1f9e89"
             ],
             [
              0.6666666666666666,
              "#35b779"
             ],
             [
              0.7777777777777778,
              "#6ece58"
             ],
             [
              0.8888888888888888,
              "#b5de2b"
             ],
             [
              1,
              "#fde725"
             ]
            ],
            "type": "heatmap"
           }
          ],
          "histogram": [
           {
            "marker": {
             "line": {
              "color": "white",
              "width": 0.6
             }
            },
            "type": "histogram"
           }
          ],
          "histogram2d": [
           {
            "colorbar": {
             "outlinewidth": 1,
             "tickcolor": "rgb(36,36,36)",
             "ticks": "outside"
            },
            "colorscale": [
             [
              0,
              "#440154"
             ],
             [
              0.1111111111111111,
              "#482878"
             ],
             [
              0.2222222222222222,
              "#3e4989"
             ],
             [
              0.3333333333333333,
              "#31688e"
             ],
             [
              0.4444444444444444,
              "#26828e"
             ],
             [
              0.5555555555555556,
              "#1f9e89"
             ],
             [
              0.6666666666666666,
              "#35b779"
             ],
             [
              0.7777777777777778,
              "#6ece58"
             ],
             [
              0.8888888888888888,
              "#b5de2b"
             ],
             [
              1,
              "#fde725"
             ]
            ],
            "type": "histogram2d"
           }
          ],
          "histogram2dcontour": [
           {
            "colorbar": {
             "outlinewidth": 1,
             "tickcolor": "rgb(36,36,36)",
             "ticks": "outside"
            },
            "colorscale": [
             [
              0,
              "#440154"
             ],
             [
              0.1111111111111111,
              "#482878"
             ],
             [
              0.2222222222222222,
              "#3e4989"
             ],
             [
              0.3333333333333333,
              "#31688e"
             ],
             [
              0.4444444444444444,
              "#26828e"
             ],
             [
              0.5555555555555556,
              "#1f9e89"
             ],
             [
              0.6666666666666666,
              "#35b779"
             ],
             [
              0.7777777777777778,
              "#6ece58"
             ],
             [
              0.8888888888888888,
              "#b5de2b"
             ],
             [
              1,
              "#fde725"
             ]
            ],
            "type": "histogram2dcontour"
           }
          ],
          "mesh3d": [
           {
            "colorbar": {
             "outlinewidth": 1,
             "tickcolor": "rgb(36,36,36)",
             "ticks": "outside"
            },
            "type": "mesh3d"
           }
          ],
          "parcoords": [
           {
            "line": {
             "colorbar": {
              "outlinewidth": 1,
              "tickcolor": "rgb(36,36,36)",
              "ticks": "outside"
             }
            },
            "type": "parcoords"
           }
          ],
          "pie": [
           {
            "automargin": true,
            "type": "pie"
           }
          ],
          "scatter": [
           {
            "fillpattern": {
             "fillmode": "overlay",
             "size": 10,
             "solidity": 0.2
            },
            "type": "scatter"
           }
          ],
          "scatter3d": [
           {
            "line": {
             "colorbar": {
              "outlinewidth": 1,
              "tickcolor": "rgb(36,36,36)",
              "ticks": "outside"
             }
            },
            "marker": {
             "colorbar": {
              "outlinewidth": 1,
              "tickcolor": "rgb(36,36,36)",
              "ticks": "outside"
             }
            },
            "type": "scatter3d"
           }
          ],
          "scattercarpet": [
           {
            "marker": {
             "colorbar": {
              "outlinewidth": 1,
              "tickcolor": "rgb(36,36,36)",
              "ticks": "outside"
             }
            },
            "type": "scattercarpet"
           }
          ],
          "scattergeo": [
           {
            "marker": {
             "colorbar": {
              "outlinewidth": 1,
              "tickcolor": "rgb(36,36,36)",
              "ticks": "outside"
             }
            },
            "type": "scattergeo"
           }
          ],
          "scattergl": [
           {
            "marker": {
             "colorbar": {
              "outlinewidth": 1,
              "tickcolor": "rgb(36,36,36)",
              "ticks": "outside"
             }
            },
            "type": "scattergl"
           }
          ],
          "scattermap": [
           {
            "marker": {
             "colorbar": {
              "outlinewidth": 1,
              "tickcolor": "rgb(36,36,36)",
              "ticks": "outside"
             }
            },
            "type": "scattermap"
           }
          ],
          "scattermapbox": [
           {
            "marker": {
             "colorbar": {
              "outlinewidth": 1,
              "tickcolor": "rgb(36,36,36)",
              "ticks": "outside"
             }
            },
            "type": "scattermapbox"
           }
          ],
          "scatterpolar": [
           {
            "marker": {
             "colorbar": {
              "outlinewidth": 1,
              "tickcolor": "rgb(36,36,36)",
              "ticks": "outside"
             }
            },
            "type": "scatterpolar"
           }
          ],
          "scatterpolargl": [
           {
            "marker": {
             "colorbar": {
              "outlinewidth": 1,
              "tickcolor": "rgb(36,36,36)",
              "ticks": "outside"
             }
            },
            "type": "scatterpolargl"
           }
          ],
          "scatterternary": [
           {
            "marker": {
             "colorbar": {
              "outlinewidth": 1,
              "tickcolor": "rgb(36,36,36)",
              "ticks": "outside"
             }
            },
            "type": "scatterternary"
           }
          ],
          "surface": [
           {
            "colorbar": {
             "outlinewidth": 1,
             "tickcolor": "rgb(36,36,36)",
             "ticks": "outside"
            },
            "colorscale": [
             [
              0,
              "#440154"
             ],
             [
              0.1111111111111111,
              "#482878"
             ],
             [
              0.2222222222222222,
              "#3e4989"
             ],
             [
              0.3333333333333333,
              "#31688e"
             ],
             [
              0.4444444444444444,
              "#26828e"
             ],
             [
              0.5555555555555556,
              "#1f9e89"
             ],
             [
              0.6666666666666666,
              "#35b779"
             ],
             [
              0.7777777777777778,
              "#6ece58"
             ],
             [
              0.8888888888888888,
              "#b5de2b"
             ],
             [
              1,
              "#fde725"
             ]
            ],
            "type": "surface"
           }
          ],
          "table": [
           {
            "cells": {
             "fill": {
              "color": "rgb(237,237,237)"
             },
             "line": {
              "color": "white"
             }
            },
            "header": {
             "fill": {
              "color": "rgb(217,217,217)"
             },
             "line": {
              "color": "white"
             }
            },
            "type": "table"
           }
          ]
         },
         "layout": {
          "annotationdefaults": {
           "arrowhead": 0,
           "arrowwidth": 1
          },
          "autotypenumbers": "strict",
          "coloraxis": {
           "colorbar": {
            "outlinewidth": 1,
            "tickcolor": "rgb(36,36,36)",
            "ticks": "outside"
           }
          },
          "colorscale": {
           "diverging": [
            [
             0,
             "rgb(103,0,31)"
            ],
            [
             0.1,
             "rgb(178,24,43)"
            ],
            [
             0.2,
             "rgb(214,96,77)"
            ],
            [
             0.3,
             "rgb(244,165,130)"
            ],
            [
             0.4,
             "rgb(253,219,199)"
            ],
            [
             0.5,
             "rgb(247,247,247)"
            ],
            [
             0.6,
             "rgb(209,229,240)"
            ],
            [
             0.7,
             "rgb(146,197,222)"
            ],
            [
             0.8,
             "rgb(67,147,195)"
            ],
            [
             0.9,
             "rgb(33,102,172)"
            ],
            [
             1,
             "rgb(5,48,97)"
            ]
           ],
           "sequential": [
            [
             0,
             "#440154"
            ],
            [
             0.1111111111111111,
             "#482878"
            ],
            [
             0.2222222222222222,
             "#3e4989"
            ],
            [
             0.3333333333333333,
             "#31688e"
            ],
            [
             0.4444444444444444,
             "#26828e"
            ],
            [
             0.5555555555555556,
             "#1f9e89"
            ],
            [
             0.6666666666666666,
             "#35b779"
            ],
            [
             0.7777777777777778,
             "#6ece58"
            ],
            [
             0.8888888888888888,
             "#b5de2b"
            ],
            [
             1,
             "#fde725"
            ]
           ],
           "sequentialminus": [
            [
             0,
             "#440154"
            ],
            [
             0.1111111111111111,
             "#482878"
            ],
            [
             0.2222222222222222,
             "#3e4989"
            ],
            [
             0.3333333333333333,
             "#31688e"
            ],
            [
             0.4444444444444444,
             "#26828e"
            ],
            [
             0.5555555555555556,
             "#1f9e89"
            ],
            [
             0.6666666666666666,
             "#35b779"
            ],
            [
             0.7777777777777778,
             "#6ece58"
            ],
            [
             0.8888888888888888,
             "#b5de2b"
            ],
            [
             1,
             "#fde725"
            ]
           ]
          },
          "colorway": [
           "#1F77B4",
           "#FF7F0E",
           "#2CA02C",
           "#D62728",
           "#9467BD",
           "#8C564B",
           "#E377C2",
           "#7F7F7F",
           "#BCBD22",
           "#17BECF"
          ],
          "font": {
           "color": "rgb(36,36,36)"
          },
          "geo": {
           "bgcolor": "white",
           "lakecolor": "white",
           "landcolor": "white",
           "showlakes": true,
           "showland": true,
           "subunitcolor": "white"
          },
          "hoverlabel": {
           "align": "left"
          },
          "hovermode": "closest",
          "mapbox": {
           "style": "light"
          },
          "paper_bgcolor": "white",
          "plot_bgcolor": "white",
          "polar": {
           "angularaxis": {
            "gridcolor": "rgb(232,232,232)",
            "linecolor": "rgb(36,36,36)",
            "showgrid": false,
            "showline": true,
            "ticks": "outside"
           },
           "bgcolor": "white",
           "radialaxis": {
            "gridcolor": "rgb(232,232,232)",
            "linecolor": "rgb(36,36,36)",
            "showgrid": false,
            "showline": true,
            "ticks": "outside"
           }
          },
          "scene": {
           "xaxis": {
            "backgroundcolor": "white",
            "gridcolor": "rgb(232,232,232)",
            "gridwidth": 2,
            "linecolor": "rgb(36,36,36)",
            "showbackground": true,
            "showgrid": false,
            "showline": true,
            "ticks": "outside",
            "zeroline": false,
            "zerolinecolor": "rgb(36,36,36)"
           },
           "yaxis": {
            "backgroundcolor": "white",
            "gridcolor": "rgb(232,232,232)",
            "gridwidth": 2,
            "linecolor": "rgb(36,36,36)",
            "showbackground": true,
            "showgrid": false,
            "showline": true,
            "ticks": "outside",
            "zeroline": false,
            "zerolinecolor": "rgb(36,36,36)"
           },
           "zaxis": {
            "backgroundcolor": "white",
            "gridcolor": "rgb(232,232,232)",
            "gridwidth": 2,
            "linecolor": "rgb(36,36,36)",
            "showbackground": true,
            "showgrid": false,
            "showline": true,
            "ticks": "outside",
            "zeroline": false,
            "zerolinecolor": "rgb(36,36,36)"
           }
          },
          "shapedefaults": {
           "fillcolor": "black",
           "line": {
            "width": 0
           },
           "opacity": 0.3
          },
          "ternary": {
           "aaxis": {
            "gridcolor": "rgb(232,232,232)",
            "linecolor": "rgb(36,36,36)",
            "showgrid": false,
            "showline": true,
            "ticks": "outside"
           },
           "baxis": {
            "gridcolor": "rgb(232,232,232)",
            "linecolor": "rgb(36,36,36)",
            "showgrid": false,
            "showline": true,
            "ticks": "outside"
           },
           "bgcolor": "white",
           "caxis": {
            "gridcolor": "rgb(232,232,232)",
            "linecolor": "rgb(36,36,36)",
            "showgrid": false,
            "showline": true,
            "ticks": "outside"
           }
          },
          "title": {
           "x": 0.05
          },
          "xaxis": {
           "automargin": true,
           "gridcolor": "rgb(232,232,232)",
           "linecolor": "rgb(36,36,36)",
           "showgrid": false,
           "showline": true,
           "ticks": "outside",
           "title": {
            "standoff": 15
           },
           "zeroline": false,
           "zerolinecolor": "rgb(36,36,36)"
          },
          "yaxis": {
           "automargin": true,
           "gridcolor": "rgb(232,232,232)",
           "linecolor": "rgb(36,36,36)",
           "showgrid": false,
           "showline": true,
           "ticks": "outside",
           "title": {
            "standoff": 15
           },
           "zeroline": false,
           "zerolinecolor": "rgb(36,36,36)"
          }
         }
        },
        "title": {
         "text": "model_1 — Overlap of Effects (start hour × duration, colored by net SHAP)"
        },
        "xaxis": {
         "anchor": "y",
         "domain": [
          0,
          1
         ],
         "title": {
          "text": "Start hour (0–23)"
         }
        },
        "yaxis": {
         "anchor": "x",
         "domain": [
          0,
          1
         ],
         "title": {
          "text": "Duration (hours)"
         }
        }
       }
      }
     },
     "metadata": {},
     "output_type": "display_data"
    },
    {
     "data": {
      "application/vnd.plotly.v1+json": {
       "config": {
        "plotlyServerURL": "https://plot.ly"
       },
       "data": [
        {
         "customdata": [
          [
           "valheim",
           0.1503267114056507,
           0.06873360727826366,
           0.034316307216649876,
           0.25337662590056426
          ],
          [
           "valheim",
           -0.26134473681857345,
           0.06026049617008539,
           0.019232765616616233,
           -0.18185147503187182
          ],
          [
           "valheim",
           0.2687059225313715,
           0.04231054195493925,
           0.025732587811071427,
           0.33674905229738217
          ],
          [
           "valheim",
           0.41504998989228625,
           0.04418158922315343,
           0.0003570877038873732,
           0.45958866681932703
          ],
          [
           "valheim",
           0.07686767212027917,
           0.07865688650228549,
           0.02125722391414456,
           0.1767817825367092
          ],
          [
           "valheim",
           -0.22320023544772993,
           0.05716044039727421,
           -0.010360690067755059,
           -0.17640048511821077
          ],
          [
           "valheim",
           -0.24342790260154287,
           0.09842259950673907,
           -0.009775753680150956,
           -0.15478105677495477
          ],
          [
           "valheim",
           0.4826508553460008,
           0.07323024722223635,
           -0.00027196727693080903,
           0.5556091352913063
          ],
          [
           "valheim",
           0.08202010608569253,
           0.0627091075424687,
           0.03703606173861772,
           0.18176527536677894
          ],
          [
           "valheim",
           0.3968487343128072,
           0.03652601457433775,
           0.020691365582169965,
           0.4540661144693149
          ],
          [
           "valheim",
           -0.25820653707778546,
           0.056410082549846266,
           0.004128631635103375,
           -0.19766782289283583
          ],
          [
           "valheim",
           0.16080832122534047,
           0.06976973071548855,
           0.023144880764302798,
           0.25372293270513185
          ],
          [
           "valheim",
           0.096914390536258,
           0.08587130161729874,
           0.01967099020257592,
           0.20245668235613265
          ],
          [
           "valheim",
           -0.2021935611171648,
           0.027938660033687484,
           0.02302617843495682,
           -0.1512287226485205
          ],
          [
           "valheim",
           -0.27651915921247566,
           0.10695712163724239,
           -0.0409355941193644,
           -0.21049763169459768
          ],
          [
           "valheim",
           0.5372261716602952,
           -0.19906838624854573,
           -0.06050650260876864,
           0.2776512828029808
          ],
          [
           "valheim",
           0.09346818924765103,
           0.03681301523378352,
           0.015623350093374028,
           0.14590455457480858
          ],
          [
           "valheim",
           0.19319078312488272,
           -0.04582156629068777,
           -0.011556766277644783,
           0.13581245055655017
          ]
         ],
         "hovertemplate": "category_simple=valheim<br>start_time_hour=%{x}<br>duration_hr=%{y:.2f}<br>size=%{marker.size}<br>category=%{customdata[0]}<br>shap_hour=%{customdata[1]:.3f}<br>shap_duration=%{customdata[2]:.3f}<br>shap_game=%{customdata[3]:.3f}<br>combined=%{marker.color:.3f}<extra></extra>",
         "legendgroup": "valheim",
         "marker": {
          "color": {
           "bdata": "exR0mFI30D9I4f686EbHv0jhpOVLjdU/4XpmleZp3T89CkMTyaDGP2ZmSoVKlMa/j8JxnN3Pw7+F6y3PjMfhPwrXn6QVRMc/HoX3UWsP3T+F62XhLU3JvxWujRz/PNA/j8LJvhnqyT9I4f54dlvDv5DCAR6W8cq/MjPV4gnF0T9xPR4dAK3CPwrXw2hNYsE/",
           "dtype": "f8"
          },
          "coloraxis": "coloraxis",
          "size": {
           "bdata": "+lQikxoAGkAAAAAAAAAYQKmq7NohRyFA2tjVNpuUJ0AAAAAAAAAYQAAAAAAAABhAAAAAAAAAGEAkt0Lx0IEsQAAAAAAAABhAICh6lBFMJ0AAAAAAAAAYQDammH4zCRpAAAAAAAAAGEAAAAAAAAAYQAAAAAAAABhAjGBWGcp9HEAAAAAAAAAYQAAAAAAAABhA",
           "dtype": "f8"
          },
          "sizemode": "area",
          "sizeref": 0.1015625,
          "symbol": "circle"
         },
         "mode": "markers",
         "name": "valheim",
         "orientation": "v",
         "showlegend": true,
         "type": "scatter",
         "x": {
          "bdata": "AAAAAAAAM0AAAAAAAAAuQAAAAAAAADdAAAAAAAAANUAAAAAAAAAzQAAAAAAAAC5AAAAAAAAAMEAAAAAAAAA0QAAAAAAAADNAAAAAAAAAN0AAAAAAAAAuQAAAAAAAADNAAAAAAAAAM0AAAAAAAAAuQAAAAAAAAC5AAAAAAAAANUAAAAAAAAAzQAAAAAAAADZA",
          "dtype": "f8"
         },
         "xaxis": "x",
         "y": {
          "bdata": "ZmZmZmZmEkBEREREREQfQERERERERPw/7+7u7u7u8j8RERERERETQJqZmZmZmR5AZmZmZmZmIEDe3d3d3d0HQO/u7u7u7hJA7+7u7u7u5j/e3d3d3d0eQDMzMzMzMxJAAAAAAAAAEUC8u7u7u7sXQGZmZmZm5iFA3t3d3d3d/T8iIiIiIiIVQLy7u7u7u/M/",
          "dtype": "f8"
         },
         "yaxis": "y"
        },
        {
         "customdata": [
          [
           "music",
           -0.1878103488968918,
           0.045993681380641645,
           -0.07618225361860823,
           -0.2179989211348584
          ],
          [
           "fate trigger",
           0.6041746197326574,
           -0.18890916770964394,
           0.0962118765275227,
           0.5114773285505362
          ],
          [
           "retro",
           -0.053438913284917365,
           -0.32358305629197276,
           0.023613842899212614,
           -0.3534081266776775
          ],
          [
           "elden ring",
           -0.2783245221129619,
           0.06669440522440709,
           0.05921113648102619,
           -0.1524189804075286
          ],
          [
           "get to work",
           0.3532258861401351,
           -1.2099052633298562,
           -0.024196627584751697,
           -0.8808760047744727
          ],
          [
           "special events",
           -0.43624393247417176,
           0.04574296120670624,
           0.0762665598129388,
           -0.31423441145452674
          ],
          [
           "wuchang: fallen feathers",
           -0.3005234257003758,
           0.10417760458076372,
           -0.015816041735233738,
           -0.21216186285484584
          ],
          [
           "super mario world",
           0.2711646718089469,
           -0.5379626382747665,
           0.09874386638752185,
           -0.1680541000782978
          ],
          [
           "teenage mutant ninja turtles: the cowabunga collection",
           0.30743900003901214,
           0.04477980703522917,
           0.10131402678554878,
           0.4535328338597901
          ],
          [
           "pokérogue",
           -0.3109272763627814,
           0.08601963751483709,
           0.08336114145466127,
           -0.141546497393283
          ],
          [
           "battlefield 6",
           0.47170829796697944,
           0.11081893371068872,
           0.09547324448649305,
           0.6780004761641613
          ],
          [
           "dark souls: remastered",
           0.31202241432270966,
           0.07332785645907279,
           0.024335092165274547,
           0.40968536294705704
          ],
          [
           "jackbox party packs",
           0.24531797757401363,
           -0.478261759900779,
           -0.05241787442006171,
           -0.2853616567468271
          ],
          [
           "rocket league",
           0.2303894082835177,
           0.017853340731817297,
           0.0031689734407700596,
           0.25141172245610505
          ],
          [
           "marbles on stream",
           -0.26233875028148756,
           0.03270581144839525,
           -0.03257861219579354,
           -0.2622115510288859
          ],
          [
           "the legend of zelda: ocarina of time",
           -0.13895093739265577,
           -0.5737660947787663,
           -0.03583689082995988,
           -0.7485539230013819
          ],
          [
           "supermarket simulator",
           0.7048834159772377,
           0.17739685278851539,
           0.07778362254146487,
           0.9600638913072179
          ],
          [
           "the sims 4",
           0.48120458529941973,
           0.16601763068465517,
           0.16237899952335283,
           0.8096012155074277
          ],
          [
           "the legend of zelda: ocarina of time",
           -0.32368319159955716,
           0.03998426926438697,
           0.04782742350711487,
           -0.2358714988280553
          ],
          [
           "streamer games",
           0.31114558939938436,
           -1.0611868171254173,
           0.06539549633220304,
           -0.6846457313938299
          ],
          [
           "palworld",
           0.2177073417196516,
           0.05881179109739605,
           -0.11292517275549471,
           0.16359396006155294
          ],
          [
           "metroid prime 2: echoes",
           0.40001243505510503,
           0.06461379049811512,
           -0.07047408446320333,
           0.39415214109001684
          ],
          [
           "guilty gear: strive",
           0.27470459314994516,
           0.07418465406168252,
           0.04744648048304953,
           0.3963357276946772
          ],
          [
           "elden ring",
           -0.32063451239606366,
           0.029268370383651928,
           0.04159735289984383,
           -0.2497687891125679
          ],
          [
           "starcraft ii",
           0.5092641401133733,
           0.12451489381928696,
           0.10010419349069707,
           0.7338832274233573
          ],
          [
           "prospector",
           -0.22980822274461388,
           0.05347370673785917,
           0.018704347695456817,
           -0.1576301683112979
          ],
          [
           "elden ring",
           -0.2382812608923996,
           0.0019393730262527243,
           0.037856975349131974,
           -0.1984849125170149
          ],
          [
           "half sword",
           -0.27797350512526464,
           0.04663875940663274,
           -0.030415478038485162,
           -0.26175022375711704
          ],
          [
           "starcraft ii",
           0.37677207904227544,
           0.013698927111108787,
           0.10825461103348061,
           0.4987256171868648
          ],
          [
           "retro",
           0.5660929447133094,
           0.0972170983516844,
           -0.019686819328926505,
           0.6436232237360674
          ],
          [
           "final fantasy viii",
           0.34773100756370695,
           -1.2131161712668836,
           0.10355183600680902,
           -0.7618333276963676
          ],
          [
           "ufo 50",
           -0.27702385213808156,
           0.038914559759941764,
           -0.055929944439558316,
           -0.2940392368176981
          ],
          [
           "waterpark simulator",
           0.6677643777005141,
           0.1635913489048835,
           0.023250322471430992,
           0.8546060490768286
          ],
          [
           "retro",
           0.47730659434455447,
           0.10847208912717178,
           -0.011178120141848921,
           0.5746005633298773
          ],
          [
           "the legend of zelda: tears of the kingdom",
           0.4480656994180754,
           0.0966510039177956,
           -0.03591756664565764,
           0.5087991366902134
          ],
          [
           "battlefield 6",
           0.47932892313052433,
           0.21709476202144287,
           0.09528147215896751,
           0.7917051573109347
          ],
          [
           "hitman world of assassination",
           0.417265111861052,
           0.11586651202698704,
           -0.029067816727329044,
           0.50406380716071
          ],
          [
           "the legend of zelda: ocarina of time",
           -0.3787875674152747,
           0.04601159134239424,
           0.01683896153466776,
           -0.3159370145382127
          ],
          [
           "final fantasy viii",
           0.28851779012882617,
           0.06529735037387581,
           0.03615584243787453,
           0.38997098294057647
          ],
          [
           "the quarry",
           -0.5498813737009186,
           0.09924137353140396,
           0.03040345192508539,
           -0.4202365482444293
          ],
          [
           "music",
           0.24277820570743644,
           0.07386095891240985,
           -0.07187147541204468,
           0.24476768920780162
          ],
          [
           "peak",
           -0.2562111475970596,
           0.0364886849373579,
           -0.043960206343326716,
           -0.2636826690030284
          ],
          [
           "fate trigger",
           0.5239994179148926,
           -0.19927445744164288,
           0.13426882216823288,
           0.4589937826414826
          ],
          [
           "last epoch",
           0.21046535688219592,
           0.09644426712853602,
           0.07788619551225566,
           0.38479581952298764
          ],
          [
           "grounded 2",
           -0.3022251469420735,
           0.04519144458579831,
           -0.0254688321048161,
           -0.28250253446109125
          ],
          [
           "waterpark simulator",
           0.7039280785317533,
           0.1778248437482398,
           0.022094050279411023,
           0.9038469725594042
          ],
          [
           "balatro",
           -0.06788859238207806,
           -0.33522593000438067,
           0.03567116670717951,
           -0.3674433556792792
          ],
          [
           "deltarune",
           0.6845615277159959,
           0.2756875205389224,
           0.1684352736454457,
           1.128684321900364
          ],
          [
           "rocket league",
           -0.2425635322352173,
           -0.7290571885067039,
           -0.06533878514776006,
           -1.0369595058896812
          ],
          [
           "fate trigger",
           -0.11377054458018393,
           -0.6483165187423583,
           0.07681963854352944,
           -0.6852674247790128
          ],
          [
           "the lord of the rings: gollum",
           0.281633155841846,
           0.04632058829360176,
           0.04159735289984383,
           0.3695510970352916
          ],
          [
           "pokémon",
           0.6125331482297043,
           0.005753340459195897,
           -0.020261071688728406,
           0.5980254170001718
          ],
          [
           "the legend of zelda: ocarina of time",
           -0.27716240007604936,
           -0.01611900709278416,
           0.04450868751737289,
           -0.24877271965146067
          ],
          [
           "hollow knight",
           0.36172618202283047,
           0.1953535839007236,
           0.006769826124364045,
           0.5638495920479181
          ],
          [
           "the legend of zelda: tears of the kingdom",
           0.6855454325539176,
           0.2314989000861533,
           -0.06375505260424688,
           0.853289280035824
          ],
          [
           "marbles on stream",
           -0.24555603714834434,
           0.06676678176037967,
           -0.033536466711666435,
           -0.2123257220996311
          ],
          [
           "peak",
           -0.27010019301611465,
           0.07893810062902049,
           -0.02223126112483442,
           -0.2133933535119286
          ],
          [
           "battlefield 6",
           0.40498901828599626,
           -0.1553512729733484,
           0.07809446211205795,
           0.3277322074247058
          ],
          [
           "the outlast trials",
           -0.029042052945587784,
           -0.4801771707317675,
           0.008811421793652699,
           -0.5004078018837026
          ],
          [
           "noita",
           0.6258748393511633,
           0.08433625654790376,
           -0.05599583748844452,
           0.6542152584106226
          ],
          [
           "tom clancy's rainbow six siege x",
           -0.541392853941652,
           0.0768857399513945,
           -0.008851157205644994,
           -0.47335827119590257
          ],
          [
           "the legend of zelda: breath of the wild",
           0.6020458436827175,
           0.09907235612510704,
           0.020324716820614413,
           0.721442916628439
          ],
          [
           "the quarry",
           -0.5064057844481431,
           -0.0017774049751460553,
           0.031405547378526535,
           -0.4767776420447626
          ],
          [
           "elden ring",
           -0.3055386997538153,
           0.016232658238732257,
           0.026075768760638312,
           -0.2632302727544447
          ],
          [
           "special events",
           -0.19766876277979464,
           0.012264578962349332,
           0.1243249076930806,
           -0.0610792761243647
          ],
          [
           "music",
           0.1600197180386749,
           0.01516189953981666,
           -0.07589947473810753,
           0.09928214284038404
          ],
          [
           "slackjaw",
           0.7026925883727381,
           0.18272652444953563,
           -0.008991300567286089,
           0.8764278122549876
          ],
          [
           "super mario world",
           0.6222262944205431,
           -0.08298515906557441,
           0.0952605499571655,
           0.6345016853121341
          ],
          [
           "hitman world of assassination",
           0.5062786517327186,
           0.11999109595672053,
           -0.026609604216646404,
           0.5996601434727927
          ],
          [
           "supermarket simulator",
           0.7089116196654505,
           0.17550221652840264,
           0.07818408465012908,
           0.9625979208439822
          ],
          [
           "grounded 2",
           -0.42877807762124576,
           0.11286072893766687,
           -0.05410583814431447,
           -0.37002318682789337
          ],
          [
           "special events",
           -0.247155539522646,
           0.0912774667982012,
           0.10834326433076058,
           -0.04753480839368421
          ],
          [
           "metal gear solid: peace walker",
           -0.31167795744899196,
           0.05852566019864753,
           -0.05231996012036689,
           -0.3054722573707113
          ],
          [
           "daemon x machina: titanic scion",
           0.4509479515987914,
           0.04819344081479358,
           0.08068415211630053,
           0.5798255445298856
          ],
          [
           "pokémon",
           -0.21781994536635466,
           0.08340004750236403,
           0.003192762985127047,
           -0.13122713487886356
          ],
          [
           "mega man 11",
           -0.25593357384059345,
           0.056376065365038815,
           -0.06855664558941499,
           -0.26811415406496963
          ],
          [
           "the legend of zelda: tears of the kingdom",
           -0.22542196686961688,
           0.12621126283018383,
           -0.006535182112129405,
           -0.10574588615156245
          ],
          [
           "until dawn",
           -0.500301775028347,
           -0.011604069469613024,
           0.022924124934943394,
           -0.48898171956301667
          ],
          [
           "rocket league",
           0.7298021805740427,
           0.21841247775009834,
           -0.038899996049003675,
           0.9093146622751374
          ],
          [
           "marbles on stream",
           -0.2468058806762565,
           0.05735171332264145,
           -0.01992990708531579,
           -0.20938407443893084
          ],
          [
           "mortal kombat 11",
           0.5275243379577296,
           -0.2256451720756013,
           -0.11162359873298555,
           0.1902555671491427
          ],
          [
           "blue prince",
           0.24859414801670937,
           -0.08772444284637458,
           0.06718748837942258,
           0.22805719354975734
          ],
          [
           "metroid prime 3: corruption",
           0.4165946367190918,
           0.10522825583291706,
           -0.08324593651806936,
           0.43857695603393954
          ],
          [
           "battlefield 6",
           0.607120551400003,
           0.19775122678489424,
           0.08204993225168437,
           0.8869217104365815
          ],
          [
           "factorio",
           -0.1079348659014795,
           -0.4421055582095869,
           0.022711369734606704,
           -0.5273290543764596
          ],
          [
           "warcraft iii",
           0.19028189268545248,
           -0.4838446672793361,
           0.03429987056530081,
           -0.2592629040285828
          ],
          [
           "palworld",
           -0.24334018941270188,
           0.08287608427868691,
           -0.11591886810492724,
           -0.27638297323894223
          ],
          [
           "battlefield 6",
           0.7205061344924616,
           0.13128175292164088,
           0.08400655043835287,
           0.9357944378524554
          ],
          [
           "mario kart world",
           -0.2696725560218329,
           -0.029186141841928474,
           -0.08226530591608025,
           -0.38112400377984157
          ],
          [
           "elden ring: nightreign",
           0.3724667054164456,
           0.1600600979279261,
           0.01727464727300685,
           0.5498014506173786
          ],
          [
           "peak",
           0.5022755624121055,
           0.13631822641458713,
           -0.03420857166638598,
           0.6043852171603066
          ],
          [
           "elden ring: nightreign",
           0.6024438207712955,
           -0.12338361936272121,
           0.004157746696728281,
           0.4832179481053026
          ],
          [
           "final fantasy viii",
           0.35858010258816647,
           0.07715408541786019,
           0.0858546211454086,
           0.5215888091514352
          ],
          [
           "destiny 2",
           0.4837435726050171,
           0.17411349006986712,
           0.12789181266794913,
           0.7857488753428333
          ],
          [
           "the legend of zelda: ocarina of time",
           -0.2690687462297501,
           0.03769229788798839,
           0.022909573426004498,
           -0.2084668749157572
          ],
          [
           "super mario odyssey",
           0.20440131004434078,
           0.036364345211768526,
           0.06380995597806759,
           0.3045756112341769
          ],
          [
           "waterpark simulator",
           0.6789715278637596,
           0.16537009086692706,
           0.022586777642427478,
           0.8669283963731141
          ],
          [
           "retro",
           -0.1386131960671628,
           0.1764486739685526,
           0.026376985251554286,
           0.06421246315294409
          ],
          [
           "geoguessr",
           0.3586900795373367,
           0.0961175850359723,
           0.022471255826530978,
           0.47727892039984
          ],
          [
           "terraria",
           -0.23864037244115024,
           0.056002337310346775,
           0.005533595837187022,
           -0.17710443929361644
          ],
          [
           "the legend of zelda: tears of the kingdom",
           0.5485478998615873,
           0.1553821990743745,
           -0.01646110903820954,
           0.6874689898977523
          ],
          [
           "sonic x shadow generations",
           0.6804436500032898,
           0.21923658016719855,
           0.11330269882630091,
           1.012982928996789
          ],
          [
           "super smash bros. ultimate",
           0.5089704870560672,
           0.15831697409041226,
           0.03856109459768049,
           0.70584855574416
          ],
          [
           "factorio",
           -0.15846363712102174,
           0.16279332159785553,
           0.022149994584033265,
           0.02647967906086706
          ],
          [
           "last epoch",
           0.11615090733859688,
           -0.517146342280903,
           0.04563384368026163,
           -0.3553615912620444
          ],
          [
           "r.e.p.o.",
           0.2701204300066456,
           0.1086054954334395,
           -0.005499556213617324,
           0.3732263692264678
          ],
          [
           "supermarket simulator",
           0.6934149365028134,
           0.17283651386795099,
           0.07844135561026633,
           0.9446928059810307
          ],
          [
           "soulframe",
           0.14751882562588434,
           -0.7961723697365233,
           -0.02785538633703254,
           -0.6765089304476715
          ],
          [
           "final fantasy viii",
           0.3668915695452597,
           0.08732038244430441,
           0.020852032334078105,
           0.4750639843236422
          ],
          [
           "supermarket simulator",
           0.7039608565892559,
           0.18117779777094256,
           0.07867557995952666,
           0.9638142343197251
          ],
          [
           "final fantasy ix",
           0.3175145704089664,
           -0.016397767597518396,
           0.0793505624611862,
           0.38046736527263425
          ],
          [
           "grounded",
           0.42069530208245853,
           -0.15243292232160457,
           -0.046994438695255665,
           0.22126794106559833
          ],
          [
           "final fantasy ix",
           0.22704620612435975,
           0.10023980213474715,
           0.08621130523039028,
           0.4134973134894972
          ],
          [
           "mario kart world",
           0.4831842142570531,
           0.179033117130748,
           -0.06038122236379422,
           0.6018361090240069
          ],
          [
           "juice galaxy",
           -0.21821075816929805,
           0.03824014185869601,
           -0.043026891729678024,
           -0.22299750804028007
          ],
          [
           "super smash bros. ultimate",
           0.3326169400836807,
           0.06563267377496232,
           0.09728220124263316,
           0.49553181510127614
          ],
          [
           "fortnite",
           0.6090424502725363,
           0.14954840377671644,
           -0.04443130407249555,
           0.7141595499767572
          ],
          [
           "drag x drive",
           -0.25643400408036543,
           -0.02794105892186053,
           0.012775422981358133,
           -0.27159964002086784
          ],
          [
           "elden ring",
           0.6845615277159959,
           0.2756875205389224,
           0.16434751763707026,
           1.1245965658919885
          ],
          [
           "waterpark simulator",
           0.667047893756535,
           0.1636576422827784,
           0.022944729443697725,
           0.8536502654830112
          ],
          [
           "pokémon",
           -0.5442424966860563,
           0.00033309328835457564,
           -0.014410342028131708,
           -0.5583197454258334
          ],
          [
           "sonic adventure dx: director's cut",
           -0.40676128554798197,
           0.14007544982247055,
           -0.0818022615206428,
           -0.3484880972461542
          ],
          [
           "elden ring",
           -0.3358062689285725,
           0.037019148378167305,
           0.04159735289984383,
           -0.2571897676505614
          ],
          [
           "pokémon white version",
           -0.2596731094783172,
           0.14373655389121268,
           0.006700682919472456,
           -0.10923587266763204
          ],
          [
           "pokémon white version",
           -0.18697995279566385,
           0.027972929653478786,
           -0.0032355345133692026,
           -0.16224255765555426
          ],
          [
           "blue prince",
           0.25765126336948013,
           0.07088811082416215,
           0.045685108908219266,
           0.3742244831018615
          ],
          [
           "metroid prime 2: echoes",
           -0.11908406239468604,
           0.1781569745251909,
           -0.0681463647657074,
           -0.009073452635202553
          ],
          [
           "hades ii",
           0.2074125353700947,
           0.05586310764716473,
           -0.04513103694422171,
           0.2181446060730377
          ],
          [
           "music",
           0.19015619555051672,
           0.08566998556547332,
           -0.08280431860359386,
           0.1930218625123962
          ],
          [
           "metroid prime 3: corruption",
           0.44409024192980723,
           0.08417372741154396,
           -0.0823419299913803,
           0.44592203934997093
          ],
          [
           "blue prince",
           0.34876695893559373,
           -0.008729855382116512,
           0.028877479679649695,
           0.3689145832331269
          ],
          [
           "jackbox party packs",
           -0.15866757192881778,
           0.1720105287298793,
           -0.037550996104255316,
           -0.024208039303193804
          ],
          [
           "metal gear solid 3 snake eater",
           -0.36937735852668996,
           0.0744224574213149,
           -0.05485480403760448,
           -0.3498097051429795
          ],
          [
           "metal gear solid",
           -0.4091888699278934,
           -0.04248411159438547,
           -0.04937034626491368,
           -0.5010433277871925
          ],
          [
           "pokémon scarlet/violet",
           0.3923070368391927,
           0.20939447945915163,
           -0.018365365125937387,
           0.583336151172407
          ],
          [
           "elden ring: nightreign",
           0.6901296536962036,
           0.24327138844819274,
           0.11002304551540874,
           1.043424087659805
          ],
          [
           "rocket league",
           0.7097967416260508,
           0.137481884577428,
           -0.043315223929239435,
           0.8039634022742393
          ],
          [
           "super mario odyssey",
           0.17968911355943418,
           0.08251869031810202,
           0.12246833848243113,
           0.3846761423599673
          ],
          [
           "blue prince",
           -0.2808033752150368,
           0.09755867322906851,
           0.04629316229489632,
           -0.13695153969107193
          ],
          [
           "half sword",
           0.6941901231463998,
           0.18225508905772586,
           -0.033142834489117375,
           0.8433023777150084
          ],
          [
           "minecraft",
           0.4132277879904723,
           -0.12341453343513421,
           -0.07784894083975814,
           0.21196431371557994
          ],
          [
           "fortnite",
           0.34750339425343557,
           -1.1955052862700541,
           -0.035103925594594326,
           -0.8831058176112129
          ],
          [
           "metal gear solid 2: sons of liberty",
           -0.40290564262890255,
           -0.013483519601868466,
           -0.04411246091127396,
           -0.46050162314204496
          ],
          [
           "warcraft iii",
           0.36178788026503755,
           0.048665011121483984,
           -0.038736331214895475,
           0.371716560171626
          ],
          [
           "music",
           0.20346280118683352,
           0.11047972025291529,
           -0.06684154108399526,
           0.24710098035575356
          ],
          [
           "mario kart world",
           0.505498778250767,
           0.1504675292276079,
           -0.058046241729171014,
           0.5979200657492038
          ],
          [
           "the legend of zelda: tears of the kingdom",
           0.453926880559884,
           0.09897922581643798,
           0.005322047950467095,
           0.5582281543267891
          ],
          [
           "soulframe",
           -0.1985911569360178,
           0.0901687346217659,
           -0.01906724388769362,
           -0.12748966620194552
          ],
          [
           "grounded 2",
           0.7259313182975166,
           0.18157051148591563,
           -0.023368108039721846,
           0.8841337217437103
          ],
          [
           "hearthstone",
           0.39932086374086795,
           0.02235526400996605,
           0.07981267656316049,
           0.5014888043139945
          ],
          [
           "mafia: the old country",
           -0.4838538600958418,
           0.09545387617428787,
           -0.015370791484601796,
           -0.40377077540615575
          ],
          [
           "arma reforger",
           -0.4631637333490653,
           0.0651131737139076,
           0.10419681002735161,
           -0.2938537496078061
          ],
          [
           "warcraft iii",
           0.1415848577261204,
           -0.43474748254579026,
           0.010755845924140885,
           -0.282406778895529
          ],
          [
           "metal gear solid 4: guns of the patriots",
           -0.3076129827537807,
           0.022325887782499193,
           -0.06075729660340585,
           -0.3460443915746873
          ],
          [
           "retro",
           -0.12953646502050106,
           0.15695152226369827,
           0.026536245997995138,
           0.05395130324119234
          ],
          [
           "amnesia: the dark descent",
           -0.2890900774352485,
           0.03627898368577007,
           0.031932173849781975,
           -0.22087891989969644
          ],
          [
           "final fantasy ix",
           0.2078295879054349,
           0.07250977184681688,
           0.07581100204028189,
           0.3561503617925337
          ],
          [
           "the legend of zelda: tears of the kingdom",
           -0.14475884853862225,
           0.14625284913869108,
           0.00515855239937082,
           0.006652552999439643
          ],
          [
           "grounded 2",
           -0.42215279521420596,
           0.11199528069002554,
           -0.049549335899064316,
           -0.3597068504232447
          ],
          [
           "until dawn",
           -0.3799208787770476,
           0.030816554297925906,
           0.024903391228290276,
           -0.32420093325083144
          ],
          [
           "elden ring: nightreign",
           0.49480292152089533,
           0.16098786689777625,
           0.008612221388320905,
           0.6644030098069924
          ],
          [
           "battlefield 6",
           0.28801734881824814,
           0.05469132799014915,
           0.01798620959976688,
           0.36069488640816416
          ],
          [
           "the legend of zelda: ocarina of time",
           -0.371917887373711,
           0.11274542976403609,
           -0.060447806760203095,
           -0.319620264369878
          ],
          [
           "metal gear solid 3 snake eater",
           -0.37642411078559235,
           0.0744648660265375,
           -0.045787054606480526,
           -0.34774629936553536
          ],
          [
           "elden ring",
           -0.220326118421508,
           -0.7600071447121445,
           0.13992840942461043,
           -0.840404853709042
          ],
          [
           "pokémon scarlet/violet",
           -0.5173870089650154,
           0.13333616716146934,
           -0.02755849909153767,
           -0.4116093408950838
          ],
          [
           "battlefield v",
           0.4314014545903774,
           -0.156877347396221,
           0.06349490905180573,
           0.3380190162459621
          ],
          [
           "wuchang: fallen feathers",
           0.43528292543138375,
           -0.1327157303900458,
           0.031424806900322434,
           0.3339920019416604
          ],
          [
           "metal gear 2: solid snake",
           -0.34849371073243673,
           -0.001978827671846375,
           -0.04032929822104052,
           -0.39080183662532364
          ],
          [
           "the legend of zelda: tears of the kingdom",
           0.4414865539316088,
           0.10471369866339955,
           -0.010609196966979652,
           0.5355910556280287
          ],
          [
           "mario kart world",
           -0.08572969182423548,
           -0.37076913479191714,
           -0.0654839236906264,
           -0.521982750306779
          ],
          [
           "final fantasy ix",
           0.3828105990670156,
           0.06627776801033178,
           0.05326087344787084,
           0.5023492405252181
          ],
          [
           "grounded 2",
           -0.3064314503589412,
           0.12573128234944306,
           -0.035681442853529005,
           -0.21638161086302715
          ],
          [
           "hades ii",
           0.2852024067705497,
           -0.16588160218088888,
           -0.042262191326008176,
           0.07705861326365265
          ],
          [
           "final fantasy viii",
           -0.08539773189870176,
           -0.08090627904311987,
           0.012106318587320856,
           -0.15419769235450076
          ],
          [
           "the legend of zelda: tears of the kingdom",
           0.5941541892848909,
           0.10184290987323039,
           0.019848080720985307,
           0.7158451798791067
          ],
          [
           "warcraft iii",
           0.32145564422942696,
           0.09683842198719503,
           0.0284587746753823,
           0.44675284089200434
          ],
          [
           "peak",
           -0.30018045801785775,
           0.08252009056843235,
           -0.03533690042910166,
           -0.25299726787852705
          ],
          [
           "plateup!",
           -0.3586894927575486,
           -0.05806495481170714,
           -0.08726742157712579,
           -0.5040218691463815
          ],
          [
           "battlefield 6",
           0.7512088921183022,
           0.20769984839716926,
           0.08101254896377214,
           1.0399212894792436
          ],
          [
           "the king is watching",
           -0.44733584724832326,
           0.046368510513566434,
           0.01143647129414603,
           -0.3895308654406108
          ],
          [
           "metal gear solid 4: guns of the patriots",
           0.4156032405886799,
           0.10580452772264834,
           -0.05491153991839383,
           0.4664962283929345
          ],
          [
           "retro",
           0.39647446206654424,
           0.10219065091747324,
           -0.0006056104926392436,
           0.49805950249137826
          ],
          [
           "the legend of zelda: tears of the kingdom",
           0.30206928808940575,
           -0.7479965746245579,
           -0.0014074800885282457,
           -0.44733476662368044
          ],
          [
           "elden ring: nightreign",
           -0.2523365612095222,
           0.09957009445002768,
           0.11706663652905264,
           -0.035699830230441876
          ],
          [
           "killing floor iii",
           0.2552488410519436,
           0.18822182793926914,
           -0.001963595985434949,
           0.44150707300577785
          ],
          [
           "tiny tina's wonderlands",
           0.22056508966372348,
           -0.4942352296991157,
           0.012344067151425407,
           -0.26132607288396686
          ],
          [
           "lockdown protocol",
           0.6603807705070358,
           0.18960197434062137,
           -0.0042101682431530205,
           0.8457725766045041
          ],
          [
           "super mario world",
           -0.24806975966668687,
           -0.016419216473586858,
           0.10088850483298302,
           -0.16360047130729072
          ],
          [
           "super mario world",
           0.3208688244316727,
           -0.1362115464103408,
           0.10767285002511925,
           0.29233012804645114
          ],
          [
           "super mario odyssey",
           0.46765506770461795,
           0.15424569061840884,
           0.11303177195601165,
           0.7349325302790385
          ],
          [
           "brave fencer musashi",
           -0.2487650871789083,
           0.026735981809324585,
           0.009414250354166143,
           -0.21261485501541755
          ],
          [
           "shenmue",
           -0.4652916939149145,
           0.058114779852330684,
           -0.04135256701963954,
           -0.44852948108222335
          ],
          [
           "pokémon",
           -0.5735130844521337,
           -0.014721319254022092,
           -0.007332968105329201,
           -0.595567371811485
          ],
          [
           "peak",
           -0.2612653839075938,
           0.059607416045037095,
           -0.04632482536602765,
           -0.24798279322858435
          ],
          [
           "stomach",
           0.6907339512411272,
           0.21213713110540994,
           0.07993241271353327,
           0.9828034950600704
          ],
          [
           "the legend of zelda: tears of the kingdom",
           0.47465917250723577,
           0.08793324805970769,
           -0.012352652116678655,
           0.5502397684502648
          ],
          [
           "amnesia: the dark descent",
           -0.2877724873489933,
           0.07186116468568798,
           0.03949001085362397,
           -0.17642131180968135
          ],
          [
           "streamer games",
           0.4016747540369397,
           -0.13293226978275924,
           0.07146102263301145,
           0.3402035068871919
          ],
          [
           "asmr",
           0.4378940731554758,
           0.11434024073532782,
           0.0548924136190908,
           0.6071267275098944
          ],
          [
           "mario kart world",
           -0.3420040687342407,
           0.09144929596339352,
           -0.09293085675570183,
           -0.34348562952654904
          ],
          [
           "super mario odyssey",
           0.23658507141517476,
           0.19256621201871893,
           0.03168764703790657,
           0.46083893047180025
          ],
          [
           "super mario odyssey",
           0.3038296878320398,
           0.046847761310928035,
           0.13155721177579835,
           0.4822346609187662
          ],
          [
           "left 4 dead 2",
           0.35345349945040655,
           -1.220295120876981,
           -0.018910093682352455,
           -0.8857517151089268
          ],
          [
           "blue prince",
           0.12554492861643665,
           -0.38646198247093705,
           0.043685679034679195,
           -0.2172313748198212
          ],
          [
           "the king is watching",
           -0.21673739016172477,
           0.11942959077598062,
           -0.0028689350106287747,
           -0.10017673439637294
          ],
          [
           "the legend of zelda: ocarina of time",
           0.2882399772072677,
           -0.5313678530359175,
           0.01915707088308409,
           -0.2239708049455657
          ],
          [
           "retro",
           0.31457701638690194,
           0.08394536415114999,
           0.009217898519709706,
           0.40774027905776167
          ],
          [
           "palworld",
           0.2704048708942719,
           0.11595225012104493,
           -0.10871215680614114,
           0.27764496420917567
          ],
          [
           "mario kart world",
           0.2082136552716838,
           0.18115639299794567,
           -0.042967463026870975,
           0.3464025852427585
          ],
          [
           "until dawn",
           -0.41207876451604536,
           0.018265632189577444,
           0.005723665006225929,
           -0.38808946732024197
          ],
          [
           "music",
           0.30831148356199267,
           0.08253432788013015,
           -0.0789145874301903,
           0.3119312240119325
          ],
          [
           "supervive",
           -0.39563748099142687,
           0.11565534178400412,
           0.04725248735980131,
           -0.23272965184762145
          ],
          [
           "deadlock",
           -0.48174753788043745,
           -0.0074896851647645235,
           0.03633678018872161,
           -0.45290044285648035
          ],
          [
           "the legend of zelda: ocarina of time",
           -0.1987916642043274,
           -0.07776743071932288,
           -0.040379943108418956,
           -0.31693903803206924
          ],
          [
           "hitman world of assassination",
           -0.12622378635045606,
           -0.16335591519593437,
           -0.04349890685058199,
           -0.33307860839697245
          ],
          [
           "pokérogue",
           -0.2862993234040914,
           0.12523631889198442,
           0.03388356211595237,
           -0.12717944239615464
          ],
          [
           "battlefield 6",
           0.4258440049167257,
           0.15660329560399988,
           0.08553526594827417,
           0.6679825664689998
          ],
          [
           "static dread: the lighthouse",
           0.6853178192436462,
           0.22415811656974255,
           0.01810809157323092,
           0.9275840273866197
          ],
          [
           "battlefield v",
           -0.2418502312176861,
           -0.01970960999955423,
           0.10153986806166358,
           -0.1600199731555767
          ],
          [
           "super mario party jamboree",
           -0.260512195964111,
           0.0651151298941113,
           0.09183012424618937,
           -0.10356694182381034
          ],
          [
           "metroid prime",
           0.2521893617208116,
           -0.4704632229852723,
           0.05480199492711108,
           -0.16347186633734967
          ],
          [
           "palworld",
           0.14987484095618128,
           -0.5659917463114834,
           -0.0761515061557293,
           -0.4922684115110314
          ],
          [
           "abiotic factor",
           0.5008864134320175,
           -0.19590966580901295,
           0.11090550821623765,
           0.4158822558392422
          ],
          [
           "retro",
           0.5065370286151301,
           0.10463565965183079,
           0.003301669243955985,
           0.6144743575109168
          ],
          [
           "the outlast trials",
           0.2499284537055064,
           0.10646806832599395,
           0.02733182908501476,
           0.3837283511165151
          ],
          [
           "metal gear solid",
           0.38604333146300635,
           -0.06324787895486224,
           -0.05004792238818481,
           0.27274753011995934
          ],
          [
           "mario kart world",
           0.48830795159679835,
           0.14221983852796258,
           -0.058530556026380506,
           0.5719972340983804
          ],
          [
           "the legend of zelda: tears of the kingdom",
           0.6326286580320448,
           0.14494677819078788,
           -0.03329949430888519,
           0.7442759419139474
          ],
          [
           "wuchang: fallen feathers",
           -0.27407390507753004,
           0.00043841363629326224,
           0.0026298717164900155,
           -0.27100561972474674
          ],
          [
           "retro",
           0.29742893190123143,
           0.061554692109348254,
           0.005779375585261732,
           0.36476299959584146
          ],
          [
           "metal gear solid 4: guns of the patriots",
           -0.22999789296125528,
           0.04441441064991523,
           -0.0544847292319173,
           -0.24006821154325736
          ],
          [
           "mario kart world",
           0.5454895521368599,
           0.18596096457506064,
           -0.07086545866797678,
           0.6605850580439437
          ],
          [
           "blue prince",
           -0.13752568801603046,
           0.10210944005841156,
           0.036858307215152306,
           0.0014420592575334068
          ],
          [
           "tenable",
           0.27256548022065546,
           0.08374330397055019,
           0.10493353579018731,
           0.461242319981393
          ],
          [
           "retro",
           0.4034728403709596,
           0.0911911559139844,
           0.022525921274209396,
           0.5171899175591534
          ],
          [
           "grounded",
           0.5375194869557163,
           -0.21753432449535468,
           -0.0247102204663679,
           0.2952749419939937
          ],
          [
           "dark souls: remastered",
           -0.3147895956214052,
           0.054091728817438706,
           0.026770144189940767,
           -0.23392772261402567
          ],
          [
           "retro",
           0.6810035396990134,
           0.17751570076681675,
           -0.0818022615206428,
           0.7767169789451873
          ],
          [
           "blue prince",
           0.2908816290725372,
           0.04524138983397279,
           0.04199975087773055,
           0.37812276978424053
          ],
          [
           "mafia: the old country",
           -0.4875363366899546,
           0.09889382454915903,
           -0.01332756899879314,
           -0.4019700811395887
          ],
          [
           "minecraft",
           0.4156584262289107,
           -0.0770544778223848,
           -0.07267551169847138,
           0.26592843670805455
          ],
          [
           "half sword",
           -0.2866365696163848,
           0.040475109286489896,
           -0.030305048336158505,
           -0.2764665086660534
          ],
          [
           "get to work",
           -0.1291441215504892,
           -0.752616914473474,
           -0.04308929200982675,
           -0.9248503280337899
          ],
          [
           "blue prince",
           0.2419615456755855,
           -0.504366591438884,
           0.043685679034679195,
           -0.2187193667286193
          ],
          [
           "warframe",
           -0.22144203020608985,
           0.006163545027957298,
           0.03686869666446,
           -0.17840978851367256
          ],
          [
           "starcraft ii",
           -0.10642263488727621,
           -0.09831902946840274,
           0.07661192789906636,
           -0.12812973645661258
          ],
          [
           "irl",
           -0.3756377481878735,
           0.10510421628248878,
           -0.039234079680754805,
           -0.3097676115861395
          ],
          [
           "golf with your friends",
           0.6859539504128043,
           0.18174055052397306,
           0.11002304551540874,
           0.9777175464521861
          ],
          [
           "mario kart world",
           0.505872621035669,
           0.16430914665805177,
           -0.06205011629848741,
           0.6081316513952333
          ],
          [
           "waterpark simulator",
           0.6934392168693012,
           0.15876919612230267,
           0.009873256603605114,
           0.862081669595209
          ],
          [
           "battlefield 2042",
           0.4093598266565823,
           -0.22124250854656566,
           0.04192365184775554,
           0.2300409699577722
          ],
          [
           "oddsparks: an automation adventure",
           -0.16633252700441517,
           0.06580277563421986,
           -0.060507925717392934,
           -0.16103767708758823
          ],
          [
           "hollow knight",
           0.5677502968470799,
           -0.1487244236905826,
           0.009495752594375517,
           0.4285216257508728
          ],
          [
           "the legend of zelda: ocarina of time",
           -0.23286255200451705,
           -0.2166134086655802,
           0.049123589787632226,
           -0.40035237088246506
          ],
          [
           "fallout 4",
           -0.2672099752980284,
           0.03096877789706923,
           0.006447576428763568,
           -0.22979362097219563
          ],
          [
           "supermarket simulator",
           0.6887033541087294,
           0.19998754082887898,
           0.07890577142243274,
           0.9675966663600412
          ],
          [
           "wuchang: fallen feathers",
           -0.10925073325663107,
           -0.4354907698102761,
           0.01764152898977045,
           -0.5270999740771367
          ],
          [
           "geoguessr",
           0.35139648327138273,
           0.08542646057670936,
           0.020637307648430577,
           0.45746025149652264
          ],
          [
           "destiny 2",
           -0.2348046091530705,
           -0.06686586477502715,
           0.1529741734918207,
           -0.14869630043627696
          ],
          [
           "path of exile 2",
           -0.2533735538949259,
           0.09931848435255233,
           -0.03617935388116166,
           -0.19023442342353522
          ],
          [
           "the legend of zelda: tears of the kingdom",
           -0.20763595938915386,
           0.06259379578114022,
           0.005211269876454026,
           -0.1398308937315596
          ],
          [
           "mario kart world",
           -0.08910863642726326,
           -0.33811225490353536,
           -0.06019246571115218,
           -0.48741335704195077
          ],
          [
           "super mario odyssey",
           -0.25719448427844327,
           0.09588955759769306,
           0.025775951158721,
           -0.1355289755220292
          ],
          [
           "super mario world",
           0.20334308739402332,
           0.16324159194366075,
           0.09122054440551437,
           0.45780522374319843
          ],
          [
           "ovis loop",
           0.16224688525195233,
           0.03469308222294785,
           0.04245706144487485,
           0.23939702891977502
          ],
          [
           "hades ii",
           -0.23390716860594693,
           0.014138665194550412,
           -0.05775152056477964,
           -0.27752002397617614
          ],
          [
           "titan quest ii",
           -0.375723333354108,
           0.01588681264780462,
           0.03240372000494972,
           -0.32743280070135367
          ],
          [
           "the legend of zelda: tears of the kingdom",
           0.5736745250457898,
           0.12709026204538532,
           -0.015993342249421404,
           0.6847714448417537
          ],
          [
           "pokémon",
           -0.5845082296786132,
           0.0010239824454765767,
           -0.02404775140341371,
           -0.6075319986365504
          ],
          [
           "palworld",
           0.2533992512483383,
           -0.6888548415954574,
           -0.09836463298648596,
           -0.5338202233336051
          ],
          [
           "kingdom hearts hd 1.5 + 2.5 remix",
           0.34349439543671906,
           0.09261313309601973,
           0.021424892378854567,
           0.4575324209115934
          ],
          [
           "retro",
           0.2912867429922335,
           0.0964165966620203,
           0.015738569007953628,
           0.4034419086622074
          ],
          [
           "software and game development",
           -0.26595464983780404,
           0.11862168723113427,
           0.033928290738840586,
           -0.1134046718678292
          ],
          [
           "final fantasy ix",
           0.3818311771936715,
           0.11820042565435869,
           0.06361695260624402,
           0.5636485554542742
          ],
          [
           "prospector",
           -0.19187883994658478,
           0.01763810891250614,
           0.03345899214968085,
           -0.1407817388843978
          ],
          [
           "marbles on stream",
           -0.274438598168781,
           0.0790065922489157,
           -0.008404113615397365,
           -0.20383611953526268
          ],
          [
           "guilty as sock!",
           -0.2487271907646209,
           0.06125583519460633,
           -0.0633691683365032,
           -0.2508405239065178
          ],
          [
           "retro",
           0.4792212802998256,
           0.10495596552151255,
           -0.01274436133215204,
           0.571432884489186
          ],
          [
           "the sims 4",
           0.18453859277098672,
           0.06067415319615975,
           0.020707138756115455,
           0.26591988472326195
          ],
          [
           "blue prince",
           0.18409484153613448,
           0.037758717149263245,
           0.03649039162090048,
           0.2583439503062982
          ],
          [
           "battlefield 6",
           0.474015692481189,
           0.21949530309415421,
           0.09463964536378626,
           0.7881506409391295
          ],
          [
           "mafia: the old country",
           -0.5255308445030823,
           0.0993642075866228,
           -0.019243244514800608,
           -0.4454098814312601
          ],
          [
           "dark souls: remastered",
           0.3114466765616089,
           0.0245347600907553,
           0.03368784773396328,
           0.36966928438632746
          ],
          [
           "clair obscur: expedition 33",
           0.22921336370054632,
           0.1495831259773695,
           0.061798671218566595,
           0.4405951608964824
          ],
          [
           "the outlast trials",
           -0.45566154657106384,
           0.0915588908828795,
           -0.06375505260424688,
           -0.4278577082924312
          ],
          [
           "retro",
           0.3928355940419715,
           0.06620261363219469,
           0.02437751310411841,
           0.4834157207782846
          ],
          [
           "retro",
           0.24445784440496937,
           0.08801317979057785,
           0.009008978251367808,
           0.341480002446915
          ],
          [
           "hitman world of assassination",
           0.29303574160614515,
           -0.6381103309938772,
           -0.024840990441152826,
           -0.36991557982888484
          ],
          [
           "irl",
           0.4021242911479203,
           -0.03814029706234578,
           -0.037175460839062,
           0.32680853324651254
          ],
          [
           "party animals",
           -0.2881956589512993,
           0.061580404182896016,
           -0.04972981097991578,
           -0.2763450657483191
          ],
          [
           "daemon x machina: titanic scion",
           -0.30866485711070707,
           0.06136725860676961,
           0.07730356278014369,
           -0.16999403572379376
          ],
          [
           "dark souls: remastered",
           0.23984866386977954,
           0.055921308831311765,
           0.10623594213975593,
           0.40200591484084724
          ],
          [
           "mario party 2",
           -0.09982097544008867,
           -0.33701124287152195,
           -0.06003944414784201,
           -0.49687166245945263
          ],
          [
           "hearthstone",
           0.553028682913282,
           0.06872361270332476,
           0.0967811430967413,
           0.718533438713348
          ],
          [
           "factorio",
           -0.16665891460841523,
           0.08653798696934245,
           0.025601458998862653,
           -0.05451946864021012
          ],
          [
           "blue prince",
           0.23011876387288793,
           -0.5916024673799984,
           0.0377762571797939,
           -0.32370744632731663
          ],
          [
           "mario kart world",
           0.5500001024527592,
           -0.20588350940961392,
           -0.11817939457250759,
           0.2259371984706377
          ],
          [
           "blue prince",
           0.30765898557263427,
           -0.025862638263497502,
           0.03324890109477565,
           0.3150452484039124
          ],
          [
           "pokémon firered/leafgreen",
           -0.17525795338558964,
           0.08276198283885605,
           -0.0063991441414691505,
           -0.09889511468820274
          ],
          [
           "battlefield 6",
           -0.30529766613268294,
           0.08466186962090433,
           0.091229332057992,
           -0.12940646445378662
          ],
          [
           "the legend of zelda: tears of the kingdom",
           0.6272847687802278,
           0.13000809640681837,
           -0.046851532976143064,
           0.710441332210903
          ],
          [
           "baldur's gate 3",
           -0.310591165064252,
           0.12634034532355146,
           0.10291958827991038,
           -0.08133123146079016
          ],
          [
           "elden ring",
           0.23335539195570162,
           -0.026000124781858175,
           0.03671031892532483,
           0.24406558609916829
          ],
          [
           "abiotic factor",
           -0.3889745444615255,
           0.040537689964985475,
           0.13744569187401795,
           -0.2109911626225221
          ],
          [
           "the legend of zelda: ocarina of time",
           -0.2157298122625798,
           0.0491691624361556,
           0.027968081305734815,
           -0.1385925685206894
          ],
          [
           "grounded 2",
           0.14368865722848567,
           0.12988871308974922,
           -0.04524211897572968,
           0.22833525134250524
          ],
          [
           "final fantasy viii",
           0.3382666440214962,
           0.1293064978707116,
           0.07645972745725885,
           0.5440328693494666
          ],
          [
           "ufo 50",
           -0.15970391852082685,
           0.1824491617863532,
           0.022291391652543097,
           0.045036634918069446
          ],
          [
           "supermarket simulator",
           0.7090829990978819,
           0.18605544282589107,
           0.07801784689072519,
           0.9731562888144981
          ],
          [
           "the legend of zelda: tears of the kingdom",
           0.479799372558482,
           0.10124675081460736,
           0.007192561895353719,
           0.588238685268443
          ],
          [
           "final fantasy viii",
           0.25099759240518327,
           0.09454637862101663,
           0.06743784288177267,
           0.41298181390797256
          ],
          [
           "pokémon scarlet/violet",
           0.2266727236646693,
           -0.7114876845048275,
           0.004296334162354469,
           -0.4805186266778037
          ],
          [
           "pools, hot tubs, and beaches",
           -0.4737161853851285,
           0.09969824527972378,
           0.0036601153563242408,
           -0.37035782474908047
          ],
          [
           "abiotic factor",
           0.33752084402745824,
           -1.0112300884118304,
           0.07250163566262927,
           -0.601207608721743
          ],
          [
           "helldivers 2",
           -0.2741132434952306,
           0.10495399612627807,
           0.082938352660276,
           -0.08622089470867653
          ],
          [
           "ninja gaiden: ragebound",
           -0.1937462613772368,
           0.048271636873250826,
           -0.056539935456239615,
           -0.20201455996022558
          ],
          [
           "hitman world of assassination",
           -0.2810079281334765,
           0.018592699253640602,
           -0.030767648577457295,
           -0.2931828774572932
          ],
          [
           "super mario world",
           0.38913201832794586,
           -0.20753984855371527,
           0.10365337616356556,
           0.28524554593779616
          ],
          [
           "palworld",
           -0.24177197084762156,
           0.02797151921025943,
           -0.11357737773214467,
           -0.3273778293695068
          ],
          [
           "battlefield 6",
           -0.23450094497413373,
           0.055465177522273736,
           0.09627146228624042,
           -0.08276430516561958
          ],
          [
           "retro",
           0.4414807160559576,
           0.05536631540919188,
           -0.00005034479312598705,
           0.49679668667202354
          ],
          [
           "the legend of zelda: ocarina of time",
           -0.1537796783342492,
           0.1219014892668929,
           0.04591852377285249,
           0.014040334705496205
          ],
          [
           "the king is watching",
           0.21880370486993342,
           0.1719148398708785,
           -0.015021910028299317,
           0.3756966347125126
          ]
         ],
         "hovertemplate": "category_simple=other<br>start_time_hour=%{x}<br>duration_hr=%{y:.2f}<br>size=%{marker.size}<br>category=%{customdata[0]}<br>shap_hour=%{customdata[1]:.3f}<br>shap_duration=%{customdata[2]:.3f}<br>shap_game=%{customdata[3]:.3f}<br>combined=%{marker.color:.3f}<extra></extra>",
         "legendgroup": "other",
         "marker": {
          "color": {
           "bdata": "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",
           "dtype": "f8"
          },
          "coloraxis": "coloraxis",
          "size": {
           "bdata": "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",
           "dtype": "f8"
          },
          "sizemode": "area",
          "sizeref": 0.1015625,
          "symbol": "diamond"
         },
         "mode": "markers",
         "name": "other",
         "orientation": "v",
         "showlegend": true,
         "type": "scatter",
         "x": {
          "bdata": "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",
          "dtype": "f8"
         },
         "xaxis": "x",
         "y": {
          "bdata": "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",
          "dtype": "f8"
         },
         "yaxis": "y"
        },
        {
         "customdata": [
          [
           "just chatting",
           -0.10971192620811053,
           0.05703088782523991,
           -0.05273515498440247,
           -0.10541619336727309
          ],
          [
           "just chatting",
           0.19414516443619503,
           -0.5941376851670793,
           -0.0666167780017713,
           -0.4666092987326556
          ],
          [
           "just chatting",
           0.5011676026898203,
           -0.0159354811522644,
           -0.027188794895191676,
           0.45804332664236425
          ],
          [
           "just chatting",
           0.581869923772756,
           0.1944457954488462,
           0.00734018616611138,
           0.7836559053877137
          ],
          [
           "just chatting",
           -0.4991154491167981,
           0.09715934575418941,
           -0.043487680881517006,
           -0.4454437842441257
          ],
          [
           "just chatting",
           0.23895021760137752,
           -0.8193067913758568,
           -0.034937572776107116,
           -0.6152941465505865
          ],
          [
           "just chatting",
           -0.39649943792668635,
           0.0402436992211733,
           -0.050041135106002915,
           -0.4062968738115159
          ],
          [
           "just chatting",
           -0.3852251499897102,
           0.1302394302363973,
           -0.049731587432324885,
           -0.3047173071856377
          ],
          [
           "just chatting",
           -0.16263454316998832,
           0.08149153504346032,
           0.014233468465972692,
           -0.06690953966055531
          ],
          [
           "just chatting",
           0.6457128365454264,
           0.1865104721172247,
           0.008688812433974817,
           0.8409121210966259
          ],
          [
           "just chatting",
           0.6011448865802959,
           0.17229372856381814,
           -0.0016611289128195495,
           0.7717774862312944
          ],
          [
           "just chatting",
           -0.21233237110776826,
           0.04081759836350102,
           -0.06503840101708193,
           -0.23655317376134916
          ],
          [
           "just chatting",
           -0.34884936912800185,
           0.14324225106858648,
           -0.04256956017226912,
           -0.2481766782316845
          ],
          [
           "just chatting",
           0.296360835346859,
           0.1758888534689322,
           -0.008897010094951838,
           0.46335267872083935
          ],
          [
           "just chatting",
           -0.1493367607181426,
           0.053965652430779304,
           -0.06699931550247129,
           -0.1623704237898346
          ],
          [
           "just chatting",
           -0.1533395762334112,
           0.05070462500792928,
           -0.06276128548604902,
           -0.16539623671153098
          ],
          [
           "just chatting",
           -0.33115600517834537,
           0.027427238932577893,
           -0.007145869489759207,
           -0.3108746357355267
          ],
          [
           "just chatting",
           -0.5095423251745523,
           0.06946668217540719,
           -0.04130812063231133,
           -0.48138376363145646
          ],
          [
           "just chatting",
           -0.4051241624122486,
           0.0753635939693777,
           -0.04541057412745431,
           -0.3751711425703252
          ],
          [
           "just chatting",
           0.700611677984707,
           0.18341224121744745,
           -0.0053879070433322344,
           0.8786360121588223
          ],
          [
           "just chatting",
           -0.4518100716779008,
           -0.01184282905422151,
           -0.04645385968033224,
           -0.5101067604124546
          ],
          [
           "just chatting",
           -0.3293937697150977,
           0.007517490422469564,
           -0.04177523244405165,
           -0.36365151173667976
          ],
          [
           "just chatting",
           0.47116355638892854,
           0.1278864809544757,
           -0.009807984054787085,
           0.5892420532886171
          ],
          [
           "just chatting",
           -0.3502646717830794,
           0.03260501338918402,
           -0.009811504199169575,
           -0.32747116259306497
          ],
          [
           "just chatting",
           0.600006610173732,
           0.1367105336545501,
           0.006488908770261332,
           0.7432060525985434
          ],
          [
           "just chatting",
           0.3105288246530108,
           0.10143217566655949,
           -0.005995290760183707,
           0.4059657095593866
          ],
          [
           "just chatting",
           -0.260094805675908,
           0.08104442669369746,
           -0.03822752050415147,
           -0.217277899486362
          ],
          [
           "just chatting",
           -0.13201471455628053,
           -0.3211723739065928,
           -0.06489226097182836,
           -0.5180793494347017
          ],
          [
           "just chatting",
           -0.11336294801905751,
           0.07599081797583494,
           0.001975169011275284,
           -0.03539696103194728
          ],
          [
           "just chatting",
           -0.26871974345995114,
           0.11363690990197937,
           -0.045288488327059895,
           -0.20037132188503165
          ],
          [
           "just chatting",
           0.3246369617781602,
           0.05165562570618931,
           -0.031264700572937724,
           0.3450278869114118
          ],
          [
           "just chatting",
           -0.5387176113278838,
           0.08811974903685041,
           -0.04123059302568435,
           -0.4918284553167177
          ],
          [
           "just chatting",
           0.4583547714015003,
           0.1309710049885325,
           -0.03292334302444942,
           0.5564024333655834
          ],
          [
           "just chatting",
           -0.10797843014559476,
           -0.41503176099358824,
           -0.04494403584889369,
           -0.5679542269880767
          ],
          [
           "just chatting",
           0.3284829695464577,
           0.199170658121584,
           -0.012826034273020924,
           0.5148275933950208
          ],
          [
           "just chatting",
           0.23559021268505603,
           0.16495756947086193,
           -0.017248891923809424,
           0.38329889023210856
          ],
          [
           "just chatting",
           -0.3397157399205025,
           0.02996963530255016,
           -0.06047549869632349,
           -0.3702216033142759
          ],
          [
           "just chatting",
           -0.43453877869585994,
           0.11089541554334574,
           -0.02781045589130372,
           -0.3514538190438179
          ],
          [
           "just chatting",
           0.6895509982545627,
           0.17343786258948968,
           0.007044466177467257,
           0.8700333270215196
          ],
          [
           "just chatting",
           -0.1690228391333949,
           0.09616079415252898,
           0.007866805129451678,
           -0.06499523985141423
          ],
          [
           "just chatting",
           -0.28047395947389303,
           0.1663322062464431,
           -0.04913070285692811,
           -0.16327245608437804
          ],
          [
           "just chatting",
           -0.34348065562313423,
           0.07257538515958004,
           -0.030043341220589354,
           -0.30094861168414355
          ],
          [
           "just chatting",
           0.687807951743016,
           0.13765145169047174,
           -0.001214157302165404,
           0.8242452461313223
          ],
          [
           "just chatting",
           -0.5552955861395458,
           0.11187565916101448,
           -0.03999854457913898,
           -0.48341847155767026
          ],
          [
           "just chatting",
           0.3995788396021817,
           0.1045359434565762,
           0.009070587507449091,
           0.5131853705662069
          ],
          [
           "just chatting",
           -0.3098962330556242,
           0.021884690658189355,
           -0.0372537582879886,
           -0.3252653006854234
          ],
          [
           "just chatting",
           0.5668907059269259,
           0.11981799176661298,
           -0.040235788702848364,
           0.6464729089906905
          ],
          [
           "just chatting",
           0.6975311400357168,
           0.1860832019348163,
           0.004636354387039319,
           0.8882506963575725
          ],
          [
           "just chatting",
           0.3447787680249894,
           -0.8308853123552399,
           -0.03703781662159599,
           -0.5231443609518465
          ],
          [
           "just chatting",
           0.3613698384410236,
           0.07279953666009532,
           -0.022066189378965647,
           0.41210318572215326
          ],
          [
           "just chatting",
           -0.3087839260150213,
           0.03422303839935921,
           -0.05090483090374619,
           -0.3254657185194083
          ],
          [
           "just chatting",
           -0.418762103196641,
           0.11108175767352804,
           -0.029021329504903406,
           -0.33670167502801635
          ],
          [
           "just chatting",
           0.3106726632756181,
           0.15000780161761212,
           -0.015119089120998979,
           0.44556137577223126
          ],
          [
           "just chatting",
           -0.2550603369344026,
           0.05428920658014249,
           -0.06249881535943132,
           -0.26326994571369144
          ],
          [
           "just chatting",
           0.4463238011847716,
           0.19961767508706543,
           0.001373165949480608,
           0.6473146422213176
          ],
          [
           "just chatting",
           -0.18154660945001524,
           0.06475844025495463,
           -0.06493199496471788,
           -0.18172016415977849
          ],
          [
           "just chatting",
           0.3216860666871071,
           0.05676791642967146,
           -0.04944358291337267,
           0.3290104002034059
          ],
          [
           "just chatting",
           0.47255147460557057,
           0.14525438269833102,
           -0.03088798817829229,
           0.5869178691256093
          ],
          [
           "just chatting",
           0.5859592610888649,
           0.18759042311401572,
           0.0063797931862063706,
           0.779929477389087
          ],
          [
           "just chatting",
           0.6863660494884243,
           0.1744998303113971,
           0.011827912108274177,
           0.8726937919080956
          ]
         ],
         "hovertemplate": "category_simple=just chatting<br>start_time_hour=%{x}<br>duration_hr=%{y:.2f}<br>size=%{marker.size}<br>category=%{customdata[0]}<br>shap_hour=%{customdata[1]:.3f}<br>shap_duration=%{customdata[2]:.3f}<br>shap_game=%{customdata[3]:.3f}<br>combined=%{marker.color:.3f}<extra></extra>",
         "legendgroup": "just chatting",
         "marker": {
          "color": {
           "bdata": "NDP7Po78ur9xPYQ/7dzdv7geBfWUUN0/2KOejLUT6T9wPWKlJoLcvylcm1l9sOO/MjNfmsQA2r/MzDgFfYDTv4Xrocz7ILG/pHBdicDo6j9H4eSyZrLoP8L1iNhfR86/rkdR3kDEz78Vrmf+kafdP4XrAdaNyMS/KlzHMbQrxb/D9Wi6XuXTvwnXZ9j9zt6/H4Xv0s0C2L+F6ylFyR3sP3sUrmnLUuC/MjOD/RBG178UrokmEtviP5oZbptJ9dS/MzNDD1jI5z9SuHaZV/vZPwAAOCDDz8u/j8LRJBuU4L+4HgXsjB+iv1K4RnnEpcm/H4Wf2O8U1j/C9bQOHnrfvz0K13kMzuE/cT3RV64s4r9SuJa3d3ngP8P1iBH4h9g/4nqg87Wx179wPbYoOH7Wv5mZvyFQ1+s/UriOLYejsL/1KJyhHObEv6RwPfe9QtO/XI8AkTdg6j8K12cHVPDev4/C67kDbOA/hes9jSXR1L8Vrjv056/kP/YocLmMbOw/AAAsPpm94L+PQlAK5l/aP9ijQCpu1NS/cT2wLoWM1b8pXFPcE4TcPz4Kty9q2dC/AABSMs225D8ehQs5m0LHv1K4OqOBDtU/16Oq+wfI4j/sUdKpLvXoPylc9Ycb7es/",
           "dtype": "f8"
          },
          "coloraxis": "coloraxis",
          "size": {
           "bdata": "AAAAAAAAGEBfK7An0vAnQPxpSv5OgCdAdkv8LJUaNEDPitzp0NomQCIvpFrEkS9AcugdD6HYJECDHzyfzUQfQAAAAAAAABhA4rwldZuSNUAeDhWHkswzQKqO7YooRhhAFaww1IB3GUCdgle9C8YnQAAAAAAAABhAAAAAAAAAGECGmbbFjeYfQGpQpG7hsihAXhG7fsw/I0BKEUXtWoo2QL6Oa8cmLCpA87PGoH2oIkAe1ArykzsuQBCFId1EzSBASJCnq+4QM0ASnyGER9QkQAAAAAAAABhAXn4+r96UKkAAAAAAAAAYQAAAAAAAABhAnO2wg9+zIUB6vWPOETwpQAIcJ2o8jCxAEtTpbfcjLUA2FNGfKGoqQPIyfB+OqiNA1WBsn8n+IkAWc4rFRggiQNw+O5/bUTZAAAAAAAAAGEAAAAAAAAAYQJHg6RLN4R5AzpkZMiYlNUDUiR8om80oQNq8c6KWVCpA7uzjoUuwIEAEoDSepZUwQP8g7Kh/yTZATRJa1WXXKkCITmPW5CQlQNZYC4rtsiBAtfp0jIJGIUBjlu5QXNwmQNrlKFb/AxtAwIQzySybMEAAAAAAAAAYQJZRkpB84SBADiy42gwdLkCIquMZHAI0QH5lhYpUYzZA",
           "dtype": "f8"
          },
          "sizemode": "area",
          "sizeref": 0.1015625,
          "symbol": "square"
         },
         "mode": "markers",
         "name": "just chatting",
         "orientation": "v",
         "showlegend": true,
         "type": "scatter",
         "x": {
          "bdata": "AAAAAAAAIkAAAAAAAAA2QAAAAAAAADRAAAAAAAAANUAAAAAAAAAkQAAAAAAAADNAAAAAAAAAMEAAAAAAAAAwQAAAAAAAAAAAAAAAAAAANUAAAAAAAAA1QAAAAAAAACRAAAAAAAAAJEAAAAAAAAA1QAAAAAAAACRAAAAAAAAAJEAAAAAAAAAoQAAAAAAAAChAAAAAAAAALEAAAAAAAAA1QAAAAAAAABxAAAAAAAAAIEAAAAAAAAAzQAAAAAAAADFAAAAAAAAANkAAAAAAAAA3QAAAAAAAACZAAAAAAAAAJkAAAAAAAAAAAAAAAAAAACpAAAAAAAAAMkAAAAAAAAAsQAAAAAAAADdAAAAAAAAAKEAAAAAAAAA1QAAAAAAAADRAAAAAAAAAKkAAAAAAAAAsQAAAAAAAADVAAAAAAAAAAAAAAAAAAAAoQAAAAAAAACpAAAAAAAAAN0AAAAAAAAAoQAAAAAAAADdAAAAAAAAAIEAAAAAAAAA3QAAAAAAAADZAAAAAAAAAN0AAAAAAAAAzQAAAAAAAACpAAAAAAAAAMUAAAAAAAAA1QAAAAAAAACRAAAAAAAAANEAAAAAAAAAkQAAAAAAAADNAAAAAAAAANEAAAAAAAAA1QAAAAAAAADVA",
          "dtype": "f8"
         },
         "xaxis": "x",
         "y": {
          "bdata": "ZmZmZmZm8j/NzMzMzMzkP97d3d3d3e0/3t3d3d1dIEBVVVVVVVUTQJqZmZmZmak/AAAAAAAAGUDv7u7u7u4KQM3MzMzMzBhAiYiIiIiIHkCJiIiIiIggQLy7u7u7uwFAvLu7u7u7EEBVVVVVVdUiQImIiIiIiABAMzMzMzMzAUCrqqqqqqoGQHd3d3d3dwVAERERERERFkAzMzMzMzMhQFVVVVVVVRhAREREREREIEDv7u7u7u4KQCIiIiIiIhNA7+7u7u7uHEDNzMzMzMwXQHd3d3d3dwFA3t3d3d3dvT8zMzMzMzMZQCIiIiIiIiBAiYiIiIiI8D9mZmZmZmYIQGZmZmZmZh9AVVVVVVVVxT8REREREZEgQCIiIiIiIiFA7+7u7u7uCkAzMzMzMzP/P97d3d3d3SFAvLu7u7u7FkDNzMzMzMwUQLy7u7u7uwFAq6qqqqqqHkDv7u7u7u4RQCIiIiIiIhtA7+7u7u5uI0CrqqqqqqoiQGZmZmZmZipA3t3d3d3dvT8zMzMzMzMBQERERERERBpAvLu7u7u7B0CamZmZmZkjQERERERERABAiYiIiIgIJEBmZmZmZmYAQHd3d3d3dxNAq6qqqqqqBEDv7u7u7m4gQM3MzMzMzClA",
          "dtype": "f8"
         },
         "yaxis": "y"
        },
        {
         "customdata": [
          [
           "clash royale",
           0.5864540532394312,
           0.18698231220128947,
           0.0818129964277614,
           0.8552493618684821
          ],
          [
           "clash royale",
           0.35142477734421845,
           -0.6116027371207019,
           0.021387879349640572,
           -0.23879008042684288
          ],
          [
           "clash royale",
           -0.516006851127604,
           0.07627663912950083,
           0.08331061750533991,
           -0.3564195944927633
          ],
          [
           "clash royale",
           0.3810489247046644,
           -0.0516638499731198,
           0.02194794770795852,
           0.35133302243950315
          ],
          [
           "clash royale",
           0.45206900910765396,
           -0.05090185785607901,
           0.0260731162520824,
           0.4272402675036574
          ],
          [
           "clash royale",
           0.5737970108306035,
           0.056184228034690024,
           0.04747838684532326,
           0.6774596257106168
          ],
          [
           "clash royale",
           0.46376843947684393,
           0.15679497475968673,
           0.04280077208240982,
           0.6633641863189405
          ],
          [
           "clash royale",
           -0.425259438828798,
           -0.019622950493358077,
           0.07754379326303024,
           -0.36733859605912583
          ],
          [
           "clash royale",
           0.44758875881350835,
           0.13099083689274266,
           0.047886958931921984,
           0.6264665546381729
          ],
          [
           "clash royale",
           -0.5666406833188375,
           -0.053132837400771675,
           0.023596766078844665,
           -0.5961767546407646
          ],
          [
           "clash royale",
           0.33722266434517223,
           -0.03572388724714983,
           0.07723069621075411,
           0.37872947330877654
          ],
          [
           "clash royale",
           0.4483767506221193,
           0.15640774789499118,
           0.04280077208240982,
           0.6475852705995203
          ],
          [
           "clash royale",
           0.5405258820604649,
           -0.2211599464714527,
           0.16237899952335283,
           0.48174493511236505
          ],
          [
           "clash royale",
           0.5758276079630014,
           0.05710458285058848,
           0.04331876947369892,
           0.6762509602872888
          ],
          [
           "clash royale",
           -0.4614771030202974,
           -0.023660784761887044,
           0.02765348498476669,
           -0.45748440279741776
          ],
          [
           "clash royale",
           0.4409038658352802,
           -0.03194352412072476,
           0.04156204750936013,
           0.4505223892239155
          ],
          [
           "clash royale",
           0.4409038658352802,
           -0.054765810996177604,
           0.03929071372083854,
           0.4254287685599411
          ],
          [
           "clash royale",
           -0.567422490461031,
           -0.04979534889571369,
           0.023109479201957585,
           -0.5941083601547871
          ]
         ],
         "hovertemplate": "category_simple=clash royale<br>start_time_hour=%{x}<br>duration_hr=%{y:.2f}<br>size=%{marker.size}<br>category=%{customdata[0]}<br>shap_hour=%{customdata[1]:.3f}<br>shap_duration=%{customdata[2]:.3f}<br>shap_game=%{customdata[3]:.3f}<br>combined=%{marker.color:.3f}<extra></extra>",
         "legendgroup": "clash royale",
         "marker": {
          "color": {
           "bdata": "zczk6DNe6z+jcAVhrJDOvwAAgCGUz9a/4npYgD181j+amR2Q51fbPzMzGc+/reU/4Xqyh0c65T/heii+eYLXvxSuhpYDDOQ/9ij6ReET47+5HnmLGj3YP3sU074EueQ/XI9UtejU3j/sUcoN2aPlP+J6HKlsR92/rkf121vV3D8fhe+VOTrbP9ejJInvAuO/",
           "dtype": "f8"
          },
          "coloraxis": "coloraxis",
          "size": {
           "bdata": "6m7VAsTwNUDruDbI64AYQMKLAD2ASSJAgXOIl7AGIkC8xNNqt+slQJmeYS4mYTFA39NMKJQEMUAsYdZ769giQPrHNddBEjBAQUOp8amWLkA/m2VqiW4jQNYh+8fznDBAHRDs35+3KECEBlQbNlkxQF+jTJv3eCdAyCxBxYUdJ0BY5Sw87NMlQKxFtfJ+ey5A",
           "dtype": "f8"
          },
          "sizemode": "area",
          "sizeref": 0.1015625,
          "symbol": "x"
         },
         "mode": "markers",
         "name": "clash royale",
         "orientation": "v",
         "showlegend": true,
         "type": "scatter",
         "x": {
          "bdata": "AAAAAAAAMkAAAAAAAAA0QAAAAAAAAChAAAAAAAAANEAAAAAAAAA1QAAAAAAAADdAAAAAAAAAN0AAAAAAAAAuQAAAAAAAADdAAAAAAAAALkAAAAAAAAAzQAAAAAAAADdAAAAAAAAAN0AAAAAAAAA3QAAAAAAAAC5AAAAAAAAANUAAAAAAAAA1QAAAAAAAAC5A",
          "dtype": "f8"
         },
         "xaxis": "x",
         "y": {
          "bdata": "VVVVVVVVC0Dv7u7u7u7ePwAAAAAAAA5AvLu7u7u76z9ERERERETsP7y7u7u7uxZAzczMzMzME0Dv7u7u7u4bQBEREREREStAAAAAAAAAGkC8u7u7u7v7P83MzMzMzBNAZmZmZmZm7j8REREREREbQO/u7u7u7hVAd3d3d3d38z8AAAAAAADoP0RERERERBhA",
          "dtype": "f8"
         },
         "yaxis": "y"
        },
        {
         "customdata": [
          [
           "marvel rivals",
           -0.31993172368442174,
           0.023741564758820458,
           -0.07012149192625657,
           -0.36631165085185785
          ],
          [
           "marvel rivals",
           0.3698006258328678,
           -0.14883647916372866,
           -0.09452833917806856,
           0.12643580749107058
          ],
          [
           "marvel rivals",
           -0.2386205094953766,
           0.09465279179974459,
           -0.0441070415370632,
           -0.18807475923269523
          ],
          [
           "marvel rivals",
           -0.4650280867156107,
           -0.03227683175646234,
           -0.057577479364117605,
           -0.5548823978361906
          ],
          [
           "marvel rivals",
           0.3840615365447593,
           0.05330508225306403,
           -0.10562486264621838,
           0.3317417561516049
          ],
          [
           "marvel rivals",
           -0.15352165100630372,
           0.004737020872416906,
           -0.059774642057600434,
           -0.20855927219148726
          ],
          [
           "marvel rivals",
           -0.4080583782267058,
           -0.033215676447725856,
           -0.07182091837050393,
           -0.5130949730449357
          ],
          [
           "marvel rivals",
           0.3290506644092966,
           0.06465651987120509,
           -0.0616024327208288,
           0.3321047515596729
          ],
          [
           "marvel rivals",
           -0.12752360651415073,
           -0.6078816500829999,
           -0.055108704977319574,
           -0.7905139615744702
          ],
          [
           "marvel rivals",
           -0.32029054936312606,
           -0.013491225726320409,
           -0.06805007188813761,
           -0.40183184697758406
          ],
          [
           "marvel rivals",
           -0.3173419060849119,
           0.1290409887745045,
           -0.10359513913164847,
           -0.29189605644205585
          ],
          [
           "marvel rivals",
           0.5100426675908966,
           -0.15915387013345025,
           -0.04436956074205227,
           0.306519236715394
          ],
          [
           "marvel rivals",
           0.35455761840130434,
           0.06616196346265496,
           -0.09854605139466002,
           0.3221735304692993
          ],
          [
           "marvel rivals",
           -0.3897734157269588,
           0.032774011471192355,
           -0.04751401765504852,
           -0.40451342191081496
          ],
          [
           "marvel rivals",
           -0.31086366716364866,
           0.012877686121501029,
           -0.06791527991532348,
           -0.3659012609574711
          ],
          [
           "marvel rivals",
           -0.38860865141206885,
           0.07439899489749223,
           -0.04664829693851061,
           -0.36085795345308724
          ],
          [
           "marvel rivals",
           -0.3200283868116094,
           0.014699411121546291,
           -0.0663489279942587,
           -0.37167790368432185
          ],
          [
           "marvel rivals",
           -0.2003134776058141,
           0.11558924343960825,
           -0.07593460096162744,
           -0.1606588351278333
          ],
          [
           "marvel rivals",
           0.6588982464466244,
           0.2574408590653911,
           -0.10994693118496798,
           0.8063921743270476
          ],
          [
           "marvel rivals",
           -0.2889674010977615,
           0.0788033718112274,
           -0.07116989058209583,
           -0.2813339198686299
          ],
          [
           "marvel rivals",
           -0.26681305875827094,
           0.03628676914202515,
           -0.07431321185082197,
           -0.30483950146706773
          ],
          [
           "marvel rivals",
           -0.34674828531191454,
           -0.07056731613120064,
           -0.10459876701934263,
           -0.5219143684624579
          ],
          [
           "marvel rivals",
           0.3059000908397138,
           -0.8413382567482768,
           -0.06657255958067253,
           -0.6020107254892355
          ],
          [
           "marvel rivals",
           0.24489529583777767,
           -0.7863854673819151,
           -0.0725007715501124,
           -0.6139909430942497
          ],
          [
           "marvel rivals",
           0.43954007751017343,
           0.08841052577103255,
           -0.06508461022982374,
           0.46286599305138226
          ],
          [
           "marvel rivals",
           -0.3757086722913664,
           0.0862503803835716,
           -0.11074546787771396,
           -0.40020375978550876
          ],
          [
           "marvel rivals",
           0.57743357785861,
           -0.14718762865028112,
           -0.08540614389115944,
           0.3448398053171695
          ],
          [
           "marvel rivals",
           -0.31321324783843013,
           0.08099005872267298,
           -0.07414597153139767,
           -0.3063691606471548
          ],
          [
           "marvel rivals",
           -0.45796368131181225,
           -0.02428723649936728,
           -0.07712752198218369,
           -0.5593784397933632
          ],
          [
           "marvel rivals",
           -0.3083395100798225,
           0.025397745590889826,
           -0.045835315472213554,
           -0.32877707996114625
          ],
          [
           "marvel rivals",
           -0.3832657131907763,
           -0.010055442000739276,
           -0.07232403776375577,
           -0.46564519295527135
          ],
          [
           "marvel rivals",
           -0.35290686709224245,
           0.12082528764382004,
           -0.08113754778401926,
           -0.31321912723244166
          ],
          [
           "marvel rivals",
           -0.22844849760236685,
           0.1633483508217614,
           -0.044555119652068244,
           -0.10965526643267368
          ],
          [
           "marvel rivals",
           -0.3642154364916496,
           0.1321012650767807,
           -0.04538750480976887,
           -0.2775016762246378
          ],
          [
           "marvel rivals",
           -0.45220563859678803,
           0.001852171786595136,
           -0.05787552137393504,
           -0.508228988184128
          ],
          [
           "marvel rivals",
           -0.4338592962786788,
           0.10892054521711543,
           -0.11047316866694018,
           -0.43541191972850357
          ],
          [
           "marvel rivals",
           -0.3257007001171587,
           0.02923609362449497,
           -0.07172194575541653,
           -0.3681865522480802
          ],
          [
           "marvel rivals",
           -0.32411324701446576,
           0.01036060555721633,
           -0.06941720102797262,
           -0.383169842485222
          ],
          [
           "marvel rivals",
           -0.27654317718173843,
           0.07220124887535348,
           -0.07444659651257098,
           -0.27878852481895594
          ],
          [
           "marvel rivals",
           -0.42188702897750774,
           -0.024101463349652477,
           -0.05644670446868986,
           -0.50243519679585
          ],
          [
           "marvel rivals",
           0.5271189106977545,
           -0.09842117374239023,
           -0.06962247148738243,
           0.35907526546798185
          ],
          [
           "marvel rivals",
           -0.406268136674189,
           -0.009760138053679838,
           -0.06531423116335645,
           -0.48134250589122524
          ],
          [
           "marvel rivals",
           -0.3326976632711012,
           0.09021721144556068,
           -0.049167668867157774,
           -0.2916481206926983
          ],
          [
           "marvel rivals",
           0.3670159212866565,
           0.08847856302192668,
           -0.07481203153380193,
           0.38068245277478124
          ],
          [
           "marvel rivals",
           -0.422131508323946,
           0.06400535469525494,
           -0.055615606246283276,
           -0.41374175987497436
          ],
          [
           "marvel rivals",
           -0.2657459302333882,
           0.04581401218718383,
           -0.08002819085959345,
           -0.29996010890579783
          ],
          [
           "marvel rivals",
           -0.3176159959071083,
           0.024447346084052697,
           -0.07232424456276931,
           -0.36549289438582494
          ],
          [
           "marvel rivals",
           0.24573504545900504,
           -0.0025527479248557937,
           -0.06376408660493325,
           0.179418210929216
          ],
          [
           "marvel rivals",
           -0.32377100747136867,
           0.039027972624753604,
           -0.0710690319351852,
           -0.3558120667818003
          ],
          [
           "marvel rivals",
           -0.47612381529645065,
           0.07324195493129082,
           -0.05527853926178068,
           -0.4581603996269405
          ],
          [
           "marvel rivals",
           0.2669642545405077,
           -0.9037847859563771,
           -0.07810109028592706,
           -0.7149216217017965
          ],
          [
           "marvel rivals",
           -0.37133703916682864,
           0.1210629470157437,
           -0.08783754614065402,
           -0.33811163829173896
          ],
          [
           "marvel rivals",
           -0.39766994735749905,
           0.03527153717412148,
           -0.06892908566864207,
           -0.4313274958520197
          ],
          [
           "marvel rivals",
           -0.3232072649040492,
           0.014975514592952094,
           -0.06127053312491625,
           -0.3695022834360134
          ],
          [
           "marvel rivals",
           -0.1133794098708313,
           0.13760185197694227,
           -0.07636361308570486,
           -0.05214117097959388
          ],
          [
           "marvel rivals",
           -0.4129243210615823,
           -0.015902002808870747,
           -0.07032159076537937,
           -0.4991479146358324
          ],
          [
           "marvel rivals",
           -0.4533184723823797,
           0.002294915767852217,
           -0.05883987006964162,
           -0.5098634266841691
          ],
          [
           "marvel rivals",
           0.45958234097983225,
           0.07805333980504656,
           -0.07354476736509241,
           0.46409091341978637
          ],
          [
           "marvel rivals",
           0.745467820543563,
           0.17272746686299797,
           -0.053362964235711845,
           0.8648323231708491
          ],
          [
           "marvel rivals",
           -0.4658407314453507,
           0.08877716528542806,
           -0.054360661059617996,
           -0.43142422721954066
          ],
          [
           "marvel rivals",
           -0.3796619866148103,
           0.08442229458247312,
           -0.09508431858266704,
           -0.3903240106150042
          ],
          [
           "marvel rivals",
           -0.26180666308209766,
           0.11550011856248603,
           -0.07067874035565183,
           -0.21698528487526345
          ],
          [
           "marvel rivals",
           0.174492441379698,
           -0.40733714483358197,
           -0.06786008650204167,
           -0.30070478995592564
          ],
          [
           "marvel rivals",
           0.4430887688929215,
           0.08366509476705687,
           -0.08990757058956661,
           0.43684629307041173
          ],
          [
           "marvel rivals",
           0.2985052442608867,
           0.07596425011957762,
           -0.0711612705560401,
           0.30330822382442424
          ],
          [
           "marvel rivals",
           -0.20272493761614896,
           -0.7316113767737988,
           -0.0957117106684018,
           -1.0300480250583497
          ],
          [
           "marvel rivals",
           0.2673730858974159,
           0.012564743454859126,
           -0.07005772706354037,
           0.20988010228873466
          ],
          [
           "marvel rivals",
           -0.41666835349926257,
           0.018835803229594602,
           -0.057505296729505065,
           -0.455337846999173
          ],
          [
           "marvel rivals",
           0.24063299242319772,
           0.08228954957885434,
           -0.10152522491523996,
           0.2213973170868121
          ]
         ],
         "hovertemplate": "category_simple=marvel rivals<br>start_time_hour=%{x}<br>duration_hr=%{y:.2f}<br>size=%{marker.size}<br>category=%{customdata[0]}<br>shap_hour=%{customdata[1]:.3f}<br>shap_duration=%{customdata[2]:.3f}<br>shap_game=%{customdata[3]:.3f}<br>combined=%{marker.color:.3f}<extra></extra>",
         "legendgroup": "marvel rivals",
         "marker": {
          "color": {
           "bdata": "KVwjbKZx178K1xttDC/AP5DCDW7VEsi/16P6upjB4b9H4VjGQTvVPx+Fq/oRssq/PgofJkZr4L9I4bJJNEHVP83Mf+/jS+m/16NQ7Jy32b8AABDMbK7Sv2VmUtwCntM/9ihAun2e1D+amXlDjOPZv/YoWB/tate/rkcl9UsY1798FD4eksnXvwAAWP13kMS/H4UP9vbN6T8K10X8XwHSv7geVYp9gtO/4nr7woWz4L/2KDr/q0Pjv/UolFXQpeO/H4Wlr5if3T/D9QA78JzZv1yPjPnaEdY/SOFeZY2b078AACCdbebhv0jhhgWvCtW/exTSfiHN3b/hevw8yAvUv5qZKRdeEry/exT+Y5bC0b/2KGRwaUPgv6Rw4fTJ3du/R+EuVF6Q179mZpLN2oXYv3E9JtOr19G/uB5T+vIT4L80M3/SFvvWP1uPPsxQzt6/9igU4Vyq0r89CjXvGV3YP4/C6be+etq/Urh24osy078VrhNPPGTXv1K4Hwot98Y/Z2aW+Z/F1r97FC7/f1LdvzMzDU+j4Oa/Pgo3/56j1b80MyOk3prbv4Xryefspde/CtdDYD+yqr9cj04YCvLfv7ge4RrNUOC/XI/gX6qz3T8pXBHWtKzrPz4Kp1x0nNu/CtcbjxH72L/rUSB/LMbLv7gep02/PtO/o3CHJ0r12z+QwnvlZmnTP8P1TqMTe/C/2KO051ndyj8ehV9aQSTdvxSuJ06/Vsw/",
           "dtype": "f8"
          },
          "coloraxis": "coloraxis",
          "size": {
           "bdata": "R0HuXm7LIkAAAAAAAAAYQAAAAAAAABhAYd/oR0V4LEBy7VjGXAUhQAAAAAAAABhAYFQMrGZTKkDmJKtZIQohQEafn1CfRzRAEtNEXfudJEAdvTh4/vMdQAoWyqEjdB9ASB+lhq+HIEB9WG0vNMEkQH9UUm4KxiJAUI8UQ8yDIkA0sUly6hEjQAAAAAAAABhArleBouavNEAbigrnh94cQL6Ef2EDSB9Anxfb+D3HKkAEA9C5SuMuQMD+91GmgC9AdFklQae/J0A59eTnmIgkQPocmhZnsSFAUpMbXjJwH0A6gKZDU7MsQA0A8gVs3iBA8isdVyjkJ0ABDMhCEhIgQAAAAAAAABhAE4ru/dt5HEBTu5DAfBMqQIA3vKwMVyZAE/iQvg7kIkCYu98y3KgjQG72qhKqmxxAgXT9EmPHKUBhk/j0YWwiQFA24bNWsihARn3XGHvtHUArrNJTMIgjQNWk9o5qOiVArFXFX9XHHkBhw2RLrcAiQAAAAAAAABhA6pmva4VBIkAEZv+m2IEnQMPFjFYtVzJAXpE6kAdZIUCUTNTCZiEmQFryI+dW9SJAAAAAAAAAGEAcvpeONZwpQOg4KZH0KCpAvUaMD77PJ0BR3Olosy82QHZfbAWsIiZAbvwFKNQGJEAAAAAAAAAYQBGXQF5l2x5AxNjCxONpJkCOHImCyR8fQAAAAAAAADpAAAAAAAAAGEDch+bKxVwnQAAAAAAAABhA",
           "dtype": "f8"
          },
          "sizemode": "area",
          "sizeref": 0.1015625,
          "symbol": "cross"
         },
         "mode": "markers",
         "name": "marvel rivals",
         "orientation": "v",
         "showlegend": true,
         "type": "scatter",
         "x": {
          "bdata": "AAAAAAAAIEAAAAAAAAA0QAAAAAAAAAAAAAAAAAAAGEAAAAAAAAA1QAAAAAAAABhAAAAAAAAAKkAAAAAAAAAyQAAAAAAAADFAAAAAAAAAIEAAAAAAAAAmQAAAAAAAADdAAAAAAAAANkAAAAAAAADwPwAAAAAAACBAAAAAAAAAGEAAAAAAAAAgQAAAAAAAABxAAAAAAAAANUAAAAAAAAAqQAAAAAAAACBAAAAAAAAALEAAAAAAAAA2QAAAAAAAADVAAAAAAAAANUAAAAAAAAAcQAAAAAAAADdAAAAAAAAAGEAAAAAAAAAcQAAAAAAAAABAAAAAAAAAKkAAAAAAAAAUQAAAAAAAAAAAAAAAAAAAKEAAAAAAAAAmQAAAAAAAACpAAAAAAAAAIEAAAAAAAAAgQAAAAAAAABRAAAAAAAAAGEAAAAAAAAA1QAAAAAAAACpAAAAAAAAAIEAAAAAAAAA1QAAAAAAAABhAAAAAAAAAIEAAAAAAAAAgQAAAAAAAADRAAAAAAAAAIEAAAAAAAAAcQAAAAAAAADZAAAAAAAAAFEAAAAAAAAAqQAAAAAAAACBAAAAAAAAACEAAAAAAAAAqQAAAAAAAACZAAAAAAAAANUAAAAAAAAA2QAAAAAAAABxAAAAAAAAAKEAAAAAAAAAiQAAAAAAAADJAAAAAAAAANUAAAAAAAAA1QAAAAAAAACpAAAAAAAAANkAAAAAAAAAYQAAAAAAAADRA",
          "dtype": "f8"
         },
         "xaxis": "x",
         "y": {
          "bdata": "zczMzMxMIkDNzMzMzMzsP2ZmZmZmZh5AmpmZmZmZHUAREREREREWQN7d3d3d3RlAmpmZmZmZHUC8u7u7u7v7P1VVVVVVVcU/7+7u7u7uH0C8u7u7u7sDQGZmZmZmZvI/MzMzMzMz/z8zMzMzMzMXQBERERERESJA3t3d3d1dI0BEREREREQiQDMzMzMzsyRAVVVVVVXVJkAzMzMzMzMDQGZmZmZm5iJAq6qqqqqq6j+amZmZmZmpP83MzMzMzNw/mpmZmZmZC0BEREREREQZQN7d3d3d3fk/mpmZmZmZHkBVVVVVVVUZQERERERERBdAIiIiIiIiGUB3d3d3d/cgQImIiIiIiBRAvLu7u7u7+z/e3d3d3d0WQCIiIiIiIgZAMzMzMzMzJkBEREREREQfQJqZmZmZGSBAiYiIiIiIF0De3d3d3d3xP0RERERERBxAMzMzMzMzCUBmZmZmZmYEQHd3d3d3dyVAmpmZmZmZIECJiIiIiAgjQM3MzMzMzOw/AAAAAACAIkAREREREREQQBEREREREdE/7+7u7u7uEEBVVVVVVdUhQFVVVVVV1SNAd3d3d3d3D0DNzMzMzMwbQGZmZmZmZhVA3t3d3d3dAUAiIiIiIiIfQCIiIiIiIiNA3t3d3d3dG0AREREREREqQN7d3d3d3b0/MzMzMzMzCUDv7u7u7u7+P1VVVVVVVdU/iYiIiIiI6D/v7u7u7u4fQN7d3d3d3QlA",
          "dtype": "f8"
         },
         "yaxis": "y"
        },
        {
         "customdata": [
          [
           "street fighter 6",
           0.35345349945040655,
           -1.2167104004311842,
           0.024372231899760663,
           -0.8388846690810169
          ],
          [
           "street fighter 6",
           0.6335973560734419,
           0.09152645210648189,
           0.06425336577813141,
           0.7893771739580553
          ],
          [
           "street fighter 6",
           -0.17384170944977087,
           0.0617727530177217,
           0.0989584074402228,
           -0.01311054899182637
          ],
          [
           "street fighter 6",
           0.2848807915911311,
           -0.4303042022799491,
           0.0790375492547173,
           -0.06638586143410068
          ],
          [
           "street fighter 6",
           0.3237850677082315,
           0.06426426146004814,
           0.09240449404460378,
           0.48045382321288344
          ],
          [
           "street fighter 6",
           0.4138823728740681,
           0.06346458874089876,
           0.05869658482377418,
           0.5360435464387411
          ],
          [
           "street fighter 6",
           0.3563442423089873,
           0.143985732353176,
           0.10376613226137124,
           0.6040961069235345
          ],
          [
           "street fighter 6",
           -0.2822450079699047,
           0.10183695381216239,
           0.09283482800819912,
           -0.08757322614954319
          ],
          [
           "street fighter 6",
           -0.24466964200371877,
           0.16648184138932265,
           0.09204070163774304,
           0.013852901023346922
          ],
          [
           "street fighter 6",
           -0.16543300572840963,
           -0.4259773134975694,
           0.11675301743904129,
           -0.47465730178693766
          ],
          [
           "street fighter 6",
           0.29450763747561726,
           0.05177350092882989,
           0.07848301742691546,
           0.4247641558313626
          ],
          [
           "street fighter 6",
           0.619174189401092,
           0.1507667029229924,
           0.08354727188241667,
           0.8534881642065011
          ],
          [
           "street fighter 6",
           0.3362535071547609,
           0.10378514936892316,
           0.10079467858187854,
           0.5408333351055625
          ],
          [
           "street fighter 6",
           -0.39943276696954855,
           0.05074361716047861,
           0.10430662324186414,
           -0.24438252656720583
          ],
          [
           "street fighter 6",
           0.11414325602061581,
           -0.6348802343092393,
           0.08899107855278998,
           -0.43174589973583355
          ],
          [
           "street fighter 6",
           0.7226941583881853,
           0.19356731594656595,
           0.028767336892196908,
           0.9450288112269482
          ],
          [
           "street fighter 6",
           -0.11029588449979201,
           -0.16033780207450035,
           0.07739997491938994,
           -0.19323371165490244
          ],
          [
           "street fighter 6",
           0.6646975109633059,
           -0.1275571364548523,
           0.09284107175772079,
           0.6299814462661744
          ],
          [
           "street fighter 6",
           -0.352327674170956,
           0.04974041963228956,
           0.09671201591379941,
           -0.205875238624867
          ],
          [
           "street fighter 6",
           0.527751951268001,
           -0.21831812782329507,
           0.021356641568709166,
           0.3307904650134151
          ],
          [
           "street fighter 6",
           0.29612947061978045,
           0.0181691778707318,
           0.08333300742786377,
           0.397631655918376
          ],
          [
           "street fighter 6",
           -0.21001329680148045,
           0.16741592686914372,
           0.07861866821476723,
           0.0360212982824305
          ],
          [
           "street fighter 6",
           0.3992560282902559,
           0.07931066040706355,
           0.09421953018754721,
           0.5727862188848667
          ],
          [
           "street fighter 6",
           0.3331666068127379,
           -0.00805411022156477,
           0.09038487350568175,
           0.4154973700968549
          ],
          [
           "street fighter 6",
           0.2969094903871883,
           0.018512318732682616,
           0.10702319437230472,
           0.4224450034921756
          ],
          [
           "street fighter 6",
           -0.25650390365568454,
           0.035184614544268696,
           0.09434295792714692,
           -0.12697633118426893
          ],
          [
           "street fighter 6",
           0.21218956099590286,
           0.04912257262854837,
           0.09712249068310484,
           0.35843462430755607
          ],
          [
           "street fighter 6",
           0.5369894290500088,
           0.05563513505127048,
           0.09248238230706192,
           0.6851069464083412
          ],
          [
           "street fighter 6",
           0.6087664505874273,
           0.051223337457922756,
           0.08038857452105731,
           0.7403783625664073
          ],
          [
           "street fighter 6",
           -0.32914176111109555,
           -0.021703475535614417,
           0.10034166929544881,
           -0.25050356735126117
          ],
          [
           "street fighter 6",
           -0.4230367364140693,
           0.11144273238896858,
           0.09767017032718286,
           -0.21392383369791787
          ]
         ],
         "hovertemplate": "category_simple=street fighter 6<br>start_time_hour=%{x}<br>duration_hr=%{y:.2f}<br>size=%{marker.size}<br>category=%{customdata[0]}<br>shap_hour=%{customdata[1]:.3f}<br>shap_duration=%{customdata[2]:.3f}<br>shap_game=%{customdata[3]:.3f}<br>combined=%{marker.color:.3f}<extra></extra>",
         "legendgroup": "street fighter 6",
         "marker": {
          "color": {
           "bdata": "MzNaqSTY6r/iekvrk0LpP/BROBm02Yq/U7jG76n+sL8AAHxkwb/eP8P1pctEJ+E/exTcW8FU4z+uR1HuMmu2v8jMzOboXow/RuH+BMlg3r+QwnP/VS/bP65HGWnGT+s/FK7btYFO4T/E9ag37UfPvz4K4425odu/heu/D6097j+kcAXc4bvIv5qZmdnOKOQ/mJl5rB5ayr+F60PFqyvVPx6FgQvMctk/cD0qNGJxoj9SuLbDQ1TiP8P1CEiCl9o/SOGWxFYJ2z9SuOaqwkDAv4XrSceX8NY/kMIiZ2Xs5T+kcLz2LbHnPx+FUx1ACNC/16PILtthy78=",
           "dtype": "f8"
          },
          "coloraxis": "coloraxis",
          "size": {
           "bdata": "mgFcy0qFNUAuc90VKEA0QAAAAAAAABhAAAAAAAAAGECI1bB/qqYoQCnrRXfTgCtA5vAr167+LkAAAAAAAAAYQAAAAAAAABhAlqsXpIdaKECIR/B3McslQDBxPf0y5TVA84HjLL2/K0DbhGoW1RMZQChX5qXlJiZAHU3oIWI+OEAAAAAAAAAYQKc4zERXKTBAAAAAAAAAGEAPO6UM3vggQLd9sS7QZiRAAAAAAAAAGEBKwisMb2MtQPIPeNB5USVA8JIFTLusJUAAAAAAAAAYQASOhMv3YyJACjdqRl+TMUDkAHaaXP4yQPm+szOhtBlAAAAAAAAAGEA=",
           "dtype": "f8"
          },
          "sizemode": "area",
          "sizeref": 0.1015625,
          "symbol": "circle"
         },
         "mode": "markers",
         "name": "street fighter 6",
         "orientation": "v",
         "showlegend": true,
         "type": "scatter",
         "x": {
          "bdata": "AAAAAAAANUAAAAAAAAA1QAAAAAAAACZAAAAAAAAANkAAAAAAAAA0QAAAAAAAADVAAAAAAAAAM0AAAAAAAAAsQAAAAAAAAC5AAAAAAAAALEAAAAAAAAA3QAAAAAAAADVAAAAAAAAANEAAAAAAAAAmQAAAAAAAADNAAAAAAAAANUAAAAAAAAAAAAAAAAAAADdAAAAAAAAALkAAAAAAAAA3QAAAAAAAADVAAAAAAAAAKEAAAAAAAAA1QAAAAAAAADVAAAAAAAAANUAAAAAAAAAoQAAAAAAAADNAAAAAAAAANUAAAAAAAAA2QAAAAAAAACBAAAAAAAAAKEA=",
          "dtype": "f8"
         },
         "xaxis": "x",
         "y": {
          "bdata": "ERERERERsT9EREREREQGQAAAAAAAAAhAERERERERkT/v7u7u7u4IQJqZmZmZmQFAd3d3d3d3FECJiIiIiIjoP2ZmZmZmZv4/IiIiIiIi0j8zMzMzMzPzPyIiIiIiIg5AiYiIiIiIBEB3d3d3d3cjQFVVVVVVVeU/MzMzMzMzD0ARERERERHRP6uqqqqqquo/iYiIiIiICkB3d3d3d3fvP+/u7u7u7u4/d3d3d3d3D0BEREREREQGQHd3d3d3d+8/vLu7u7u79z+JiIiIiIgIQLy7u7u7uwVA3t3d3d3dA0AiIiIiIiICQERERERERB5AZmZmZmZmEUA=",
          "dtype": "f8"
         },
         "yaxis": "y"
        },
        {
         "customdata": [
          [
           "donkey kong bananza",
           -0.5944392933836207,
           0.035765429537859744,
           0.06008982024446596,
           -0.49858404360129494
          ],
          [
           "donkey kong bananza",
           -0.47681753180222586,
           0.09597038135456387,
           0.031089759740279988,
           -0.349757390707382
          ],
          [
           "donkey kong bananza",
           -0.6197742414963432,
           0.000372587883612141,
           0.0635162411845522,
           -0.5558854124281788
          ],
          [
           "donkey kong bananza",
           -0.5679988036584109,
           0.09003800646285526,
           0.030145311167580076,
           -0.4478154860279756
          ],
          [
           "donkey kong bananza",
           -0.5366308623086661,
           0.020478326858719812,
           0.05476376979611814,
           -0.4613887656538281
          ],
          [
           "donkey kong bananza",
           0.187318405759288,
           -0.8809185014257673,
           0.032598955323919654,
           -0.6610011403425597
          ],
          [
           "donkey kong bananza",
           -0.28241962651489305,
           0.16993316055857577,
           0.10238164291367866,
           -0.010104823042638628
          ],
          [
           "donkey kong bananza",
           -0.20363268435467036,
           -0.007721491410629824,
           0.08915574695332908,
           -0.12219842881197111
          ],
          [
           "donkey kong bananza",
           0.23244444010197185,
           -0.5872779109759722,
           0.047713140771375034,
           -0.3071203301026253
          ],
          [
           "donkey kong bananza",
           -0.25559259218280206,
           0.12157850271614734,
           0.016829953071428462,
           -0.11718413639522626
          ],
          [
           "donkey kong bananza",
           -0.5911559790489264,
           0.0013737999310251326,
           0.04594363449665252,
           -0.5438385446212487
          ],
          [
           "donkey kong bananza",
           -0.45835296309087425,
           0.10903833606280386,
           0.03873339584097266,
           -0.3105812311870977
          ],
          [
           "donkey kong bananza",
           -0.14317021955095696,
           0.10631270775164012,
           0.048904839606257154,
           0.01204732780694031
          ],
          [
           "donkey kong bananza",
           0.24127915816265158,
           0.19667319700558436,
           0.027440561284311115,
           0.46539291645254705
          ],
          [
           "donkey kong bananza",
           -0.582263745481614,
           -0.004265131978900172,
           0.03997769729292486,
           -0.5465511801675893
          ],
          [
           "donkey kong bananza",
           -0.2904482126864605,
           0.16071273314766585,
           0.13434271297301165,
           0.004607233434217012
          ],
          [
           "donkey kong bananza",
           0.35345349945040655,
           -1.2405909477116075,
           0.13985586122376845,
           -0.7472815870374324
          ],
          [
           "donkey kong bananza",
           -0.29274141309899276,
           0.16440420276194345,
           0.07477961755939759,
           -0.05355759277765172
          ],
          [
           "donkey kong bananza",
           -0.15763882834173273,
           0.11462727733131033,
           0.04428249710355885,
           0.001270946093136445
          ],
          [
           "donkey kong bananza",
           -0.20651676028093788,
           0.10981200156675186,
           0.054437204300193116,
           -0.0422675544139929
          ],
          [
           "donkey kong bananza",
           -0.600116164686624,
           -0.003288960256613791,
           0.039648945361259395,
           -0.5637561795819783
          ],
          [
           "donkey kong bananza",
           0.23720207940787078,
           0.015518643551040441,
           0.07619513111421838,
           0.3289158540731296
          ],
          [
           "donkey kong bananza",
           -0.41166886816034093,
           0.0656440352043137,
           0.03681297459756024,
           -0.30921185835846704
          ],
          [
           "donkey kong bananza",
           -0.26699875109188725,
           0.18945115986804012,
           0.13697081594262273,
           0.05942322471877559
          ],
          [
           "donkey kong bananza",
           0.3343825050385203,
           0.19731647289008833,
           0.04571214516879991,
           0.5774111230974086
          ],
          [
           "donkey kong bananza",
           0.2593338364653755,
           0.08532258770719636,
           0.025758377708261834,
           0.3704148018808337
          ],
          [
           "donkey kong bananza",
           -0.5449593833019025,
           0.0864949332427932,
           0.05760645439324435,
           -0.40085799566586494
          ],
          [
           "donkey kong bananza",
           0.2911366698605707,
           0.13789390396443196,
           0.04038232527323998,
           0.46941289909824263
          ],
          [
           "donkey kong bananza",
           -0.16121379711898043,
           0.047979408224928195,
           0.04075475483783521,
           -0.07247963405621703
          ],
          [
           "donkey kong bananza",
           0.7959440274327062,
           0.13194145501649474,
           0.04051168815873098,
           0.9683971706079318
          ],
          [
           "donkey kong bananza",
           0.11574847223004327,
           -0.6808910259668483,
           0.019806621972238644,
           -0.5453359317645664
          ],
          [
           "donkey kong bananza",
           -0.2239876760460902,
           0.13002024145273025,
           0.04254420030512847,
           -0.05142323428823149
          ]
         ],
         "hovertemplate": "category_simple=donkey kong bananza<br>start_time_hour=%{x}<br>duration_hr=%{y:.2f}<br>size=%{marker.size}<br>category=%{customdata[0]}<br>shap_hour=%{customdata[1]:.3f}<br>shap_duration=%{customdata[2]:.3f}<br>shap_game=%{customdata[3]:.3f}<br>combined=%{marker.color:.3f}<extra></extra>",
         "legendgroup": "donkey kong bananza",
         "marker": {
          "color": {
           "bdata": "zMxkDM3o378K16fSbGLWv+F6VjTQyeG/4nrISAKp3L9lZs6+ZIfdv+J6DN3rJuW/EAAAZNaxhL9TuF5vZUi/v1yPbgfcp9O/pnBtkcf/vb/hem4XIGfhv8zMrBmQ4NO/TOF690SsiD89Cv1e/8jdP7gejeZYfeG/oMzMzgjfcj/rUScTu+nnv6Jw3Zrma6u/IIXr+bvSVD8TrsfHF6Slv7geR2ZKCuK/7FEYFfUM1T8L18uIIMrTv+B6lI24bK4/mplB5CZ64j97FAJJ4LTXP2Vmbkuop9m/16N8ZtwK3j+PwuV5Bo6yv5mZKRAc/e4/Z2YIV2Rz4b8ihQtrJVSqvw==",
           "dtype": "f8"
          },
          "coloraxis": "coloraxis",
          "size": {
           "bdata": "GHkMic2UKUDi2vGD/vEhQKH/SO1xhSxAX393yPf5JkAU6D4QQKwnQH6od0YP9TBAAAAAAAAAGEAAAAAAAAAYQLQeD//tgx9AAAAAAAAAGEDmhXk4NucrQHStB5/Y3h9AAAAAAAAAGEDOn+QO2OAnQJ/7rnvXCixAAAAAAAAAGEDZNpWusiszQAAAAAAAABhAAAAAAAAAGEAAAAAAAAAYQEOBmXTT7CxAyvUIpz7gIEA8wSyQ37ofQAAAAAAAABhAI/DZVC6gLUCD7TZBUwEjQI0Yt8cwkSRAUOShSaUVKEAAAAAAAAAYQA4C6kva1zhA1rvuMuH6K0AAAAAAAAAYQA==",
           "dtype": "f8"
          },
          "sizemode": "area",
          "sizeref": 0.1015625,
          "symbol": "diamond"
         },
         "mode": "markers",
         "name": "donkey kong bananza",
         "orientation": "v",
         "showlegend": true,
         "type": "scatter",
         "x": {
          "bdata": "AAAAAAAALkAAAAAAAAAuQAAAAAAAAC5AAAAAAAAALkAAAAAAAAAuQAAAAAAAADRAAAAAAAAAKEAAAAAAAAAAAAAAAAAAADdAAAAAAAAALkAAAAAAAAAsQAAAAAAAAC5AAAAAAAAAKEAAAAAAAAAyQAAAAAAAACxAAAAAAAAA8D8AAAAAAAA3QAAAAAAAACBAAAAAAAAAJEAAAAAAAAAmQAAAAAAAAC5AAAAAAAAANUAAAAAAAAAsQAAAAAAAACpAAAAAAAAANkAAAAAAAAAzQAAAAAAAACxAAAAAAAAANUAAAAAAAAAgQAAAAAAAADVAAAAAAAAAM0AAAAAAAAAmQA==",
          "dtype": "f8"
         },
         "xaxis": "x",
         "y": {
          "bdata": "IiIiIiIiBkCamZmZmZkUQHd3d3d3dxdAmpmZmZmZEUBmZmZmZmYXQBEREREREaE/mpmZmZmZIkBERERERET8P7y7u7u7u9s/ZmZmZmbmIUAREREREREZQKuqqqqqqhJAIiIiIiIi/j/NzMzMzMwQQImIiIiIiBVAiYiIiIiIDkDe3d3d3d3lP83MzMzMzCxAVVVVVVVVC0AiIiIiIiIhQKuqqqqqqhVAd3d3d3d38z8zMzMzMzMVQFVVVVVV1SBAiYiIiIhIMEBmZmZmZmYRQFVVVVVVVRJAzczMzMzMBkAREREREREcQKuqqqqqqgRAVVVVVVVVtT8REREREZEiQA==",
          "dtype": "f8"
         },
         "yaxis": "y"
        }
       ],
       "layout": {
        "coloraxis": {
         "cmid": 0,
         "colorbar": {
          "title": {
           "text": "combined"
          }
         },
         "colorscale": [
          [
           0,
           "rgb(103,0,31)"
          ],
          [
           0.1,
           "rgb(178,24,43)"
          ],
          [
           0.2,
           "rgb(214,96,77)"
          ],
          [
           0.3,
           "rgb(244,165,130)"
          ],
          [
           0.4,
           "rgb(253,219,199)"
          ],
          [
           0.5,
           "rgb(247,247,247)"
          ],
          [
           0.6,
           "rgb(209,229,240)"
          ],
          [
           0.7,
           "rgb(146,197,222)"
          ],
          [
           0.8,
           "rgb(67,147,195)"
          ],
          [
           0.9,
           "rgb(33,102,172)"
          ],
          [
           1,
           "rgb(5,48,97)"
          ]
         ]
        },
        "height": 600,
        "legend": {
         "font": {
          "size": 11
         },
         "itemsizing": "constant",
         "orientation": "h",
         "title": {
          "text": "category_simple"
         },
         "tracegroupgap": 0,
         "x": 0,
         "xanchor": "left",
         "y": -0.2,
         "yanchor": "top"
        },
        "margin": {
         "b": 180,
         "l": 80,
         "r": 30,
         "t": 60
        },
        "template": {
         "data": {
          "bar": [
           {
            "error_x": {
             "color": "rgb(36,36,36)"
            },
            "error_y": {
             "color": "rgb(36,36,36)"
            },
            "marker": {
             "line": {
              "color": "white",
              "width": 0.5
             },
             "pattern": {
              "fillmode": "overlay",
              "size": 10,
              "solidity": 0.2
             }
            },
            "type": "bar"
           }
          ],
          "barpolar": [
           {
            "marker": {
             "line": {
              "color": "white",
              "width": 0.5
             },
             "pattern": {
              "fillmode": "overlay",
              "size": 10,
              "solidity": 0.2
             }
            },
            "type": "barpolar"
           }
          ],
          "carpet": [
           {
            "aaxis": {
             "endlinecolor": "rgb(36,36,36)",
             "gridcolor": "white",
             "linecolor": "white",
             "minorgridcolor": "white",
             "startlinecolor": "rgb(36,36,36)"
            },
            "baxis": {
             "endlinecolor": "rgb(36,36,36)",
             "gridcolor": "white",
             "linecolor": "white",
             "minorgridcolor": "white",
             "startlinecolor": "rgb(36,36,36)"
            },
            "type": "carpet"
           }
          ],
          "choropleth": [
           {
            "colorbar": {
             "outlinewidth": 1,
             "tickcolor": "rgb(36,36,36)",
             "ticks": "outside"
            },
            "type": "choropleth"
           }
          ],
          "contour": [
           {
            "colorbar": {
             "outlinewidth": 1,
             "tickcolor": "rgb(36,36,36)",
             "ticks": "outside"
            },
            "colorscale": [
             [
              0,
              "#440154"
             ],
             [
              0.1111111111111111,
              "#482878"
             ],
             [
              0.2222222222222222,
              "#3e4989"
             ],
             [
              0.3333333333333333,
              "#31688e"
             ],
             [
              0.4444444444444444,
              "#26828e"
             ],
             [
              0.5555555555555556,
              "#1f9e89"
             ],
             [
              0.6666666666666666,
              "#35b779"
             ],
             [
              0.7777777777777778,
              "#6ece58"
             ],
             [
              0.8888888888888888,
              "#b5de2b"
             ],
             [
              1,
              "#fde725"
             ]
            ],
            "type": "contour"
           }
          ],
          "contourcarpet": [
           {
            "colorbar": {
             "outlinewidth": 1,
             "tickcolor": "rgb(36,36,36)",
             "ticks": "outside"
            },
            "type": "contourcarpet"
           }
          ],
          "heatmap": [
           {
            "colorbar": {
             "outlinewidth": 1,
             "tickcolor": "rgb(36,36,36)",
             "ticks": "outside"
            },
            "colorscale": [
             [
              0,
              "#440154"
             ],
             [
              0.1111111111111111,
              "#482878"
             ],
             [
              0.2222222222222222,
              "#3e4989"
             ],
             [
              0.3333333333333333,
              "#31688e"
             ],
             [
              0.4444444444444444,
              "#26828e"
             ],
             [
              0.5555555555555556,
              "#1f9e89"
             ],
             [
              0.6666666666666666,
              "#35b779"
             ],
             [
              0.7777777777777778,
              "#6ece58"
             ],
             [
              0.8888888888888888,
              "#b5de2b"
             ],
             [
              1,
              "#fde725"
             ]
            ],
            "type": "heatmap"
           }
          ],
          "histogram": [
           {
            "marker": {
             "line": {
              "color": "white",
              "width": 0.6
             }
            },
            "type": "histogram"
           }
          ],
          "histogram2d": [
           {
            "colorbar": {
             "outlinewidth": 1,
             "tickcolor": "rgb(36,36,36)",
             "ticks": "outside"
            },
            "colorscale": [
             [
              0,
              "#440154"
             ],
             [
              0.1111111111111111,
              "#482878"
             ],
             [
              0.2222222222222222,
              "#3e4989"
             ],
             [
              0.3333333333333333,
              "#31688e"
             ],
             [
              0.4444444444444444,
              "#26828e"
             ],
             [
              0.5555555555555556,
              "#1f9e89"
             ],
             [
              0.6666666666666666,
              "#35b779"
             ],
             [
              0.7777777777777778,
              "#6ece58"
             ],
             [
              0.8888888888888888,
              "#b5de2b"
             ],
             [
              1,
              "#fde725"
             ]
            ],
            "type": "histogram2d"
           }
          ],
          "histogram2dcontour": [
           {
            "colorbar": {
             "outlinewidth": 1,
             "tickcolor": "rgb(36,36,36)",
             "ticks": "outside"
            },
            "colorscale": [
             [
              0,
              "#440154"
             ],
             [
              0.1111111111111111,
              "#482878"
             ],
             [
              0.2222222222222222,
              "#3e4989"
             ],
             [
              0.3333333333333333,
              "#31688e"
             ],
             [
              0.4444444444444444,
              "#26828e"
             ],
             [
              0.5555555555555556,
              "#1f9e89"
             ],
             [
              0.6666666666666666,
              "#35b779"
             ],
             [
              0.7777777777777778,
              "#6ece58"
             ],
             [
              0.8888888888888888,
              "#b5de2b"
             ],
             [
              1,
              "#fde725"
             ]
            ],
            "type": "histogram2dcontour"
           }
          ],
          "mesh3d": [
           {
            "colorbar": {
             "outlinewidth": 1,
             "tickcolor": "rgb(36,36,36)",
             "ticks": "outside"
            },
            "type": "mesh3d"
           }
          ],
          "parcoords": [
           {
            "line": {
             "colorbar": {
              "outlinewidth": 1,
              "tickcolor": "rgb(36,36,36)",
              "ticks": "outside"
             }
            },
            "type": "parcoords"
           }
          ],
          "pie": [
           {
            "automargin": true,
            "type": "pie"
           }
          ],
          "scatter": [
           {
            "fillpattern": {
             "fillmode": "overlay",
             "size": 10,
             "solidity": 0.2
            },
            "type": "scatter"
           }
          ],
          "scatter3d": [
           {
            "line": {
             "colorbar": {
              "outlinewidth": 1,
              "tickcolor": "rgb(36,36,36)",
              "ticks": "outside"
             }
            },
            "marker": {
             "colorbar": {
              "outlinewidth": 1,
              "tickcolor": "rgb(36,36,36)",
              "ticks": "outside"
             }
            },
            "type": "scatter3d"
           }
          ],
          "scattercarpet": [
           {
            "marker": {
             "colorbar": {
              "outlinewidth": 1,
              "tickcolor": "rgb(36,36,36)",
              "ticks": "outside"
             }
            },
            "type": "scattercarpet"
           }
          ],
          "scattergeo": [
           {
            "marker": {
             "colorbar": {
              "outlinewidth": 1,
              "tickcolor": "rgb(36,36,36)",
              "ticks": "outside"
             }
            },
            "type": "scattergeo"
           }
          ],
          "scattergl": [
           {
            "marker": {
             "colorbar": {
              "outlinewidth": 1,
              "tickcolor": "rgb(36,36,36)",
              "ticks": "outside"
             }
            },
            "type": "scattergl"
           }
          ],
          "scattermap": [
           {
            "marker": {
             "colorbar": {
              "outlinewidth": 1,
              "tickcolor": "rgb(36,36,36)",
              "ticks": "outside"
             }
            },
            "type": "scattermap"
           }
          ],
          "scattermapbox": [
           {
            "marker": {
             "colorbar": {
              "outlinewidth": 1,
              "tickcolor": "rgb(36,36,36)",
              "ticks": "outside"
             }
            },
            "type": "scattermapbox"
           }
          ],
          "scatterpolar": [
           {
            "marker": {
             "colorbar": {
              "outlinewidth": 1,
              "tickcolor": "rgb(36,36,36)",
              "ticks": "outside"
             }
            },
            "type": "scatterpolar"
           }
          ],
          "scatterpolargl": [
           {
            "marker": {
             "colorbar": {
              "outlinewidth": 1,
              "tickcolor": "rgb(36,36,36)",
              "ticks": "outside"
             }
            },
            "type": "scatterpolargl"
           }
          ],
          "scatterternary": [
           {
            "marker": {
             "colorbar": {
              "outlinewidth": 1,
              "tickcolor": "rgb(36,36,36)",
              "ticks": "outside"
             }
            },
            "type": "scatterternary"
           }
          ],
          "surface": [
           {
            "colorbar": {
             "outlinewidth": 1,
             "tickcolor": "rgb(36,36,36)",
             "ticks": "outside"
            },
            "colorscale": [
             [
              0,
              "#440154"
             ],
             [
              0.1111111111111111,
              "#482878"
             ],
             [
              0.2222222222222222,
              "#3e4989"
             ],
             [
              0.3333333333333333,
              "#31688e"
             ],
             [
              0.4444444444444444,
              "#26828e"
             ],
             [
              0.5555555555555556,
              "#1f9e89"
             ],
             [
              0.6666666666666666,
              "#35b779"
             ],
             [
              0.7777777777777778,
              "#6ece58"
             ],
             [
              0.8888888888888888,
              "#b5de2b"
             ],
             [
              1,
              "#fde725"
             ]
            ],
            "type": "surface"
           }
          ],
          "table": [
           {
            "cells": {
             "fill": {
              "color": "rgb(237,237,237)"
             },
             "line": {
              "color": "white"
             }
            },
            "header": {
             "fill": {
              "color": "rgb(217,217,217)"
             },
             "line": {
              "color": "white"
             }
            },
            "type": "table"
           }
          ]
         },
         "layout": {
          "annotationdefaults": {
           "arrowhead": 0,
           "arrowwidth": 1
          },
          "autotypenumbers": "strict",
          "coloraxis": {
           "colorbar": {
            "outlinewidth": 1,
            "tickcolor": "rgb(36,36,36)",
            "ticks": "outside"
           }
          },
          "colorscale": {
           "diverging": [
            [
             0,
             "rgb(103,0,31)"
            ],
            [
             0.1,
             "rgb(178,24,43)"
            ],
            [
             0.2,
             "rgb(214,96,77)"
            ],
            [
             0.3,
             "rgb(244,165,130)"
            ],
            [
             0.4,
             "rgb(253,219,199)"
            ],
            [
             0.5,
             "rgb(247,247,247)"
            ],
            [
             0.6,
             "rgb(209,229,240)"
            ],
            [
             0.7,
             "rgb(146,197,222)"
            ],
            [
             0.8,
             "rgb(67,147,195)"
            ],
            [
             0.9,
             "rgb(33,102,172)"
            ],
            [
             1,
             "rgb(5,48,97)"
            ]
           ],
           "sequential": [
            [
             0,
             "#440154"
            ],
            [
             0.1111111111111111,
             "#482878"
            ],
            [
             0.2222222222222222,
             "#3e4989"
            ],
            [
             0.3333333333333333,
             "#31688e"
            ],
            [
             0.4444444444444444,
             "#26828e"
            ],
            [
             0.5555555555555556,
             "#1f9e89"
            ],
            [
             0.6666666666666666,
             "#35b779"
            ],
            [
             0.7777777777777778,
             "#6ece58"
            ],
            [
             0.8888888888888888,
             "#b5de2b"
            ],
            [
             1,
             "#fde725"
            ]
           ],
           "sequentialminus": [
            [
             0,
             "#440154"
            ],
            [
             0.1111111111111111,
             "#482878"
            ],
            [
             0.2222222222222222,
             "#3e4989"
            ],
            [
             0.3333333333333333,
             "#31688e"
            ],
            [
             0.4444444444444444,
             "#26828e"
            ],
            [
             0.5555555555555556,
             "#1f9e89"
            ],
            [
             0.6666666666666666,
             "#35b779"
            ],
            [
             0.7777777777777778,
             "#6ece58"
            ],
            [
             0.8888888888888888,
             "#b5de2b"
            ],
            [
             1,
             "#fde725"
            ]
           ]
          },
          "colorway": [
           "#1F77B4",
           "#FF7F0E",
           "#2CA02C",
           "#D62728",
           "#9467BD",
           "#8C564B",
           "#E377C2",
           "#7F7F7F",
           "#BCBD22",
           "#17BECF"
          ],
          "font": {
           "color": "rgb(36,36,36)"
          },
          "geo": {
           "bgcolor": "white",
           "lakecolor": "white",
           "landcolor": "white",
           "showlakes": true,
           "showland": true,
           "subunitcolor": "white"
          },
          "hoverlabel": {
           "align": "left"
          },
          "hovermode": "closest",
          "mapbox": {
           "style": "light"
          },
          "paper_bgcolor": "white",
          "plot_bgcolor": "white",
          "polar": {
           "angularaxis": {
            "gridcolor": "rgb(232,232,232)",
            "linecolor": "rgb(36,36,36)",
            "showgrid": false,
            "showline": true,
            "ticks": "outside"
           },
           "bgcolor": "white",
           "radialaxis": {
            "gridcolor": "rgb(232,232,232)",
            "linecolor": "rgb(36,36,36)",
            "showgrid": false,
            "showline": true,
            "ticks": "outside"
           }
          },
          "scene": {
           "xaxis": {
            "backgroundcolor": "white",
            "gridcolor": "rgb(232,232,232)",
            "gridwidth": 2,
            "linecolor": "rgb(36,36,36)",
            "showbackground": true,
            "showgrid": false,
            "showline": true,
            "ticks": "outside",
            "zeroline": false,
            "zerolinecolor": "rgb(36,36,36)"
           },
           "yaxis": {
            "backgroundcolor": "white",
            "gridcolor": "rgb(232,232,232)",
            "gridwidth": 2,
            "linecolor": "rgb(36,36,36)",
            "showbackground": true,
            "showgrid": false,
            "showline": true,
            "ticks": "outside",
            "zeroline": false,
            "zerolinecolor": "rgb(36,36,36)"
           },
           "zaxis": {
            "backgroundcolor": "white",
            "gridcolor": "rgb(232,232,232)",
            "gridwidth": 2,
            "linecolor": "rgb(36,36,36)",
            "showbackground": true,
            "showgrid": false,
            "showline": true,
            "ticks": "outside",
            "zeroline": false,
            "zerolinecolor": "rgb(36,36,36)"
           }
          },
          "shapedefaults": {
           "fillcolor": "black",
           "line": {
            "width": 0
           },
           "opacity": 0.3
          },
          "ternary": {
           "aaxis": {
            "gridcolor": "rgb(232,232,232)",
            "linecolor": "rgb(36,36,36)",
            "showgrid": false,
            "showline": true,
            "ticks": "outside"
           },
           "baxis": {
            "gridcolor": "rgb(232,232,232)",
            "linecolor": "rgb(36,36,36)",
            "showgrid": false,
            "showline": true,
            "ticks": "outside"
           },
           "bgcolor": "white",
           "caxis": {
            "gridcolor": "rgb(232,232,232)",
            "linecolor": "rgb(36,36,36)",
            "showgrid": false,
            "showline": true,
            "ticks": "outside"
           }
          },
          "title": {
           "x": 0.05
          },
          "xaxis": {
           "automargin": true,
           "gridcolor": "rgb(232,232,232)",
           "linecolor": "rgb(36,36,36)",
           "showgrid": false,
           "showline": true,
           "ticks": "outside",
           "title": {
            "standoff": 15
           },
           "zeroline": false,
           "zerolinecolor": "rgb(36,36,36)"
          },
          "yaxis": {
           "automargin": true,
           "gridcolor": "rgb(232,232,232)",
           "linecolor": "rgb(36,36,36)",
           "showgrid": false,
           "showline": true,
           "ticks": "outside",
           "title": {
            "standoff": 15
           },
           "zeroline": false,
           "zerolinecolor": "rgb(36,36,36)"
          }
         }
        },
        "title": {
         "text": "model_2 — Overlap of Effects (start hour × duration, colored by net SHAP)"
        },
        "xaxis": {
         "anchor": "y",
         "domain": [
          0,
          1
         ],
         "title": {
          "text": "Start hour (0–23)"
         }
        },
        "yaxis": {
         "anchor": "x",
         "domain": [
          0,
          1
         ],
         "title": {
          "text": "Duration (hours)"
         }
        }
       }
      }
     },
     "metadata": {},
     "output_type": "display_data"
    }
   ],
   "source": [
    "for pipe, mname in zip(pipes, metric_names):\n",
    "    X = df_inf[features].copy()\n",
    "    # your existing global bar (optional)\n",
    "    # imp_df = shap_global_importance_for_pipeline(pipe=pipe, X_df=X, ...)\n",
    "\n",
    "    # NEW: single decision plot\n",
    "    _ = plot_three_factor_overlap(pipe, X, model_name=mname, top_categories=6)"
   ]
  },
  {
   "cell_type": "code",
   "execution_count": null,
   "metadata": {},
   "outputs": [],
   "source": []
  },
  {
   "cell_type": "code",
   "execution_count": null,
   "metadata": {},
   "outputs": [],
   "source": []
  },
  {
   "cell_type": "code",
   "execution_count": null,
   "metadata": {},
   "outputs": [],
   "source": [
    "from itertools import chain\n",
    "\n",
    "def best_tag_combinations(\n",
    "    pipe,\n",
    "    baseline,\n",
    "    game,\n",
    "    hour,\n",
    "    features,\n",
    "    candidate_tags,\n",
    "    max_tags=None\n",
    "):\n",
    "    \"\"\"\n",
    "    Greedily build up a tag set one tag at a time,\n",
    "    always picking the tag that gives the largest bump\n",
    "    in pipe.predict. Returns a list of (tag_tuple, score).\n",
    "    \"\"\"\n",
    "    # start from no tags\n",
    "    selected    = []\n",
    "    # baseline prediction with zero tags\n",
    "    X0          = make_feature_row(baseline, game, hour, [], features)\n",
    "    best_score  = pipe.predict(X0)[0]\n",
    "    history     = [(tuple(selected), best_score)]\n",
    "    remaining   = set(candidate_tags)\n",
    "\n",
    "    while remaining and (max_tags is None or len(selected) < max_tags):\n",
    "        # try adding each remaining tag\n",
    "        scores = {}\n",
    "        for t in remaining:\n",
    "            tags_try = selected + [t]\n",
    "            X_try    = make_feature_row(baseline, game, hour, tags_try, features)\n",
    "            scores[t] = pipe.predict(X_try)[0]\n",
    "\n",
    "        # pick the tag with the highest resulting score\n",
    "        best_tag, score = max(scores.items(), key=lambda kv: kv[1])\n",
    "\n",
    "        # stop if nothing improves\n",
    "        if score <= best_score:\n",
    "            break\n",
    "\n",
    "        # otherwise record and continue\n",
    "        selected.append(best_tag)\n",
    "        remaining.remove(best_tag)\n",
    "        best_score = score\n",
    "        history.append((tuple(selected), best_score))\n",
    "\n",
    "    return history\n",
    "\n",
    "\n"
   ]
  },
  {
   "cell_type": "code",
   "execution_count": null,
   "metadata": {},
   "outputs": [],
   "source": [
    "import itertools\n",
    "import pandas as pd\n",
    "\n",
    "stream_name         = \"thelegendyagami\"\n",
    "\n",
    "# grab the “last row” for your stream as baseline\n",
    "baseline = _get_last_row_for_stream(df, stream_name)\n",
    "\n",
    "# 1) Legend’s games (only from their history, no preds needed)\n",
    "legend_games = df.loc[\n",
    "    df[\"stream_name\"] == stream_name,\n",
    "    \"game_category\"\n",
    "].unique().tolist()\n",
    "\n",
    "# 2) Legend’s tags\n",
    "legend_tags = sorted({\n",
    "    tag\n",
    "    for tags in df.loc[df[\"stream_name\"] == stream_name, \"raw_tags\"].dropna()\n",
    "    for tag in tags\n",
    "})\n",
    "\n",
    "\n",
    "# 2) Build a **restricted** combo‐grid\n",
    "grid = pd.DataFrame(\n",
    "    list(itertools.product(legend_games, start_opts, dur_opts)),\n",
    "    columns=[\"game_category\", \"start_time_hour\", \"stream_duration\"]\n",
    ")\n",
    "\n",
    "\n",
    "# 3) Predict all three metrics for each combo\n",
    "def predict_all_metrics(row):\n",
    "    X = make_feature_row(\n",
    "        baseline,\n",
    "        row.game_category,\n",
    "        row.start_time_hour,\n",
    "        selected_tags,\n",
    "        features\n",
    "    )\n",
    "    return pd.Series({\n",
    "        \"subs\":      round(pipes[0].predict(X)[0], 2),\n",
    "        \"followers\": round(pipes[1].predict(X)[0], 2),\n",
    "        \"viewers\":   round(pipes[2].predict(X)[0], 2),\n",
    "    })\n",
    "\n",
    "df_metrics = pd.concat(\n",
    "    [grid, grid.apply(predict_all_metrics, axis=1)],\n",
    "    axis=1\n",
    ")\n",
    "\n",
    "\n",
    "# 4) Top-3 combos by each metric\n",
    "top3_subs      = df_metrics.nlargest(3, \"subs\")\n",
    "top3_followers = df_metrics.nlargest(3, \"followers\")\n",
    "top3_viewers   = df_metrics.nlargest(3, \"viewers\")\n",
    "\n",
    "\n",
    "print(\"🔸 Top 3 game/time/duration for MAX subs 🔸\")\n",
    "display(top3_subs)\n",
    "\n",
    "print(\"🔸 Top 3 game/time/duration for MAX follower growth 🔸\")\n",
    "display(top3_followers)\n",
    "\n",
    "print(\"🔸 Top 3 game/time/duration for MAX viewers 🔸\")\n",
    "display(top3_viewers)\n",
    "\n",
    "\n",
    "# 5) Top-3 single-tag suggestions, **restricted** to legend_tags\n",
    "\n",
    "print(\"legend_tags:\", legend_tags)\n",
    "\n",
    "combo_histories = []\n",
    "for idx, pipe in enumerate(pipes, start=1):\n",
    "    hist = best_tag_combinations(\n",
    "        pipe,\n",
    "        baseline,\n",
    "        selected_game,\n",
    "        selected_start_time,\n",
    "        features,\n",
    "        legend_tags,\n",
    "        max_tags=len(legend_tags)  # or cap at some smaller number if you like\n",
    "    )\n",
    "    combo_histories.append(hist)\n",
    "\n",
    "    # grab the top 3 combos by predicted value\n",
    "    top3 = sorted(hist, key=lambda x: x[1], reverse=True)[:3]\n",
    "    print(f\"\\n🔸 Model {idx} top‐3 tag combos (score) 🔸\")\n",
    "    for combo, score in top3:\n",
    "        print(f\"  {combo} → {score:.2f}\")\n",
    "\n"
   ]
  },
  {
   "cell_type": "code",
   "execution_count": null,
   "metadata": {},
   "outputs": [],
   "source": [
    "import matplotlib.pyplot as plt\n",
    "from sklearn.metrics import r2_score\n",
    "\n",
    "y_true = y_test\n",
    "y_pred = model.best_estimator_.predict(X_test)\n",
    "\n",
    "plt.scatter(y_true, y_pred, alpha=0.3)\n",
    "plt.plot([y_true.min(), y_true.max()],\n",
    "        [y_true.min(), y_true.max()],\n",
    "        'k--', lw=2)\n",
    "plt.xlabel(\"Actual subscriptions\")\n",
    "plt.ylabel(\"Predicted subscriptions\")\n",
    "plt.title(f\"R² = {r2_score(y_true, y_pred):.2f}\")\n",
    "plt.show()"
   ]
  }
 ],
 "metadata": {
  "kernelspec": {
   "display_name": "tf-mac",
   "language": "python",
   "name": "python3"
  },
  "language_info": {
   "codemirror_mode": {
    "name": "ipython",
    "version": 3
   },
   "file_extension": ".py",
   "mimetype": "text/x-python",
   "name": "python",
   "nbconvert_exporter": "python",
   "pygments_lexer": "ipython3",
   "version": "3.9.23"
  }
 },
 "nbformat": 4,
 "nbformat_minor": 2
}
